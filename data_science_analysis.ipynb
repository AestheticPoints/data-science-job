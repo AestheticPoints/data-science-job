{
 "cells": [
  {
   "cell_type": "code",
   "execution_count": 1,
   "metadata": {},
   "outputs": [],
   "source": [
    "import pandas as pd\n",
    "import matplotlib.pyplot as plt\n",
    "import csv"
   ]
  },
  {
   "cell_type": "code",
   "execution_count": 2,
   "metadata": {},
   "outputs": [],
   "source": [
    "df = pd.read_csv('data_science_job.csv', encoding='latin-1', quoting=csv.QUOTE_ALL)"
   ]
  },
  {
   "cell_type": "code",
   "execution_count": 3,
   "metadata": {},
   "outputs": [
    {
     "name": "stdout",
     "output_type": "stream",
     "text": [
      "           Company                                    Job Title  \\\n",
      "0              SGS                        Clinical Data Analyst   \n",
      "1          Ocorian                       AML/CFT & Data Analyst   \n",
      "2           Cricut                    Machine Learning Engineer   \n",
      "3      Bosch Group         Application Developer & Data Analyst   \n",
      "4  Publicis Groupe  Data Engineer Full time (Public Sector) USA   \n",
      "\n",
      "                          Location   Job Type Experience level   Salary  \\\n",
      "0    Richardson, TX, United States  Full Time      Entry-level   48K+ *   \n",
      "1                 Ebène, Mauritius  Full Time      Entry-level   48K+ *   \n",
      "2  South Jordan, UT, United States  Full Time              NaN   90K+ *   \n",
      "3                 Nonantola, Italy  Full Time      Entry-level   48K+ *   \n",
      "4     Arlington, VA, United States  Full Time        Mid-level    108K+   \n",
      "\n",
      "                          Requirment of the company   \\\n",
      "0  Computer Science,Data quality,Genetics,Mathema...   \n",
      "1           Agile,Data management,Finance,Security,,   \n",
      "2  Agile,Architecture,AWS,Computer Science,Comput...   \n",
      "3       Engineering,Industrial,Oracle,Power BI,R,R&D   \n",
      "4  AWS,Azure,Computer Science,Consulting,Dataflow...   \n",
      "\n",
      "                                          Facilities  \n",
      "0                                               ,,,,  \n",
      "1                                               ,,,,  \n",
      "2                             Career development,,,,  \n",
      "3                                               ,,,,  \n",
      "4  Flex hours,Flex vacation,Parental leave,Unlimi...  \n"
     ]
    }
   ],
   "source": [
    "# Display the first 5 rows of the dataframe\n",
    "print(df.head())"
   ]
  },
  {
   "cell_type": "code",
   "execution_count": 4,
   "metadata": {},
   "outputs": [
    {
     "name": "stdout",
     "output_type": "stream",
     "text": [
      "<class 'pandas.core.frame.DataFrame'>\n",
      "RangeIndex: 3198 entries, 0 to 3197\n",
      "Data columns (total 8 columns):\n",
      " #   Column                      Non-Null Count  Dtype \n",
      "---  ------                      --------------  ----- \n",
      " 0   Company                     3197 non-null   object\n",
      " 1   Job Title                   3197 non-null   object\n",
      " 2   Location                    3197 non-null   object\n",
      " 3   Job Type                    3197 non-null   object\n",
      " 4   Experience level            2962 non-null   object\n",
      " 5   Salary                      3009 non-null   object\n",
      " 6   Requirment of the company   3198 non-null   object\n",
      " 7   Facilities                  3198 non-null   object\n",
      "dtypes: object(8)\n",
      "memory usage: 200.0+ KB\n",
      "None\n"
     ]
    }
   ],
   "source": [
    "print(df.info())    # Display the information of the dataframe        "
   ]
  },
  {
   "cell_type": "code",
   "execution_count": 5,
   "metadata": {},
   "outputs": [
    {
     "name": "stdout",
     "output_type": "stream",
     "text": [
      "                Company      Job Title          Location   Job Type  \\\n",
      "count              3197           3197              3197       3197   \n",
      "unique             1106           2138              1117          3   \n",
      "top     Publicis Groupe  Data Engineer  Bengaluru, India  Full Time   \n",
      "freq                126            105                90       3116   \n",
      "\n",
      "       Experience level    Salary  \\\n",
      "count              2962      3009   \n",
      "unique                4       218   \n",
      "top        Senior-level   115K+ *   \n",
      "freq               1876       253   \n",
      "\n",
      "                               Requirment of the company  Facilities  \n",
      "count                                                3198       3198  \n",
      "unique                                               2600        777  \n",
      "top     Big Data,Business Intelligence,Data analysis,E...       ,,,,  \n",
      "freq                                                   12        542  \n"
     ]
    }
   ],
   "source": [
    "print(df.describe()) # Display the summary statistics of the dataframe"
   ]
  },
  {
   "cell_type": "code",
   "execution_count": 6,
   "metadata": {},
   "outputs": [
    {
     "name": "stdout",
     "output_type": "stream",
     "text": [
      "Company                         1\n",
      "Job Title                       1\n",
      "Location                        1\n",
      "Job Type                        1\n",
      "Experience level              236\n",
      "Salary                        189\n",
      "Requirment of the company       0\n",
      "Facilities                      0\n",
      "dtype: int64\n"
     ]
    }
   ],
   "source": [
    "# Check for missing values\n",
    "missing_values = df.isnull().sum()\n",
    "print(missing_values)"
   ]
  },
  {
   "cell_type": "code",
   "execution_count": 7,
   "metadata": {},
   "outputs": [
    {
     "data": {
      "text/plain": [
       "Index(['Company', 'Job Title', 'Location', 'Job Type', 'Experience level',\n",
       "       'Salary', 'Requirment of the company ', 'Facilities'],\n",
       "      dtype='object')"
      ]
     },
     "execution_count": 7,
     "metadata": {},
     "output_type": "execute_result"
    }
   ],
   "source": [
    "df.columns"
   ]
  },
  {
   "cell_type": "code",
   "execution_count": 8,
   "metadata": {},
   "outputs": [
    {
     "name": "stdout",
     "output_type": "stream",
     "text": [
      "Company                         0\n",
      "Job Title                       0\n",
      "Location                        0\n",
      "Job Type                        0\n",
      "Experience level              232\n",
      "Salary                          0\n",
      "Requirment of the company       0\n",
      "Facilities                      0\n",
      "dtype: int64\n"
     ]
    }
   ],
   "source": [
    "# Remove rows with missing values in the 'Salary' column\n",
    "df = df.dropna(subset=['Salary'])\n",
    "\n",
    "# Verify the removal\n",
    "missing_values = df.isnull().sum()\n",
    "print(missing_values)"
   ]
  },
  {
   "cell_type": "code",
   "execution_count": 10,
   "metadata": {},
   "outputs": [
    {
     "name": "stdout",
     "output_type": "stream",
     "text": [
      "['Entry-level' nan 'Mid-level' 'Senior-level' 'Executive-level']\n"
     ]
    }
   ],
   "source": [
    "unique_values = df['Experience level'].unique()\n",
    "print(unique_values)"
   ]
  },
  {
   "cell_type": "code",
   "execution_count": 11,
   "metadata": {},
   "outputs": [
    {
     "data": {
      "text/plain": [
       "0         48K+ *\n",
       "1         48K+ *\n",
       "2         90K+ *\n",
       "3         48K+ *\n",
       "4          108K+\n",
       "          ...   \n",
       "3193      39K+ *\n",
       "3194      92K+ *\n",
       "3195      62K+ *\n",
       "3196      39K+ *\n",
       "3197     115K+ *\n",
       "Name: Salary, Length: 3009, dtype: object"
      ]
     },
     "execution_count": 11,
     "metadata": {},
     "output_type": "execute_result"
    }
   ],
   "source": [
    "df['Salary']"
   ]
  },
  {
   "cell_type": "code",
   "execution_count": 12,
   "metadata": {},
   "outputs": [],
   "source": [
    "df['Salary'] = df['Salary'].str.replace(r'\\D', '', regex=True).astype(int) # Remove non-numeric characters and convert to integer"
   ]
  },
  {
   "cell_type": "code",
   "execution_count": 14,
   "metadata": {},
   "outputs": [],
   "source": [
    "df['Salary'] = df['Salary'] * 1000 "
   ]
  },
  {
   "cell_type": "code",
   "execution_count": 15,
   "metadata": {},
   "outputs": [
    {
     "data": {
      "text/plain": [
       "0        48000\n",
       "1        48000\n",
       "2        90000\n",
       "3        48000\n",
       "4       108000\n",
       "         ...  \n",
       "3193     39000\n",
       "3194     92000\n",
       "3195     62000\n",
       "3196     39000\n",
       "3197    115000\n",
       "Name: Salary, Length: 3009, dtype: int32"
      ]
     },
     "execution_count": 15,
     "metadata": {},
     "output_type": "execute_result"
    }
   ],
   "source": [
    "df['Salary']"
   ]
  },
  {
   "cell_type": "code",
   "execution_count": 22,
   "metadata": {},
   "outputs": [
    {
     "name": "stdout",
     "output_type": "stream",
     "text": [
      "Experience level\n",
      "Entry-level         49751.958225\n",
      "Executive-level     98803.278689\n",
      "Mid-level           66174.496644\n",
      "Senior-level       105534.794521\n",
      "Name: Salary, dtype: float64\n"
     ]
    }
   ],
   "source": [
    "average_salaries = df.groupby('Experience level')['Salary'].mean() # Calculate the average salary for each experience level\n",
    "print(average_salaries) "
   ]
  },
  {
   "cell_type": "code",
   "execution_count": 23,
   "metadata": {},
   "outputs": [],
   "source": [
    "# Define salary ranges\n",
    "salary_ranges = {\n",
    "    'Entry-level': (0, 49751.96),\n",
    "    'Mid-level': (49751.96, 66174.50),\n",
    "    'Senior-level': (66174.50, 105534.79),\n",
    "    'Executive-level': (105534.79, float('inf'))\n",
    "}\n",
    "\n",
    "\n",
    "# Iterate over rows and impute missing experience levels\n",
    "for index, row in df.iterrows():\n",
    "    if pd.isnull(row['Experience level']):\n",
    "        salary = row['Salary']\n",
    "        for level, (min_salary, max_salary) in salary_ranges.items():\n",
    "            if min_salary <= salary <= max_salary:\n",
    "                df.at[index, 'Experience level'] = level\n",
    "                break"
   ]
  },
  {
   "cell_type": "code",
   "execution_count": 24,
   "metadata": {},
   "outputs": [
    {
     "name": "stdout",
     "output_type": "stream",
     "text": [
      "['Entry-level' 'Senior-level' 'Mid-level' 'Executive-level']\n"
     ]
    }
   ],
   "source": [
    "unique_values = df['Experience level'].unique()\n",
    "print(unique_values)"
   ]
  },
  {
   "cell_type": "code",
   "execution_count": 25,
   "metadata": {},
   "outputs": [
    {
     "name": "stdout",
     "output_type": "stream",
     "text": [
      "Company                       0\n",
      "Job Title                     0\n",
      "Location                      0\n",
      "Job Type                      0\n",
      "Experience level              0\n",
      "Salary                        0\n",
      "Requirment of the company     0\n",
      "Facilities                    0\n",
      "dtype: int64\n"
     ]
    }
   ],
   "source": [
    "# Verify if there are any missing values\n",
    "missing_values = df.isnull().sum()\n",
    "print(missing_values)"
   ]
  },
  {
   "cell_type": "code",
   "execution_count": null,
   "metadata": {},
   "outputs": [],
   "source": []
  }
 ],
 "metadata": {
  "kernelspec": {
   "display_name": "data_viz",
   "language": "python",
   "name": "python3"
  },
  "language_info": {
   "codemirror_mode": {
    "name": "ipython",
    "version": 3
   },
   "file_extension": ".py",
   "mimetype": "text/x-python",
   "name": "python",
   "nbconvert_exporter": "python",
   "pygments_lexer": "ipython3",
   "version": "3.10.6"
  },
  "orig_nbformat": 4
 },
 "nbformat": 4,
 "nbformat_minor": 2
}
