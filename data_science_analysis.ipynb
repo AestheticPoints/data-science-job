{
 "cells": [
  {
   "cell_type": "code",
   "execution_count": 1,
   "metadata": {},
   "outputs": [],
   "source": [
    "import pandas as pd\n",
    "import matplotlib.pyplot as plt\n",
    "import seaborn as sns\n",
    "import plotly.express as px\n",
    "import csv"
   ]
  },
  {
   "cell_type": "code",
   "execution_count": 2,
   "metadata": {},
   "outputs": [],
   "source": [
    "df = pd.read_csv('data_science_job.csv', encoding='latin-1', quoting=csv.QUOTE_ALL)"
   ]
  },
  {
   "cell_type": "code",
   "execution_count": 3,
   "metadata": {},
   "outputs": [
    {
     "name": "stdout",
     "output_type": "stream",
     "text": [
      "           Company                                    Job Title  \\\n",
      "0              SGS                        Clinical Data Analyst   \n",
      "1          Ocorian                       AML/CFT & Data Analyst   \n",
      "2           Cricut                    Machine Learning Engineer   \n",
      "3      Bosch Group         Application Developer & Data Analyst   \n",
      "4  Publicis Groupe  Data Engineer Full time (Public Sector) USA   \n",
      "\n",
      "                          Location   Job Type Experience level   Salary  \\\n",
      "0    Richardson, TX, United States  Full Time      Entry-level   48K+ *   \n",
      "1                 Ebène, Mauritius  Full Time      Entry-level   48K+ *   \n",
      "2  South Jordan, UT, United States  Full Time              NaN   90K+ *   \n",
      "3                 Nonantola, Italy  Full Time      Entry-level   48K+ *   \n",
      "4     Arlington, VA, United States  Full Time        Mid-level    108K+   \n",
      "\n",
      "                          Requirment of the company   \\\n",
      "0  Computer Science,Data quality,Genetics,Mathema...   \n",
      "1           Agile,Data management,Finance,Security,,   \n",
      "2  Agile,Architecture,AWS,Computer Science,Comput...   \n",
      "3       Engineering,Industrial,Oracle,Power BI,R,R&D   \n",
      "4  AWS,Azure,Computer Science,Consulting,Dataflow...   \n",
      "\n",
      "                                          Facilities  \n",
      "0                                               ,,,,  \n",
      "1                                               ,,,,  \n",
      "2                             Career development,,,,  \n",
      "3                                               ,,,,  \n",
      "4  Flex hours,Flex vacation,Parental leave,Unlimi...  \n"
     ]
    }
   ],
   "source": [
    "# Display the first 5 rows of the dataframe\n",
    "print(df.head())"
   ]
  },
  {
   "cell_type": "code",
   "execution_count": 4,
   "metadata": {},
   "outputs": [
    {
     "name": "stdout",
     "output_type": "stream",
     "text": [
      "<class 'pandas.core.frame.DataFrame'>\n",
      "RangeIndex: 3198 entries, 0 to 3197\n",
      "Data columns (total 8 columns):\n",
      " #   Column                      Non-Null Count  Dtype \n",
      "---  ------                      --------------  ----- \n",
      " 0   Company                     3197 non-null   object\n",
      " 1   Job Title                   3197 non-null   object\n",
      " 2   Location                    3197 non-null   object\n",
      " 3   Job Type                    3197 non-null   object\n",
      " 4   Experience level            2962 non-null   object\n",
      " 5   Salary                      3009 non-null   object\n",
      " 6   Requirment of the company   3198 non-null   object\n",
      " 7   Facilities                  3198 non-null   object\n",
      "dtypes: object(8)\n",
      "memory usage: 200.0+ KB\n",
      "None\n"
     ]
    }
   ],
   "source": [
    "print(df.info())    # Display the information of the dataframe        "
   ]
  },
  {
   "cell_type": "code",
   "execution_count": 5,
   "metadata": {},
   "outputs": [
    {
     "name": "stdout",
     "output_type": "stream",
     "text": [
      "                Company      Job Title          Location   Job Type  \\\n",
      "count              3197           3197              3197       3197   \n",
      "unique             1106           2138              1117          3   \n",
      "top     Publicis Groupe  Data Engineer  Bengaluru, India  Full Time   \n",
      "freq                126            105                90       3116   \n",
      "\n",
      "       Experience level    Salary  \\\n",
      "count              2962      3009   \n",
      "unique                4       218   \n",
      "top        Senior-level   115K+ *   \n",
      "freq               1876       253   \n",
      "\n",
      "                               Requirment of the company  Facilities  \n",
      "count                                                3198       3198  \n",
      "unique                                               2600        777  \n",
      "top     Big Data,Business Intelligence,Data analysis,E...       ,,,,  \n",
      "freq                                                   12        542  \n"
     ]
    }
   ],
   "source": [
    "print(df.describe()) # Display the summary statistics of the dataframe"
   ]
  },
  {
   "cell_type": "code",
   "execution_count": 6,
   "metadata": {},
   "outputs": [
    {
     "name": "stdout",
     "output_type": "stream",
     "text": [
      "Company                         1\n",
      "Job Title                       1\n",
      "Location                        1\n",
      "Job Type                        1\n",
      "Experience level              236\n",
      "Salary                        189\n",
      "Requirment of the company       0\n",
      "Facilities                      0\n",
      "dtype: int64\n"
     ]
    }
   ],
   "source": [
    "# Check for missing values\n",
    "missing_values = df.isnull().sum()\n",
    "print(missing_values)"
   ]
  },
  {
   "cell_type": "code",
   "execution_count": 7,
   "metadata": {},
   "outputs": [
    {
     "data": {
      "text/plain": [
       "Index(['Company', 'Job Title', 'Location', 'Job Type', 'Experience level',\n",
       "       'Salary', 'Requirment of the company ', 'Facilities'],\n",
       "      dtype='object')"
      ]
     },
     "execution_count": 7,
     "metadata": {},
     "output_type": "execute_result"
    }
   ],
   "source": [
    "df.columns"
   ]
  },
  {
   "cell_type": "code",
   "execution_count": 8,
   "metadata": {},
   "outputs": [
    {
     "name": "stdout",
     "output_type": "stream",
     "text": [
      "Company                         0\n",
      "Job Title                       0\n",
      "Location                        0\n",
      "Job Type                        0\n",
      "Experience level              232\n",
      "Salary                          0\n",
      "Requirment of the company       0\n",
      "Facilities                      0\n",
      "dtype: int64\n"
     ]
    }
   ],
   "source": [
    "# Remove rows with missing values in the 'Salary' column\n",
    "df = df.dropna(subset=['Salary'])\n",
    "\n",
    "# Verify the removal\n",
    "missing_values = df.isnull().sum()\n",
    "print(missing_values)"
   ]
  },
  {
   "cell_type": "code",
   "execution_count": 9,
   "metadata": {},
   "outputs": [
    {
     "name": "stdout",
     "output_type": "stream",
     "text": [
      "['Entry-level' nan 'Mid-level' 'Senior-level' 'Executive-level']\n"
     ]
    }
   ],
   "source": [
    "unique_values = df['Experience level'].unique()\n",
    "print(unique_values)"
   ]
  },
  {
   "cell_type": "code",
   "execution_count": 10,
   "metadata": {},
   "outputs": [
    {
     "data": {
      "text/plain": [
       "0         48K+ *\n",
       "1         48K+ *\n",
       "2         90K+ *\n",
       "3         48K+ *\n",
       "4          108K+\n",
       "          ...   \n",
       "3193      39K+ *\n",
       "3194      92K+ *\n",
       "3195      62K+ *\n",
       "3196      39K+ *\n",
       "3197     115K+ *\n",
       "Name: Salary, Length: 3009, dtype: object"
      ]
     },
     "execution_count": 10,
     "metadata": {},
     "output_type": "execute_result"
    }
   ],
   "source": [
    "df['Salary']"
   ]
  },
  {
   "cell_type": "code",
   "execution_count": 11,
   "metadata": {},
   "outputs": [],
   "source": [
    "df['Salary'] = df['Salary'].str.replace(r'\\D', '', regex=True).astype(int) # Remove non-numeric characters and convert to integer"
   ]
  },
  {
   "cell_type": "code",
   "execution_count": 12,
   "metadata": {},
   "outputs": [],
   "source": [
    "df['Salary'] = df['Salary'] * 1000 "
   ]
  },
  {
   "cell_type": "code",
   "execution_count": 13,
   "metadata": {},
   "outputs": [
    {
     "data": {
      "text/plain": [
       "0        48000\n",
       "1        48000\n",
       "2        90000\n",
       "3        48000\n",
       "4       108000\n",
       "         ...  \n",
       "3193     39000\n",
       "3194     92000\n",
       "3195     62000\n",
       "3196     39000\n",
       "3197    115000\n",
       "Name: Salary, Length: 3009, dtype: int32"
      ]
     },
     "execution_count": 13,
     "metadata": {},
     "output_type": "execute_result"
    }
   ],
   "source": [
    "df['Salary']"
   ]
  },
  {
   "cell_type": "code",
   "execution_count": 14,
   "metadata": {},
   "outputs": [
    {
     "name": "stdout",
     "output_type": "stream",
     "text": [
      "Experience level\n",
      "Entry-level         49751.958225\n",
      "Executive-level     98803.278689\n",
      "Mid-level           66174.496644\n",
      "Senior-level       105534.794521\n",
      "Name: Salary, dtype: float64\n"
     ]
    }
   ],
   "source": [
    "average_salaries = df.groupby('Experience level')['Salary'].mean() # Calculate the average salary for each experience level\n",
    "print(average_salaries) "
   ]
  },
  {
   "cell_type": "code",
   "execution_count": 15,
   "metadata": {},
   "outputs": [],
   "source": [
    "# Define salary ranges\n",
    "salary_ranges = {\n",
    "    'Entry-level': (0, 49751.96),\n",
    "    'Mid-level': (49751.96, 66174.50),\n",
    "    'Senior-level': (66174.50, 105534.79),\n",
    "    'Executive-level': (105534.79, float('inf'))\n",
    "}\n",
    "\n",
    "\n",
    "# Iterate over rows and impute missing experience levels\n",
    "for index, row in df.iterrows():\n",
    "    if pd.isnull(row['Experience level']):\n",
    "        salary = row['Salary']\n",
    "        for level, (min_salary, max_salary) in salary_ranges.items():\n",
    "            if min_salary <= salary <= max_salary:\n",
    "                df.at[index, 'Experience level'] = level\n",
    "                break"
   ]
  },
  {
   "cell_type": "code",
   "execution_count": 16,
   "metadata": {},
   "outputs": [
    {
     "name": "stdout",
     "output_type": "stream",
     "text": [
      "['Entry-level' 'Senior-level' 'Mid-level' 'Executive-level']\n"
     ]
    }
   ],
   "source": [
    "unique_values = df['Experience level'].unique()\n",
    "print(unique_values)"
   ]
  },
  {
   "cell_type": "code",
   "execution_count": 17,
   "metadata": {},
   "outputs": [
    {
     "name": "stdout",
     "output_type": "stream",
     "text": [
      "Company                       0\n",
      "Job Title                     0\n",
      "Location                      0\n",
      "Job Type                      0\n",
      "Experience level              0\n",
      "Salary                        0\n",
      "Requirment of the company     0\n",
      "Facilities                    0\n",
      "dtype: int64\n"
     ]
    }
   ],
   "source": [
    "# Verify if there are any missing values\n",
    "missing_values = df.isnull().sum()\n",
    "print(missing_values)"
   ]
  },
  {
   "cell_type": "code",
   "execution_count": 18,
   "metadata": {},
   "outputs": [
    {
     "data": {
      "text/plain": [
       "<Axes: xlabel='Salary', ylabel='Count'>"
      ]
     },
     "execution_count": 18,
     "metadata": {},
     "output_type": "execute_result"
    },
    {
     "data": {
      "image/png": "[encoded data removed]",
      "text/plain": [
       "<Figure size 640x480 with 1 Axes>"
      ]
     },
     "metadata": {},
     "output_type": "display_data"
    }
   ],
   "source": [
    "sns.histplot(data=df, x='Salary', kde=True) # Plot the distribution of salaries"
   ]
  },
  {
   "cell_type": "code",
   "execution_count": 19,
   "metadata": {},
   "outputs": [
    {
     "name": "stdout",
     "output_type": "stream",
     "text": [
      "Total number of unique companies:  1052\n"
     ]
    }
   ],
   "source": [
    "total_unique_companies = df['Company'].nunique() # Calculate the total number of unique companies\n",
    "print(\"Total number of unique companies: \", total_unique_companies)\n"
   ]
  },
  {
   "cell_type": "code",
   "execution_count": 20,
   "metadata": {},
   "outputs": [
    {
     "data": {
      "text/plain": [
       "Index(['Company', 'Job Title', 'Location', 'Job Type', 'Experience level',\n",
       "       'Salary', 'Requirment of the company ', 'Facilities'],\n",
       "      dtype='object')"
      ]
     },
     "execution_count": 20,
     "metadata": {},
     "output_type": "execute_result"
    }
   ],
   "source": [
    "# show all the columns names\n",
    "df.columns"
   ]
  },
  {
   "cell_type": "code",
   "execution_count": 21,
   "metadata": {},
   "outputs": [
    {
     "data": {
      "text/plain": [
       "<Axes: xlabel='Job Type', ylabel='count'>"
      ]
     },
     "execution_count": 21,
     "metadata": {},
     "output_type": "execute_result"
    },
    {
     "data": {
      "image/png": "[encoded data removed]",
      "text/plain": [
       "<Figure size 640x480 with 1 Axes>"
      ]
     },
     "metadata": {},
     "output_type": "display_data"
    }
   ],
   "source": [
    "sns.countplot(data=df, x='Job Type') # Plot the number of job types"
   ]
  },
  {
   "cell_type": "code",
   "execution_count": 22,
   "metadata": {},
   "outputs": [
    {
     "data": {
      "text/plain": [
       "(-1.0999999999652503,\n",
       " 1.0999999999983452,\n",
       " -1.099999999884371,\n",
       " 1.0999999999900905)"
      ]
     },
     "execution_count": 22,
     "metadata": {},
     "output_type": "execute_result"
    },
    {
     "data": {
      "image/png": "[encoded data removed]",
      "text/plain": [
       "<Figure size 640x480 with 1 Axes>"
      ]
     },
     "metadata": {},
     "output_type": "display_data"
    }
   ],
   "source": [
    "job_type_counts = df['Job Type'].value_counts()\n",
    "plt.pie(job_type_counts, labels=job_type_counts.index, autopct='%1.1f%%') # Plot the distribution of job types\n",
    "plt.axis('equal')"
   ]
  },
  {
   "cell_type": "code",
   "execution_count": 23,
   "metadata": {},
   "outputs": [
    {
     "data": {
      "text/plain": [
       "<Axes: ylabel='Salary'>"
      ]
     },
     "execution_count": 23,
     "metadata": {},
     "output_type": "execute_result"
    },
    {
     "data": {
      "image/png": "[encoded data removed]",
      "text/plain": [
       "<Figure size 640x480 with 1 Axes>"
      ]
     },
     "metadata": {},
     "output_type": "display_data"
    }
   ],
   "source": [
    "sns.boxplot(data=df, y='Salary') # Plot the distribution of salaries"
   ]
  },
  {
   "cell_type": "code",
   "execution_count": 24,
   "metadata": {},
   "outputs": [
    {
     "data": {
      "text/plain": [
       "<Axes: xlabel='Experience level', ylabel='Salary'>"
      ]
     },
     "execution_count": 24,
     "metadata": {},
     "output_type": "execute_result"
    },
    {
     "data": {
      "image/png": "[encoded data removed]",
      "text/plain": [
       "<Figure size 640x480 with 1 Axes>"
      ]
     },
     "metadata": {},
     "output_type": "display_data"
    }
   ],
   "source": [
    "sns.scatterplot(data=df, x='Experience level', y='Salary')"
   ]
  },
  {
   "cell_type": "code",
   "execution_count": 25,
   "metadata": {},
   "outputs": [
    {
     "data": {
      "text/plain": [
       "<Axes: xlabel='Experience level', ylabel='Salary'>"
      ]
     },
     "execution_count": 25,
     "metadata": {},
     "output_type": "execute_result"
    },
    {
     "data": {
      "image/png": "[encoded data removed]",
      "text/plain": [
       "<Figure size 640x480 with 1 Axes>"
      ]
     },
     "metadata": {},
     "output_type": "display_data"
    }
   ],
   "source": [
    "sns.boxplot(data=df, x='Experience level', y='Salary') # Plot the distribution of salaries by experience level"
   ]
  },
  {
   "cell_type": "code",
   "execution_count": 26,
   "metadata": {},
   "outputs": [
    {
     "data": {
      "text/plain": [
       "<Axes: xlabel='Experience level', ylabel='Salary'>"
      ]
     },
     "execution_count": 26,
     "metadata": {},
     "output_type": "execute_result"
    },
    {
     "data": {
      "image/png": "[encoded data removed]",
      "text/plain": [
       "<Figure size 640x480 with 1 Axes>"
      ]
     },
     "metadata": {},
     "output_type": "display_data"
    }
   ],
   "source": [
    "sns.barplot(data=df, x='Experience level', y='Salary')"
   ]
  },
  {
   "cell_type": "code",
   "execution_count": 27,
   "metadata": {},
   "outputs": [
    {
     "data": {
      "text/plain": [
       "<Axes: xlabel='Experience level', ylabel='Salary'>"
      ]
     },
     "execution_count": 27,
     "metadata": {},
     "output_type": "execute_result"
    },
    {
     "data": {
      "image/png": "[encoded data removed]",
      "text/plain": [
       "<Figure size 640x480 with 1 Axes>"
      ]
     },
     "metadata": {},
     "output_type": "display_data"
    }
   ],
   "source": [
    "sns.violinplot(data=df, x='Experience level', y='Salary')"
   ]
  },
  {
   "cell_type": "code",
   "execution_count": 28,
   "metadata": {},
   "outputs": [
    {
     "data": {
      "application/vnd.plotly.v1+json": {
       "config": {
        "plotlyServerURL": "https://plot.ly"
       },
       "data": [
        {
         "customdata": [
          [
           "SGS",
           "Clinical Data Analyst"
          ],
          [
           "Ocorian",
           "AML/CFT & Data Analyst"
          ],
          [
           "Cricut",
           "Machine Learning Engineer"
          ],
          [
           "Bosch Group",
           "Application Developer & Data Analyst"
          ],
          [
           "Publicis Groupe",
           "Data Engineer Full time (Public Sector) USA"
          ],
          [
           "ServiceNow",
           "Sr Staff Data Scientist - ATG"
          ],
          [
           "Natixis in Portugal",
           "Vendor Management and Data Quality Lead"
          ],
          [
           "Palo Alto Networks",
           "Principal Cloud Data Engineer (Prisma Access)"
          ],
          [
           "CERN",
           "Data Scientist (TE-CRG-GLO-2023-19-GRAP)"
          ],
          [
           "NielsenIQ",
           "Data Analyst - Revenue Optimizer"
          ],
          [
           "YouGov",
           "Graduate Power BI Developer"
          ],
          [
           "Bosch Group",
           "SAP Consultant - Product Data Management"
          ],
          [
           "Bosch Group",
           "PreMaster Programm - Data Analytics and Visualization"
          ],
          [
           "ServiceNow",
           "Staff Data Scientist - ATG"
          ],
          [
           "PlayStation Global",
           "Machine Learning Engineer"
          ],
          [
           "Canva",
           "Senior Data Analyst - Sales"
          ],
          [
           "Issuu",
           "BI Analyst"
          ],
          [
           "DeepL",
           "Data Scientist | Insights (f/m/d) - GER, UK, NL, PL"
          ],
          [
           "Printify",
           "Senior Data Analyst (Remote within EMEA)"
          ],
          [
           "Visa",
           "Senior Data Engineer (Evergreen)"
          ],
          [
           "Talan",
           "Data Management Scrum Master"
          ],
          [
           "Bosch Group",
           "Rotational Development Program - Artificial Intelligence and Machine Learning Trainee"
          ],
          [
           "EX2 Outcoding",
           "Data Engineer Scientist"
          ],
          [
           "CGG",
           "Data Scientist (Elasticsearch)"
          ],
          [
           "RCA",
           "Data Engineer F/H"
          ],
          [
           "Publicis Groupe",
           "BI Developer"
          ],
          [
           "Block",
           "Data Scientist - Fraud Risk"
          ],
          [
           "QuintoAndar",
           "QuintoAndar - Senior Data Analyst"
          ],
          [
           "Neo Cybernetica",
           "ML Research Engineer"
          ],
          [
           "Western Digital",
           "Principal Engineer, Data Project Management"
          ],
          [
           "Podium",
           "Senior Data Engineer"
          ],
          [
           "Netcentric",
           "(Senior) Digital Analytics Engineer"
          ],
          [
           "Freeform",
           "Senior Software Engineer (Data Pipeline)"
          ],
          [
           "Opera",
           "Senior Data Scientist"
          ],
          [
           "Bosch Group",
           "Data Science Lead (Hybrid)"
          ],
          [
           "Tiendanube",
           "Business Intelligence Analyst"
          ],
          [
           "Ask Media Group",
           "Lead Business Intelligence Analyst"
          ],
          [
           "Visa",
           "Sr Data Engineer"
          ],
          [
           "AVIV Group",
           "Data Modeler"
          ],
          [
           "Mutt Data",
           "Data Engineer"
          ],
          [
           "Global Atlantic Financial Group",
           "VP, Actuarial Modeling and Data Management"
          ],
          [
           "Imagen Technologies",
           "Healthcare Data Analyst"
          ],
          [
           "Sunnova Energy International",
           "Data Scientist"
          ],
          [
           "DeepL",
           "Data Analyst | Marketing or Sales (f/m/d) - GER, UK, NL, PL"
          ],
          [
           "EUROPEAN DYNAMICS",
           "Business Intelligence Expert"
          ],
          [
           "Gemini",
           "Data Engineer"
          ],
          [
           "OpenSea",
           "Senior Data Analyst"
          ],
          [
           "Weave HQ",
           "Principle MLOps Engineer"
          ],
          [
           "Monzo",
           "Senior Data Scientist"
          ],
          [
           "Scale AI",
           "Machine Learning Research Engineer, Generative AI"
          ],
          [
           "Channel Factory",
           "Data Analyst - Product Innovation"
          ],
          [
           "Confused.com",
           "Lead Data Scientist"
          ],
          [
           "Riverflex",
           "Data Product Owner"
          ],
          [
           "Bosch Group",
           "Bi Analyst Jr - 24170"
          ],
          [
           "Bionic Services Ltd",
           "HTML Developer"
          ],
          [
           "Nielsen",
           "Business Intelligence Developer"
          ],
          [
           "Etsy",
           "Data Scientist, Marketing Analytics"
          ],
          [
           "Ocorian",
           "Senior Manager - AML/CFT & Data Analyst"
          ],
          [
           "PatientPoint",
           "Senior Data Visualization Analyst"
          ],
          [
           "Fleetio",
           "Senior Data Engineer (Remote)"
          ],
          [
           "Databricks",
           "Customer Data Engineer"
          ],
          [
           "Twitch",
           "Data Engineer- Data Platform"
          ],
          [
           "Roosh",
           "Digital Marketing Lead (ZibraAI)"
          ],
          [
           "Instacart",
           "Staff Data Scientist - Marketing"
          ],
          [
           "Snowflake Inc.",
           "Senior Sales Business Intelligence Manager"
          ],
          [
           "SSENSE",
           "Data Analyst, Customer Experience"
          ],
          [
           "Amazon.com",
           "Machine Learning Engineer"
          ],
          [
           "Bosch Group",
           "ETAS Test Lead - Autonomous Driving Solutions"
          ],
          [
           "NBCUniversal",
           "Sr. Data Engineer"
          ],
          [
           "Databricks",
           "Specialist Solutions Architect - MLOps"
          ],
          [
           "Stripe",
           "Data Scientist, Terminal"
          ],
          [
           "Kuda Technologies Ltd",
           "React Native Engineer - Mobile (Dubai)"
          ],
          [
           "KPMG Australia",
           "Artificial Intelligence Lead | KPMG Futures"
          ],
          [
           "DoubleVerify",
           "Jr. CRM Data Quality Specialist"
          ],
          [
           "Pure Integration",
           "Senior Data Analyst"
          ],
          [
           "SAP Fioneer",
           "Data Management Consultant Banking (f/d/m) Financial Services Data Platform FSDM"
          ],
          [
           "Appen",
           "Director, Artificial Intelligence (AI)"
          ],
          [
           "Cyberlogic",
           "Intermediate BI Developer"
          ],
          [
           "Experian",
           "Senior Business Intelligence Analyst"
          ],
          [
           "Publicis Groupe",
           "Data Analyst"
          ],
          [
           "Peloton",
           "Staff Machine Learning Engineer"
          ],
          [
           "Fleetio",
           "Data Analyst (Remote)"
          ],
          [
           "NBCUniversal",
           "Data Engineer I"
          ],
          [
           "Experian",
           "Cloud Database Analyst"
          ],
          [
           "Freeform",
           "Senior Machine Learning Engineer"
          ],
          [
           "Foxintelligence",
           "Junior Data Analyst"
          ],
          [
           "Visa",
           "Financial Data Analyst"
          ],
          [
           "Publicis Groupe",
           "Data Engineer"
          ],
          [
           "Sia Partners",
           "Senior Consultant in Data science"
          ],
          [
           "GRAIL",
           "Staff Clinical Data Manager # 3073"
          ],
          [
           "Motorway",
           "HR Data Analyst"
          ],
          [
           "Sia Partners",
           "Consultant in Data Science"
          ],
          [
           "Curated",
           "Machine Learning Engineer"
          ],
          [
           "Shopify",
           "Staff Engineer, Data Platform"
          ],
          [
           "Shopify",
           "Staff Engineer, Data Platform"
          ],
          [
           "Chainalysis",
           "Data Engineer"
          ],
          [
           "Verisk",
           "Data Engineer"
          ],
          [
           "Etsy",
           "Senior Data Scientist, Marketing Analytics"
          ],
          [
           "TTEC Digital",
           "Director, IVA and AI Solutions - Professional Services Practice Lead"
          ],
          [
           "Tide",
           "Lead Data Analyst(Marketing/Growth Analytics)"
          ],
          [
           "Lucid Motors",
           "Data Analyst, Service Analytics"
          ],
          [
           "Amazon.com",
           "Amazon Robotics - Hardware Engineer Co-op (July-December 2023), Amazon Robotics"
          ],
          [
           "Kpler",
           "Senior/Staff Data Engineer"
          ],
          [
           "Devbridge",
           "Data Engineer"
          ],
          [
           "Similarweb",
           "Data Product Manager"
          ],
          [
           "Deloitte",
           "FSA (FinTech) - Quantitative Machine Learning Specialist & Software Developer"
          ],
          [
           "Publicis Groupe",
           "Data Engineer Analyst"
          ],
          [
           "Freeform",
           "Software Engineer (Data Pipeline)"
          ],
          [
           "GumGum",
           "Senior Data Scientist"
          ],
          [
           "KoBold Metals",
           "Associate Data Scientist"
          ],
          [
           "Publicis Groupe",
           "Data Engineering Analyst"
          ],
          [
           "Talan",
           "Talan Consulting  Consultant Senior/Manager  Data Strategy (H/F)"
          ],
          [
           "6point6",
           "Enterprise Data Architect - 6 month Contract"
          ],
          [
           "Branching Minds",
           "Data Engineer II"
          ],
          [
           "Appen",
           "Data Scientist/Machine Learning Engineer"
          ],
          [
           "Anvl",
           "Data Engineer"
          ],
          [
           "Pure Integration",
           "Data Analyst"
          ],
          [
           "Podium",
           "Senior Data Scientist, Product"
          ],
          [
           "SentinelOne",
           "Senior Technical Support Engineer, DataSet"
          ],
          [
           "Amazon.com",
           "Finance Business Intelligence , Operations Finance"
          ],
          [
           "Block",
           "Staff Machine Learning Modeler, Financial Crimes"
          ],
          [
           "ServiceNow",
           "Machine Learning Engineer"
          ],
          [
           "Techstars",
           "Senior Business Intelligence Analyst"
          ],
          [
           "Riskified",
           "Data Scientist"
          ],
          [
           "Spotify",
           "Data Engineer - Music"
          ],
          [
           "Syngenta Group",
           "Data Manager"
          ],
          [
           "Mutt Data",
           "Machine Learning Engineer"
          ],
          [
           "PSI CRO",
           "Salesforce Administrator/Data Specialist"
          ],
          [
           "SpaceX",
           "Data Engineer (Starlink)"
          ],
          [
           "Sunnova Energy International",
           "Data Engineer"
          ],
          [
           "Talan",
           "Data Engineer confirmé BI - BIG DATA"
          ],
          [
           "Databricks",
           "Director, Spark Technical Solutions"
          ],
          [
           "Payplug",
           "Data Engineer"
          ],
          [
           "Sigma Software",
           "Middle Data Engineer (Healthcare domain)"
          ],
          [
           "METRO/MAKRO",
           "Senior Data Analyst (Pricing)"
          ],
          [
           "Fannie Mae",
           "People Analytics Data Visualization Senior Associate (Open to Remote)"
          ],
          [
           "Alter Solutions",
           "Développeur Power BI - H/F"
          ],
          [
           "Veeva Systems",
           "Data Engineer"
          ],
          [
           "Curated",
           "Product Manager - Experts & Artificial Intelligence"
          ],
          [
           "Bosch Group",
           "Group Manager Data Analytics India"
          ],
          [
           "Statkraft",
           "Data Analyst"
          ],
          [
           "Lendi Group",
           "Senior Data Engineer"
          ],
          [
           "Publicis Groupe",
           "Vice President Director, Data Scientist"
          ],
          [
           "Amazon.com",
           "Business Intelligence Analyst, AWS Cloud Logistics"
          ],
          [
           "Altos Labs",
           "Scientist/Senior Scientist, Machine Learning"
          ],
          [
           "ThousandEyes, Inc.",
           "Principal Site Reliability Engineer, Datastores (Hybrid)"
          ],
          [
           "Bosch Group",
           "Data Scientist"
          ],
          [
           "Block",
           "Machine Learning Manager (Systems)"
          ],
          [
           "Sia Partners",
           "Consultant Data Engineer"
          ],
          [
           "NobleAI",
           "Machine Learning Engineer L3"
          ],
          [
           "Adevinta",
           "Data Analyst Coches.net"
          ],
          [
           "LivePerson",
           "Senior Product Marketing Manager, Conversational Intelligence & AI Products"
          ],
          [
           "YouGov",
           "Graduate Data Analyst"
          ],
          [
           "Lambda",
           "Analytics Engineer"
          ],
          [
           "Databricks",
           "Specialist Solutions Architect - Data Engineering (Public Sector)"
          ],
          [
           "Fullscript",
           "Senior Machine Learning Engineer"
          ],
          [
           "Zeta",
           "Data Scientist"
          ],
          [
           "Tempus",
           "Senior Data Quality Assurance Specialist"
          ],
          [
           "ThousandEyes, Inc.",
           "Senior Site Reliability Engineer, Datastores (Hybrid)"
          ],
          [
           "Arize AI",
           "Customer Success Junior ML Engineer, Onboarding Specialist"
          ],
          [
           "Twenty First Group",
           "Senior Data Science Engineer"
          ],
          [
           "Netcentric",
           "Digital Analytics Engineer"
          ],
          [
           "Twilio",
           "Senior Data Scientist, Marketing"
          ],
          [
           "Current",
           "Master Data Team Manager"
          ],
          [
           "Block",
           "Senior Data Engineer, Enterprise Engineering"
          ],
          [
           "Foursquare",
           "Data Operations Associate"
          ],
          [
           "Fetch",
           "Data Analyst"
          ],
          [
           "Extreme Networks",
           "Staff ML Engineer (8627)"
          ],
          [
           "Databricks",
           "Specialist Architect : Big Data"
          ],
          [
           "Bosch Group",
           "Research Engineer in Multi Agent Path Finding for Mobile Robots (f/m/div.)"
          ],
          [
           "Databricks",
           "Product Marketing Manager, Data Engineering"
          ],
          [
           "Sia Partners",
           "Machine Learning Engineer"
          ],
          [
           "Meshcapade",
           "CV/ML Engineer for 3D Virtual Humans - Remote Europe"
          ],
          [
           "Srijan Technologies",
           "Senior Data Engineer - Data Bricks"
          ],
          [
           "Uniphore",
           "Director AI Science"
          ],
          [
           "Control Risks",
           "Researcher- Business Intelligence"
          ],
          [
           "Nuro, Inc.",
           "Machine Learning Research Scientist"
          ],
          [
           "Peloton",
           "Staff Database Reliability Engineer, Datastores"
          ],
          [
           "TripAdvisor",
           "Senior Data Scientist - Viator, London, Oxford, UK Remote"
          ],
          [
           "Moonpig",
           "Data Engineer"
          ],
          [
           "Agoda",
           "Data Analyst (Bangkok Based, Relocation Provided)"
          ],
          [
           "Raft",
           "Associate AI/ML Engineer"
          ],
          [
           "Business & Decision",
           "Azure Data Architect"
          ],
          [
           "Tesco Bengaluru",
           "Senior Applied Data Scientist"
          ],
          [
           "Publicis Groupe",
           "Senior Scientist, Decision Sciences"
          ],
          [
           "Umniah",
           "Data Scientist"
          ],
          [
           "Deliveroo",
           "Data Operations & Insights Manager"
          ],
          [
           "Visa",
           "Principal ML Engineer - AI Platform"
          ],
          [
           "Databricks",
           "Principal Product Marketing Manager, AI & Machine Learning"
          ],
          [
           "Locus Robotics",
           "Technical Support Specialist (Robotics) - EU - Remote"
          ],
          [
           "Uni Systems",
           "Data Architect"
          ],
          [
           "Charger Logistics Inc",
           "Operations Data Analyst (Tableau)"
          ],
          [
           "Databricks",
           "Head of Applied AI/ML"
          ],
          [
           "Zoox",
           "Software Engineer - Autonomy Metrics"
          ],
          [
           "Vericast",
           "Product Manager- Data Visualization & Analytics"
          ],
          [
           "Western Digital",
           "Data Science in Product Design Engineering"
          ],
          [
           "Onfido",
           "Senior Director of Product - Machine Learning"
          ],
          [
           "Agoda",
           "Senior Data Analyst (Bangkok Based, Relocation Provided)"
          ],
          [
           "Sigma Defense",
           "Operations Planner Data Management Technician"
          ],
          [
           "Addepar",
           "Data Operations Client Onboarding"
          ],
          [
           "Nuro, Inc.",
           "Machine Learning Research Scientist - Reinforcement Learning"
          ],
          [
           "Scale AI",
           "Machine Learning Engineer, Generative AI"
          ],
          [
           "Axiado",
           "Machine Learning Engineer"
          ],
          [
           "Palo Alto Networks",
           "Sr Big Data Engineer"
          ],
          [
           "Deloitte",
           "Consulting - Robotics Process Automation (RPA) Developer"
          ],
          [
           "Exoticca",
           "Data Engineer"
          ],
          [
           "UWorld, LLC",
           "Data Engineer"
          ],
          [
           "Assembly",
           "Data Analyst"
          ],
          [
           "Hitachi Solutions",
           "Data Engineer with Databricks - Empower (remote/Costa Rica-based)"
          ],
          [
           "Version 1",
           "Databricks and Scala Engineer geospatial"
          ],
          [
           "Lyft",
           "Software Engineer, Data Platform"
          ],
          [
           "Publicis Groupe",
           "Senior Manager Data Engineering"
          ],
          [
           "84.51°",
           "Senior Data Engineer (P3949)."
          ],
          [
           "Vattenfall",
           "Junior Data Engineer Customer Analytics"
          ],
          [
           "Shield AI",
           "Chief Engineer, Autonomy (R2020)"
          ],
          [
           "Komodo Health",
           "Senior Research Data Analyst"
          ],
          [
           "Sportradar",
           "Sport data operator"
          ],
          [
           "KPMG Australia",
           "Associate Director | Artificial Intelligence Lead | KPMG Futures"
          ],
          [
           "NobleAI",
           "Research Scientist"
          ],
          [
           "iOLAP",
           "Data Engineering Manager"
          ],
          [
           "Clari",
           "Principal Engineer - Data Integrations"
          ],
          [
           "better earth",
           "Python Engineer - Machine Learning Specialist (Remote)"
          ],
          [
           "Kensho",
           "Senior Applied Scientist - Document Intelligence"
          ],
          [
           "Riskified",
           "Data Analyst, Go Live"
          ],
          [
           "SESAMm",
           "Senior Data Scientist (M/F)"
          ],
          [
           "Kyruus",
           "Data Engineer"
          ],
          [
           "Bosch Group",
           "Researcher/Senior Researcher  Natural Language Processing and Text Analytics"
          ],
          [
           "Nawy Real Estate",
           "Data Scientist"
          ],
          [
           "AppZen, Inc.",
           "Data Scientist"
          ],
          [
           "OKX",
           "Data Analyst (Customer Service Industry, Mandarin Support)"
          ],
          [
           "Publicis Groupe",
           "Manager Data Strategy"
          ],
          [
           "Vosker",
           "Business Partner, Data Analysis"
          ],
          [
           "Fender",
           "Data Engineer - Remote"
          ],
          [
           "Sportradar",
           "BI Analyst"
          ],
          [
           "Angkas",
           "Data Analyst"
          ],
          [
           "Angkas",
           "Data Engineer"
          ],
          [
           "Pythian",
           "Marketing Data Analyst"
          ],
          [
           "CIMMYT",
           "Post-Doctoral Fellow or Associate - Agronomy Data Scientist"
          ],
          [
           "Zeta",
           "Sr. Data Scientist"
          ],
          [
           "Bosch Group",
           "Researcher- Computer Vision"
          ],
          [
           "Bosch Group",
           "Data Science Lead"
          ],
          [
           "Above Lending",
           "Senior Data Engineer"
          ],
          [
           "Gusto",
           "Senior Data Scientist, Product Analytics"
          ],
          [
           "Granica",
           "Software Engineer - Machine Learning, Granica Screen"
          ],
          [
           "bunq",
           "Data Engineer - Türkiye"
          ],
          [
           "Roark Capital",
           "Senior Data Scientist"
          ],
          [
           "Experian",
           "Machine Learning Engineer"
          ],
          [
           "InMobi",
           "SDE-III, Data Engineering"
          ],
          [
           "Bosch Group",
           "Oracle Data Modeler / PL/SQL - Data warehouse"
          ],
          [
           "Oura Health Ltd",
           "Product Data Specialist (HW)"
          ],
          [
           "SparkCognition",
           "SparkCognition Director of Accounting - Controller"
          ],
          [
           "Turnitin, LLC",
           "Senior Machine Learning Scientist (USA REMOTE)"
          ],
          [
           "84.51°",
           "Senior Data Scientist (P171)."
          ],
          [
           "Unit4",
           "Cloud Data Analyst Engineer (FinOps)"
          ],
          [
           "Veeva Systems",
           "DataOps Engineer"
          ],
          [
           "UK Atomic Energy Authority",
           "Robotic Research Engineer - Mechatronics"
          ],
          [
           "Tesco Bengaluru",
           "Manager - Applied Data Scientist"
          ],
          [
           "Amazon.com",
           "??·????/Business Intelligence Engineer, Japan Operations Finance"
          ],
          [
           "Simple Machines",
           "Senior Data Engineer - (Christchurch)"
          ],
          [
           "Shift Technology",
           "Senior Software Engineer - Data Architecture skills"
          ],
          [
           "Publicis Groupe",
           "BI Developer, Analytics"
          ],
          [
           "Publicis Groupe",
           "Supervisão de Business Intelligence (foco em mídia/comunicação)"
          ],
          [
           "Uni Systems",
           "SME Consultant for Data Analytics"
          ],
          [
           "STEMBoard",
           "Senior Data Strategist"
          ],
          [
           "dentsu international",
           "Data Scientist"
          ],
          [
           "Tabeo Ltd.",
           "Data Engineer"
          ],
          [
           "Aize AS",
           "Data Analyst (Oslo-based)"
          ],
          [
           "KMS Technology",
           "Senior AI Engineer"
          ],
          [
           "Simple Machines",
           "SQL Data Engineers"
          ],
          [
           "Sword",
           "Subsurface Data Manager"
          ],
          [
           "Capco",
           "Senior Data Analyst with Python SQL - MS- Bangalore"
          ],
          [
           "Enpal B.V.",
           "Data Analyst Supply Chain Management (f/m/d)"
          ],
          [
           "Upgrade",
           "Senior Data Quality Developer"
          ],
          [
           "Employment Hero",
           "Remote Intermediate Fullstack Engineer (AI Team)"
          ],
          [
           "Kuda Technologies Ltd",
           "iOS Engineer (Dubai)"
          ],
          [
           "Ocorian",
           "Business Intelligence Data Strategist"
          ],
          [
           "Vattenfall",
           "Data Engineer Customer Analytics"
          ],
          [
           "Issuu",
           "Sr. BI Analyst"
          ],
          [
           "Pendulum",
           "Data Scientist Generalist"
          ],
          [
           "Cision",
           "Business Intelligence Analyst - Sales Operations"
          ],
          [
           "Intevity",
           "Senior Developer - Data Engineer (AWS/Python/Node)"
          ],
          [
           "Amazon.com",
           "Data Engineer"
          ],
          [
           "Clarity AI",
           "Senior Data Scientist: NLP"
          ],
          [
           "Allegro",
           "Data Analyst (Allegro Pay)"
          ],
          [
           "WWC Global",
           "Data Analyst (DEA)"
          ],
          [
           "Aircall",
           "Senior Data Engineer"
          ],
          [
           "InDebted",
           "Data Analyst"
          ],
          [
           "Wunderman Thompson Commerce",
           "Data Engineer"
          ],
          [
           "MATCHESFASHION",
           "HTML Developer"
          ],
          [
           "William Osler Health System",
           "Manager, Business Operations - Diagnostic Imaging and Laboratory"
          ],
          [
           "Arena",
           "Data Engineer"
          ],
          [
           "ProCogia",
           "Data Science Consultant"
          ],
          [
           "Bosch Group",
           "Customer Master Data Analyst"
          ],
          [
           "Upgrade",
           "Senior Data Quality Engineer"
          ],
          [
           "Experian",
           "Senior Data Analyst - Hybrid"
          ],
          [
           "Kitware",
           "Computer Vision Researcher"
          ],
          [
           "Jane Street",
           "Machine Learning Engineer"
          ],
          [
           "Granica",
           "Research Scientist - Machine Learning and Algorithms"
          ],
          [
           "Amazon.com",
           "Senior Applied Scientist"
          ],
          [
           "Publicis Groupe",
           "Tableau/BI Developer"
          ],
          [
           "Wizeline",
           "Data Engineer"
          ],
          [
           "Gridware",
           "Data Scientist (Real-time Ops)"
          ],
          [
           "ATPCO",
           "Senior Data Engineer"
          ],
          [
           "Bosch Group",
           "Master Data Management Plants (f/m/div.)"
          ],
          [
           "Sensor Tower",
           "Coordinator of Data Operations"
          ],
          [
           "OREDATA",
           "Data Science Team Lead"
          ],
          [
           "People Can Fly",
           "AI Programmer VR (UE)"
          ],
          [
           "Natixis in Portugal",
           "Data Engineer (Python) - Payments"
          ],
          [
           "Bosch Group",
           "Master Data Management Plants (f/m/div.) (salary: ~81.000 EUR p.a.*)"
          ],
          [
           "Loggi",
           "Data Analyst Pleno"
          ],
          [
           "Bosch Group",
           "Research Engineer PEM Electrolyzer (f/m/div.)"
          ],
          [
           "Deloitte",
           "Consulting - Data Engineer"
          ],
          [
           "Tide",
           "Senior Data Analyst"
          ],
          [
           "ProCogia",
           "Azure Data Architect"
          ],
          [
           "6point6",
           "Enterprise Data Architect"
          ],
          [
           "Sigma Defense",
           "TTGP Fleet Data Manager/Senior JICO"
          ],
          [
           "3Pillar Global",
           "Senior Software Engineer - Data analytics"
          ],
          [
           "ServiceNow",
           "Staff Technical Product Manager, AI Platform and Solutions"
          ],
          [
           "Logic20/20 Inc.",
           "Big Data Engineer - PySpark"
          ],
          [
           "Fresh Gravity",
           "Consultant / Sr Consultant - QA Data Engineer"
          ],
          [
           "Tempus",
           "Computational Biologist, Translational Science - Location Flexible"
          ],
          [
           "Twelve Labs",
           "Lead Software Engineer, ML Infrastructure"
          ],
          [
           "Clearcover",
           "Senior Insurance Data Scientist"
          ],
          [
           "Relativity",
           "Principal Engineer, Data Systems"
          ],
          [
           "PSI CRO",
           "Clinical Data Manager"
          ],
          [
           "Housecall Pro",
           "Data Analyst I - Fraud"
          ],
          [
           "Monzo",
           "Senior Data Scientist, Operations"
          ],
          [
           "Financial Times",
           "Software Engineer - Data Platform (Python, Cloud, Big Data)"
          ],
          [
           "Unit4",
           "Senior Cloud Data Analyst Engineer (FinOps)"
          ],
          [
           "bunq",
           "Data Engineer - Bulgaria"
          ],
          [
           "EMW, Inc.",
           "Power BI Developer"
          ],
          [
           "Control Risks",
           "Consultant, Data Analytics"
          ],
          [
           "Publicis Groupe",
           "Senior Data Analyst"
          ],
          [
           "Data Wow",
           "Business Analyst (Tech/AI)"
          ],
          [
           "Carbon Direct",
           "Data Scientist"
          ],
          [
           "Amazon.com",
           "Senior Applied Scientist, Amazon"
          ],
          [
           "Databricks",
           "Specialist Solutions Architect - Data Engineering (Financial Services)"
          ],
          [
           "Bosch Group",
           "Data Scientist eBike Systems (f/m/div.)"
          ],
          [
           "SoundHound Inc.",
           "Senior Machine Learning Engineer"
          ],
          [
           "insightsoftware",
           "Senior Data Engineer"
          ],
          [
           "Shift Technology",
           "Graduate Data Scientist"
          ],
          [
           "HelloSelf",
           "Data Engineer"
          ],
          [
           "Locus Robotics",
           "Robotics Engineer, Sensors"
          ],
          [
           "Upwork",
           "Contract: Data Infrastructure Engineer"
          ],
          [
           "Allen Integrated Solutions",
           "AI/ML Modeling, Simulation and Analysis Engineer (Senior)"
          ],
          [
           "Fresha",
           "Analytics Engineer"
          ],
          [
           "Docebo",
           "Cloud Data Engineer"
          ],
          [
           "Carousell Group",
           "Head of Data Science, Analytics and BI"
          ],
          [
           "Natera",
           "Clinical Data Reporter"
          ],
          [
           "24-7 Intouch",
           "Junior Data Analyst"
          ],
          [
           "Experian",
           "Especialista em Auditoria Interna - Data Analytics"
          ],
          [
           "Wolt",
           "Engineering Team Lead, Imaging Tech"
          ],
          [
           "Kensho",
           "Senior ML Engineer - NLP"
          ],
          [
           "Aize AS",
           "Data Analyst (Aberdeen-based)"
          ],
          [
           "Whiterabbit.ai",
           "Research Scientist"
          ],
          [
           "Relativity",
           "Principal Engineer, Data and Control Systems"
          ],
          [
           "METRO/MAKRO",
           "Data Scientist (Pricing)"
          ],
          [
           "Nets",
           "Head of AML Operations (m/f/d)"
          ],
          [
           "Wyetech",
           "Data Engineer - 14072"
          ],
          [
           "Vattenfall",
           "Senior Data Engineer"
          ],
          [
           "Visa",
           "Senior Data Engineer"
          ],
          [
           "Netcentric",
           "Data Analyst (Reporting and Insights)"
          ],
          [
           "Palo Alto Networks",
           "Sr. Manager (AI/ML)"
          ],
          [
           "Lyft",
           "Data Scientist, Decisions - Rider"
          ],
          [
           "WWC Global",
           "Data Architect - SME"
          ],
          [
           "Prima",
           "Senior SW Engineer (Machine Learning)"
          ],
          [
           "Klick",
           "Data Engineer"
          ],
          [
           "Lunit",
           "(Global) Senior Research Scientist"
          ],
          [
           "Block",
           "Staff Data Scientist, Model Risk Management"
          ],
          [
           "Netcentric",
           "Senior Data Analyst"
          ],
          [
           "CGG",
           "Graduate Imaging Geophysicist"
          ],
          [
           "CS GROUP",
           "Architecte Plateforme Big Data / DevOps - F/H"
          ],
          [
           "Cover Genius",
           "Analytics Engineer"
          ],
          [
           "Leidos",
           "Data Engineer"
          ],
          [
           "The Telegraph",
           "Data Analyst - Retention"
          ],
          [
           "Farfetch",
           "Data Analyst"
          ],
          [
           "Octopus Energy",
           "Lead Machine Learning Engineer"
          ],
          [
           "Infopro Digital",
           "Data Developer"
          ],
          [
           "iZotope",
           "Data Analyst - Digital Marketing (all genders)"
          ],
          [
           "Kuda Technologies Ltd",
           "Android Engineer (Dubai)"
          ],
          [
           "Fivesky",
           "Data Specialist - Governance"
          ],
          [
           "Avaloq",
           "Senior Robotics Process Automation Developer"
          ],
          [
           "Ridgeline",
           "Technical Product Manager, Data Engineering"
          ],
          [
           "Experian",
           "Sr. Data Developer (Remote), Experian Consumer Services"
          ],
          [
           "Capco",
           "Senior Data Analyst with Python SQL - Bangalore"
          ],
          [
           "NBCUniversal",
           "Manager, Measurement Innovation & Data Science"
          ],
          [
           "InDebted",
           "Data Analytics Engineer"
          ],
          [
           "Theta",
           "Cloud Data Architect"
          ],
          [
           "Block",
           "Business Intelligence Engineering Manager"
          ],
          [
           "Bosch Group",
           "Data Manager"
          ],
          [
           "Kuda Technologies Ltd",
           "DevOps Engineer (Dubai)"
          ],
          [
           "BlaBlaCar",
           "Confirmed Data Analyst - Data Pro Supply"
          ],
          [
           "Demandbase, Inc.",
           "Senior Data Analyst"
          ],
          [
           "Block",
           "Senior Machine Learning Engineer (Modeling)"
          ],
          [
           "Nielsen",
           "Data Scientist / Data Analyst"
          ],
          [
           "Sewan",
           "Product Data Analyst sénior (h/f) en CDI à Paris"
          ],
          [
           "Foxintelligence",
           "Data Analyst - Stage"
          ],
          [
           "Lightspeed Commerce",
           "Senior Analytics Engineer"
          ],
          [
           "Galileo, Inc.",
           "Sr. Software Engineer, Data Engineering"
          ],
          [
           "Etsy",
           "Senior Machine Learning Engineer I"
          ],
          [
           "dentsu international",
           "Data Engineer Sr.Software Engineer DX"
          ],
          [
           "SoFi",
           "Senior Staff Data Engineer"
          ],
          [
           "Visium",
           "Data Engineer"
          ],
          [
           "Atlassian",
           "Senior Data Engineers"
          ],
          [
           "Syngenta Group",
           "Coordinateur projets Genotypage data analyse (H/F)"
          ],
          [
           "Hugging Face",
           "Machine Learning & Software Engineer, Infrastructure - US Remote"
          ],
          [
           "Neural Magic",
           "Customer-Facing Deep Learning Solutions Architect"
          ],
          [
           "Allegro",
           "Data Engineering Manager - Allegro Pay"
          ],
          [
           "PSI CRO",
           "Senior Business Intelligence Developer (Database Architect & ETL Developer)"
          ],
          [
           "BlueScope",
           "Data Analyst"
          ],
          [
           "Udacity, Inc.",
           "Technical Mentor (Independent Contractor) - Data Engineering Nanodegree (US Timezone)"
          ],
          [
           "6point6",
           "Data Architect"
          ],
          [
           "Vosker",
           "Data Analyst, Business Optimisation"
          ],
          [
           "Schrödinger",
           "Machine Learning Force Fields Scientist (Materials Science)"
          ],
          [
           "ServiceNow",
           "Principal Machine Learning Engineer - ATG"
          ],
          [
           "Publicis Groupe",
           "Senior Associate Data Sciences"
          ],
          [
           "TeamViewer",
           "Senior Data Engineer (all genders) AI"
          ],
          [
           "Employment Hero",
           "Intermediate / Senior Fullstack Engineer (AI Team)"
          ],
          [
           "Foxintelligence",
           "Data Quality Analyst - Stage"
          ],
          [
           "Icertis",
           "Senior Software Engineer - AI/ML team (.net + python)"
          ],
          [
           "Stripe",
           "Software Engineer, Data Platform, Data Management"
          ],
          [
           "Block",
           "Senior Machine Learning Engineer (Modeling), Financial Crimes Technology"
          ],
          [
           "The HALO Trust",
           "Research Analyst"
          ],
          [
           "Atlassian",
           "Backend / Data Engineers II, Cerebro"
          ],
          [
           "Sword",
           "Junior Data Manager"
          ],
          [
           "ComplyAdvantage",
           "Data Infrastructure Engineer"
          ],
          [
           "Kuda Technologies Ltd",
           "Backend Engineer (Dubai)"
          ],
          [
           "Etsy",
           "Senior Software Engineer I, Machine Learning, Retrieval Sciences"
          ],
          [
           "Mozilla",
           "Sr. Staff Machine Learning Engineer"
          ],
          [
           "Cruise LLC",
           "Staff Systems Engineer, Autonomy & Simulation"
          ],
          [
           "Coupang",
           "[??-??&???] Senior, Data Analyst (Channel Analytics)"
          ],
          [
           "Penguin Formula",
           "Senior Machine Learning Expert (on-site, Brussels / Belgium)"
          ],
          [
           "Logibec Inc.",
           "Spécialiste, intelligence d'affaires / Specialist, Business Intelligence"
          ],
          [
           "Ramp",
           "Senior Product Manager | API & Data Products"
          ],
          [
           "Xometry Inc.",
           "Senior Data Analyst"
          ],
          [
           "Publicis Groupe",
           "Senior Analyst, Data Science and Analytics"
          ],
          [
           "TetraScience",
           "Senior Product Manager - Data Management & Search"
          ],
          [
           "UWorld, LLC",
           "Accounting Professor- Data Analytics/AIS- 90K+ Salary"
          ],
          [
           "RVO Health",
           "Senior Data Engineer - Healthgrades"
          ],
          [
           "Aptos",
           "Sr Applied Data Scientist"
          ],
          [
           "3Pillar Global",
           "Business Intelligence Engineer"
          ],
          [
           "WNS Global Services",
           "Assistant Mgr - Data Sciences"
          ],
          [
           "Impact",
           "Data Scientist"
          ],
          [
           "CleverConnect",
           "Data Analyst - Stage de fin d'études - Paris 2e"
          ],
          [
           "Sportradar",
           "Trading BI Developer"
          ],
          [
           "Adevinta",
           "Product Data Analyst -  F/H"
          ],
          [
           "The TIE",
           "Data Scientist (Crypto)"
          ],
          [
           "CI&T",
           "[Job- 10639] Senior Data Engineer Developer, Brazil"
          ],
          [
           "Ocorian",
           "Business Intelligence Associate"
          ],
          [
           "Memora Health",
           "Analyst, Reporting and Business Intelligence"
          ],
          [
           "Verisk",
           "Data Science Software Engineer"
          ],
          [
           "insightsoftware",
           "Product Owner with Tableau/Power BI(6 to 10 years)"
          ],
          [
           "Hugging Face",
           "Machine Learning & Software Engineer, Infrastructure - EMEA Remote"
          ],
          [
           "ServiceNow",
           "Sr AI Solution Developer (ServiceNow Developer)"
          ],
          [
           "Samsara",
           "Data Integrations Engineer"
          ],
          [
           "PA Consulting",
           "Data Scientist"
          ],
          [
           "insightsoftware",
           "Data Engineer II"
          ],
          [
           "Icertis",
           "Lead Software Engineer - AI/ML team (.net + python)"
          ],
          [
           "Charger Logistics Inc",
           "Transportation Data Analyst Coordinator"
          ],
          [
           "TeamViewer",
           "Senior Applied Data Scientist (all genders) AI"
          ],
          [
           "Skan",
           "Power BI Analyst"
          ],
          [
           "Chime",
           "Senior Machine Learning Engineer"
          ],
          [
           "Bosch Group",
           "Senior Cloud DevOps Engineer (Data & AI) bei eBike Systems (w/m/div.)"
          ],
          [
           "Mekari",
           "Business Intelligence Analyst I"
          ],
          [
           "Western Digital",
           "Power BI Data Visualization Analyst"
          ],
          [
           "iKhokha",
           "Data Engineer"
          ],
          [
           "Cognism",
           "Data Analyst (CEO Office)"
          ],
          [
           "Standard Bank Group",
           "Senior Data Science Analyst- Model Validation"
          ],
          [
           "Adevinta",
           "Machine Learning Engineer"
          ],
          [
           "Shopify",
           "Sr. Revenue Operations Specialist - Data Analytics"
          ],
          [
           "Bosch Group",
           "PhD Position - Neuro-Symbolic AI for Scene Understanding in Autonomous Driving"
          ],
          [
           "Angi",
           "Senior Product Manager, Large Language Model"
          ],
          [
           "QuintoAndar",
           "QuintoAndar - Analytics Engineer"
          ],
          [
           "NBCUniversal",
           "VP, Data Products"
          ],
          [
           "Atlassian",
           "Machine Learning Engineer"
          ],
          [
           "Geotab Inc.",
           "Data Platform Developer, Machine Learning"
          ],
          [
           "Averna",
           "Senior Vision Engineer (English version)"
          ],
          [
           "84.51°",
           "Lead Data Scientist (P3436)"
          ],
          [
           "PointClickCare",
           "(Canada) Business Intelligence Engineer"
          ],
          [
           "Charger Logistics Inc",
           "Data Engineer"
          ],
          [
           "Motorway",
           "Lead ML Platform Engineer"
          ],
          [
           "Visa",
           "Staff Data Engineer"
          ],
          [
           "Charger Logistics Inc",
           "Transportation Data Analyst (Tableau)"
          ],
          [
           "Vattenfall",
           "Senior Data Architect"
          ],
          [
           "CCRi",
           "Software Engineer, Computer Vision Program"
          ],
          [
           "RVU",
           "Data Engineer - Tempcover"
          ],
          [
           "Eurofins",
           "Data Engineer"
          ],
          [
           "Trigo",
           "Alternance - « Data Analyst » ou « Equipe Business Intelligence » (H/F)"
          ],
          [
           "TradingHub",
           "Software Engineer - Structured Data Strategies"
          ],
          [
           "Data Science Group",
           "Data Scientist"
          ],
          [
           "OKX",
           "Institution Data Analyst"
          ],
          [
           "Databricks",
           "Senior Solutions Engineer - Big Data"
          ],
          [
           "Motive",
           "Machine Learning Engineer"
          ],
          [
           "Raft",
           "Principal Machine Learning (ML) Engineer"
          ],
          [
           "Xe",
           "Product Data Engineer"
          ],
          [
           "CleverConnect",
           "Data Engineer - Stage de fin d'études - Paris 2e"
          ],
          [
           "bunq",
           "Data Engineer"
          ],
          [
           "DirectID",
           "Senior Data Engineer/Scientist"
          ],
          [
           "Vitol",
           "Data Scientist"
          ],
          [
           "Rec Room",
           "Principal Data Scientist, Machine Learning"
          ],
          [
           "Intelerad",
           "Sr Director - Project Implementation - Medical Imaging / PACS"
          ],
          [
           "Gaming Innovation Group",
           "Big Data BI Engineer"
          ],
          [
           "Mitek Systems",
           "Principal Data Scientist (Spain, full-remote)"
          ],
          [
           "People Can Fly",
           "AI Programmer"
          ],
          [
           "Divelement",
           "Data Scientist engineer"
          ],
          [
           "Truveta",
           "ML Postdoc Researcher - LLMs & Generative AI"
          ],
          [
           "Western Digital",
           "Principal Engineer, Data Management Engineering"
          ],
          [
           "Angi",
           "Lead Data Scientist - Pricing"
          ],
          [
           "Etsy",
           "Data Scientist, Product Analytics"
          ],
          [
           "Dropbox",
           "Senior Infrastructure Software Engineer, ML Platform"
          ],
          [
           "Alumio",
           "Alumio Solution Engineer (Data Integration)"
          ],
          [
           "Eurofins",
           "Senior Data Engineer"
          ],
          [
           "Bosch Group",
           "Senior AI Research Scientist  Perception and Machine Learning"
          ],
          [
           "Avaloq",
           "Data Scientist"
          ],
          [
           "Eurofins",
           "Field Sample Specialist (Air Samples) - Eurofins Environment Testing  Pueblo, CO"
          ],
          [
           "Bosch Group",
           "Senior Research Scientist  AI-based Planning for Autonomous Systems"
          ],
          [
           "Dealfront",
           "Senior Data Engineer, PHP"
          ],
          [
           "Visa",
           "Head of Data Science & Predictive Modeling"
          ],
          [
           "Standard Bank Group",
           "Business and Commercial Banking (BCB) Business Intelligence and Analytics Graduate Programme - Gauteng"
          ],
          [
           "Ample Insight Inc.",
           "Data Scientist - Data Analytics and Infrastructure"
          ],
          [
           "Brainlab",
           "(Senior) Machine Learning Engineer - MLOps"
          ],
          [
           "AUTO1 Group",
           "Team Lead Data Science (f/m/x)"
          ],
          [
           "Entain",
           "Data Analyst"
          ],
          [
           "EquipmentShare",
           "Senior Data Engineer"
          ],
          [
           "Course Hero",
           "Senior Data Scientist - Monetization"
          ],
          [
           "Scale AI",
           "Lead Machine Learning Research Engineer, Generative AI"
          ],
          [
           "Columbia University",
           "Course Associate, Data Analysis and Visualization in Sustainability (Fall 2023)"
          ],
          [
           "Vitol",
           "Senior Data Scientist"
          ],
          [
           "Flagship Pioneering, Inc.",
           "Robotics Engineer"
          ],
          [
           "CS GROUP",
           "Ingénieur Data Modeler et/ou Tech Data - F/H"
          ],
          [
           "Iterative Health",
           "Biomedical Data Scientist"
          ],
          [
           "Aryng",
           "Product Analyst - Remote (Mumbai)"
          ],
          [
           "Definitive Logic",
           "Databricks Administrator"
          ],
          [
           "Publicis Groupe",
           "Analyst, Data Engineering"
          ],
          [
           "Cermati.com",
           "Lead Data Engineer- Bangalore"
          ],
          [
           "esure Group",
           "Marketing Data Scientist"
          ],
          [
           "esure Group",
           "Insight Analyst"
          ],
          [
           "AVIV Group",
           "Senior Data Engineer"
          ],
          [
           "Etsy",
           "Senior Applied Scientist I"
          ],
          [
           "PA Consulting",
           "Data Manager Consultant"
          ],
          [
           "Divelement",
           "Machine Learning Engineer"
          ],
          [
           "Extreme Networks",
           "Senior Machine Learning Scientist (8304)"
          ],
          [
           "KNOREX",
           "Data Scientist"
          ],
          [
           "Varsity Tutors",
           "Senior Product Manager (AI team)"
          ],
          [
           "Rec Room",
           "Principal Applied Scientist"
          ],
          [
           "YouGov",
           "Director of Data Science"
          ],
          [
           "PA Consulting",
           "Data Analyst Consultant"
          ],
          [
           "Poshmark",
           "Data Analyst"
          ],
          [
           "People Can Fly",
           "Senior Market Research Analyst"
          ],
          [
           "Lakeshore Learning Materials, LLC",
           "Senior Manager of Master Data Management (Hybrid)"
          ],
          [
           "AUTO1 Group",
           "Mid Data Scientist (f/m/x), Remote (EU) / Berlin"
          ],
          [
           "Varsity Tutors",
           "Sr. Product Manager (AI team)"
          ],
          [
           "METRO/MAKRO",
           "Data Analyst (Pricing)"
          ],
          [
           "PA Consulting",
           "Principal Data Strategist Consultant"
          ],
          [
           "carsales",
           "Senior Vehicle Data Analyst"
          ],
          [
           "Grover",
           "Machine Learning Engineer (m/w/x)"
          ],
          [
           "Roblox",
           "Principal Engineer, Datacenter Software Systems"
          ],
          [
           "Definitive Logic",
           "Business Intelligence (Qlik) Developer"
          ],
          [
           "SoFi",
           "Staff Data Scientist, Credit Card"
          ],
          [
           "Databricks",
           "Head of Product Data Science"
          ],
          [
           "CleverConnect",
           "Data Engineer / Data Analyst - Stage de fin d'études - Paris 2e (H/F)"
          ],
          [
           "Woodruff Sawyer",
           "Data Scientist"
          ],
          [
           "Doxee",
           "Junior Data Engineer"
          ],
          [
           "Scale AI",
           "Machine Learning Research Engineer - Federal"
          ],
          [
           "84.51°",
           "Lead Data Engineer (P3796)"
          ],
          [
           "Procore Technologies",
           "Senior ML Engineer"
          ],
          [
           "PA Consulting",
           "Senior Data Strategist"
          ],
          [
           "Numberly",
           "BI Engineer & Data Visualisation"
          ],
          [
           "Extreme Networks",
           "Senior Machine Learning Engineer (8031)"
          ],
          [
           "Roosh",
           "Python Machine Learning Engineer (AdLight)"
          ],
          [
           "Bosch Group",
           "Research Engineer in Text Analytics (Direct Contract with Bosch)"
          ],
          [
           "Delta Solutions & Strategies",
           "Data Engineer"
          ],
          [
           "Procore Technologies",
           "Senior Machine Learning Engineer"
          ],
          [
           "Sia Partners",
           "Consultant(e) Data Scientist / Recherche Opérationnelle"
          ],
          [
           "PitchBook Data",
           "Sr. Quantitative Research Analyst"
          ],
          [
           "Brightspeed",
           "Data Analyst"
          ],
          [
           "PA Consulting",
           "Senior Data Manager"
          ],
          [
           "Dropbox",
           "Staff Infrastructure Software Engineer, ML Platform"
          ],
          [
           "Verisk",
           "Data Engineer (AWS)"
          ],
          [
           "Veeva Systems",
           "Data Engineer - Veeva Link"
          ],
          [
           "Extreme Networks",
           "Senior Data Engineer (8307)"
          ],
          [
           "Enpal B.V.",
           "(Mid level) Business Intelligence Analyst SCM (f/m/x)"
          ],
          [
           "CleverConnect",
           "Data Analyst - Stage de fin d'études - Paris 2e (H/F)"
          ],
          [
           "People Can Fly",
           "Senior AI Programmer"
          ],
          [
           "Bosch Group",
           "AI Research Scientist  Perception and Machine Learning"
          ],
          [
           "Publicis Groupe",
           "Data Engineer 2"
          ],
          [
           "Flagship Pioneering, Inc.",
           "Scientist/Sr. Scientist, Computational Biology"
          ],
          [
           "PA Consulting",
           "Data Scientist Consultant"
          ],
          [
           "Publicis Groupe",
           "Manager, Data Engineering"
          ],
          [
           "KPMG Australia",
           "Consultant | Data Analyst | KPMG Futures"
          ],
          [
           "Visa",
           "Data Scientist"
          ],
          [
           "Bosch Group",
           "Research Scientist  AI-based Planning for Autonomous Systems"
          ],
          [
           "Publicis Groupe",
           "Data Architect"
          ],
          [
           "Nets",
           "Financial Data Analyst (m/f/d)"
          ],
          [
           "NielsenIQ",
           "Analyst - Organizational Effectiveness (Data Management & Modelling, M&A)"
          ],
          [
           "Version 1",
           "Data Architect - Talent Pipeline"
          ],
          [
           "PA Consulting",
           "Senior Data Analyst"
          ],
          [
           "Experian",
           "Data Analytics Hub Manager"
          ],
          [
           "Verisk",
           "Senior Data Analyst"
          ],
          [
           "Publicis Groupe",
           "Manager, Business Intelligence"
          ],
          [
           "Adtalem Global Education",
           "Senior Data Analyst, Marketing & Enrollment - Hybrid"
          ],
          [
           "Groupe Hospitalier Paris Saint Joseph",
           "Architecte DATA - Décisionnel et Entrepôt Données Santé - Data Architect"
          ],
          [
           "eWave",
           "Middle Product Manager (Data Analysis, Fintech)"
          ],
          [
           "Publicis Groupe",
           "Director, Data Science"
          ],
          [
           "Palo Alto Networks",
           "Principal Machine Learning Engineer"
          ],
          [
           "CGG",
           "Imaging Geophysicist - CDI permanent contract"
          ],
          [
           "Cermati.com",
           "Junior Business Intelligence Analyst"
          ],
          [
           "Publicis Groupe",
           "Lead Data Analyst"
          ],
          [
           "CoEnterprise, LLC",
           "Senior Technical Integration Consultant- MFT, Migrations, ETL Experience- US Based Remote"
          ],
          [
           "Agoda",
           "Senior Data Analyst (Flights team, Bangkok-based, Relocation provided)"
          ],
          [
           "PlayStation Global",
           "Machine Learning Engineer"
          ],
          [
           "605",
           "Data Engineer, Operations (AdScribe)"
          ],
          [
           "Agoda",
           "Lead BI Analyst (Supply Analytics, Bangkok-based)"
          ],
          [
           "Fannie Mae",
           "Sr. Cloud & Data Engineer (Hybrid)"
          ],
          [
           "SAIT",
           "Instructor- Data Analytics"
          ],
          [
           "Octopus Energy",
           "Data Analyst (Procurement)"
          ],
          [
           "Yohana",
           "Technical Program Manager, Artificial Intelligence & Data"
          ],
          [
           "Coinbase",
           "Staff Machine Learning Platform Engineer"
          ],
          [
           "Cresta",
           "Data Scientist"
          ],
          [
           "Contact Energy",
           "Junior Data and Insight Analyst"
          ],
          [
           "Amazon.com",
           "Business Intelligence Manager"
          ],
          [
           "JupiterOne",
           "Senior Data Engineer"
          ],
          [
           "Standard Bank Group",
           "Data Enginner"
          ],
          [
           "Scale AI",
           "Analytics Engineer"
          ],
          [
           "Homa Games",
           "Monetization Data Analyst, Marketing Analytics"
          ],
          [
           "Roblox",
           "Principal Software Engineer, Applied ML"
          ],
          [
           "Aviso Wealth",
           "Azure Data Engineer"
          ],
          [
           "Amazon.com",
           "Electrical Design Engineer, Data Center Design Engineering"
          ],
          [
           "Palo Alto Networks",
           "AI Architect, IT"
          ],
          [
           "Talan",
           "Data Engineer"
          ],
          [
           "Locus Robotics",
           "Deployment Specialist -(Travel, Early Career Robotics)-Central to East Coast - US"
          ],
          [
           "Cruise LLC",
           "Staff Software Engineer, Machine Learning Acceleration"
          ],
          [
           "NielsenIQ",
           "Senior BI Developer"
          ],
          [
           "Atlassian",
           "Senior Data Engineer, Data Engineering"
          ],
          [
           "Helloprint",
           "Product Data Specialist"
          ],
          [
           "Vattenfall",
           "Data Manager Zakelijke Markt"
          ],
          [
           "Eurofins",
           "Business Intelligence Specialist"
          ],
          [
           "Sia Partners",
           "Consultant(e) Data Science - Bureau de Lyon"
          ],
          [
           "Publicis Groupe",
           "Associate Director, Data Engineering"
          ],
          [
           "Sia Partners",
           "Consultant(e) Senior Data Science"
          ],
          [
           "Sia Partners",
           "Consultant(e) Data Science - Bureau de Marseille"
          ],
          [
           "Inmarsat",
           "Data Engineer"
          ],
          [
           "Twitch",
           "Business Intelligence Manager"
          ],
          [
           "Asana",
           "Staff Data Scientist, Business - Sales & Customer Success"
          ],
          [
           "Roosh",
           "Copywriter (ZibraAI)"
          ],
          [
           "Block",
           "Senior Product Manager, Data Infrastructure"
          ],
          [
           "Agoda",
           "Data Analyst (Flights team, Bangkok-based, Relocation provided)"
          ],
          [
           "Roblox",
           "Senior Data Scientist- Creator Content"
          ],
          [
           "Vouch, Inc.",
           "Staff Data Scientist"
          ],
          [
           "Cloudflare, Inc.",
           "Data Scientist"
          ],
          [
           "Sia Partners",
           "Data Engineer - H/F"
          ],
          [
           "Etraveli Group",
           "Machine Learning Engineer"
          ],
          [
           "Civica UK Ltd",
           "Senior Software Engineer (Power BI) -ELECTION-46"
          ],
          [
           "ServiceNow",
           "Sr Staff Data Scientist - ATG"
          ],
          [
           "dentsu international",
           "US Master Data Manager"
          ],
          [
           "CB Insights",
           "Senior Data Analyst"
          ],
          [
           "DigitalOcean",
           "Data Analyst"
          ],
          [
           "Netcentric",
           "(Senior) Digital Analytics Engineer"
          ],
          [
           "Sia Partners",
           "Consultant(e) Senior Data Science - Bureau de Marseille"
          ],
          [
           "RCA",
           "Data Analyst F/H"
          ],
          [
           "Etraveli Group",
           "Data Scientist"
          ],
          [
           "Agoda",
           "Senior Business Intelligence Analyst (Bangkok-based, Relocation provided)"
          ],
          [
           "Trusting Social",
           "Big Data Engineer (Spark/ Hadoop/ Scala)"
          ],
          [
           "Roblox",
           "Research Scientist"
          ],
          [
           "Vattenfall",
           "Wind Master Data Manager"
          ],
          [
           "Etsy",
           "Senior Applied Scientist II"
          ],
          [
           "Publicis Groupe",
           "Data Science Analyst"
          ],
          [
           "ODAIA",
           "Machine Learning Engineer - LLM"
          ],
          [
           "Homa Games",
           "Product Data Analyst - Gaming Analytics"
          ],
          [
           "Sia Partners",
           "Consultant(e) Senior Data Science - Bureau de Nantes"
          ],
          [
           "Security Bank",
           "Chatbot Engineer"
          ],
          [
           "Wolt",
           "Imaging Coordinator"
          ],
          [
           "Fannie Mae",
           "People Analytics Senior Data Analyst (Remote)"
          ],
          [
           "Rest",
           "Information Security & Data Management Trainer"
          ],
          [
           "Block",
           "Senior Machine Learning Modeler, Financial Crimes"
          ],
          [
           "Publicis Groupe",
           "Lead Analyst (BI Data Development)"
          ],
          [
           "Roblox",
           "Principal Machine Learning Engineer - Personalization"
          ],
          [
           "Instacart",
           "Staff Software Engineer, Data Platform"
          ],
          [
           "Sia Partners",
           "Consultant(e) Data Science"
          ],
          [
           "ASOS",
           "Senior Insight Analyst - Digital Experience"
          ],
          [
           "Talan",
           "Alternance Consultant(e) Data Analytics - H/F"
          ],
          [
           "Sia Partners",
           "Consultant(e) Data Science - Bureau de Nantes"
          ],
          [
           "Next Phase",
           "302 - Data Analytics Specialist - CMS End Stage Renal Disease (ESRD)"
          ],
          [
           "Intercom",
           "Analytics Engineer"
          ],
          [
           "Datadog",
           "Senior Software Engineer - Data Visualization"
          ],
          [
           "Luminar",
           "Senior MLOps Engineer"
          ],
          [
           "SentinelOne",
           "Senior ML Engineer (Remote)"
          ],
          [
           "Roblox",
           "Research Engineer - Research"
          ],
          [
           "Roblox",
           "Principal Software Engineer, Data Engineering"
          ],
          [
           "Nielsen",
           "Product Owner - Data Visualization Specialist and Quality"
          ],
          [
           "Adevinta",
           "Data Engineer Senior - DataOps / AWS / Archi Distribuée (f/m/x)"
          ],
          [
           "Turnitin, LLC",
           "Senior AI Data Engineer (USA REMOTE)"
          ],
          [
           "Roblox",
           "Principal Machine Learning Engineer- Economy"
          ],
          [
           "Security Bank",
           "Data Quality Management Specialist"
          ],
          [
           "OfferFit",
           "Machine Learning Implementation Engineer"
          ],
          [
           "AMP Robotics",
           "Robotics Software Engineer"
          ],
          [
           "CIMMYT",
           "Data Management System General Support Coordinator, Consultancy"
          ],
          [
           "Nearmap",
           "Senior Data Scientist (Deep Learning Specialist)"
          ],
          [
           "Modulate",
           "Machine Learning Engineer / Senior Machine Learning Engineer"
          ],
          [
           "Relay Graduate School of Education",
           "Managing Director, Data Engineering, Reporting, Visualization"
          ],
          [
           "Roblox",
           "Principal Deep Learning Engineer - Computer Vision"
          ],
          [
           "Adevinta",
           "Data Engineer - Team Data Platform (f/m/x)"
          ],
          [
           "EUROPEAN DYNAMICS",
           "BI Developer (SAP BO & Qlik)"
          ],
          [
           "ServiceNow",
           "Staff Data Scientist - ATG"
          ],
          [
           "Dun & Bradstreet",
           "Senior Analyst, Data Science (R-14532)"
          ],
          [
           "Twelve Labs",
           "Sr. ML Engineer (Infrastructure)"
          ],
          [
           "Coinbase",
           "Senior Machine Learning Engineer"
          ],
          [
           "Verisk",
           "Data Analyst II"
          ],
          [
           "Publicis Groupe",
           "Director, Business Intelligence"
          ],
          [
           "Block",
           "Senior Platform Data Engineer, People Analytics"
          ],
          [
           "YouGov",
           "Data Analyst"
          ],
          [
           "ServiceNow",
           "Sr Machine Learning Engineer"
          ],
          [
           "Publicis Groupe",
           "Data Scientist (MMM)"
          ],
          [
           "Corcentric",
           "Machine Learning Engineer"
          ],
          [
           "Databricks",
           "Senior Spark Technical Solutions Engineer"
          ],
          [
           "Amazon.com",
           "Support Ops Manager I, ML Data Operations, FBA Support Operations"
          ],
          [
           "Abcam Plc",
           "Head of Business Intelligence and Analytics"
          ],
          [
           "Agoda",
           "Senior Analyst - Business Intelligence (Bangkok-based, Relocation Provided)"
          ],
          [
           "The Very Group",
           "Lead Data Developer"
          ],
          [
           "Amazon.com",
           "Program Manager, Operations Finance Business Intelligence, Japan Operations Finance"
          ],
          [
           "Turnitin, LLC",
           "AI Data Engineering and Data Science Manager (USA REMOTE)"
          ],
          [
           "Celonis",
           "Consultant (German Speaking) - Data Analytics"
          ],
          [
           "Cohere",
           "Research Scientist, Responsible AI"
          ],
          [
           "Verisk",
           "Data Engineer"
          ],
          [
           "Scale AI",
           "Data Scientist, Generative AI"
          ],
          [
           "WAES",
           "Senior Data Engineer"
          ],
          [
           "ServiceNow",
           "Data Analytics Manager"
          ],
          [
           "The Data Foundry",
           "Data Engineer (Melbourne)"
          ],
          [
           "Addepar",
           "Sr. Product Designer - Data Management (UK)"
          ],
          [
           "Verisk",
           "NLP Engineer"
          ],
          [
           "The Bridge Social",
           "#659 Data Engineer"
          ],
          [
           "PatientPoint",
           "Senior Data Visualization Analyst"
          ],
          [
           "Databricks",
           "Specialist Solutions Architect - Data Engineering & Azure"
          ],
          [
           "Boohoo Group",
           "People Data Analyst"
          ],
          [
           "Previse",
           "Data Scientist"
          ],
          [
           "3Pillar Global",
           "Senior/ Lead Data analytics"
          ],
          [
           "Metyis",
           "Data Product Owner"
          ],
          [
           "Flagship Pioneering, Inc.",
           "Head of Health Data Science"
          ],
          [
           "Roblox",
           "Senior Data Scientist - Discovery Experiences"
          ],
          [
           "NBCUniversal",
           "Data Engineer - NBC Sports Next"
          ],
          [
           "Amazon.com",
           "Applied Scientist II"
          ],
          [
           "Roblox",
           "Senior Data Scientist - Creator Success"
          ],
          [
           "DoubleVerify",
           "Jr. CRM Data Quality Specialist"
          ],
          [
           "Publicis Groupe",
           "Senior Data Engineer"
          ],
          [
           "AUTO1 Group",
           "Head of Data Science (f/m/x)"
          ],
          [
           "WHOOP",
           "Director of Machine Learning Platform Engineering"
          ],
          [
           "ServiceNow",
           "Staff Research Scientist/Engineer"
          ],
          [
           "NielsenIQ",
           "Data Analyst and BI Developer"
          ],
          [
           "Block",
           "Staff Machine Learning Modeler, Financial Crimes"
          ],
          [
           "Enroute",
           "Data Engineer Databricks"
          ],
          [
           "Prezi",
           "Senior Data Analyst"
          ],
          [
           "Demandbase, Inc.",
           "Senior Software Engineer (Data Engineering)"
          ],
          [
           "Publicis Groupe",
           "HRIS & Data Analytics Specialist"
          ],
          [
           "Atlassian",
           "Group Manager, Technical Data Science"
          ],
          [
           "AUTO1 Group",
           "Expert Data Scientist (f/m/x)"
          ],
          [
           "NBCUniversal",
           "Sr. Data Engineer"
          ],
          [
           "Informa Group Plc.",
           "Research Analyst (RPA Engineer)"
          ],
          [
           "Clear Street Markets",
           "Data Engineer, Clearing and Custody"
          ],
          [
           "Kpler",
           "Senior/Staff Data Engineer"
          ],
          [
           "Farfetch",
           "Analytics Engineer - Analytics Hub"
          ],
          [
           "Amazon.com",
           "Data Scientist, IPC - Specialized Selection"
          ],
          [
           "Enpal GmbH",
           "(Mid level) Business Intelligence Analyst SCM (f/m/x)"
          ],
          [
           "Remitly",
           "Partner Data Specialist"
          ],
          [
           "HSO",
           "Azure Data Engineer (SQL/Python)"
          ],
          [
           "TEHORA",
           "Analyste-Programmeur spécialiste ETL"
          ],
          [
           "Publicis Groupe",
           "Data Engineer"
          ],
          [
           "Publicis Groupe",
           "Data Engineer, Creative Media Operations"
          ],
          [
           "Netcentric",
           "Digital Analytics Engineer"
          ],
          [
           "Talan",
           "Talan Consulting  Consultant Senior/Manager  Data Strategy (H/F)"
          ],
          [
           "Flatiron School",
           "Executive Training Coach, Artificial Intelligence"
          ],
          [
           "6point6",
           "Enterprise Data Architect - 6 month Contract"
          ],
          [
           "SAIT",
           "Adjunct Instructors - Data Science Program - 2023/2024"
          ],
          [
           "Databricks",
           "Specialist Solutions Architect - MLOps"
          ],
          [
           "Sigma Defense",
           "Senior SMWDC Data Analytics Team Lead"
          ],
          [
           "Copper.co",
           "Data Analytics Engineer"
          ],
          [
           "Snowflake Inc.",
           "Senior Data Scientist"
          ],
          [
           "Stockbit",
           "Data Analyst"
          ],
          [
           "Publicis Groupe",
           "Data Analyst"
          ],
          [
           "GoodRx",
           "Senior Data Engineer I"
          ],
          [
           "Version 1",
           "Data Visualisation Consultant"
          ],
          [
           "Agoda",
           "Data Analyst (Bangkok Based, Relocation Provided)"
          ],
          [
           "goodlord",
           "Head of Data"
          ],
          [
           "Bitpanda",
           "Senior DataOps Engineer (kafka)"
          ],
          [
           "Visa",
           "Principal ML Engineer - AI Platform"
          ],
          [
           "Charger Logistics Inc",
           "Operations Data Analyst (Tableau)"
          ],
          [
           "Visa",
           "Financial Data Analyst"
          ],
          [
           "ALTEN",
           "Stage Ingénieur Machine Learning (F/H)"
          ],
          [
           "NielsenIQ",
           "Data Analyst"
          ],
          [
           "Rokt",
           "Senior/Staff Machine Learning Engineer - Ecommerce Fraud Detection"
          ],
          [
           "Innovaccer",
           "Lead-Data Analyst"
          ],
          [
           "Amazon.com",
           "Senior Applied Scientist, Prime Video"
          ],
          [
           "Lakeshore Learning Materials, LLC",
           "Product Data Management Manager (Hybrid)"
          ],
          [
           "Bosch Group",
           "Data Scientist for Reliability Engineering (M/F/D)"
          ],
          [
           "Bosch Group",
           "Power BI Engineer"
          ],
          [
           "Hinge Health",
           "Senior Data Engineer"
          ],
          [
           "Ada",
           "Senior Backend Engineer, ML Research"
          ],
          [
           "PSI CRO",
           "Salesforce Administrator/Data Specialist"
          ],
          [
           "Mindex",
           "Data Engineer - Remote (Req. #515)"
          ],
          [
           "Adyen",
           "VP Engineering - Machine Learning"
          ],
          [
           "Ripple",
           "Senior Product Manager, Automation & Machine Learning"
          ],
          [
           "Digital Uncut",
           "Data Analyst (Remote | UK)"
          ],
          [
           "Agoda",
           "Senior Data Analyst (Bangkok Based, Relocation Provided)"
          ],
          [
           "Nielsen",
           "Director, Trust & Panel Data Integrity"
          ],
          [
           "Allegro",
           "Data Scientist (Data Science Hub)"
          ],
          [
           "Contentsquare",
           "Marketing Data Analyst"
          ],
          [
           "Petlab Co.",
           "Graduate Analytics Engineer"
          ],
          [
           "Amazon.com",
           "Business Intelligence Engineer, Advertising Trust Data"
          ],
          [
           "WHOOP",
           "Senior Research Scientist"
          ],
          [
           "Bosch Group",
           "AI Solution Cluster Manager"
          ],
          [
           "Cuberg",
           "Senior Battery Modeling Engineer, Data"
          ],
          [
           "OpenAI",
           "Software Engineer  Model Inference"
          ],
          [
           "Zoox",
           "Backend Software Engineer, Data Engineering"
          ],
          [
           "Roblox",
           "Senior/Principal ML Engineer, Content Understanding"
          ],
          [
           "Databricks",
           "Delivery Solutions Architect : Big Data"
          ],
          [
           "OKX",
           "Sr Data Product Manager - Trading Experience"
          ],
          [
           "Surprise.com",
           "Data Scientist, Poland"
          ],
          [
           "Block",
           "Staff Machine Learning Engineer (Modeling), Risk"
          ],
          [
           "M-KOPA",
           "Business Intelligence Analyst"
          ],
          [
           "Paytm",
           "HR ( Data Analyst)  - Junior Manager"
          ],
          [
           "Fastly, Inc.",
           "Senior People Data Analyst - Workday"
          ],
          [
           "Anduril Industries",
           "Logistics Lead - Imaging"
          ],
          [
           "Bosch Group",
           "Function Developer - Artificial Intelligence/Machine Learning in Automobile Applications"
          ],
          [
           "Verisk",
           "Sr Research Analyst - LNG"
          ],
          [
           "Amazon.com",
           "Sr. Business Analyst, Digital Services Business Intelligence (DSBI)"
          ],
          [
           "dentsu international",
           "Data Scientist"
          ],
          [
           "Jellyfish",
           "Senior data analyst"
          ],
          [
           "Tiger Analytics",
           "Data Engineer"
          ],
          [
           "People Can Fly",
           "Lead AI Programmer - Remote"
          ],
          [
           "Sportradar",
           "Lead Data Scientist"
          ],
          [
           "NielsenIQ",
           "Engineer (Mid- Data Engineer)"
          ],
          [
           "Standard Bank Group",
           "Data Scientist (Machine Learning Modelling)"
          ],
          [
           "Magno IT Recruitment",
           "4295 Senior Data Analyst"
          ],
          [
           "OKX",
           "Senior Manager (Project & Data Management)"
          ],
          [
           "Kin + Carta",
           "Senior Spark Data Engineer"
          ],
          [
           "Experian",
           "Pessoa Engenheira de Machine Learning Sênior"
          ],
          [
           "Clari",
           "Senior Software Engineer, Data Platform - Remote"
          ],
          [
           "Tesco Bengaluru",
           "Senior Applied Data Scientist"
          ],
          [
           "Raft",
           "Senior Data Engineer"
          ],
          [
           "Boldr",
           "Senior Data Engineer"
          ],
          [
           "Agriaku",
           "Lead Data Analyst"
          ],
          [
           "Hopper",
           "Senior Machine Learning Engineer- Price Freeze (100% remote)"
          ],
          [
           "Dashlane",
           "Data Engineer"
          ],
          [
           "Sand Cherry Associates",
           "Data Architect"
          ],
          [
           "SIXT",
           "(Senior) Director Data Science for Pricing / Yield Management  (m/f/d)"
          ],
          [
           "24-7 Intouch",
           "Data Analyst"
          ],
          [
           "Bosch Group",
           "Big Data Engineer  Hadoop"
          ],
          [
           "Roblox",
           "Senior Machine Learning Engineer - Search"
          ],
          [
           "Version 1",
           "Databricks and Scala Engineer geospatial"
          ],
          [
           "Adevinta",
           "Data Analyst Coches.net"
          ],
          [
           "Publicis Groupe",
           "Senior Associate Data Engineering L1"
          ],
          [
           "Impact",
           "Big Data Infrastructure Engineer"
          ],
          [
           "CI&T",
           "[Job- 10566] Senior Data Visualization Analyst, Brazil"
          ],
          [
           "Plan-S Satellite and Space Technologies",
           "Satellite Image Processing and AI Engineer"
          ],
          [
           "KNOREX",
           "Data Engineer (Hybrid)"
          ],
          [
           "Culture Amp",
           "Lead/Principal Product Manager, AI/ML"
          ],
          [
           "Bosch Group",
           "Senior Data Engineer - Data Scientist  (f/m/div.)"
          ],
          [
           "Xtremax",
           "Machine Learning / AI Engineer (Indonesia)"
          ],
          [
           "Toyota Research Institute",
           "Research Scientist"
          ],
          [
           "Worldcoin",
           "Senior Analytics Engineer"
          ],
          [
           "PlayStation Global",
           "Lead Partner Commerce Analyst (Business Intelligence)"
          ],
          [
           "Experian",
           "Data Science Consultant"
          ],
          [
           "Starschema",
           "BI Developer"
          ],
          [
           "SoFi",
           "Senior Manager, Data Engineering"
          ],
          [
           "Octopus Energy",
           "Junior Data Scientist"
          ],
          [
           "Bosch Group",
           "Data Engineer  Oracle"
          ],
          [
           "Numberly",
           "Data Engineer"
          ],
          [
           "Allegro",
           "Data Analyst (S&OP)"
          ],
          [
           "Bosch Group",
           "Graduate Motorsport Data Analyse and Engineer"
          ],
          [
           "Veeva Systems",
           "Data Operations Manager - Link"
          ],
          [
           "SecurityScorecard",
           "VP of Data Science"
          ],
          [
           "Standard Bank Group",
           "Manager, Data Science (Machine Learning)"
          ],
          [
           "InMobi",
           "Data Scientist IV"
          ],
          [
           "Wolt",
           "Data Science - Machine Learning Engineer"
          ],
          [
           "Palo Alto Networks",
           "Principal Machine Learning Engineer (DLP)"
          ],
          [
           "Verisk",
           "Data Engineer I (BLD)"
          ],
          [
           "Block",
           "Senior Data Science Manager, Marketing"
          ],
          [
           "Flagship Pioneering, Inc.",
           "Scientist I, Computational Biology"
          ],
          [
           "66degrees",
           "Data Analytics Architect, Multi-Instance"
          ],
          [
           "Noble.AI",
           "Research Scientist"
          ],
          [
           "Framestore",
           "Head of Data Ops & Render Support"
          ],
          [
           "Flexport",
           "Senior Data Analyst"
          ],
          [
           "Lightcast",
           "Senior Data Engineer"
          ],
          [
           "Snowflake Inc.",
           "Sr. Security Analytics Engineer"
          ],
          [
           "Bosch Group",
           "Senior DevOps Engineer \"Big Data Platform - Hadoop\" (f/m/div.)"
          ],
          [
           "Prevail",
           "Data Analyst"
          ],
          [
           "Credera",
           "Principal  - Data Science"
          ],
          [
           "Discovery Education",
           "Data Scientist, Product Growth"
          ],
          [
           "Twilio",
           "Staff Machine Learning Engineer"
          ],
          [
           "Amazon.com",
           "Principal Applied Scientist, Sponsored Products"
          ],
          [
           "Credera",
           "Senior Machine Learning Architect"
          ],
          [
           "Sportradar",
           "Sport data operator"
          ],
          [
           "Block",
           "Credit Risk Decision Scientist - Afterpay"
          ],
          [
           "Miratech",
           "Python/ETL Developer"
          ],
          [
           "Databricks",
           "Data Analyst"
          ],
          [
           "SecurityScorecard",
           "Staff Data Scientist"
          ],
          [
           "NielsenIQ",
           "Business Intelligence Associate Manager(Client facing)"
          ],
          [
           "Openlogix Corporation",
           "Data Analyst"
          ],
          [
           "Machina Labs",
           "Business Intelligence MBA Associate"
          ],
          [
           "Cricut",
           "Data Scientist"
          ],
          [
           "Chainalysis",
           "Data Scientist, Research"
          ],
          [
           "Deloitte",
           "Vacation work - (AIS) Actuarial & Insurance Solutions 2023- Johannesburg"
          ],
          [
           "Amazon.com",
           "Applied Scientist- Search Query Recommendation, Search Assistance"
          ],
          [
           "Visa",
           "Director, Data Science"
          ],
          [
           "Neo Cybernetica",
           "Senior Robotics Software Engineer"
          ],
          [
           "Wayfair Inc.",
           "Senior Product Manager, Supplier Advertising (Machine Learning)"
          ],
          [
           "Experian",
           "Pessoa Engenheira de Machine Learning Júnior"
          ],
          [
           "Rec Room",
           "Quantitative Research Analyst"
          ],
          [
           "ActiveCampaign",
           "Business Intelligence Engineer, Analytics"
          ],
          [
           "Bosch Group",
           "Gruppenleitung Supply Chain Management & Data Analytics (w/m/div.)"
          ],
          [
           "RYTE Corporation",
           "Senior Data Engineer"
          ],
          [
           "Visa",
           "Staff Data Engineer (Spark, Python, Hadoop)"
          ],
          [
           "Libertex Group",
           "Data Architect (optional relocation to Montenegro)"
          ],
          [
           "Visa",
           "Staff Data Scientist - NLP"
          ],
          [
           "Capco",
           "Senior ETL Datastage Developer"
          ],
          [
           "Verisk",
           "Junior Data Analyst"
          ],
          [
           "Crunchyroll Inc.",
           "Data Analyst, Product"
          ],
          [
           "Lyft",
           "Data Scientist, Decisions - Rider"
          ],
          [
           "Seldon",
           "MLOps Engineer, LLM"
          ],
          [
           "Deutsche Telekom IT Solutions",
           "Data Engineer - Data Warehousing (SQL/Python) REF1478Z-German Speaking"
          ],
          [
           "Kensho",
           "Senior ML Engineer - NLP"
          ],
          [
           "ICEYE",
           "Senior Data Engineer"
          ],
          [
           "Roofstock",
           "Business Intelligence Analyst"
          ],
          [
           "Kalles Group",
           "Senior Consultant - Azure Data Engineer"
          ],
          [
           "Visa",
           "Director, Data Engineering"
          ],
          [
           "Aledade",
           "Business Intelligence Analytics Lead, (Permanent Remote)"
          ],
          [
           "Definitive Logic",
           "Data Engineer"
          ],
          [
           "Framestore",
           "Recruitment Data Analyst"
          ],
          [
           "Farfetch",
           "Data Analyst"
          ],
          [
           "Netcentric",
           "Senior Data Analyst"
          ],
          [
           "Inbox Business Technologies",
           "Data Scientist"
          ],
          [
           "Kitware",
           "Technical Leader of Computer Vision"
          ],
          [
           "Bosch Group",
           "AI Product Owner - Manufacturing (f/m/div.)"
          ],
          [
           "Flexport",
           "Senior Data Scientist"
          ],
          [
           "Withings",
           "Stage - NLP Engineer (H/F)"
          ],
          [
           "Syngenta Group",
           "Machine Learning Ops Specialist"
          ],
          [
           "Moloco",
           "Machine Learning Engineer"
          ],
          [
           "Moloco",
           "Manager of Growth Data Science"
          ],
          [
           "NielsenIQ",
           "Customer Success & Insight Analyst"
          ],
          [
           "TripAdvisor",
           "Senior Product Manager - Machine Learning"
          ],
          [
           "Trusting Social",
           "Data Scientist (Customer Acquisition)"
          ],
          [
           "Syngenta Group",
           "IT Data Engineer"
          ],
          [
           "ServiceNow",
           "Staff Research Scientist/Engineer - ATG"
          ],
          [
           "Capco",
           "Analista de Sistemas | Foco em Power BI e SharePoint"
          ],
          [
           "Canva",
           "Staff Applied Scientist (Open to remote across ANZ)"
          ],
          [
           "Fivesky",
           "Data Specialist - Governance"
          ],
          [
           "Calendly",
           "Senior Data Engineer"
          ],
          [
           "NielsenIQ",
           "Data Scientist"
          ],
          [
           "CarGurus",
           "Manager, Product Data Analytics"
          ],
          [
           "Tecsa",
           "Data Scientist"
          ],
          [
           "Amazon.com",
           "Applied Scientist II, AWS AI"
          ],
          [
           "Relativity",
           "Senior Robotics Engineer"
          ],
          [
           "Western Digital",
           "Scientist 1, Data Science"
          ],
          [
           "Visa",
           "Senior Data Engineer"
          ],
          [
           "Palo Alto Networks",
           "Research Engineering Manager, Unit 42 (Remote)"
          ],
          [
           "Fannie Mae",
           "People Analytics Data Visualization Senior Associate (Open to Remote)"
          ],
          [
           "SpotOn",
           "Senior Data Analyst"
          ],
          [
           "Block",
           "Business Intelligence Engineering Manager"
          ],
          [
           "Neuralink",
           "Software Engineer, Robotics"
          ],
          [
           "Neo Cybernetica",
           "AI Research Engineer"
          ],
          [
           "Snowflake Inc.",
           "Staff Software Engineer - Streaming Data Pipelines"
          ],
          [
           "Visa",
           "Sr. Data Engineer - (Java + Spark)"
          ],
          [
           "Bosch Group",
           "Data Scientist eBike Systems (f/m/div.)"
          ],
          [
           "Publicis Groupe",
           "Associate Director, Business Intelligence"
          ],
          [
           "Faire Wholesale, Inc.",
           "Senior Data Scientist - Retailer"
          ],
          [
           "Moloco",
           "Senior Data Scientist, Core"
          ],
          [
           "Chime",
           "Senior/Lead Data Scientist"
          ],
          [
           "Alation, Inc.",
           "Data Engineer"
          ],
          [
           "Next Phase",
           "ESRD Data Analyst and Program/Technical Specialist (Contract Contingent)"
          ],
          [
           "2K",
           "Staff Data Scientist"
          ],
          [
           "Focal Systems",
           "AI/ML Data Labeling Manager - UK"
          ],
          [
           "Mondia Group",
           "Data Scientist (Job Ref:1823)"
          ],
          [
           "Coniq",
           "Data Analyst"
          ],
          [
           "Mixpanel",
           "Data Scientist"
          ],
          [
           "KPI Solutions",
           "Data Analyst I"
          ],
          [
           "Carousell Group",
           "Senior Data Engineer"
          ],
          [
           "GRAIL",
           "Staff Bioinformatics Scientist - Machine Learning/Classifier Research and Development #2802 (Seattle)"
          ],
          [
           "Business & Decision",
           "Consultant(e) Power BI"
          ],
          [
           "Decision Foundry",
           "Data Engineer"
          ],
          [
           "Publicis Groupe",
           "Data Engineer Specialist"
          ],
          [
           "Netcentric",
           "Data Analyst (Reporting and Insights)"
          ],
          [
           "BusPatrol",
           "Data Analyst"
          ],
          [
           "QuintoAndar",
           "Machine Learning Engineer"
          ],
          [
           "Verisk",
           "Junior/Mid Data Analyst"
          ],
          [
           "ServiceNow",
           "Sr Staff Applied Research Scientist - ATG Core LLM Team"
          ],
          [
           "Axiom",
           "Data Engineer"
          ],
          [
           "SSENSE",
           "Data Analyst, Customer Experience"
          ],
          [
           "Natera",
           "Clinical Data Reporter"
          ],
          [
           "Dynatrace",
           "Senior Data Modeler"
          ],
          [
           "Publicis Groupe",
           "Senior Data Analyst"
          ],
          [
           "SOPHiA GENETICS",
           "Data Engineer-Operations"
          ],
          [
           "Business & Decision",
           "Business/data analyst"
          ],
          [
           "Publicis Groupe",
           "Manager - DS-AI & Machine Learning"
          ],
          [
           "Medalogix",
           "Data Engineering Manager"
          ],
          [
           "LivePerson",
           "Senior Backend Software Engineer- Big Data Analytics"
          ],
          [
           "Mozilla",
           "Staff Product Manager, Machine Learning and Recommendations"
          ],
          [
           "Publicis Groupe",
           "Bilingual Data Analyst"
          ],
          [
           "Softeta",
           "Data Analyst"
          ],
          [
           "Verisk",
           "Senior Data Developer AWS Redshift"
          ],
          [
           "SumUp",
           "Analytics Engineer - Consumer & Order and Pay"
          ],
          [
           "Blue Orange Digital",
           "Sr. Data Engineer (Remote)"
          ],
          [
           "Rokt",
           "Staff Machine Learning Engineer, Entity Understanding - NYC"
          ],
          [
           "SIXT",
           "(Senior) Director Data Science for Pricing / Yield Management & Data Science Lead Team Portugal (m/f/d)"
          ],
          [
           "Focal Systems",
           "AI/ML Data Labeling Manager - US"
          ],
          [
           "Allegro",
           "Data Scientist (S&OP)"
          ],
          [
           "Treatwell",
           "Head of Data"
          ],
          [
           "Bosch Group",
           "[EA] AI Tech Lead (Artificial Intelligence)"
          ],
          [
           "Checkout.com",
           "Data Engineer - Data Platform"
          ],
          [
           "OUTsurance",
           "Finance Data Analyst"
          ],
          [
           "Intuition Machines",
           "Senior MLOps Engineer"
          ],
          [
           "ServiceNow",
           "Sr SRE/DevOps Engineer (AI & Machine Learning)"
          ],
          [
           "CleverConnect",
           "Data Analyst - Stage de fin d'études - Paris 2e"
          ],
          [
           "Dailymotion",
           "Business Data Analyst - Dailymotion Advertising (All Genders)"
          ],
          [
           "CRI Group",
           "Data Scientist - 4365"
          ],
          [
           "HelloSelf",
           "Data Analyst"
          ],
          [
           "Kambi",
           "Data Engineer  Data Lake"
          ],
          [
           "NielsenIQ",
           "Engineer- Data Engineer"
          ],
          [
           "Bosch Group",
           "PreMaster Programm - Big Data (Analytics)"
          ],
          [
           "ServiceNow",
           "Sr AI Solution Developer (ServiceNow Developer)"
          ],
          [
           "Block",
           "Senior Software Engineer, Data Safety"
          ],
          [
           "Lyra Health",
           "Sr. Business Intelligence Analyst"
          ],
          [
           "Acin",
           "Data Scientist"
          ],
          [
           "CERN",
           "Big Data Engineer (IT-DA-DS-2023-76-LD)"
          ],
          [
           "GRAIL",
           "Staff Bioinformatics Scientist - Machine Learning/Classifier Research and Development #2802 (San Diego)"
          ],
          [
           "Deutsche Telekom IT Solutions",
           "Senior Expert BigData & AI Public Cloud (m/w/d) - Open Telekom Cloud REF1768P"
          ],
          [
           "Publicis Groupe",
           "Data Scientist"
          ],
          [
           "Publicis Groupe",
           "BI Developer"
          ],
          [
           "dentsu international",
           "Senior Data Analyst"
          ],
          [
           "WWC Global",
           "Data Analyst (DEA)"
          ],
          [
           "Chime",
           "Lead Software Engineer, Machine Learning Platform"
          ],
          [
           "Habitat Learn Inc",
           "AI Engineer"
          ],
          [
           "insightsoftware",
           "Product Owner with Tableau/Power BI(6 to 10 years)"
          ],
          [
           "Scorpion Therapeutics",
           "Associate Director/Director of Chemical Data Analytics"
          ],
          [
           "myAgro",
           "Data Analytics Manager"
          ],
          [
           "OneGlobe",
           "Data Architect"
          ],
          [
           "Deliveroo",
           "Senior Analytics Engineer"
          ],
          [
           "Connexity",
           "Data Engineer"
          ],
          [
           "Definitive Logic",
           "Senior Data Engineer -REMOTE"
          ],
          [
           "Metiora",
           "Data Scientist Senior"
          ],
          [
           "Charger Logistics Inc",
           "Transportation Data Analyst Coordinator"
          ],
          [
           "KPMG Australia",
           "Director | Master Data Management Delivery Lead| Data & Cloud - NV1 Clearance"
          ],
          [
           "AVIV Group",
           "Business Intelligence Analyst"
          ],
          [
           "ClassPass",
           "Senior Data Analyst, International"
          ],
          [
           "Creditas",
           "Data Engineer Pleno"
          ],
          [
           "Amazon.com",
           "Data Engineer, Customer Experience and Business Trends"
          ],
          [
           "Unifonic",
           "Machine Learning Engineer"
          ],
          [
           "Sportradar",
           "Trading BI Developer"
          ],
          [
           "Stability AI",
           "AI Compiler and Performance Engineer"
          ],
          [
           "Bosch Group",
           "2023 POWER BI MSBI Developer BD/XAI COB"
          ],
          [
           "Lynx Analytics",
           "Senior Data Engineer"
          ],
          [
           "Tubi",
           "Data Scientist"
          ],
          [
           "Course Hero",
           "Staff Data Scientist, Strategic Planning & Forecasting"
          ],
          [
           "Inbox Business Technologies",
           "Big Data Specialist"
          ],
          [
           "SESAMm",
           "Data Scientist (M/F)"
          ],
          [
           "BeyondTrust",
           "Data Engineer"
          ],
          [
           "CybelAngel",
           "Senior Data Engineer"
          ],
          [
           "CleverConnect",
           "Data Engineer - Stage de fin d'études - Paris 2e"
          ],
          [
           "Fable Data",
           "Data Scientist (Mid Level)"
          ],
          [
           "Zscaler",
           "Sr Staff DevOps - Terraform, Kubernetes, CI/CD, Spark / Kafka, Linux, Scripting"
          ],
          [
           "Nextdoor",
           "Staff Machine Learning Engineer - Ads"
          ],
          [
           "Riverside Research",
           "Senior Data Scientist"
          ],
          [
           "Samsung Research America",
           "Engineer, Computer Vision"
          ],
          [
           "Sigma Defense",
           "CNSP Surface Force Training Requirements & Data Analyst"
          ],
          [
           "matchpoint solutions",
           "ETL Developer - Remote (USC, GC, GC EAD)"
          ],
          [
           "Lynx Analytics",
           "Data Engineer (Hong Kong)"
          ],
          [
           "OneGlobe",
           "Data Engineer with Top Secret"
          ],
          [
           "84.51°",
           "Senior Data Scientist (P3485)"
          ],
          [
           "Jetty",
           "Data & Analytics Engineer"
          ],
          [
           "Visa",
           "Senior Data Scientist"
          ],
          [
           "Samsung Research America",
           "Engineer, Computer Vision and Graphics"
          ],
          [
           "Freenome",
           "Senior Clinical Data Manager"
          ],
          [
           "Truebill, Inc.",
           "Senior Machine Learning Engineer"
          ],
          [
           "Learnlight",
           "Python AI Developer (Remote)"
          ],
          [
           "Coinbase",
           "Senior Staff Software Engineer, Machine Learning"
          ],
          [
           "Ada",
           "Senior Backend Engineer, Applied Machine Learning"
          ],
          [
           "Uni Systems",
           "Oracle Data Analyst"
          ],
          [
           "Pagaya",
           "Senior Data Scientist"
          ],
          [
           "Snyk",
           "Staff Data Engineer (Snowflake / Kafka)"
          ],
          [
           "Blind",
           "VP of Data Science and Analytics"
          ],
          [
           "Block",
           "Business Intelligence Analyst - Risk"
          ],
          [
           "Flagship Pioneering, Inc.",
           "Senior Scientist, Machine Learning"
          ],
          [
           "YouGov",
           "Graduate Data Engineer"
          ],
          [
           "Datadog",
           "Engineering Manager 1 - Data Engineering Developer Experience"
          ],
          [
           "Amazon.com",
           "Applied Scientist II, Amazon Search"
          ],
          [
           "Workable",
           "Machine Learning Engineer"
          ],
          [
           "Entrupy",
           "Lead Engineer, MLOps Platform"
          ],
          [
           "DiDi Labs",
           "Machine Learning Engineer - Simulation"
          ],
          [
           "Array",
           "Business Intelligence Manager"
          ],
          [
           "Canonical Ltd.",
           "Workplace Analytics Engineer"
          ],
          [
           "Course Hero",
           "Senior Data Scientist - Monetization"
          ],
          [
           "Riskified",
           "Data Analyst"
          ],
          [
           "EnCharge AI",
           "Artificial Intelligence Software Library Technical Lead"
          ],
          [
           "komoot",
           "Senior Analytics Engineer"
          ],
          [
           "Inbox Business Technologies",
           "Business Intelligence (BI) Engineer"
          ],
          [
           "EMW, Inc.",
           "NATOIS-0008 Data Scientist (NS) - TUE 13 Jun"
          ],
          [
           "Previse",
           "Senior Data Engineer"
          ],
          [
           "Atheneum",
           "Business Intelligence Analyst"
          ],
          [
           "Zipdev",
           "Mid/Sr Machine Learning Engineer"
          ],
          [
           "ThoughtSpot",
           "Staff Software Engineer - Machine Learning"
          ],
          [
           "Similarweb",
           "Data Analyst - Core Data"
          ],
          [
           "Checkr",
           "Senior Staff BI Analyst"
          ],
          [
           "Symbl.ai",
           "Machine Learning Engineer"
          ],
          [
           "Clarity AI",
           "ESG Data Operations Senior Manager"
          ],
          [
           "Metyis",
           "Business Intelligence Analyst"
          ],
          [
           "Sigma Defense",
           "TTGP Fleet Data Manager/Senior JICO"
          ],
          [
           "QueryClick",
           "Data Analyst - Contract - 1 day a week"
          ],
          [
           "Neara",
           "Lead Machine Learning Engineer"
          ],
          [
           "PayMongo",
           "Data Engineer"
          ],
          [
           "Bitquery",
           "ML Engineer"
          ],
          [
           "Credible",
           "Data Scientist"
          ],
          [
           "EnCharge AI",
           "Artificial Intelligence Hardware Architect (Senior Hardware Architect)"
          ],
          [
           "Deliveroo",
           "Senior Analytics Engineer - Data Engineer"
          ],
          [
           "Amazon.com",
           "Data Analytics Manager, SPEAR Operations Support & Services (OS2)"
          ],
          [
           "Coinbase",
           "Senior Data Scientist"
          ],
          [
           "Nuro, Inc.",
           "Senior Software Engineer, Perception, Machine Learning/Computer Vision"
          ],
          [
           "DiDi Labs",
           "Machine Learning Engineer - Intelligent Safety"
          ],
          [
           "EnCharge AI",
           "Artificial Intelligence Compiler Engineer (Software Engineer)"
          ],
          [
           "Airbnb",
           "Senior Data Engineer, Marketing Data"
          ],
          [
           "EnCharge AI",
           "AI Algorithms - Hardware Codesign Lead (Senior AI Software Engineer)"
          ],
          [
           "ServiceNow",
           "Staff Product Designer, AI/ML"
          ],
          [
           "Bosch Group",
           "Simulation and Data Engineer Inductive Sensors (m/f)"
          ],
          [
           "Western Digital",
           "Senior Engineer, Data Management Engineering"
          ],
          [
           "Nearmap",
           "Senior Data Scientist"
          ],
          [
           "Publicis Groupe",
           "Senior Data Scientist"
          ],
          [
           "matchpoint solutions",
           "Data Analyst (JIRA & Azure DevOps or HP ALM) - Remote"
          ],
          [
           "Publicis Groupe",
           "Vice President Data Science, Real World Data Lead"
          ],
          [
           "Experian",
           "Data Engineer Specialist"
          ],
          [
           "CleverConnect",
           "Data Engineer / Data Analyst - Stage de fin d'études - Paris 2e (H/F)"
          ],
          [
           "Publicis Groupe",
           "Analyst, Data Science"
          ],
          [
           "Wolt",
           "Engineering Team Lead, Data Modelling"
          ],
          [
           "Publicis Groupe",
           "Manager, Data Engineering"
          ],
          [
           "Publicis Groupe",
           "Analyst, Data Engineering"
          ],
          [
           "Leidos",
           "Junior Data Analyst"
          ],
          [
           "Publicis Groupe",
           "Associate Director, Data Science"
          ],
          [
           "Procore Technologies",
           "Staff Data Engineer"
          ],
          [
           "Etsy",
           "Data Scientist, Product Analytics"
          ],
          [
           "ALTEN",
           "Cloud/Data Engineer"
          ],
          [
           "Netcompany-Intrasoft",
           "Data Engineer"
          ],
          [
           "Zscaler",
           "Senior Staff/ Staff Engineer(Python | Spark | Delta Lake | GraphDB | Machine Learning)"
          ],
          [
           "Deutsche Telekom IT Solutions",
           "Team Leader - Data Engineering (REF462H)"
          ],
          [
           "AUTO1 Group",
           "Mid Data Scientist (f/m/x), Remote (EU) / Berlin"
          ],
          [
           "Netcompany",
           "Data Management Consultant"
          ],
          [
           "Publicis Groupe",
           "Senior Data Manager, Product Owner"
          ],
          [
           "Publicis Groupe",
           "Director of Delivery, Data Operations"
          ],
          [
           "Oxfam America",
           "Analytics Engineer"
          ],
          [
           "Brainlab",
           "(Senior) Machine Learning Engineer  Video Analysis"
          ],
          [
           "Publicis Groupe",
           "Senior Data Architect"
          ],
          [
           "Publicis Groupe",
           "Data Engineer 2"
          ],
          [
           "Nets",
           "Student Assistant for Data Management (m/f/d)"
          ],
          [
           "Verisk",
           "Data Analyst"
          ],
          [
           "Block",
           "Data Scientist, Risk"
          ],
          [
           "Locus Robotics",
           "Customer Success Support Specialist (Remote Technical Support, Robotics) - U.S."
          ],
          [
           "Remitly",
           "Principal Data Scientist (Seattle or U.S. Remote)"
          ],
          [
           "Leidos",
           "Data Engineer - ETL"
          ],
          [
           "Bosch Group",
           "Market & Business Intelligence Graduate"
          ],
          [
           "PA Consulting",
           "Data Scientist"
          ],
          [
           "Perceptyx",
           "Product Data Analyst"
          ],
          [
           "Matroid",
           "Full Stack Engineer for Computer Vision Products"
          ],
          [
           "84.51°",
           "Senior Data Scientist (P3186)"
          ],
          [
           "Cruise LLC",
           "Senior Machine Learning Engineer, Perception"
          ],
          [
           "Sportradar",
           "Senior Data Engineer (m/f/d)"
          ],
          [
           "Flexport",
           "Senior Data Analyst, Engineering Excellence"
          ],
          [
           "Visa",
           "Business Intelligence Analytics Manager"
          ],
          [
           "Groupe Hospitalier Paris Saint Joseph",
           "Architecte DATA - Décisionnel et Entrepôt Données Santé - Data Architect"
          ],
          [
           "carsales",
           "Data Analyst"
          ],
          [
           "Pindrop",
           "Staff Research Engineer (REQ #R273)"
          ],
          [
           "Extreme Networks",
           "Senior Machine Learning Scientist"
          ],
          [
           "Publicis Groupe",
           "Director, Data Engineering"
          ],
          [
           "Boldr",
           "Data Analyst"
          ],
          [
           "SMRS",
           "Data Scientist"
          ],
          [
           "Verisk",
           "Senior Data Analyst"
          ],
          [
           "Audigent",
           "Senior Data Engineer"
          ],
          [
           "Extreme Networks",
           "Senior Data Engineer"
          ],
          [
           "Lyft",
           "Data Scientist, In-car Ads"
          ],
          [
           "Funding Societies",
           "Lead Data Analyst"
          ],
          [
           "CI&T",
           "[Job-10530] Senior Data Developer, Brazil"
          ],
          [
           "Matroid",
           "Deep Learning Field Engineer"
          ],
          [
           "HolonIQ",
           "Data Analyst - Spanish Speaker"
          ],
          [
           "insightsoftware",
           "Data Engineer II"
          ],
          [
           "Capco",
           "Data stage ETL"
          ],
          [
           "Block",
           "Software Engineer, Data Streaming Platform"
          ],
          [
           "Sertis",
           "Data Analyst Tech Lead"
          ],
          [
           "Coupang",
           "[??] ????? ??? (Data Specialist / ???)"
          ],
          [
           "Publicis Groupe",
           "Manager, Business Intelligence"
          ],
          [
           "Wise",
           "Knowledge Management Data Specialist"
          ],
          [
           "Loblaw Digital",
           "Machine Learning Engineer, Fulfillment / Supply Chain"
          ],
          [
           "Freeform",
           "Senior Software Engineer (Data Pipeline)"
          ],
          [
           "Paytm",
           "Data Engineer - Technical Lead"
          ],
          [
           "Believe",
           "Senior Data engineer (H/F)"
          ],
          [
           "Publicis Groupe",
           "Analyst, Business Intelligence"
          ],
          [
           "Brightspeed",
           "IT Manager, Advanced Business Intelligence"
          ],
          [
           "Checkout.com",
           "Revenue Operations Data Analyst"
          ],
          [
           "Sia Partners",
           "Data Science Manager"
          ],
          [
           "Cleo AI Ltd",
           "Engineering Manager - Core ML & Chatbot"
          ],
          [
           "ZFX",
           "Data Engineer (CRYPTO)"
          ],
          [
           "Aledade",
           "Associate Data Analyst (Permanent Remote)"
          ],
          [
           "Flexport",
           "Economist, Pricing and Causal Inference"
          ],
          [
           "IXL Learning",
           "Customer Data Specialist"
          ],
          [
           "Wayfair Inc.",
           "Senior Manager, Personalization Machine Learning Science"
          ],
          [
           "Verisk",
           "Senior Research Analyst- Corporate Research Team"
          ],
          [
           "IMT",
           "Assistant/Associate Professor in Embedded Artificial Intelligence  at Télécom Paris - CDI"
          ],
          [
           "Diligent Corporation",
           "Senior Data Scientist"
          ],
          [
           "carsales",
           "Senior Vehicle Data Analyst"
          ],
          [
           "KPMG Australia",
           "Consultant | Data Analyst | KPMG Futures"
          ],
          [
           "Evolution",
           "Software Developer in Data Science Team"
          ],
          [
           "PostEra",
           "DataOps Engineer"
          ],
          [
           "Lamini",
           "Machine Learning Systems Engineer"
          ],
          [
           "Sutherland",
           "Software Engineer - C++ Qt QML Development"
          ],
          [
           "Teramind",
           "Machine Learning Engineer"
          ],
          [
           "Energy Aspects Ltd",
           "Data Engineer - Kolkata"
          ],
          [
           "C3.ai",
           "AI Solution Manager/Senior AI Solution Manager"
          ],
          [
           "Tubi",
           "Senior Data Scientist"
          ],
          [
           "NielsenIQ",
           "BI Analyst  Based in Parsippany-Troy Hills, NJ"
          ],
          [
           "Block",
           "Data Scientist - Fraud Risk"
          ],
          [
           "Flagship Pioneering, Inc.",
           "Scientist/Sr. Scientist, Computational Biology"
          ],
          [
           "Guidewire Software",
           "Senior Data Analyst, Business Insights - US, Remote"
          ],
          [
           "Riot Games, Inc.",
           "Insight Analyst II"
          ],
          [
           "Bosch Group",
           "IN BGSW SystemTester Autonomoriving EXM 2023 (Cloe)"
          ],
          [
           "LoopMe",
           "Senior Machine Learning Engineer / Senior Python Developer"
          ],
          [
           "Believe",
           "Data Specialist"
          ],
          [
           "DAZN",
           "Data Analyst - CRM"
          ],
          [
           "Open",
           "Junior, Intermediate or Senior Data Analyst"
          ],
          [
           "3Cloud",
           "QA Data Engineer"
          ],
          [
           "EquipmentShare",
           "Financial Data Analyst"
          ],
          [
           "Docugami",
           "ML Engineer"
          ],
          [
           "Surprise.com",
           "Data Scientist"
          ],
          [
           "Instacart",
           "Data Operations Manager"
          ],
          [
           "PSI CRO",
           "Senior/Lead Data Manager"
          ],
          [
           "DoorDash",
           "Business Intelligence Engineer"
          ],
          [
           "Bitquery",
           "Data Quality Analyst/ Test Analyst"
          ],
          [
           "Tesco Technology",
           "Machine Learning Engineer"
          ],
          [
           "Publicis Groupe",
           "Data Architect"
          ],
          [
           "Neo Financial",
           "Senior Data Analytics Developer"
          ],
          [
           "AVIV Group",
           "Data Science Manager (m/f/d)"
          ],
          [
           "Vyro",
           "Senior Machine Learning Engineer"
          ],
          [
           "Moneyfarm",
           "Lead Data Engineer"
          ],
          [
           "Standard AI",
           "Senior Data Engineer, Analytics"
          ],
          [
           "Dropbox",
           "Senior Data Engineer, New Initiatives"
          ],
          [
           "Lyra Health",
           "Data Scientist - Product (U.S. only)"
          ],
          [
           "Shippeo",
           "Senior Data Engineer"
          ],
          [
           "M-KOPA",
           "Data Operations Analyst"
          ],
          [
           "Extreme Networks",
           "Senior Machine Learning Engineer"
          ],
          [
           "Sportradar",
           "BI Analyst"
          ],
          [
           "NielsenIQ",
           "Associate Data Analytics Manager(CPG)"
          ],
          [
           "Chainalysis",
           "Staff Product Data Analyst"
          ],
          [
           "Northbeam",
           "Data Scientist"
          ],
          [
           "Publicis Groupe",
           "Senior Manager Data Engineering - Houston (in office 2 days per week)"
          ],
          [
           "LivePerson",
           "Database Engineer(Elasticsearch/ OpenSearch)"
          ],
          [
           "Palo Alto Networks",
           "AI Architect, IT"
          ],
          [
           "Teramind",
           "Data Scientist"
          ],
          [
           "Facet",
           "Software Engineer - Machine Learning"
          ],
          [
           "Publicis Groupe",
           "Director, Data Science"
          ],
          [
           "Palo Alto Networks",
           "Principal Machine Learning Engineer"
          ],
          [
           "Inmarsat",
           "Senior Data Engineer"
          ],
          [
           "8x8, Inc.",
           "BI Development Lead - India"
          ],
          [
           "Visa",
           "Sr Business Analyst, Reporting & Data Analytics - (Workforce Planning) (Hybrid/Onsite)"
          ],
          [
           "Neo Financial",
           "Senior Data Engineering Developer"
          ],
          [
           "Believe",
           "Data Engineer (H/F)"
          ],
          [
           "Standard Bank Group",
           "Manager, Internal Audit - Lending Products, Credit and Models (CHNW)"
          ],
          [
           "Publicis Groupe",
           "Manager, Data Science"
          ],
          [
           "Oportun",
           "Sr. Data Scientist - ADS"
          ],
          [
           "Publicis Groupe",
           "Associate Director, Data Engineering"
          ],
          [
           "Cowbell",
           "Staff Data Engineer (Data Acquisition)"
          ],
          [
           "Netcentric",
           "(Senior) Digital Analytics Engineer"
          ],
          [
           "HolonIQ",
           "Data Analyst - Chinese Speaker"
          ],
          [
           "SGS",
           "Senior HR Systems & Data Analyst"
          ],
          [
           "Experfy Inc",
           "Data Warehouse BI Developer Lead"
          ],
          [
           "RVO Health",
           "Data Analyst 2 - Optum"
          ],
          [
           "Simple Machines",
           "Senior Data Engineer - Driven data platforms"
          ],
          [
           "Definitive Logic",
           "Senior Data Engineer"
          ],
          [
           "Snorkel AI",
           "Senior AI/ML Consultant (Federal)"
          ],
          [
           "Amazon.com",
           "Quality Assurance Engineer, Data Center Engineering"
          ],
          [
           "ABOUT YOU SE & Co. KG",
           "(Senior) Cloud Data Engineer (m/f/d)"
          ],
          [
           "ABOUT YOU SE & Co. KG",
           "(Senior) Cloud Data Engineer (m/w/d)"
          ],
          [
           "ProducePay",
           "Sr. Data Scientist"
          ],
          [
           "Wish",
           "Staff Software Engineer, Data Storage"
          ],
          [
           "Pleo",
           "Senior Analytics Engineer"
          ],
          [
           "Aledade",
           "Data Analyst, Medicare Advantage, Remote"
          ],
          [
           "Brightspeed",
           "Lead Business Intelligence Developer"
          ],
          [
           "Mujin Inc",
           "Senior Computer Vision Developer (C++, Python)"
          ],
          [
           "Procore Technologies",
           "Staff Data Scientist-2"
          ],
          [
           "Attractions.io",
           "Senior Data Engineer"
          ],
          [
           "Purple Carrot",
           "Senior Data Analyst - Marketing"
          ],
          [
           "Fannie Mae",
           "Business Intelligence  Data Engineer (Open to Remote)"
          ],
          [
           "AETOS",
           "Senior Consultant - Enterprise Business Intelligence and Data Analytics Solution Implementation"
          ],
          [
           "CapTech Consulting",
           "Lead Data Architect Consultant (AWS, Azure, GCP)"
          ],
          [
           "Roblox",
           "Principal Software Engineer, Applied ML"
          ],
          [
           "Roblox",
           "Senior Data Scientist- Creator Content"
          ],
          [
           "Bosch Group",
           "Data Analyst / Data Scientist eBike Systems (w/m/div.)"
          ],
          [
           "RoomRaccoon",
           "Data Engineer"
          ],
          [
           "Eurofins",
           "Entry Level Data Scientist"
          ],
          [
           "Tul",
           "Insights & Data Specialist (Growth)"
          ],
          [
           "Meritis",
           "Data Scientist (F/H)"
          ],
          [
           "NielsenIQ",
           "Senior Methods and Data Analyst"
          ],
          [
           "CCRi",
           "Project Manager: Customer Outreach (Data Science)"
          ],
          [
           "Wizard",
           "Senior Data Engineer"
          ],
          [
           "Lynx Analytics",
           "Data Scientist"
          ],
          [
           "Verily",
           "Clinical Data Manager/Analyst"
          ],
          [
           "Roblox",
           "Research Scientist"
          ],
          [
           "Block",
           "Senior Machine Learning Engineer, Financial Crimes"
          ],
          [
           "iwoca",
           "Senior Data Scientist - UK Ops"
          ],
          [
           "Lightspeed Commerce",
           "Data Analyst (Permanent Work from home)"
          ],
          [
           "Columbia University",
           "Pre-College Instructor, Big Data, Machine Learning & their Real World Applications (On-Campus) Summer 2023"
          ],
          [
           "Audiokinetic",
           "Spécialiste en science des données / Data Scientist"
          ],
          [
           "Octopus Energy",
           "Data Analyst (Pricing)"
          ],
          [
           "Roblox",
           "Senior Machine Learning Engineer, Communication Safety"
          ],
          [
           "Attractions.io",
           "Senior Data Scientist (Machine Learning)"
          ],
          [
           "Checkout.com",
           "Staff Data Engineer"
          ],
          [
           "NielsenIQ",
           "Senior Manager, Data Science"
          ],
          [
           "Enigma",
           "Staff Engineer, Data Infrastructure"
          ],
          [
           "Bionic Services Ltd",
           "Data Engineer"
          ],
          [
           "Roblox",
           "Principal Machine Learning Engineer- Economy"
          ],
          [
           "Amazon.com",
           "Principal Applied Scientist, SPeXSci"
          ],
          [
           "Airbnb",
           "Staff Data Engineer, Data Stewardship"
          ],
          [
           "3Pillar Global",
           "Senior Data Engineer"
          ],
          [
           "Nextdoor",
           "Head of Data Science and Analytics"
          ],
          [
           "dentsu international",
           "Modelling / Data Science - Lead Analyst - Analytics"
          ],
          [
           "Hello Heart",
           "Data Science Team Lead"
          ],
          [
           "Plantix",
           "Senior Geospatial Machine Learning Engineer (f/m/d)"
          ],
          [
           "Roblox",
           "Research Engineer - Research"
          ],
          [
           "Statkraft",
           "Data Scientist - Digitalization, Trading & Origination"
          ],
          [
           "Renaissance",
           "Data Integration Support Representative"
          ],
          [
           "NielsenIQ",
           "Data Analyst and BI Developer"
          ],
          [
           "Framestore",
           "Head of DataOps & Render Support"
          ],
          [
           "lastminute.com",
           "Frontend Developer (Chatbot)"
          ],
          [
           "Roblox",
           "Senior Data Scientist - Discovery Experiences"
          ],
          [
           "Publicis Groupe",
           "Director, Business Intelligence"
          ],
          [
           "Imagine.io",
           "Machine Learning/AI Engineer"
          ],
          [
           "Roblox",
           "Principal Machine Learning Engineer - Personalization"
          ],
          [
           "AppZen, Inc.",
           "Data Engineer"
          ],
          [
           "Meritis",
           "Data Engineer (F/H)"
          ],
          [
           "Verisk",
           "Data Engineer - ETL Developer"
          ],
          [
           "CapTech Consulting",
           "Data Architect Consultant (AWS, Azure, GCP)"
          ],
          [
           "Standard Bank Group",
           "Data Scientist"
          ],
          [
           "Marley Spoon",
           "Product Data Analyst - Experimentation"
          ],
          [
           "Roblox",
           "Senior Data Scientist - Creator Success"
          ],
          [
           "CGG",
           "Seismic Imaging Analyst"
          ],
          [
           "Aurora Innovation",
           "Staff Software Engineer, Datasets and ML infrastructure"
          ],
          [
           "Tubi",
           "Data Scientist II"
          ],
          [
           "Nine",
           "Data Analytics and Insights Analyst"
          ],
          [
           "dentsu international",
           "Senior Data Engineer"
          ],
          [
           "NielsenIQ",
           "Associate Client Manager -  Retail Business Intelligence"
          ],
          [
           "Fannie Mae",
           "People Analytics Senior Data Analyst (Remote)"
          ],
          [
           "Celonis",
           "Front End Developer Angular (AI/ML)"
          ],
          [
           "Intevity",
           "Senior Developer - Data Engineer (AWS/Node/Typescript)"
          ],
          [
           "Veeva Systems",
           "Data Product Manager - SafeMine Cloud"
          ],
          [
           "Block",
           "Senior Platform Data Engineer, People Analytics"
          ],
          [
           "Genetec",
           "Business Intelligence Analyst / Analyste BI"
          ],
          [
           "Coupang",
           "Security Engineer, Data Security"
          ],
          [
           "OUTsurance",
           "Data Engineer"
          ],
          [
           "Western Digital",
           "Power BI Data Analyst"
          ],
          [
           "OpenAI",
           "Software Engineer, ChatGPT Product Backend"
          ],
          [
           "Roblox",
           "Principal Deep Learning Engineer - Computer Vision"
          ],
          [
           "Dream Sports",
           "Data Analyst"
          ],
          [
           "Rest",
           "Information Security & Data Management Trainer"
          ],
          [
           "Roblox",
           "Principal Software Engineer, Data Engineering"
          ],
          [
           "Believe",
           "HR Data Analyst (H/F)"
          ],
          [
           "Bosch Group",
           "PreMaster Programm - Data Analytics and Visualization"
          ],
          [
           "Amazon.com",
           "Electrical Design Engineer, Data Center Design Engineering"
          ],
          [
           "Publicis Groupe",
           "BI Developer, Analytics"
          ],
          [
           "Publicis Groupe",
           "Data Engineer"
          ],
          [
           "Block",
           "Senior Product Manager, Data Infrastructure"
          ],
          [
           "Meritis",
           "Développeur.se Big Data (F/H)"
          ],
          [
           "Hubtype",
           "Data Scientist"
          ],
          [
           "Amazon.com",
           "Data Scientist I, SDO Privacy - PDC team"
          ],
          [
           "Halvik",
           "Senior Data Architect"
          ],
          [
           "PartnerRe",
           "Data Analyst (Dublin or Paris)"
          ],
          [
           "PSI CRO",
           "Clinical Data Manager"
          ],
          [
           "Vericast",
           "Staff Software Engineer II-Big Data (REMOTE)"
          ],
          [
           "Qualtrics",
           "Applied Scientist - Reinforcement Learning and Foundation Models"
          ],
          [
           "CLEAR",
           "Principal Data Engineer"
          ],
          [
           "OpenAI",
           "Software Engineer, ChatGPT Product Development"
          ],
          [
           "NBCUniversal",
           "Principal Data Scientist (Deep Learning)"
          ],
          [
           "Visa",
           "Staff Data Engineer"
          ],
          [
           "Lyft",
           "Senior/Lead Data Scientist"
          ],
          [
           "YouGov",
           "Data Analyst"
          ],
          [
           "Vivid Seats",
           "Lead Data Engineer"
          ],
          [
           "CITECH",
           "Ingénieur Data / Power BI (H/F)"
          ],
          [
           "Mondia Group",
           "Data Engineer (Job Ref: 1769)"
          ],
          [
           "Fastly, Inc.",
           "Senior People Data Analyst"
          ],
          [
           "Argyle",
           "Data Quality QA Engineer"
          ],
          [
           "Airtable",
           "Data Scientist, Analytics"
          ],
          [
           "Clear Street Markets",
           "Business Data Analyst"
          ],
          [
           "Strive Health",
           "Sr. Director, Data Science"
          ],
          [
           "TripAdvisor",
           "Machine Learning Scientist II"
          ],
          [
           "Tesco Bengaluru",
           "Lead-Business Intelligence&Data Warehousing"
          ],
          [
           "Cruise LLC",
           "Staff Software Engineer, Machine Learning Infrastructure"
          ],
          [
           "TetraScience",
           "Director, Data Engineering"
          ],
          [
           "ServiceNow",
           "Sr Machine Learning Engineer"
          ],
          [
           "Amazon.com",
           "Senior Business Intelligence Engineer, DSP BI"
          ],
          [
           "Drest",
           "Junior Business Intelligence Analyst"
          ],
          [
           "Amazon.com",
           "Data Analyst, Fulfillment Network Planning"
          ],
          [
           "ConsumerAffairs",
           "Research Analyst"
          ],
          [
           "Wise Technical Ltd",
           "Power BI Specialist"
          ],
          [
           "Visa",
           "Data Science Manager"
          ],
          [
           "Roblox",
           "Senior Data Scientist - Social Communications"
          ],
          [
           "Lemonade Finance",
           "Senior Business Intelligence Engineer"
          ],
          [
           "Netcentric",
           "Digital Analytics Engineer"
          ],
          [
           "Verisk",
           "Data Engineer (Enterprise Master Data Management)"
          ],
          [
           "Block",
           "Behavioral Insights Fraud Data Analyst"
          ],
          [
           "NielsenIQ",
           "Entry Level (Recent Tech Grads) Business Intelligence Analyst  Parsippany-Troy Hills, NJ"
          ],
          [
           "AllTrails",
           "Data Engineer, Machine Learning (Remote)"
          ],
          [
           "Synthego",
           "Data Scientist"
          ],
          [
           "Vosker",
           "Data Analyst, Business Optimisation"
          ],
          [
           "EUROPEAN DYNAMICS",
           "Data Visualization Specialist"
          ],
          [
           "ALTEN",
           "Data Engineer Scala / Java (spark)"
          ],
          [
           "EquipmentShare",
           "Senior Data Scientist"
          ],
          [
           "Visa",
           "Staff Data Engineer (Actimize AIS)"
          ],
          [
           "Databricks",
           "Staff Data Scientist"
          ],
          [
           "Bosch Group",
           "Robotics Software Developer (multiple positions) - [BGSW]"
          ],
          [
           "Adevinta",
           "Staff Data Engineer"
          ],
          [
           "MONDIAL RELAY",
           "Data Product Owner H/F"
          ],
          [
           "Pattern",
           "Artificial Intelligence Engineer"
          ],
          [
           "Databricks",
           "Data Engineer"
          ],
          [
           "Agoda",
           "Senior Data Analyst (Bangkok Based, Relocation Provided)"
          ],
          [
           "Rec Room",
           "Senior Applied Scientist"
          ],
          [
           "Block",
           "Senior Data Scientist, Afterpay Product"
          ],
          [
           "Bosch Group",
           "(Senior) Automotive Research Engineer for Cloud Computing (m/w/d)"
          ],
          [
           "Spectrum Effect",
           "Wireless Communication Data Scientist"
          ],
          [
           "Bear Robotics",
           "Bear Robotics"
          ],
          [
           "Strive Health",
           "Sr. Data Analyst (Partner Analytics)"
          ],
          [
           "Eleos Health",
           "DevOPS/ MLOPs Engineer"
          ],
          [
           "Justworks, Inc.",
           "Senior Manager, Data Science"
          ],
          [
           "MyFitnessPal",
           "Data Engineer 2"
          ],
          [
           "Meritis",
           "Data Engineer (H/F)"
          ],
          [
           "Sezzle",
           "Compliance Data Analyst"
          ],
          [
           "Flagship Pioneering, Inc.",
           "Engineer I, Machine Learning"
          ],
          [
           "Informa Group Plc.",
           "Senior Data Architect"
          ],
          [
           "Forter",
           "Engineering Manager, ML Platform"
          ],
          [
           "AKASA Inc.",
           "Senior Machine Learning Engineer"
          ],
          [
           "Sportradar",
           "Computer Engineer, Computer Vision Hardware (MID//SR)-m/f/d"
          ],
          [
           "Verisk",
           "Senior Research Analyst - LNG Short Term"
          ],
          [
           "StubHub",
           "Data Analyst - Customer Acquisition"
          ],
          [
           "Vuori, Inc",
           "Senior BI Analyst"
          ],
          [
           "Geotab Inc.",
           "Data Operations Development Team Lead"
          ],
          [
           "ALTEN",
           "Data Engineer - Concepteur - Développeur SQL - BigL"
          ],
          [
           "CI&T",
           "[Job-10533] Senior, Data Developer Python/Spark, Brazil"
          ],
          [
           "Agriaku",
           "Lead Data Analyst"
          ],
          [
           "Veeva Systems",
           "Senior Data Product Manager - Link Key People"
          ],
          [
           "Faire Wholesale, Inc.",
           "Senior Data Scientist - Search & Recommendation"
          ],
          [
           "Insite AI",
           "Lead Data Engineer"
          ],
          [
           "PlayStation Global",
           "Machine Learning Engineer (Master's/PhD)"
          ],
          [
           "Verisk",
           "Research Analyst  LNG Short-Term"
          ],
          [
           "Amazon.com",
           "Applied Scientist, Automated Reasoning Group for Healthcare and Payments Security"
          ],
          [
           "Altana AI",
           "Senior Implementation Data Scientist"
          ],
          [
           "Dun & Bradstreet",
           "Data Engineer I (R-14521)"
          ],
          [
           "Hitachi Solutions",
           "Databricks - SONY"
          ],
          [
           "Visa",
           "Senior Manager, Data Science"
          ],
          [
           "BandLab Technologies",
           "Data Engineer (MIDI and Audio)"
          ],
          [
           "Sportradar",
           "Computer Engineer, Computer Vision Hardware (MID//SR)"
          ],
          [
           "Unit4",
           "Senior Cloud Data Scientist (FinOps)"
          ],
          [
           "Angi",
           "Lead Data Scientist - Pricing"
          ],
          [
           "Farfetch",
           "Business Intelligence Analyst"
          ],
          [
           "Valerann",
           "Computer Vision Engineer"
          ],
          [
           "PlayStation Global",
           "Machine Learning Engineer"
          ],
          [
           "Block",
           "Senior Product Manager, Data Infrastructure and ML"
          ],
          [
           "Datadog",
           "Senior Software Engineer - Data Infrastructure"
          ],
          [
           "Snorkel AI",
           "Staff Applied Research Scientist"
          ],
          [
           "Uni Systems",
           "Machine Learning Engineer"
          ],
          [
           "Pure Storage",
           "Data Scientist"
          ],
          [
           "Nextdoor",
           "Principal Machine Learning Engineer - Core Infrastructure"
          ],
          [
           "Altana AI",
           "Implementation Data Scientist"
          ],
          [
           "NielsenIQ",
           "Methods and Data Analyst"
          ],
          [
           "Stripe",
           "Machine Learning Engineer, Payments ML Accelerator"
          ],
          [
           "TeamViewer",
           "Operations Transformation Manager (all genders) with Focus on Chat/Chatbot"
          ],
          [
           "Eurofins",
           "Business Intelligence Lead/Specialist"
          ],
          [
           "Innovaccer",
           "Data Scientist"
          ],
          [
           "TrustEngine",
           "Lead Data Engineer"
          ],
          [
           "EVYD Technology",
           "Senior Manager, Product Ops (Business Intelligence)"
          ],
          [
           "Palo Alto Networks",
           "Sr Principal Machine Learning Engineer"
          ],
          [
           "Ozow",
           "Senior Data Analyst"
          ],
          [
           "Statistics & Data Corporation (SDC)",
           "Manager, Clinical Data Management"
          ],
          [
           "AllTrails",
           "Senior Data Scientist, ML and Algorithms (Remote)"
          ],
          [
           "SWORD Health",
           "Senior ML Engineer (Portugal Based Remote/Hybrid)"
          ],
          [
           "Bluevine",
           "Senior Data Engineer"
          ],
          [
           "Checkout.com",
           "Data Scientist"
          ],
          [
           "Agoda",
           "Data Analyst (Bangkok Based, Relocation Provided)"
          ],
          [
           "Skan",
           "Sr. Big Data Engineer"
          ],
          [
           "LivePerson",
           "Senior Product Manager  (AI & Automation)"
          ],
          [
           "Stripe",
           "Staff ML Engineer, Conversion"
          ],
          [
           "Zscaler",
           "Data Engineer / Machine Learning Engineer - Spark, ETL, Pre-Processing, Pipeline, Machine Learning"
          ],
          [
           "Talan",
           "Consultant Data Analytics IT Digital Impulse - H/F"
          ],
          [
           "Publicis Groupe",
           "Data Analyst Trainee"
          ],
          [
           "Level AI",
           "Machine Learning Engineer (Speech) - AI (Remote,India)"
          ],
          [
           "Causaly",
           "Data Science Engineer"
          ],
          [
           "Welocalize",
           "Data Analytics Specialist"
          ],
          [
           "EVYD Technology",
           "Director, Data Science (Engagement)"
          ],
          [
           "Wolt",
           "Senior Data Analyst (Merchant)"
          ],
          [
           "Talan",
           "Tech Lead BI / Power BI CDI - H/F"
          ],
          [
           "Forter",
           "Data Science Manager"
          ],
          [
           "ATB Financial",
           "Data Analyst"
          ],
          [
           "Talan",
           "Talan Consulting  Consultant Senior/Manager  Data Strategy (H/F)"
          ],
          [
           "Bosch Group",
           "Senior Cloud DevOps Engineer (Data & AI) bei eBike Systems (w/m/div.)"
          ],
          [
           "Onera Health",
           "Senior Data Science/AI Engineer"
          ],
          [
           "takealot.com",
           "Data Analyst"
          ],
          [
           "Raft",
           "Senior Data Engineer"
          ],
          [
           "Supernova Technology",
           "Staff Software Engineer- Data Production"
          ],
          [
           "Unit4",
           "Senior Data Scientist (Financial Analysis)"
          ],
          [
           "Stripe",
           "Data Scientist, Payments ML Accelerator"
          ],
          [
           "The Fork",
           "Head of Product Data Management"
          ],
          [
           "Believe",
           "Data engineer"
          ],
          [
           "Pattern",
           "Senior AI Engineer"
          ],
          [
           "Aspirion",
           "Senior Machine Learning Engineer"
          ],
          [
           "Poshmark",
           "Sr. Human Resource Business Partner (Technology, Engineering and Data Science)"
          ],
          [
           "Etsy",
           "MLOps Engineer"
          ],
          [
           "Bosch Group",
           "App Development Project Manager (Chatbot)"
          ],
          [
           "Coda Payments",
           "Senior Machine Learning Scientist"
          ],
          [
           "Salary Finance",
           "Junior Data Scientist (Commercial)"
          ],
          [
           "Amazon.com",
           "Software Development Manager - Computer Vision, Amazon Fulfillment Technology"
          ],
          [
           "Tempus",
           "Junior Clinical Trials Data Specialist"
          ],
          [
           "Genesis",
           "Strong Junior Front end developer (JustDone.ai)"
          ],
          [
           "EX2 Outcoding",
           "MLOps Engineer"
          ],
          [
           "Visa",
           "Financial Data analyst"
          ],
          [
           "PubMatic",
           "Machine Learning Engineer (Associate)"
          ],
          [
           "Block",
           "Senior Lead, Third Party Data Strategy & Governance"
          ],
          [
           "Bosch Group",
           "SAP Consultant for Product Data Management"
          ],
          [
           "Sigma Software",
           "Strong Middle/Senior Data Engineer (Healthcare domain)"
          ],
          [
           "Air Apps",
           "Android Developer (AI)"
          ],
          [
           "OKX",
           "Senior Product Data Analyst, Compliance"
          ],
          [
           "Ubisoft",
           "Data Lead - Products / Mobile Apps  : Green Panda Games (M/W/NB)"
          ],
          [
           "William Osler Health System",
           "Manager, Business Operations - Diagnostic Imaging and Laboratory"
          ],
          [
           "Showroomprive.com",
           "Data Analyst - H/F"
          ],
          [
           "2K",
           "Senior Data Engineer - ETL"
          ],
          [
           "Bosch Group",
           "EET Data Engineer"
          ],
          [
           "Shape",
           "Data Engineering, Mid-Level"
          ],
          [
           "Visa",
           "Data Scientist"
          ],
          [
           "SAIT",
           "Data Engineer Analyst"
          ],
          [
           "OKX",
           "Senior Data Analyst, Trading"
          ],
          [
           "Gympass",
           "Data Scientist | Search & Discovery"
          ],
          [
           "Experian",
           "Cloud Data Analyst"
          ],
          [
           "Block",
           "Credit Risk Decision Scientist - Afterpay"
          ],
          [
           "Relativity",
           "Software Engineer (SRE in Elasticsearch platform team)"
          ],
          [
           "SpectraMedix",
           "HEDIS Data Analyst"
          ],
          [
           "Shopify",
           "Senior Analytics Engineering Manager (Remote, Americas)"
          ],
          [
           "Airwallex",
           "Data Science Director, Analytics"
          ],
          [
           "Relativity",
           "Senior Software Engineer (SRE in Elasticsearch platform team)"
          ],
          [
           "Air Apps",
           "Backend Developer (AI)"
          ],
          [
           "EUROPEAN DYNAMICS",
           "Business Intelligence Expert"
          ],
          [
           "Janes",
           "Research Analyst I - Defence Data Development"
          ],
          [
           "Air Apps",
           "Data Scientist (AI)"
          ],
          [
           "Picsart",
           "Senior Backend Engineer, AI"
          ],
          [
           "Etsy",
           "Senior Applied Scientist II, Market Optimization"
          ],
          [
           "HSO",
           "HSO GS - AI/ML | 5-7 Years"
          ],
          [
           "Sportradar",
           "Computer Engineer, Computer Vision Software and Hardware"
          ],
          [
           "Natixis in Portugal",
           "Data Engineer - IT Corporate"
          ],
          [
           "M47 Labs",
           "Machine Learning Engineer"
          ],
          [
           "Air Apps",
           "Machine Learning (ML) Engineers (AI)"
          ],
          [
           "Believe",
           "HR Data Analyst"
          ],
          [
           "TAL",
           "Systems Data Analyst"
          ],
          [
           "Qontigo",
           "Financial Market Data Analyst"
          ],
          [
           "Picsart",
           "Backend Engineer, AI"
          ],
          [
           "Shape",
           "Machine Learning Engineer"
          ],
          [
           "Mila",
           "Applied Research Scientist - Scientifique en recherche appliquée"
          ],
          [
           "Float Financial Solutions Inc.",
           "Senior Data Scientist"
          ],
          [
           "Neo Cybernetica",
           "Senior Robotics Software Engineer"
          ],
          [
           "Practiv",
           "Data Scientist"
          ],
          [
           "Bolloré Logistics",
           "Customs Brokerage Executive (Air Freight)"
          ],
          [
           "PhonePe",
           "Risk Investigator - AML Operations"
          ],
          [
           "Air Apps",
           "AI Research Scientist"
          ],
          [
           "Ginger",
           "Staff Software Engineer - Data Products"
          ],
          [
           "Netcentric",
           "Senior Data Analyst"
          ],
          [
           "Neo Cybernetica",
           "Machine Learning Engineer"
          ],
          [
           "Kin + Carta",
           "Data Engineer"
          ],
          [
           "Kin + Carta",
           "Senior Spark Data Engineer"
          ],
          [
           "Asana",
           "Data Engineer"
          ],
          [
           "CloudWalk",
           "Data Engineer (Infrastructure)"
          ],
          [
           "Wix",
           "Server Engineer - Big Data Serving Group"
          ],
          [
           "Ocorian",
           "AML/CFT & Data Analyst"
          ],
          [
           "NBCUniversal",
           "Data Quality Analyst"
          ],
          [
           "Publicis Groupe",
           "Data Analyst"
          ],
          [
           "Deutsche Telekom IT Solutions Slovakia",
           "Data Scientist (MICA)"
          ],
          [
           "Euromonitor",
           "Data Analyst, Freelance"
          ],
          [
           "Bitso",
           "Experience & Data Analyst"
          ],
          [
           "Stripe",
           "Staff Machine Learning Engineer, Revenue Automation and Data Services"
          ],
          [
           "Cermati.com",
           "Lead Data Engineer- Bangalore"
          ],
          [
           "M47 Labs",
           "Computational Linguist (Speech) - English USA Native"
          ],
          [
           "Sertis",
           "Senior Data Engineer"
          ],
          [
           "Unit4",
           "Senior Cloud Data Scientist"
          ],
          [
           "Cruise LLC",
           "Senior Staff Applied Research Scientist, Perception"
          ],
          [
           "Enova",
           "Senior Data Engineer (Remote)"
          ],
          [
           "Reinventing Geospatial (RGi)",
           "Big Data Full Stack Software Engineer (Top Secret), Python - 1545"
          ],
          [
           "Zscaler",
           "Engineering Manager (Java / Bigdata)"
          ],
          [
           "Bosch Group",
           "[SO] Senior Data Analyst"
          ],
          [
           "ASSYSTEM",
           "BI Developer"
          ],
          [
           "Snowflake Inc.",
           "Manager, Business Intelligence"
          ],
          [
           "Supernal",
           "Sr. Cloud Engineer, Data Team"
          ],
          [
           "CarGurus",
           "Product Data Analyst"
          ],
          [
           "Clarkston Consulting",
           "Cloud Data Architect"
          ],
          [
           "Definitive Logic",
           "Data Engineer"
          ],
          [
           "Reinventing Geospatial (RGi)",
           "Software / Data Engineer, Python, Senior - 2690"
          ],
          [
           "Cruise LLC",
           "Senior Machine Learning Engineer II, Perception"
          ],
          [
           "ControlUp",
           "Big - Data Engineer"
          ],
          [
           "Vattenfall",
           "Working Student - Asset Optimisation & Hedging - Business Intelligence"
          ],
          [
           "Vattenfall",
           "Senior Data Engineer for SCADA and the Operational Data platform"
          ],
          [
           "Reinventing Geospatial (RGi)",
           "Intelligence Data Analytics (Data Scientist), Python - 2925"
          ],
          [
           "ShopBack",
           "Manager, Software Engineering (Machine Learning Team)"
          ],
          [
           "Publicis Groupe",
           "Group Head - Data Architect"
          ],
          [
           "Augmedix",
           "Data Engineer, Analytics & Insights"
          ],
          [
           "Wealthsimple",
           "Senior Data Scientist, Large Language Models"
          ],
          [
           "Instacart",
           "Staff Data Scientist - Marketing"
          ],
          [
           "SysLogic, Inc.",
           "Data Analytics Architect (Microsoft emphasis)"
          ],
          [
           "Netcentric",
           "Data Analyst (Reporting and Insights)"
          ],
          [
           "Bosch Group",
           "Azure AI/ML Expert"
          ],
          [
           "Cruise LLC",
           "Senior Applied Research Scientist II, Perception"
          ],
          [
           "Unit4",
           "Cloud Data Scientist"
          ],
          [
           "May Mobility",
           "Lead Robotics Engineer"
          ],
          [
           "ID.me",
           "Fraud Data Scientist"
          ],
          [
           "INCELLIGENT",
           "Big Data Engineer"
          ],
          [
           "Cermati.com",
           "Data Engineer - India"
          ],
          [
           "Gapstars",
           "Senior Data Engineer"
          ],
          [
           "The Data Foundry",
           "Data Engineer (Melbourne)"
          ],
          [
           "Cruise LLC",
           "Staff Machine Learning Engineer, Perception"
          ],
          [
           "Vention",
           "Robotics Software Team Lead"
          ],
          [
           "Paytm",
           "Data Engineer - Senior Software Engineer"
          ],
          [
           "OpenAI",
           "Research Engineer, Privacy"
          ],
          [
           "Minted",
           "Data Engineer"
          ],
          [
           "Sertis",
           "Senior Software Engineer (AI Asset Mgmt Team)"
          ],
          [
           "Supernal",
           "Sr. Data Engineer"
          ],
          [
           "Sigma Defense",
           "Senior SMWDC Data Analytics Team Lead"
          ],
          [
           "Allucent",
           "Senior Clinical Data Manager I"
          ],
          [
           "Veeva Systems",
           "Senior Data Analyst - Terminology"
          ],
          [
           "CRI Group",
           "Expert in AI/ NLP/ ML - 4354"
          ],
          [
           "Enova",
           "Senior Data Engineer (Hybrid)"
          ],
          [
           "Locus Robotics",
           "Technical Support Supervisor/Manager - EMEA Remote (Robotics, AMR, WMS)"
          ],
          [
           "Snyk",
           "Director, Engineering - ML / AI"
          ],
          [
           "Coupang",
           "Senior / Staff Data Analyst (Customer Experience Product Analytics)"
          ],
          [
           "Sertis",
           "Senior QA Engineer (AI Asset Mgmt Team)"
          ],
          [
           "Sonovate",
           "Lead Data Engineer"
          ],
          [
           "Intuita Consulting Ltd",
           "Senior Data Modeller (UK Wide)"
          ],
          [
           "Security Bank",
           "Data Science Analyst | It | Sb Finance (Makati)"
          ],
          [
           "GoodRx",
           "Senior Product Manager, Attribution (Data Products)"
          ],
          [
           "Riiid Labs",
           "AI Data Manager"
          ],
          [
           "Amazon.com",
           "Constructability Engineer, Data Center Design Engineering"
          ],
          [
           "Prophecy",
           "Data Engineer (Bengaluru)"
          ],
          [
           "Charger Logistics Inc",
           "Transportation Data Analyst Coordinator"
          ],
          [
           "Flagship Pioneering, Inc.",
           "(Sr.) Scientist, Computational Protein Design"
          ],
          [
           "Bosch Group",
           "Research Engineer in Text Analytics (Direct Contract with Bosch)"
          ],
          [
           "Etsy",
           "Senior Software Engineer I, Machine Learning, Retrieval Sciences"
          ],
          [
           "Western Digital",
           "Data Scientist"
          ],
          [
           "Bosch Group",
           "Researcher- Computer Vision"
          ],
          [
           "Bosch Group",
           "Researcher/Senior Researcher  Natural Language Processing and Text Analytics"
          ],
          [
           "Publicis Groupe",
           "Senior Data Analyst"
          ],
          [
           "Talan",
           "Data Engineer Spark/Scala Expérimenté - H/F"
          ],
          [
           "Verisk",
           "Sr. Data Engineer"
          ],
          [
           "Fivesky",
           "Data Specialist - Governance"
          ],
          [
           "AUTO1 Group",
           "Data Engineer (f/m/x)"
          ],
          [
           "CS GROUP",
           "Ingénieur Data Scientist expérimenté - F/H"
          ],
          [
           "Visa",
           "Senior Data Scientist"
          ],
          [
           "ASI",
           "Lead Data Engineer (F/H)"
          ],
          [
           "PA Consulting",
           "Principal Data Strategist Consultant"
          ],
          [
           "Epicentre",
           "Flying Data Manager (M/F), 12 months (renewable)"
          ],
          [
           "Verisk",
           "Research Engineer- Atmospheric Perils Vulnerability"
          ],
          [
           "ASI",
           "Azure Data Architect (F/H)"
          ],
          [
           "NielsenIQ",
           "Senior Research Scientist"
          ],
          [
           "Publicis Groupe",
           "Data Strategy Manager (CRM & Loyalty, Consumer Experience, eCommerce)"
          ],
          [
           "PA Consulting",
           "Senior Data Manager"
          ],
          [
           "Forsta",
           "Data Integration Analyst (West Coast/Chicago)"
          ],
          [
           "Publicis Groupe",
           "Associate Manager - Data Architect"
          ],
          [
           "Visa",
           "Senior Manager Data Science"
          ],
          [
           "Zscaler",
           "Senior Software Engineer - Data Engineering (Java/Spark)"
          ],
          [
           "CGG",
           "Senior Geoscience Data Scientist"
          ],
          [
           "AUTO1 Group",
           "Director of Data Science (f/m/x)"
          ],
          [
           "AUTO1 Group",
           "Head of Data Science (f/m/x)"
          ],
          [
           "dentsu international",
           "DB/ETL Developer"
          ],
          [
           "Wish",
           "Data Engineer"
          ],
          [
           "PA Consulting",
           "Data Analyst Consultant"
          ],
          [
           "Bosch Group",
           "Senior Inhouse Consultant Data Analytics & Process Mining (w/m/div.)"
          ],
          [
           "dentsu international",
           "Tech Lead (DB & ETL)"
          ],
          [
           "Freshworks",
           "Data Analyst"
          ],
          [
           "Lely",
           "Data Engineer"
          ],
          [
           "TaskRabbit",
           "Machine Learning Engineer"
          ],
          [
           "LoopMe",
           "Senior Data Engineer"
          ],
          [
           "Brainlab",
           "(Senior) Machine Learning Engineer"
          ],
          [
           "OpenAI",
           "Research Scientist, Safety"
          ],
          [
           "15Five",
           "Director of Business Intelligence and Data Analytics"
          ],
          [
           "Ubisoft",
           "Gameplay AI programmer"
          ],
          [
           "BEES",
           "Data Scientist"
          ],
          [
           "Agilisys",
           "Data Engineer"
          ],
          [
           "Publicis Groupe",
           "Analyst, Data Engineering"
          ],
          [
           "Motive",
           "Data Analyst II"
          ],
          [
           "Truelogic Software",
           "Sr Data Engineer (Java/ Python/ React) - Marketing (ID:1432)"
          ],
          [
           "Verisk",
           "Data Analyst"
          ],
          [
           "Biogen",
           "Data Quality & Compliance Analyst"
          ],
          [
           "Locus Robotics",
           "Technical Support Manager (Robotics, WMS)"
          ],
          [
           "OceanaGold",
           "Information Technology Data Analyst"
          ],
          [
           "Publicis Groupe",
           "Analyst - Data Architect"
          ],
          [
           "Western Digital",
           "Senior Engineer, Data Management Engineering"
          ],
          [
           "dentsu international",
           "Modelling / Data Science - Sr. Analyst - Analytics"
          ],
          [
           "Publicis Groupe",
           "Manager, Data Engineering"
          ],
          [
           "Experfy Inc",
           "ETL Developer"
          ],
          [
           "Hitachi Solutions",
           "Datawarehouse/Data Architect - D&A (remote, Costa Rica-based)"
          ],
          [
           "BEES",
           "Data Product Manager"
          ],
          [
           "Quantium",
           "Senior Data Scientist FMCG"
          ],
          [
           "Block",
           "Data Science Manager, Marketing"
          ],
          [
           "matchpoint solutions",
           "Data Scientist Analyst"
          ],
          [
           "Patreon",
           "Staff Software Engineer, Database Infrastructure"
          ],
          [
           "dentsu international",
           "QA Analyst  (DB & ETL)"
          ],
          [
           "Bosch Group",
           "IT Development Lead with ABAP (SAP / Master Data Management)"
          ],
          [
           "84.51°",
           "Lead Data Scientist - Recommendation Systems (P1922)."
          ],
          [
           "Octopus Energy",
           "Finance Data Analyst"
          ],
          [
           "Capco",
           "Data Architect"
          ],
          [
           "BEES",
           "Data Engineer Lead"
          ],
          [
           "PlayStation Global",
           "Senior Analytics Engineer (InfoSec)"
          ],
          [
           "Exiger",
           "Backend Engineer, Data"
          ],
          [
           "BEES",
           "BI Developer"
          ],
          [
           "Bosch Group",
           "IT Application Architect (SAP / Master Data Management)"
          ],
          [
           "Notion",
           "Business Intelligence Engineer, Finance"
          ],
          [
           "Zesty.ai",
           "Product Manager - Computer Vision"
          ],
          [
           "Cision",
           "SQL Data Analyst"
          ],
          [
           "Stripe",
           "Data Science Manager, Risk Interventions"
          ],
          [
           "Veeva Systems",
           "Consultant - Data Managed Services"
          ],
          [
           "Publicis Groupe",
           "Data Engineer (H/F) - Alternance"
          ],
          [
           "Sia Partners",
           "Senior Manager  Data and AI"
          ],
          [
           "Notion",
           "Data Engineer, Finance"
          ],
          [
           "Hitachi Solutions",
           "Data Engineer - D&A (remote/Costa Rica-based)"
          ],
          [
           "Lightspeed Commerce",
           "Senior Analytics Engineer"
          ],
          [
           "3Pillar Global",
           "Business Intelligence Engineer"
          ],
          [
           "Mindtickle",
           "Staff ML Engineer"
          ],
          [
           "Publicis Groupe",
           "Analyst, Data Science"
          ],
          [
           "Publicis Groupe",
           "Vice President, Data Strategy"
          ],
          [
           "BitMEX",
           "Senior Data Engineer"
          ],
          [
           "Aqemia",
           "Data Scientist"
          ],
          [
           "Brainlab",
           "(Senior) ML Platform / DevOps Engineer"
          ],
          [
           "Block",
           "Senior Data Engineer - Infrastructure, TIDAL"
          ],
          [
           "Block",
           "Data Scientist, Afterpay Product"
          ],
          [
           "Constructor",
           "Data Engineer: Data Platform Team (Remote)"
          ],
          [
           "Canva",
           "Senior Machine Learning Engineer - Editing AI (Open to remote across ANZ)"
          ],
          [
           "Publicis Groupe",
           "Manager, Business Intelligence"
          ],
          [
           "Amazon.com",
           "Business Intelligence Engineer, Field - CS - Consumer"
          ],
          [
           "Capco",
           "Data stage ETL"
          ],
          [
           "BetterUp",
           "Senior Analytics Engineer"
          ],
          [
           "John Snow Labs",
           "Product Manager for Healthcare AI Products"
          ],
          [
           "Srijan Technologies",
           "Technical Lead Data Engineer - Power BI"
          ],
          [
           "Sogetrel",
           "Alternance - Assistant Data Analyst H/F"
          ],
          [
           "CloudSEK",
           "Machine Learning - Fresher"
          ],
          [
           "RCA",
           "Data Analyst F/H"
          ],
          [
           "SGS",
           "Data Analyst, Geochemistry"
          ],
          [
           "Chime",
           "Data Analyst"
          ],
          [
           "Statistics & Data Corporation (SDC)",
           "Senior Director, Clinical Data Management"
          ],
          [
           "AUTO1 Group",
           "Mid Data Scientist (f/m/x), Remote (EU) / Berlin"
          ],
          [
           "Srijan Technologies",
           "Technical Architect Databricks"
          ],
          [
           "CGG",
           "Imaging Geophysicist"
          ],
          [
           "Myntra",
           "Manager Data Analyst"
          ],
          [
           "Stripe",
           "Financial Data Analyst, EMEA"
          ],
          [
           "Block",
           "Senior Machine Learning Engineer (Modeling)"
          ],
          [
           "Dun & Bradstreet",
           "Senior Analyst, Data Science (R-14532)"
          ],
          [
           "Palo Alto Networks",
           "Principal Machine Learning Engineer (DLP)"
          ],
          [
           "Zscaler",
           "Staff Software Engineer - Data Engineering (Java/Spark)"
          ],
          [
           "Western Digital",
           "Scientist 2, Data Science"
          ],
          [
           "GitHub",
           "Staff Researcher, Machine Learning"
          ],
          [
           "BEES",
           "Data Analyst"
          ],
          [
           "Lightspeed Commerce",
           "Voice and Data Specialist"
          ],
          [
           "Palo Alto Networks",
           "Senior Engineer Software (ML Applications NLP)"
          ],
          [
           "Block",
           "Senior Data Scientist - Fraud Risk"
          ],
          [
           "ManpowerGroup Greece",
           "Entry level Data Analysts, Manpower Data Analytics Academy, July 2023"
          ],
          [
           "Experian",
           "Data Quality Consultant"
          ],
          [
           "Faire Wholesale, Inc.",
           "Business Intelligence Manager, Finance"
          ],
          [
           "Enigma",
           "Senior Machine Learning Engineer"
          ],
          [
           "Beautyhaul",
           "Data Engineer"
          ],
          [
           "Publicis Groupe",
           "Director, Data Engineering"
          ],
          [
           "Biogen",
           "Associate Director, Commercial Data Management Lead"
          ],
          [
           "Agoda",
           "Data Architect (Bangkok based, relocation provided)"
          ],
          [
           "Packt",
           "Data Analyst"
          ],
          [
           "iGenius",
           "Data Analyst"
          ],
          [
           "Believe",
           "Data Specialist"
          ],
          [
           "Montevideo Labs",
           "Data Analyst"
          ],
          [
           "Stripe",
           "Financial Data Analyst"
          ],
          [
           "Verisk",
           "Mid Data Scientist"
          ],
          [
           "PlayStation Global",
           "Senior Analytics Engineer"
          ],
          [
           "BEES",
           "Data Engineer"
          ],
          [
           "Epic Creations Inc.",
           "Senior Data Analyst"
          ],
          [
           "insightsoftware",
           "Data Engineer II"
          ],
          [
           "Srijan Technologies",
           "Technical Lead Data Engineer - Power BI, Tableau"
          ],
          [
           "UK Atomic Energy Authority",
           "Senior Robotics Research Engineer"
          ],
          [
           "Software Mind",
           "[RPG] Power BI Data Engineer"
          ],
          [
           "Oxfam America",
           "Analytics Engineer"
          ],
          [
           "ThoughtSpot",
           "Staff  Engineer - Machine Learning"
          ],
          [
           "Learnlight",
           "Business Intelligence Analyst (Remote)"
          ],
          [
           "C3.ai",
           "AI Solution Manager/Senior AI Solution Manager"
          ],
          [
           "Publicis Groupe",
           "Director, Data Science"
          ],
          [
           "Tiger Analytics",
           "Lead Data Scientist"
          ],
          [
           "Instabase",
           "Senior Software Engineer, Deep Learning (AI)"
          ],
          [
           "KMS Technology",
           "Data Engineering Lead/Data Architect, KMS Healthcare"
          ],
          [
           "Optasia",
           "Machine Learning Engineer (MLOps), Fintech"
          ],
          [
           "Cloudflare, Inc.",
           "Senior Data Scientist, Web Security"
          ],
          [
           "Seamless.AI",
           "Data Engineer - Remote US"
          ],
          [
           "Zoopla",
           "Data Scientist"
          ],
          [
           "PubMatic",
           "Software Engineer -Data Analytics"
          ],
          [
           "DataCamp, Inc.",
           "Content Developer - AI and Machine Learning"
          ],
          [
           "PA Consulting",
           "Senior Data Strategist"
          ],
          [
           "Numberly",
           "Marketing Data Analyst"
          ],
          [
           "AUTO1 Group",
           "Expert Data Scientist (f/m/x)"
          ],
          [
           "Relativity",
           "Senior Data Analyst"
          ],
          [
           "ABOUT YOU SE & Co. KG",
           "Teamlead Logistics Data Analytics (m/w/d)"
          ],
          [
           "Aryng",
           "Data Engineer - Cloud - Remote (Noida)"
          ],
          [
           "Netskope",
           "Staff Engineer, Data Platform"
          ],
          [
           "PA Consulting",
           "Data Manager Consultant"
          ],
          [
           "Databricks",
           "Solutions Architect : Big Data & AI"
          ],
          [
           "Moloco",
           "Staff Data Scientist, Core (Manager) - Korea"
          ],
          [
           "Stripe",
           "Machine Learning Engineer, Revenue and Finance Automation"
          ],
          [
           "Affirm",
           "Sr. Strategic Financial Data Model Analyst"
          ],
          [
           "Publicis Groupe",
           "Manager, Data Science"
          ],
          [
           "Enpal GmbH",
           "Business Intelligence Analyst (m/f/d)"
          ],
          [
           "AUTO1 Group",
           "Lead Data Scientist/ Data Science Manager (f/m/x)"
          ],
          [
           "Eurofins",
           "Specification Coordinator - Data Management"
          ],
          [
           "AUTO1 Group",
           "Senior Data Scientist  (f/m/x), Remote / Berlin"
          ],
          [
           "Verisk",
           "Data Engineer I (BLD)"
          ],
          [
           "Similarweb",
           "Marketing Data Analyst"
          ],
          [
           "Govini",
           "Data Engineer"
          ],
          [
           "Gopuff",
           "Senior Analytics Engineer"
          ],
          [
           "Altium",
           "Lead Data Engineer"
          ],
          [
           "Amazon.com",
           "Project Engineer, Data Center Construction"
          ],
          [
           "NBCUniversal",
           "Manager, Data Engineering - NBC Sports Next"
          ],
          [
           "Redaptive, Inc.",
           "Analyst - Business Intelligence"
          ],
          [
           "Netcentric",
           "(Senior) Digital Analytics Engineer"
          ],
          [
           "AppsFlyer",
           "Product Data Analyst"
          ],
          [
           "Aryng",
           "Data Engineer - Cloud - Remote (Bangalore)"
          ],
          [
           "Accolite Digital",
           "Data Analyst"
          ],
          [
           "Hitch",
           "Data Analyst"
          ],
          [
           "Eurofins",
           "Data Engineer"
          ],
          [
           "insightsoftware",
           "User Enablement Learning Technology and Data Manager"
          ],
          [
           "ConverseNow.ai",
           "Machine Learning Engineer"
          ],
          [
           "Kaizen Analytix",
           "Cloud Data Engineer: AWS"
          ],
          [
           "Stripe",
           "Data Scientist, Terminal"
          ],
          [
           "Amazon.com",
           "Sr. Business Intelligence Engineer, Buy with Prime"
          ],
          [
           "Publicis Groupe",
           "Associate Director, Data Engineering"
          ],
          [
           "The Zebra",
           "Staff Data Engineer (Remote - Austin, or U.S.)"
          ],
          [
           "Sunnova Energy International",
           "Business Intelligence Analyst (m/f/d)"
          ],
          [
           "Deep6.ai",
           "Clinical NLP Engineer"
          ],
          [
           "Alchemy Worx",
           "Data Analyst"
          ],
          [
           "Wish",
           "Staff Software Engineer, Data Storage"
          ],
          [
           "JUMO",
           "Data Engineer"
          ],
          [
           "Adtalem Global Education",
           "Data Engineer"
          ],
          [
           "Aryng",
           "Data Engineer - Cloud - Remote (Cochin)"
          ],
          [
           "Athletic Greens",
           "Sr. Data Analyst, Customer Insights"
          ],
          [
           "Sertis",
           "Personal Assistant to the CIO (AI Asset Mgmt Team)"
          ],
          [
           "lastminute.com",
           "Product Data Analyst"
          ],
          [
           "Scale AI",
           "Computer Science Expert AI Training - Data Engineering (Remote)"
          ],
          [
           "Excella",
           "Data Scientist"
          ],
          [
           "Scale AI",
           "Computer Science Expert AI Training - Machine Learning (Remote)"
          ],
          [
           "Descript",
           "Data Scientist, Marketing & Sales"
          ],
          [
           "BEUMER Group",
           "Data Engineer"
          ],
          [
           "Publicis Groupe",
           "Data Analyst (H/F) - CDI"
          ],
          [
           "AUTO1 Group",
           "Senior Data Scientist (f/m/x), Albania"
          ],
          [
           "CRI Group",
           "Data Scientist - 4350"
          ],
          [
           "SOPHiA GENETICS",
           "Data Engineer - Operations"
          ],
          [
           "Telesign",
           "Program Manager, Data Science"
          ],
          [
           "Medable",
           "Senior Director, Data Management - Remote"
          ],
          [
           "Unit4",
           "Senior Cloud FinOps (Data Analyst Engineer)"
          ],
          [
           "Sand Cherry Associates",
           "Data Architect"
          ],
          [
           "Remitly",
           "Data Analyst (Seattle or U.S. Remote)"
          ],
          [
           "Resultant",
           "Data Architect, Internal IT (Remote in US)"
          ],
          [
           "Palo Alto Networks",
           "Data Pipeline Engineer"
          ],
          [
           "PA Consulting",
           "Senior Data Analyst"
          ],
          [
           "Farfetch",
           "Senior Data Product Manager"
          ],
          [
           "Illumio",
           "Senior Machine Learning Engineer"
          ],
          [
           "Remitly",
           "Senior Analytics Engineer (Seattle or U.S. Remote)"
          ],
          [
           "Definitive Logic",
           "Senior Data Engineer"
          ],
          [
           "Ethos",
           "Machine Learning Engineer"
          ],
          [
           "Eurofins",
           "Entry Level Data Scientist"
          ],
          [
           "AUTO1 Group",
           "Mid Data Scientist (f/m/x), Albania"
          ],
          [
           "AFRY",
           "Teamlead AI & Analytics till AFRY X"
          ],
          [
           "Eurofins",
           "Data Engineer (C#, Python, Elastic)"
          ],
          [
           "Version 1",
           "Data Analyst Financial services Talent Pipeline"
          ],
          [
           "Valerann",
           "Cloud Computer Vision Engineer"
          ],
          [
           "Zipline",
           "Data Scientist"
          ],
          [
           "Oxfam America",
           "Senior Financial and Data Analyst"
          ],
          [
           "ASI",
           "Expert Cloud Data (F/H)"
          ],
          [
           "lastminute.com",
           "Senior Machine Learning Scientist"
          ],
          [
           "Flashpoint",
           "Sr Data Scientist"
          ],
          [
           "Talan",
           "Consultant(e) Power BI"
          ],
          [
           "Flagship Pioneering, Inc.",
           "Deep Learning AI Scientist"
          ],
          [
           "Blue Orange Digital",
           "Data Engineer (Remote)"
          ],
          [
           "Experian",
           "Fraud Investigator - Data Analytics"
          ],
          [
           "Bosch Group",
           "Data Scientist & Analytics Engineer"
          ],
          [
           "Standard Bank Group",
           "Manager, Provincial Data Management"
          ],
          [
           "Planet Labs Inc.",
           "Senior Machine Learning Engineer"
          ],
          [
           "Natixis in Portugal",
           "Market Data Management/Administration"
          ],
          [
           "Celonis",
           "Senior Software Engineer with Angular (AI/ML)"
          ],
          [
           "84.51°",
           "Lead Data Scientist (P1606)"
          ],
          [
           "Amazon.com",
           "??·????/Business Intelligence Engineer, Japan Operations Finance"
          ],
          [
           "TripAdvisor",
           "Senior Machine Learning Scientist - POI Data"
          ],
          [
           "QuantumScape",
           "SMTS, Machine Vision Engineer"
          ],
          [
           "Datadog",
           "Senior Product Data Scientist"
          ],
          [
           "Western Digital",
           "Power BI Data Analyst"
          ],
          [
           "Visa",
           "Sr.Manager, Data Engineering"
          ],
          [
           "esure Group",
           "Insight Analyst"
          ],
          [
           "Amazon.com",
           "Applied Scientist, Sponsored Ads"
          ],
          [
           "Verisk",
           "Data Engineer"
          ],
          [
           "Sportradar",
           "BI Analyst"
          ],
          [
           "Viva Wallet",
           "Senior Data Analyst"
          ],
          [
           "Arthur Grand Technologies Inc",
           "Database Developer - Databricks, Data Modeling"
          ],
          [
           "dentsu international",
           "Tech Lead, Data Management"
          ],
          [
           "Arrive Logistics",
           "Analytics Engineer"
          ],
          [
           "Coupang",
           "Staff, Data Analyst(eCommerce Product Analytics)"
          ],
          [
           "Clearcover",
           "Data Analyst"
          ],
          [
           "Duolingo",
           "AI Research Scientist"
          ],
          [
           "Freenome",
           "Associate Research Scientist - Proteomics, Phage Display"
          ],
          [
           "Addepar",
           "Portfolio Data Feeds - Portfolio Data Analyst"
          ],
          [
           "Whatnot",
           "Senior Data Engineer"
          ],
          [
           "Amazon.com",
           "Principal Applied Scientist, Search Science and AI"
          ],
          [
           "Fluent, LLC",
           "Senior Product Manager (Machine Learning)"
          ],
          [
           "Amazon.com",
           "Program Manager, Operations Finance Business Intelligence, Japan Operations Finance"
          ],
          [
           "Sertis",
           "Software Engineer (AI Asset Mgmt Team)"
          ],
          [
           "Govini",
           "Senior Data Analyst"
          ],
          [
           "Cameo",
           "Analytics Engineer"
          ],
          [
           "Intellum, Inc.",
           "ML & AI Product Manager"
          ],
          [
           "6sense Insights, Inc.",
           "Senior Data Scientist"
          ],
          [
           "dentsu international",
           "Data Engineer"
          ],
          [
           "DreamBox Learning",
           "Analytics Engineer (Remote)"
          ],
          [
           "STEMBoard",
           "Data Manager"
          ],
          [
           "Bosch Group",
           "Robotics Software Developer (multiple positions) - [BGSW]"
          ],
          [
           "Sia Partners",
           "Machine Learning Engineer/DevOps Engineer"
          ],
          [
           "Notion",
           "Data Scientist, Product"
          ],
          [
           "harrison.ai",
           "Senior Machine Learning Engineer - Deep Learning"
          ],
          [
           "Bosch Group",
           "Research Engineer Life Science - Molecular Diagnostic Assay Development and Automation (f/m/div.)"
          ],
          [
           "MediBuddy",
           "Data Scientist II"
          ],
          [
           "Hello Heart",
           "BI Developer"
          ],
          [
           "Software Mind",
           "Power BI Data Engineer"
          ],
          [
           "Publicis Groupe",
           "Digital Data Specialist"
          ],
          [
           "Robinhood",
           "Director, Artificial Intelligence and Machine Learning"
          ],
          [
           "Bosch Group",
           "Research Engineer for Design, Simulation and Signal Processing Concepts for MEMS Sensors and Actuators (f/m/div.)"
          ],
          [
           "Glooko, Inc.",
           "Data Analyst"
          ],
          [
           "Vericast",
           "Senior Staff Data Scientist (Remote)"
          ],
          [
           "matchpoint solutions",
           "ETL (Spark/Scala) Team Lead - Remote"
          ],
          [
           "Hitachi Solutions",
           "Data Modeler/Data Architect w/Databricks - Empower (remote/virtual, Canada-based)"
          ],
          [
           "Zynga",
           "Senior Software Engineer - Applied AI"
          ],
          [
           "Bosch Group",
           "Application Infrastructure Consulting (Aic) - 22662 - 22663"
          ],
          [
           "Aryng",
           "Data Engineer - Cloud - Remote (Delhi)"
          ],
          [
           "Ember",
           "Data Analyst (2030 Clean Power)"
          ],
          [
           "Media.Monks",
           "Product Data Manager - 3D"
          ],
          [
           "Enterpret",
           "ML Engineer"
          ],
          [
           "Planet Labs Inc.",
           "Data Scientist, Forest Ecosystems"
          ],
          [
           "ARCHIMED",
           "Power BI Developer"
          ],
          [
           "Addepar",
           "Portfolio Data Feeds - Associate Portfolio Data Analyst"
          ],
          [
           "Signal Group",
           "Senior Data Scientist"
          ],
          [
           "Appnovation Technologies",
           "Senior Data Analytics Engineer (Contractor)"
          ],
          [
           "Intercom",
           "Engineering Manager, Machine Learning Team"
          ],
          [
           "Visa",
           "Staff Data Engineer"
          ],
          [
           "AFRY",
           "Data Analyst"
          ],
          [
           "Builder.ai",
           "Technical Lead - Data Science"
          ],
          [
           "iOLAP",
           "Data Engineer"
          ],
          [
           "Meritis",
           "Data Scientist (F/H)"
          ],
          [
           "TripAdvisor",
           "Machine Learning Scientist II"
          ],
          [
           "PSI CRO",
           "Lead Data Manager"
          ],
          [
           "Synechron",
           "IT Data Engineer - Private Banking"
          ],
          [
           "Agoda",
           "Senior Data Analyst (Bangkok Based, Relocation Provided)"
          ],
          [
           "HolonIQ",
           "Data Scientist"
          ],
          [
           "MongoDB",
           "Data Engineer"
          ],
          [
           "Bosch Group",
           "Senior Embedded Software Engineer Base SW (POSIX) - Off-Road Robotics Core Team"
          ],
          [
           "Angi",
           "Lead Data Scientist - Pricing"
          ],
          [
           "NT Concepts",
           "Data Engineer"
          ],
          [
           "MediBuddy",
           "Data Scientist - III"
          ],
          [
           "OKX",
           "Senior Data Product Manager, Trading Experience"
          ],
          [
           "Informa Group Plc.",
           "Senior Analyst, Project Management & Data Analytics"
          ],
          [
           "esure Group",
           "Marketing Data Scientist"
          ],
          [
           "Aryng",
           "Data Engineer - Cloud - Remote (Pune)"
          ],
          [
           "StubHub",
           "Data Analyst - Customer Acquisition"
          ],
          [
           "Planet Labs Inc.",
           "Software Engineer, Machine Learning Infrastructure"
          ],
          [
           "Gympass",
           "Staff Data Analytics | Global Analytics"
          ],
          [
           "TripAdvisor",
           "Machine Learning Scientist I - Experiences"
          ],
          [
           "Databricks",
           "Staff Data Scientist"
          ],
          [
           "Second Spectrum",
           "Football Data Specialist"
          ],
          [
           "Version 1",
           "Data Architect - Talent Pipeline"
          ],
          [
           "TIKTAL",
           "ChatGPT Consultant"
          ],
          [
           "Stripe",
           "Software Engineer, Data Platform"
          ],
          [
           "Publicis Groupe",
           "Data Analyst  Web and Social (Junior)"
          ],
          [
           "Sportradar",
           "Junior SW Developer with NLP knowledge"
          ],
          [
           "SIXT",
           "Data Scientist II"
          ],
          [
           "Acolad",
           "Data Analyst / Analytics Engineer"
          ],
          [
           "PlayStation Global",
           "Senior Data Analyst - Marketing Analytics (12m FTC)"
          ],
          [
           "Publicis Groupe",
           "Senior Data Architect"
          ],
          [
           "Visa",
           "SW Engineer: Big Data/Risk Systems, Sr. Consultant Level"
          ],
          [
           "Interpublic Group",
           "Master Data Analyst"
          ],
          [
           "JUMO",
           "BI Developer"
          ],
          [
           "Unifonic",
           "Senior Data Engineer"
          ],
          [
           "Kaizen Gaming",
           "Machine Learning Product Owner"
          ],
          [
           "UWorld, LLC",
           "Data Engineer"
          ],
          [
           "Talan",
           "Consultant Data Analytics IT Digital Impulse - H/F"
          ],
          [
           "Doctrine",
           "Senior Machine Learning in NLP (Productivity)"
          ],
          [
           "Etsy",
           "MLOps Engineer"
          ],
          [
           "Amplifi Capital",
           "Junior Data Scientist"
          ],
          [
           "Picsart",
           "Senior JavaScript Engineer, AI Tools"
          ],
          [
           "Zeals",
           "Data Engineer"
          ],
          [
           "Pipedrive",
           "Junior Engineering Data Analyst"
          ],
          [
           "Publicis Groupe",
           "Vice President Data Science, Real World Data Lead"
          ],
          [
           "Tesco Bengaluru",
           "Associate Data Scientist"
          ],
          [
           "Health at Scale",
           "Healthcare Data Analyst"
          ],
          [
           "Gapstars",
           "Data Engineer - Python"
          ],
          [
           "Housecall Pro",
           "Data Operations Specialist"
          ],
          [
           "Verily",
           "Product Manager, Research - AI/ML & Data Science"
          ],
          [
           "Publicis Groupe",
           "Data Analyst  Web and Social (Tourism)"
          ],
          [
           "Dun & Bradstreet",
           "Data Manager (m/w/d)"
          ],
          [
           "Benson Hill",
           "Associate Data Engineer"
          ],
          [
           "Amazon.com",
           "Applied Scientist"
          ],
          [
           "SOPHiA GENETICS",
           "Data Engineer"
          ],
          [
           "Nets",
           "Data Scientist (m/f/d)"
          ],
          [
           "Energy Aspects Ltd",
           "Senior Data Engineer - OilX"
          ],
          [
           "Publicis Groupe",
           "Data Analyst  Web and Social (Telcommunication)"
          ],
          [
           "Scientific Systems Company, Inc.",
           "Principal/Lead Software Engineer - Autonomy Products"
          ],
          [
           "Argyle",
           "Data Quality Team Lead"
          ],
          [
           "Publicis Groupe",
           "Senior Data Scientist"
          ],
          [
           "lastminute.com",
           "Data Engineer"
          ],
          [
           "Ariadne",
           "Senior Data Scientist"
          ],
          [
           "Block",
           "Senior BI Data Engineer"
          ],
          [
           "Snyk",
           "Senior Analytics Engineer"
          ],
          [
           "Block",
           "Senior Machine Learning Engineer, Modeling"
          ],
          [
           "Technicolor Creative Studios",
           "Senior Data Engineer"
          ],
          [
           "Airbnb",
           "Staff Data Scientist - Algorithms, Guest Science"
          ],
          [
           "Family Zone",
           "Data Analyst"
          ],
          [
           "So Energy",
           "Data Analyst (Finance)"
          ],
          [
           "Version 1",
           "Data Analyst Financial Services Talent Pipeline"
          ],
          [
           "Western Digital",
           "Data Analyst"
          ],
          [
           "Interpath Advisory",
           "Data Engineer & Power BI Developer"
          ],
          [
           "CI&T",
           "[JOB-10452] Data Developer SR"
          ],
          [
           "Locus Robotics",
           "Robotics Engineer, Sensors"
          ],
          [
           "Colliers International EMEA",
           "Junior Data Analyst (Mlodszy Analityk Danych) w Dziale Doradztwa i Badan Rynku"
          ],
          [
           "Publicis Groupe",
           "Director of Delivery, Data Operations"
          ],
          [
           "360dialog GmbH",
           "Data Scientist | Remote"
          ],
          [
           "Samsung Research America",
           "Senior Staff Data Science Engineer, AI and MLOps"
          ],
          [
           "Experian",
           "Especialista Machine Learning"
          ],
          [
           "Energy Aspects Ltd",
           "Data Analyst - London"
          ],
          [
           "Qontigo",
           "Analytics Engineering Manager"
          ],
          [
           "Katalon",
           "Director, Data Analytics"
          ],
          [
           "Biztory",
           "BE | Analytics Engineer"
          ],
          [
           "Cermati.com",
           "Senior Data Scientist"
          ],
          [
           "EX2 Outcoding",
           "Data Analytics"
          ],
          [
           "Agoda",
           "Data Analyst (Bangkok Based, Relocation Provided)"
          ],
          [
           "Talan",
           "Talan Consulting  Consultant Senior/Manager  Data Strategy (H/F)"
          ],
          [
           "Moro Tech",
           "Machine Learning Engineer"
          ],
          [
           "Diligent Corporation",
           "Data Scientist"
          ],
          [
           "Algorhythm",
           "Data Management consultant"
          ],
          [
           "Publicis Groupe",
           "Senior Data Engineer"
          ],
          [
           "dentsu international",
           "Senior Business Intelligence Consultant"
          ],
          [
           "Gantry",
           "Applied AI Researcher"
          ],
          [
           "Amazon.com",
           "Sr. Business Intel Engineer, Buy with Prime"
          ],
          [
           "Oxwash",
           "Senior Data Analyst"
          ],
          [
           "Kooth",
           "Junior Data Analyst"
          ],
          [
           "Publicis Groupe",
           "Data Analyst  CRM"
          ],
          [
           "Samsara",
           "Senior Software Engineer, Data Platform"
          ],
          [
           "Visa",
           "Data Scientist"
          ],
          [
           "Sertis",
           "Head of Data Analytics"
          ],
          [
           "Bondstein Technologies Ltd.",
           "Machine Learning Engineer"
          ],
          [
           "Amazon.com",
           "Business Intelligence Engineer, Buy with Prime"
          ],
          [
           "NBCUniversal",
           "Data Analyst"
          ],
          [
           "PatientPoint",
           "Senior Data Visualization Analyst"
          ],
          [
           "Conversica",
           "Senior Machine Learning Engineer"
          ],
          [
           "Etsy",
           "Senior Applied Scientist II, Market Optimization"
          ],
          [
           "Voodoo",
           "Data Product Manager"
          ],
          [
           "Etsy",
           "Senior Software Engineer I, Machine Learning"
          ],
          [
           "ID.me",
           "Senior Data Analyst (Remote)"
          ],
          [
           "GoPro",
           "Senior Data Scientist"
          ],
          [
           "Raft",
           "Principal Data Architect"
          ],
          [
           "Synapse",
           "Senior Machine Learning Engineer"
          ],
          [
           "Believe",
           "Data engineer"
          ],
          [
           "Airbnb",
           "Senior Engineering Manager, Data Management"
          ],
          [
           "Agoda",
           "Big Data Tech Lead (DevOps) (Bangkok based, Relocation provided)"
          ],
          [
           "Bosch Group",
           "Autonomous Driving Agile Master Lead (C++ OOPs) - EXP 2023"
          ],
          [
           "Publicis Groupe",
           "Data Analyst Trainee"
          ],
          [
           "BetterSleep",
           "Senior Data Scientist"
          ],
          [
           "CleverConnect",
           "Data Engineer - Stage de fin d'études - Paris 2e"
          ],
          [
           "Kaizen Analytix",
           "SharePoint / PowerBI Developer Contractor"
          ],
          [
           "Tesco Bengaluru",
           "Lead-Business Intelligence&Data Warehousing"
          ],
          [
           "Roosh",
           "Event manager (AI House)"
          ],
          [
           "NBCUniversal",
           "Data Quality Analyst"
          ],
          [
           "Agoda",
           "Business Data Analyst (New York Based)"
          ],
          [
           "Bosch Group",
           "Data Engineer & Architect Azure Cloud (w/m/div.)"
          ],
          [
           "Hudl",
           "Solutions Consultant (Data Specialist)"
          ],
          [
           "OKX",
           "Data Analyst-Trading team"
          ],
          [
           "Ginger",
           "Staff Software Engineer - Data Products"
          ],
          [
           "Affirm",
           "Business Intelligence Lead"
          ],
          [
           "PSI CRO",
           "Clinical Data Manager"
          ],
          [
           "Vonage",
           "Junior Data Analyst"
          ],
          [
           "Publicis Groupe",
           "Vice President, Business Intelligence"
          ],
          [
           "AccorCorpo",
           "Data Analytics Engineer H/F"
          ],
          [
           "Coupang",
           "Sr. Data Analyst (CMG)"
          ],
          [
           "Riverside Research",
           "Data Science Consultant (TS/SCI clearance)"
          ],
          [
           "Version 1",
           "Databricks and Scala Engineer geospatial"
          ],
          [
           "Credible",
           "Senior BI Analyst"
          ],
          [
           "Dun & Bradstreet",
           "Lead Data Engineer (R-14415)"
          ],
          [
           "Bounteous",
           "Lead Data Strategy Consultant"
          ],
          [
           "Pinecone",
           "Data Engineer"
          ],
          [
           "Bosch Group",
           "Data Modeling Engineer (w/m/div.)"
          ],
          [
           "Bounteous",
           "Associate Principal Data Architect"
          ],
          [
           "Invision AI",
           "Senior Technical Product Manager - Computer Vision & AI"
          ],
          [
           "Zynga",
           "Senior Gameplay AI Engineer - Star Wars"
          ],
          [
           "Bosch Group",
           "Data Analyst"
          ],
          [
           "Altium",
           "Senior Data Analyst"
          ],
          [
           "Flagship Pioneering, Inc.",
           "Senior Vice President, Data Science"
          ],
          [
           "Agilytic",
           "Data Analyst"
          ],
          [
           "Octopus Energy",
           "Senior Data Analyst (NZ)"
          ],
          [
           "84.51°",
           "Lead Data Engineer (P3947)"
          ],
          [
           "Riverside Research",
           "Language Enabled Research Analyst (Chinese)"
          ],
          [
           "Procore Technologies",
           "Staff Data Scientist-2"
          ],
          [
           "Amazon.com",
           "Business Intelligence Engineer ll, Shipping and Delivery Support"
          ],
          [
           "Paytm",
           "ML Engineer - Senior Software Engineer"
          ],
          [
           "Publicis Groupe",
           "Open - Data Analyst (Digitas & Publicis Media)"
          ],
          [
           "Riverside Research",
           "Senior Data Architect (TS/SCI clearance)"
          ],
          [
           "BeyondTrust",
           "Vice President, Data Management"
          ],
          [
           "Intrinsic",
           "Senior Software Engineer, Machine Learning for Robotics"
          ],
          [
           "Riverside Research",
           "Data Engineer (TS/SCI clearance)"
          ],
          [
           "Flagship Pioneering, Inc.",
           "Director, Computational Biology"
          ],
          [
           "Oxbotica",
           "Safety Data Engineer"
          ],
          [
           "Zynga",
           "Data Analyst 3"
          ],
          [
           "BetterSleep",
           "Senior BI Developer/Analyst - Développeur/analyste BI senior"
          ],
          [
           "Bloom & Wild Group",
           "Data Analyst - Operations"
          ],
          [
           "Charger Logistics Inc",
           "Head of Operations Data Analyst"
          ],
          [
           "ServiceNow",
           "Sr Machine Learning Engineer"
          ],
          [
           "Peek",
           "Data Engineer - Remote Role"
          ],
          [
           "Braze",
           "Senior Software Engineer, Data Lake"
          ],
          [
           "Sinch",
           "Chatbot Conversational Writer | Pleno"
          ],
          [
           "CleverConnect",
           "Data Analyst - Stage de fin d'études - Paris 2e"
          ],
          [
           "Synapse",
           "Senior Data Analyst"
          ],
          [
           "Natixis in Portugal",
           "Data Analyst Developer (French Speaker) - BPCE SI"
          ],
          [
           "Publicis Groupe",
           "HTML Developer (2 months freelance contract)"
          ],
          [
           "Amazon.com",
           "Sr. Business Intel Engineer, Consumables Category Productivity"
          ],
          [
           "Riverside Research",
           "Data Architect (TS/SCI clearance)"
          ],
          [
           "Bitpanda",
           "AML Operations Specialist"
          ],
          [
           "OZ",
           "Data Analytics Project Manager"
          ],
          [
           "OmniData",
           "Power BI Developer for Power Platform Team"
          ],
          [
           "KMS Technology",
           "Data Engineer Lead/Data Architect, KMS Healthcare"
          ],
          [
           "Arthur Grand Technologies Inc",
           "PySpark Developer"
          ],
          [
           "TripAdvisor",
           "Senior Machine Learning Engineer"
          ],
          [
           "Zynga",
           "Senior AI Engineer"
          ],
          [
           "Behavox",
           "Junior Data Operations Developer"
          ],
          [
           "StockX",
           "Senior Data Engineer"
          ],
          [
           "Uni Systems",
           "Data Scientist"
          ],
          [
           "The Data Shed",
           "Senior Data Engineer"
          ],
          [
           "Riverside Research",
           "Data Analyst (TS/SCI clearance)"
          ],
          [
           "Vyro",
           "Associate Machine Learning Engineer"
          ],
          [
           "DeepMind",
           "Research Engineer, Safety"
          ],
          [
           "ProCogia",
           "Data Analytics Consultant"
          ],
          [
           "Netcentric",
           "Senior Data Analyst"
          ],
          [
           "Mapbox",
           "Senior Software Engineer, Data Platform"
          ],
          [
           "Coupang",
           "Staff Data Engineer (Data Platform)"
          ],
          [
           "ODAIA",
           "Data Engineer"
          ],
          [
           "Anaplan",
           "Sr. Data Integrations Engineer, IT Enterprise Applications"
          ],
          [
           "DeepMind",
           "Research Scientist, Safety"
          ],
          [
           "Citizen",
           "Machine Learning Engineer"
          ],
          [
           "Nielsen",
           "Live Data Operator"
          ],
          [
           "Last Mile Education Fund",
           "Data Analyst, Nonprofit"
          ],
          [
           "Standard Bank Group",
           "Data Science Graduate Programme"
          ],
          [
           "Aurora Innovation",
           "Staff Machine Learning Software Engineer, Motion Planning"
          ],
          [
           "Zynga",
           "Data Analyst 2"
          ],
          [
           "Palo Alto Networks",
           "Sr Big Data Engineer"
          ],
          [
           "Amazon.com",
           "Quality Assurance Engineer, Data Center Engineering"
          ],
          [
           "AKASA Inc.",
           "Senior Software Engineer, Computer Vision"
          ],
          [
           "Tiger Analytics",
           "Lead Data Scientist (Atlanta)"
          ],
          [
           "Datalogue GmbH",
           "Consultant Data Analytics (m/w/d)"
          ],
          [
           "OnLogic",
           "Data Architect"
          ],
          [
           "2U",
           "Business Intelligence Analyst I"
          ],
          [
           "Tempus",
           "Senior NLP Scientist"
          ],
          [
           "capital.com",
           "Principal Data Architect (London based)"
          ],
          [
           "EquipmentShare",
           "Senior Financial Data Analyst"
          ],
          [
           "The Telegraph",
           "Data Analyst"
          ],
          [
           "Intercom",
           "Staff Machine Learning Scientist"
          ],
          [
           "Coinbase",
           "Research Analyst"
          ],
          [
           "Bounteous",
           "Lead Business Intelligence Analyst (Tableau)"
          ],
          [
           "Amazon.com",
           "Sr. Business Intelligence Engineer, Denied Party Screening"
          ],
          [
           "Wurl, Inc",
           "Machine Learning Data Engineer"
          ],
          [
           "Unlearn.AI",
           "Head of Data Science"
          ],
          [
           "84.51°",
           "Director, Data Engineer (P3946)"
          ],
          [
           "Janes",
           "Research Analyst II"
          ],
          [
           "Snowflake Inc.",
           "Principal Software Engineer - Machine Learning"
          ],
          [
           "Hometap",
           "Data Engineer"
          ],
          [
           "WorkReduce",
           "Senior Manager, Data Engineer (Remote)"
          ],
          [
           "OpenAI",
           "AI Alignment - Research Engineer"
          ],
          [
           "Capco",
           "(Senior) Consultant* - Data Management"
          ],
          [
           "84.51°",
           "Senior Data Engineer (P3949)"
          ],
          [
           "Wolt",
           "Senior Data Scientist, Search"
          ],
          [
           "Netcentric",
           "Data Analyst (Reporting and Insights)"
          ],
          [
           "Publicis Groupe",
           "Senior Data Analyst"
          ],
          [
           "Prime Robotics",
           "Java Full Stack Developer-Robotics (Colorado only)"
          ],
          [
           "SSENSE",
           "Senior Manager, Data Science - Performance Marketing (Toronto, ON)"
          ],
          [
           "PA Consulting",
           "Full stack Data Scientist"
          ],
          [
           "Etsy",
           "Senior Software Engineer I, Machine Learning, Retrieval Sciences"
          ],
          [
           "Zscaler",
           "Software Engineer - Data Analytics"
          ],
          [
           "Talan",
           "Consultant Senior Data Visualisation - H/F"
          ],
          [
           "Talan",
           "Data Engineer Spark/Scala Expérimenté - H/F"
          ],
          [
           "Ocorian",
           "AML/CFT & Data Analyst"
          ],
          [
           "Publicis Groupe",
           "Programmatic Data Specialist"
          ],
          [
           "PA Consulting",
           "Data Scientist Consultant"
          ],
          [
           "Sportradar",
           "Broadcast Research Analyst"
          ],
          [
           "Trainline",
           "Data Scientist"
          ],
          [
           "NielsenIQ",
           "SQL Server and ETL Support Engineer (Tier 1/Tier 2)"
          ],
          [
           "Block",
           "Senior Machine Learning Engineer, ML Platform"
          ],
          [
           "Block",
           "Staff Machine Learning Modeler, Financial Crimes"
          ],
          [
           "AUTO1 Group",
           "Data Engineer (f/m/x)"
          ],
          [
           "Talan",
           "Data Engineer (H/F)"
          ],
          [
           "Publicis Groupe",
           "Data Analyst"
          ],
          [
           "METRO/MAKRO",
           "Pricing Data Analyst"
          ],
          [
           "Allegro",
           "Data Analyst (Trust, Safety & CX Automation Products)"
          ],
          [
           "Block",
           "Behavioral Insights Fraud Data Analyst"
          ],
          [
           "Publicis Groupe",
           "Manager, Decision Sciences"
          ],
          [
           "Talan",
           "Consultant BI / Azure Data Engineer H/F"
          ],
          [
           "Bertoni Solutions",
           "Snowflake DBT Data Engineer - Remote Job."
          ],
          [
           "CleverConnect",
           "Data Engineer / Data Analyst - Stage de fin d'études - Paris 2e (H/F)"
          ],
          [
           "Etsy",
           "Senior Machine Learning Engineer II, Search Retrieval"
          ],
          [
           "Pipedrive",
           "Product Data Analyst"
          ],
          [
           "Méthode Srl",
           "Microsoft Data Analyst"
          ],
          [
           "EX2 Outcoding",
           "Data Engineer Scientist"
          ],
          [
           "Matroid",
           "Deep Learning Engineer"
          ],
          [
           "Matroid",
           "Deep Learning Field Engineer"
          ],
          [
           "Playvalve",
           "Senior Data Analyst"
          ],
          [
           "Kaizen Analytix",
           "Data Science Manager"
          ],
          [
           "AVIV Group",
           "Data Modeler"
          ],
          [
           "Bosch Group",
           "Hardware Analysis Engineer (Airbag System)"
          ],
          [
           "Deutsche Telekom IT Solutions",
           "Team Leader - Data Engineering (REF462H)"
          ],
          [
           "Block",
           "Credit Risk Decision Scientist - Afterpay"
          ],
          [
           "Motius",
           "Senior Data Engineer (m/f/d)"
          ],
          [
           "Vianai Systems",
           "MLOps Engineer"
          ],
          [
           "Evident Insights",
           "Data Scientist"
          ],
          [
           "Kaizen Analytix",
           "Senior Cloud Data Engineer"
          ],
          [
           "Visa",
           "Graduate - Data Science, Visa Consulting & Analytics, AuNZSP"
          ],
          [
           "Sylvera",
           "Data Analyst - Ratings Ops"
          ],
          [
           "Block",
           "Decision Scientist, Risk"
          ],
          [
           "Precision for Medicine",
           "Data Management Specialist"
          ],
          [
           "Bitpanda",
           "Senior Data Engineer"
          ],
          [
           "SCB Tech X Company Limited",
           "Data Science Product Owner"
          ],
          [
           "Trailmix",
           "Analytics Engineer"
          ],
          [
           "Fivesky",
           "Data Specialist - Governance"
          ],
          [
           "Aurora Innovation",
           "Senior Functional Safety Engineer - Autonomous Driving"
          ],
          [
           "6point6",
           "Data Analyst"
          ],
          [
           "Block",
           "Senior Machine Learning Engineer, Compliance Engineering & Technology"
          ],
          [
           "Etsy",
           "Staff Product Manager, Data Pipelines"
          ],
          [
           "KMS Technology",
           "Data Engineering Lead/Data Architect"
          ],
          [
           "Méthode Srl",
           "SAP Data Analyst"
          ],
          [
           "Truelogic Software",
           "Sr Data Engineer (AWS) - Education Technology (ID: 1451)"
          ],
          [
           "Bosch Group",
           "Data Engineer (M/F/D)"
          ],
          [
           "Motius",
           "Freelancer (m/f/d) Data Engineering - Join our Tech Community"
          ],
          [
           "Amazon.com",
           "Senior Business Analyst, Tax Data Management Solutions"
          ],
          [
           "Databricks",
           "Data Operations Manager"
          ],
          [
           "FREE NOW",
           "Product Data Analyst (m/f/d) - Hamburg"
          ],
          [
           "Oura Health Ltd",
           "Data Engineer (San Francisco)"
          ],
          [
           "Cubic Telecom",
           "Business Intelligence Analyst supporting the Operations and Customer teams"
          ],
          [
           "SCB Tech X Company Limited",
           "Data Science - Data Engineer"
          ],
          [
           "NielsenIQ",
           "Senior Engineer (Machine Learning Engineer)"
          ],
          [
           "Adtalem Global Education",
           "Senior Data Engineer"
          ],
          [
           "Wasoko",
           "Business Intelligence Analyst"
          ],
          [
           "Méthode Srl",
           "Qlik Senior Data Analyst"
          ],
          [
           "Nearmap",
           "Machine Learning Engineer"
          ],
          [
           "AUTO1 Group",
           "Junior Data Engineer (f/m/x)"
          ],
          [
           "Trailmix",
           "Marketing Data Analyst"
          ],
          [
           "dentsu international",
           "Modelling / Data Science - Manager- Analytics"
          ],
          [
           "Allegro",
           "Data Analyst (Advertising)"
          ],
          [
           "Silverline",
           "Jitterbit Data Integration Architect"
          ],
          [
           "GrowUp Farms",
           "Lead Data Engineer"
          ],
          [
           "Checkout.com",
           "Data Scientist"
          ],
          [
           "ShopriteX",
           "Data Scientist III"
          ],
          [
           "Balsam Brands",
           "Manager, Data Engineering"
          ],
          [
           "Moloco",
           "Senior Data Scientist, Growth Analytics"
          ],
          [
           "Publicis Groupe",
           "Associate Director, Business Intelligence"
          ],
          [
           "Viamo",
           "Staff / Senior Machine Learning/Data Engineer"
          ],
          [
           "SCOUT",
           "Senior Computer Vision Engineer"
          ],
          [
           "Standard Bank Group",
           "80389998 - Engineer, Data"
          ],
          [
           "Kaizen Analytix",
           "Principal Data Scientist"
          ],
          [
           "lastminute.com",
           "Growth Data Analyst"
          ],
          [
           "Rokt",
           "Senior Data Analyst"
          ],
          [
           "modl.ai",
           "Member of Technical Staff - Research (Deep Learning)"
          ],
          [
           "Experian",
           "Data Engineer Specialist"
          ],
          [
           "Motius",
           "Senior Solution Architect (m/f/d) - Data Engineering"
          ],
          [
           "Experian",
           "Sr. Data Developer (Remote), Experian Consumer Services"
          ],
          [
           "Celonis",
           "Software Engineer - Machine Learning"
          ],
          [
           "SGS",
           "Master or PhD Biomedical Sciences - Data Manager Clinical Trials"
          ],
          [
           "CD PROJEKT RED",
           "Analytics Engineer"
          ],
          [
           "ServiceNow",
           "Staff DevOps Engineer - Big Data - Federal"
          ],
          [
           "Farfetch",
           "Data Infrastructure Product Manager"
          ],
          [
           "Janes",
           "Research Analyst I"
          ],
          [
           "Méthode Srl",
           "Qlik Senior Data Analyst (Full Remote)"
          ],
          [
           "NielsenIQ",
           "Senior Engineer (Data Engineer)"
          ],
          [
           "Level AI",
           "Machine Learning Engineer - NLP (Remote, US)"
          ],
          [
           "Méthode Srl",
           "SAP Senior Data Analyst (Full Remote)"
          ],
          [
           "NielsenIQ",
           "Senior Insight Analyst"
          ],
          [
           "Whatnot",
           "Senior Data Scientist"
          ],
          [
           "Méthode Srl",
           "Data Scientist"
          ],
          [
           "Roosh",
           "Unreal Engine 3D developer (Zibra AI)"
          ],
          [
           "Precision Medicine Group",
           "Data Management Specialist"
          ],
          [
           "Trailmix",
           "Senior Game Data Analyst"
          ],
          [
           "Méthode Srl",
           "Qlik Data Analyst"
          ],
          [
           "Natera",
           "Associate Director, Laboratory Data Management and Programming"
          ],
          [
           "Uniphore",
           "Enterprise Data Architect"
          ],
          [
           "Méthode Srl",
           "SAP Data Engineer"
          ],
          [
           "Deutsche Telekom IT Solutions",
           "Data engineer"
          ],
          [
           "Vianai Systems",
           "Data Scientist - Germany"
          ],
          [
           "lastminute.com",
           "AB-Testing Data Analyst"
          ],
          [
           "PlayStation Global",
           "Sr. Machine Learning Engineer"
          ],
          [
           "Matroid",
           "Full Stack Engineer for Computer Vision Products"
          ],
          [
           "Publicis Groupe",
           "Business Intelligence Developer 2"
          ],
          [
           "METRO/MAKRO",
           "Expert/Data Analyst (m/f/d) Customer Relationship Management (CRM)"
          ],
          [
           "MongoDB",
           "Senior Engineer, Database Tools and Replicator"
          ],
          [
           "FREE NOW",
           "Product Data Analyst (m/f/d) - Barcelona"
          ],
          [
           "Méthode Srl",
           "Microsoft Senior Data Analyst"
          ],
          [
           "SCB Tech X Company Limited",
           "Data Scientist"
          ],
          [
           "Méthode Srl",
           "SAP Senior Data Analyst"
          ],
          [
           "carsales",
           "Data Analyst"
          ],
          [
           "ShopriteX",
           "Digital Commerce: Senior Supply Chain Data Scientist (Sixty60)"
          ],
          [
           "Samsara",
           "Data Engineer"
          ],
          [
           "ShopriteX",
           "Data Analyst (Jnr / Mid / Snr or Lead)"
          ],
          [
           "Méthode Srl",
           "SAP Senior Data Engineer"
          ],
          [
           "Amazon.com",
           "Business Intelligence Engineer, ITS-BI"
          ],
          [
           "EX2 Outcoding",
           "Machine Learning Engineer"
          ],
          [
           "Publicis Groupe",
           "Data Strategy Manager (CRM & Loyalty, Consumer Experience, eCommerce)"
          ],
          [
           "Bosch Group",
           "Research Engineer  Electrolysis and Fuel Cell Experiments"
          ],
          [
           "Baresquare",
           "Graduate Data Analyst"
          ],
          [
           "Mindvalley",
           "Senior Data Analyst"
          ],
          [
           "AccorCorpo",
           "Analytics Engineer - ENA London, Warsaw (F/M)"
          ],
          [
           "Brightspeed",
           "Senior Data Engineer, Operations"
          ],
          [
           "Dropbox",
           "Senior Infrastructure Software Engineer, ML Platform"
          ],
          [
           "Databricks",
           "Senior Data Engineer"
          ],
          [
           "Playvalve",
           "Senior Data Scientist"
          ],
          [
           "Motius",
           "Senior Project Manager & Product Owner (m/f/d) - Data Engineering"
          ],
          [
           "CI&T",
           "[Job  10464] Data Scientist Master, Brazil"
          ],
          [
           "Vianai Systems",
           "Data Scientist"
          ],
          [
           "Playvalve",
           "Senior Data Engineer"
          ],
          [
           "Tubi",
           "Lead Analytics Engineer"
          ],
          [
           "Farfetch",
           "Junior Data Engineer"
          ],
          [
           "ShopriteX",
           "Machine Learning Engineer"
          ],
          [
           "C. Hoare & Co.",
           "Data Quality Analyst - 12 month FTC"
          ],
          [
           "iTech Media",
           "Commercial Data Analyst"
          ],
          [
           "FREE NOW",
           "Product Data Analyst (m/f/d) - Berlin"
          ],
          [
           "Amazon.com",
           "Data Engineer (Level 5), Global Analytics and Insights (GAIN)"
          ],
          [
           "Elastic",
           "Enterprise Search - Senior Product Manager- AI/ML"
          ],
          [
           "CGG",
           "Imaging Geophysicist / Scientist - 2023 Graduate Programme"
          ],
          [
           "Dropbox",
           "Staff Infrastructure Software Engineer, ML Platform"
          ],
          [
           "Publicis Groupe",
           "Data Engineer"
          ],
          [
           "Block",
           "Senior Data Scientist, Commerce Platform - Inventory"
          ],
          [
           "Noze",
           "Machine Learning Platform Lead"
          ],
          [
           "Clarkston Consulting",
           "Senior Data Engineer"
          ],
          [
           "PSI CRO",
           "Data Manager"
          ],
          [
           "CGG",
           "Imaging Geophysicist"
          ],
          [
           "ServiceNow",
           "India FP&A - Sr.Manager (Bangalore or Mumbai)"
          ],
          [
           "Our Future Health",
           "Data Manager - Airlock (18 month FTC)"
          ],
          [
           "Adevinta",
           "Data Scientist - Stagiaire"
          ],
          [
           "CI&T",
           "[Job 10455] Data Developer Senior, Brazil"
          ],
          [
           "Carta",
           "Analytics Engineer"
          ],
          [
           "Visa",
           "Sr. System Analyst (Robotics Process Automations)"
          ],
          [
           "OZ",
           "Machine Learning Engineer, Data Analytics & AI"
          ],
          [
           "Striveworks",
           "Data Scientist"
          ],
          [
           "Brightspeed",
           "Senior Data Engineer, Customer Data Platform"
          ],
          [
           "Locus Robotics",
           "Deployment Specialist -(Travel, Early Career Robotics)-Central to East Coast - US"
          ],
          [
           "Peloton",
           "Manager, Apparel Data Analytics & CRM"
          ],
          [
           "Montevideo Labs",
           "Machine Learning Engineer"
          ],
          [
           "ExpressVPN",
           "Data Engineering Lead"
          ],
          [
           "84.51°",
           "Data Scientist - Media Insights (P3459)."
          ],
          [
           "Raft",
           "Associate AI/ML Engineer"
          ],
          [
           "CloudZero",
           "Senior Backend Engineer - Core Data Team"
          ],
          [
           "Bear Robotics",
           "Bear Robotics"
          ],
          [
           "Collibra",
           "Senior Enterprise Architect, Data Quality"
          ],
          [
           "Roosh",
           "Middle ML Engineer/Developer (Graai)"
          ],
          [
           "ClearBank",
           "Head of Data Privacy"
          ],
          [
           "Visa",
           "Sr. Data Engineer - ASM Analytics"
          ],
          [
           "Adevinta",
           "Data Engineer - Team Data Discovery (f/m/x)"
          ],
          [
           "dentsu international",
           "Modelling / Data Science - Sr. Analyst - Analytics"
          ],
          [
           "PA Consulting",
           "AWS Analytics and Machine Learning Engineer"
          ],
          [
           "Angi",
           "Business Intelligence Engineer (Looker)"
          ],
          [
           "Roosh",
           "Sales B2B (ZibraAI)"
          ],
          [
           "Schonfeld",
           "Senior Data Engineer"
          ],
          [
           "Govini",
           "Machine Learning Engineer"
          ],
          [
           "Business & Decision",
           "Consultant(e) confirmé(e) ETL"
          ],
          [
           "Codete",
           "Data & AI Engineer"
          ],
          [
           "ShopriteX",
           "Analytics Engineer II"
          ],
          [
           "BESIX",
           "Senior Databricks Developer"
          ],
          [
           "Roblox",
           "Principal Machine Learning Engineer- Economy"
          ],
          [
           "Adyen",
           "Team Lead, MLops"
          ],
          [
           "Roosh",
           "Machine Learning Engineer (Zibra AI)"
          ],
          [
           "John Snow Labs",
           "Product Manager for Healthcare AI Products"
          ],
          [
           "Shift Technology",
           "Data Scientist - English speaker (Remote)"
          ],
          [
           "Qontigo",
           "Trainee, Business Intelligence"
          ],
          [
           "Kambi",
           "Data Engineer"
          ],
          [
           "Bosch Group",
           "Azure AI/ML Expert"
          ],
          [
           "Futurae",
           "Software Developer / Data Analyst (Remote)"
          ],
          [
           "Dark Wolf Solutions",
           "Software/Data Engineer"
          ],
          [
           "Foursquare",
           "Senior Manager, Data Science (Foursquare Labs, Inc., New York, NY)"
          ],
          [
           "Aristotle",
           "Data Engineer"
          ],
          [
           "Frazer-Nash Consultancy",
           "Senior Data Architect"
          ],
          [
           "Adevinta",
           "Senior Data Engineer (d/f/m)"
          ],
          [
           "Epic Creations Inc.",
           "Senior Data Analyst"
          ],
          [
           "KoBold Metals",
           "Applied Scientist"
          ],
          [
           "Peloton",
           "Associate Analytics Engineer"
          ],
          [
           "Flock Safety",
           "Machine Learning Engineer"
          ],
          [
           "JFrog",
           "Senior DevOps Data Engineer (DBA)"
          ],
          [
           "Cedar",
           "Senior Data Scientist (Data Products)"
          ],
          [
           "2K",
           "Data Engineer II"
          ],
          [
           "Back Market",
           "Senior Data Analyst -  Growth & Customer Engagement"
          ],
          [
           "Bosch Group",
           "Data Engineer - Architecting and Developing Bosch-wide Analytical Solutions (M/F)"
          ],
          [
           "Adevinta",
           "Senior Data Analyst Coches.net"
          ],
          [
           "Canva",
           "Senior Machine Learning Engineer - Recommendations/Search/AI (Open to remote across ANZ)"
          ],
          [
           "STOW Group",
           "Un.e Ingénieur.e Logiciel Robotics"
          ],
          [
           "ShopBack",
           "Chatbot Specialist"
          ],
          [
           "Captivation Software",
           "Junior Software Engineer - Python / Java / AI / ML"
          ],
          [
           "Airbnb",
           "Senior Machine Learning Engineer, Community Support Platform"
          ],
          [
           "Utility Warehouse",
           "Partner and Growth Data Analyst"
          ],
          [
           "Tiger Analytics",
           "Manager - Data Engineering"
          ],
          [
           "Visa",
           "Senior Data Scientist"
          ],
          [
           "Natixis in Portugal",
           "Senior Big Data Engineer  CIB"
          ],
          [
           "Publicis Groupe",
           "Data Engineer (H/F) - Alternance"
          ],
          [
           "Publicis Groupe",
           "Lead Business Intelligence Developer"
          ],
          [
           "Bosch Group",
           "Senior Data Engineer - Architecting and Developing Bosch-wide Analytical Solutions (M/F)"
          ],
          [
           "Verisk",
           "Senior Research Analyst -L48"
          ],
          [
           "Loblaw Digital",
           "Senior Machine Learning Engineer - Retail Media Platform"
          ],
          [
           "WHOOP",
           "Data Scientist (Coaching)"
          ],
          [
           "Pipedrive",
           "Data Science Lead"
          ],
          [
           "dentsu international",
           "Analyst- Data Management"
          ],
          [
           "SoFi",
           "Data Scientist"
          ],
          [
           "AFRY",
           "Data Engineer"
          ],
          [
           "Applied Physics",
           "Data Scientist"
          ],
          [
           "Futurae",
           "Software / ML Engineer (Remote)"
          ],
          [
           "SoFi",
           "Staff Data Scientist, Invest"
          ],
          [
           "Publicis Groupe",
           "Head of Data & Analytics"
          ],
          [
           "KMS Technology",
           "Senior AI Engineer"
          ],
          [
           "Deliveroo",
           "Data Analyst, Marketing"
          ],
          [
           "Vosker",
           "Data Architect"
          ],
          [
           "Tiger Analytics",
           "Lead Data Scientist (DL & AI Modeling, Forecasting) (Canada)"
          ],
          [
           "Unit4",
           "Cloud FinOps (Data Analyst Engineer)"
          ],
          [
           "Guidewire Software",
           "Data Analyst - Chennai"
          ],
          [
           "Publicis Groupe",
           "Data Analyst (H/F) - Alternance"
          ],
          [
           "insightsoftware",
           "Data Engineer II"
          ],
          [
           "insightsoftware",
           "Manager, Engineering (C#, .NET CORE, SQL, React, AWS/Azure, ETL, SAP Systems)"
          ],
          [
           "Talan",
           "Consultant(e) Power BI & Azure - H/F"
          ],
          [
           "Bosch Group",
           "Financial Data Analyst (Power BI, English)"
          ],
          [
           "Verisk",
           "Business Intelligence Architect"
          ],
          [
           "Experfy Inc",
           "Senior Business Analyst/Data Analytics"
          ],
          [
           "Amazon.com",
           "SDM, ML Engineering, Amazon"
          ],
          [
           "GlobeMed Group",
           "Senior BI Developer"
          ],
          [
           "Zest AI",
           "Data Scientist"
          ],
          [
           "Sigma Defense",
           "Senior SMWDC Data Analytics Team Lead"
          ],
          [
           "Motional",
           "Senior Autonomy Integration Engineer - Commercialization Team"
          ],
          [
           "BlackSky",
           "Senior Software Engineer (Data Engineering)"
          ],
          [
           "Sogetrel",
           "Alternance - Assistant Data Analyst H/F"
          ],
          [
           "MealSuite",
           "Nutrition Data Management Specialist"
          ],
          [
           "CI&T",
           "[10418 ] Data Developer Master, Brazil"
          ],
          [
           "Palo Alto Networks",
           "Principal Machine Learning Engineer (DLP)"
          ],
          [
           "Cedar",
           "Data Scientist III (Data Products)"
          ],
          [
           "Believe",
           "Data Specialist"
          ],
          [
           "BlaBlaCar",
           "Data Engineer - BlaBlaCar Daily"
          ],
          [
           "Zscaler",
           "Sr Data Engineer - Machine Learning, Data Cleaning, Streaming, Pipelining, Preprocessing, ETL"
          ],
          [
           "InnovaFeed",
           "Junior Data Engineer M/W"
          ],
          [
           "Publicis Groupe",
           "Product Data Strategist (Hybrid)"
          ],
          [
           "dentsu international",
           "DB/ETL Tech Lead"
          ],
          [
           "Databricks",
           "Customer Data Engineer"
          ],
          [
           "Experian",
           "Senior Data Analyst"
          ],
          [
           "Employer Direct Healthcare",
           "Data Engineer"
          ],
          [
           "Etsy",
           "Software Engineer II, Machine Learning"
          ],
          [
           "Doctor Care",
           "Data Operations Administrator ( 3 Month Contract )"
          ],
          [
           "Sertis",
           "Senior Data Analyst - Business Intelligence"
          ],
          [
           "Fluence",
           "Data Scientist - Battery Energy Storage System"
          ],
          [
           "Cubic Telecom",
           "Business Intelligence Analyst - Supporting Finance and Commercial teams"
          ],
          [
           "Natixis in Portugal",
           "Data Analyst w/ Business Intelligence - CIB"
          ],
          [
           "2K",
           "Senior Data Engineer, Platforms"
          ],
          [
           "Spreedly",
           "Data Analyst"
          ],
          [
           "6point6",
           "Data Architect"
          ],
          [
           "Flagship Pioneering, Inc.",
           "Deep Learning (AI) Lead"
          ],
          [
           "Unit4",
           "Senior Cloud FinOps (Data Analyst Engineer)"
          ],
          [
           "StackAdapt",
           "Data Analyst"
          ],
          [
           "Experian",
           "Data Scientist (Remote USA ONLY)"
          ],
          [
           "AUTO1 Group",
           "Lead Data Scientist/ Data Science Manager (f/m/x)"
          ],
          [
           "PEAK6",
           "Senior Machine Learning Scientist"
          ],
          [
           "Sertis",
           "Senior Machine Learning Engineer"
          ],
          [
           "Amazon.com",
           "Senior Applied Scientist, Sponsored Products, Demand Identification"
          ],
          [
           "Jalasoft",
           "Artificial Intelligence and Machine Learning Developer"
          ],
          [
           "Addepar",
           "Sr. Manager, Portfolio Data Engineering"
          ],
          [
           "dentsu international",
           "Modelling / Data Science - Lead Analyst - Analytics"
          ],
          [
           "OPPO Research Center",
           "Senior Research Scientist/Engineer -Video Understanding"
          ],
          [
           "Informa Group Plc.",
           "Data Architect - 12 Month FTC"
          ],
          [
           "Zego",
           "Senior Analytics Engineer"
          ],
          [
           "CGG",
           "NLP Engineer"
          ],
          [
           "BEES",
           "Data Scientist | Bees Data"
          ],
          [
           "Publicis Groupe",
           "Data Scientist - Senior Manager (H/F)"
          ],
          [
           "Eurofins",
           "Specification Coordinator - Data Management"
          ],
          [
           "Capco",
           "Data Engineer"
          ],
          [
           "Sertis",
           "Data Analytics, Manager"
          ],
          [
           "Syngenta Group",
           "Senior Master Data Engineer"
          ],
          [
           "OZ",
           "Azure Data Engineer"
          ],
          [
           "Sertis",
           "Senior Data Analyst - Business Insights"
          ],
          [
           "ServiceNow",
           "Software QA Engineer - Machine Learning QE"
          ],
          [
           "Talan",
           "Consultant(e) Data Analytics - H/F"
          ],
          [
           "Tiger Analytics",
           "Power BI Architect"
          ],
          [
           "Farfetch",
           "Senior Data Product Manager"
          ],
          [
           "Zoox",
           "Business Intelligence Lead"
          ],
          [
           "Riverside Research",
           "Artificial Intelligence / Machine Learning Engineer - Sr"
          ],
          [
           "Illuma Technology",
           "Data Analyst"
          ],
          [
           "Squarespace",
           "Sr. Data Engineer, Finance Products (Remote)"
          ],
          [
           "Syngenta Group",
           "MLOps Engineer"
          ],
          [
           "Snorkel AI",
           "Applied Research Scientist"
          ],
          [
           "NielsenIQ",
           "Junior Insight Analyst"
          ],
          [
           "Wolt",
           "Senior Data Analyst (Wolt Market)"
          ],
          [
           "Experian",
           "Data Engineer - 12 Month FTC - Spark, Glue"
          ],
          [
           "harrison.ai",
           "Senior Machine Learning Engineer (Deep Learning/Computer Vision)"
          ],
          [
           "SoFi",
           "Analytics Engineer"
          ],
          [
           "Surprise.com",
           "Senior Business Data Analyst"
          ],
          [
           "Innovaccer",
           "Data Scientist"
          ],
          [
           "Tesco Bengaluru",
           "Manager-Business Intelligence&Data Warehousing"
          ],
          [
           "Level AI",
           "Backend AI Engineer  (Remote, US)"
          ],
          [
           "SGS",
           "Data Analyst"
          ],
          [
           "Sia Partners",
           "Data Engineer Consultant"
          ],
          [
           "Tiger Analytics",
           "Data Scientist (Canada)"
          ],
          [
           "Beyond Finance",
           "Senior Data Engineer"
          ],
          [
           "CRI Group",
           "Business Intelligence Expert - 4335"
          ],
          [
           "tiket.com",
           "Business Intelligence"
          ],
          [
           "Employment Hero",
           "Data Engineer"
          ],
          [
           "Uni Systems",
           "Business Intelligence Expert"
          ],
          [
           "AUTO1 Group",
           "Senior Machine Learning Engineer (f/m/x)"
          ],
          [
           "Causaly",
           "Senior Product Manager - AI & Data Products"
          ],
          [
           "Sertis",
           "Senior Software Engineer (AI Asset Mgmt Team)"
          ],
          [
           "The Data Foundry",
           "Data Engineer (Melbourne)"
          ],
          [
           "Restaurant365",
           "Senior Business Intelligence Analyst"
          ],
          [
           "Aimpoint Digital",
           "Lead Data Engineer"
          ],
          [
           "Nubank",
           "Senior Machine Learning Engineer - afirmativa para pessoas negras"
          ],
          [
           "Aspirion",
           "Director of Business Intelligence"
          ],
          [
           "Ubisoft",
           "Data Analyst"
          ],
          [
           "Stripe",
           "Software Engineer - Machine Learning Infrastructure"
          ],
          [
           "Matterport",
           "Sr / Staff Machine Learning Operations Engineer"
          ],
          [
           "DoubleVerify",
           "Sr. Data Engineer"
          ],
          [
           "Block",
           "Senior Business Intelligence Analyst, Lead Gen & SEO Reporting"
          ],
          [
           "Supernova Technology",
           "Data Architect"
          ],
          [
           "Ontic",
           "Data Integration Engineer"
          ],
          [
           "Netcentric",
           "(Senior) Digital Analytics Engineer"
          ],
          [
           "PurposeMed",
           "Data Scientist"
          ],
          [
           "Sertis",
           "Senior Data Scientist"
          ],
          [
           "6sense Insights, Inc.",
           "Data Analyst II"
          ],
          [
           "NielsenIQ",
           "Analista de Business Intelligence"
          ],
          [
           "Binance",
           "Research Data Analyst"
          ],
          [
           "DoorDash",
           "Machine Learning Scientist - ETA & Routing"
          ],
          [
           "Magic Leap",
           "Computer Vision Researcher / Engineer, Localization"
          ],
          [
           "Jellyfish",
           "Data engineer"
          ],
          [
           "Excella",
           "Data Scientist"
          ],
          [
           "Experian",
           "Data Analyst - flexible on location"
          ],
          [
           "Makro PRO",
           "Senior Manager - Business Intelligence"
          ],
          [
           "Sia Partners",
           "(Senior) Energy Data Scientist"
          ],
          [
           "Boohoo Group",
           "Procurement Data Analyst"
          ],
          [
           "Neuralink",
           "Imaging & Histology Specialist"
          ],
          [
           "Verisk",
           "Data Analyst"
          ],
          [
           "TripAdvisor",
           "Data Engineer - TheFork"
          ],
          [
           "OZ",
           "Sr. Consultant - Azure Data Engineer"
          ],
          [
           "Sia Partners",
           "Senior Data Science Consultant"
          ],
          [
           "H&M Group",
           "Head of AI, Analytics and Data"
          ],
          [
           "Intuita Consulting Ltd",
           "BI (Business Intelligence) Developer (UK Wide)"
          ],
          [
           "Cruise LLC",
           "Senior Staff TLM, Machine Learning Infrastructure"
          ],
          [
           "NielsenIQ",
           "Customer Success & Insight Analyst"
          ],
          [
           "Farfetch",
           "Machine Learning Engineer - Fraud"
          ],
          [
           "NielsenIQ",
           "Analyst - Business Intelligence (US Remote In Eastern Time) FMCG, CPG and Retail Preferred"
          ],
          [
           "Enpal GmbH",
           "(Senior) Business Intelligence Analyst SCM (f/m/x)"
          ],
          [
           "Enpal GmbH",
           "Business Intelligence Analyst (m/f/d)"
          ],
          [
           "Averna",
           "Vision Engineer"
          ],
          [
           "Adyen",
           "DataOps Engineer, Streaming"
          ],
          [
           "iTechScope",
           "Senior Data Scientist / NLP Engineer"
          ],
          [
           "Fyusion, Inc.",
           "Data Analyst"
          ],
          [
           "Amazon.com",
           "Business Intelligence Engineer, Subscribe and Save"
          ],
          [
           "Talan",
           "Sr Data Engineer avec Francaise"
          ],
          [
           "Monzo",
           "Data Analyst, Borrowing"
          ],
          [
           "ATB Financial",
           "Data Developer, Client Experience Metrics"
          ],
          [
           "Tesco Bengaluru",
           "Applied Data Scientist"
          ],
          [
           "Sustainment",
           "Manufacturing Data Scientist"
          ],
          [
           "Sertis",
           "Data Science Tech Lead"
          ],
          [
           "ORFIUM",
           "Senior BI Analyst (HYBRID)"
          ],
          [
           "Locus Robotics",
           "Big Data Engineer"
          ],
          [
           "Sertis",
           "Senior Quantitative Researcher (AI Asset Mgmt Team)"
          ],
          [
           "ARCHIMED",
           "SQL Server BI Developer"
          ],
          [
           "Block",
           "Senior Data Analyst, Credit Policy"
          ],
          [
           "DoorDash",
           "Data Analyst, Quality Assurance"
          ],
          [
           "ORFIUM",
           "Business Intelligence Analyst (HYBRID)"
          ],
          [
           "Novetta",
           "Research Scientist"
          ],
          [
           "OZ",
           "Project Manager, Data Analytics & AI"
          ],
          [
           "Publicis Groupe",
           "Senior Data Analyst (Remote)"
          ],
          [
           "Zoox",
           "Senior Stability Analytics Engineer"
          ],
          [
           "Govini",
           "Data Scientist"
          ],
          [
           "Motional",
           "Data Pipeline Engineer"
          ],
          [
           "Via",
           "Senior Data Infrastructure Engineer"
          ],
          [
           "Sertis",
           "Quant Researcher (AI Asset Mgmt Team)"
          ],
          [
           "Lightning AI",
           "Staff Developer Advocate - AI & Machine Learning"
          ],
          [
           "Amazon.com",
           "Principal Applied Scientist, Amazon Search"
          ],
          [
           "FE fundinfo",
           "Data Engineer"
          ],
          [
           "Sertis",
           "Data Analyst - Business Insights"
          ],
          [
           "Celonis",
           "Staff Software Engineer - SAP Data Integration"
          ],
          [
           "StubHub",
           "GCS Business Intelligence Analyst"
          ],
          [
           "Aimpoint Digital",
           "Senior Data Engineer"
          ],
          [
           "Getty Images",
           "Senior Machine Learning Engineer (15617) Remote- Canada"
          ],
          [
           "SMART Technologies",
           "Business Intelligence Analyst (D363)"
          ],
          [
           "Sertis",
           "Data Analyst - Business Intelligence"
          ],
          [
           "Bosch Group",
           "Software Engineer for Real-Driving Data Analysis Applications"
          ],
          [
           "Sertis",
           "Senior Data Engineer"
          ],
          [
           "Sertis",
           "Senior QA Engineer (AI Asset Mgmt Team)"
          ],
          [
           "Halvik",
           "Logistics Data Analyst"
          ],
          [
           "Amazon.com",
           "Senior Applied Scientist, Amazon Search"
          ],
          [
           "Experian",
           "Senior Data Scientist"
          ],
          [
           "Atlassian",
           "Principal Engineer, Data Productivity"
          ],
          [
           "Neural Magic",
           "Senior Machine Learning Engineer"
          ],
          [
           "Believe",
           "Director, Data Analytics & Insights"
          ],
          [
           "NielsenIQ",
           "Entry Level (Recent Tech Grads) BI Analyst - MUST BE US-BASED"
          ],
          [
           "Posh",
           "Data Analyst"
          ],
          [
           "GuidePoint Security LLC",
           "Business Intelligence Analyst- Domo- Remote (Anywhere in the U.S.)"
          ],
          [
           "Enpal GmbH",
           "(People) Business Intelligence Analyst (f/m/x)"
          ],
          [
           "Outreach.io",
           "Senior Director of Business Intelligence and Analytics"
          ],
          [
           "CGG",
           "Machine Learning Engineer"
          ],
          [
           "Restaurant365",
           "Business Intelligence Analyst"
          ],
          [
           "Sia Partners",
           "Managing Director Data Science"
          ],
          [
           "Beyond Finance",
           "Senior Business Intelligence Engineer"
          ],
          [
           "Sertis",
           "Data Analyst Tech Lead"
          ],
          [
           "Jochen Schweizer mydays Group",
           "Director (m/f/d) of Business Intelligence"
          ],
          [
           "Publicis Groupe",
           "Business Intelligence Analyst"
          ],
          [
           "Verisk",
           "Data Engineer I (BLD)"
          ],
          [
           "Eurofins",
           "Entry Level Data Scientist"
          ],
          [
           "Etsy",
           "Senior ML Engineer I"
          ],
          [
           "Block",
           "Staff Business Intelligence Engineer, Compliance Engineering & Technology"
          ],
          [
           "Employment Hero",
           "Data Analyst"
          ],
          [
           "Self Financial",
           "Lead Data Engineer"
          ],
          [
           "Abcam Plc",
           "Head of Business Intelligence and Analytics"
          ],
          [
           "PicnicHealth",
           "Machine Learning Engineer"
          ],
          [
           "The Fork",
           "Data Engineer"
          ],
          [
           "Riverside Research",
           "Artificial Intelligence / Machine Learning Engineer - Jr"
          ],
          [
           "Sia Partners",
           "Senior Consultant in Data Science"
          ],
          [
           "ServiceNow",
           "Staff Data Engineer"
          ],
          [
           "Verisk",
           "Data Engineer"
          ],
          [
           "Excelity",
           "Data Engineer (Req ID: 2331)"
          ],
          [
           "Gameloft",
           "Data Engineer"
          ],
          [
           "SpaceX",
           "Sr. Software Engineer, Data (Starshield)"
          ],
          [
           "Baltic Amadeus",
           "Data Engineer"
          ],
          [
           "Talan",
           "Developer - Big Data"
          ],
          [
           "CyberCube",
           "Data Engineer"
          ],
          [
           "Clarifai Inc.",
           "Senior Software Engineer, Machine Learning Infrastructure"
          ],
          [
           "Topaz Labs",
           "Senior Software Engineer, AI / Core Optimization"
          ],
          [
           "Spreedly",
           "Analytics Engineer"
          ],
          [
           "Qualtrics",
           "Data Quality Analyst"
          ],
          [
           "Contentsquare",
           "Marketing Data Analyst"
          ],
          [
           "Silverbird",
           "Data Engineer with Web Scraping Expertise"
          ],
          [
           "Publicis Groupe",
           "Procurement Global Data Analyst"
          ],
          [
           "Tavus",
           "Machine Learning Engineer"
          ],
          [
           "PlayStation Global",
           "Machine Learning Engineer II"
          ],
          [
           "Sia Partners",
           "Machine Learning Engineer/DevOps Engineer"
          ],
          [
           "Kooth",
           "Senior Data Scientist - NLP"
          ],
          [
           "Nansen",
           "Staff Data Engineer"
          ],
          [
           "AFRY",
           "Data Analyst"
          ],
          [
           "Spruce",
           "Data Scientist"
          ],
          [
           "Cohesity",
           "SMTS - ML Engineer"
          ],
          [
           "Block",
           "Data Scientist Lead, Square F&S"
          ],
          [
           "Cermati.com",
           "Lead Data Engineer- Bangalore"
          ],
          [
           "iwoca",
           "Data Scientist (Data Analyst)"
          ],
          [
           "Kooth",
           "Senior Data Scientist - Personalisation"
          ],
          [
           "Eurofins",
           "Data Management Supervisor"
          ],
          [
           "Arize AI",
           "Machine Learning Sales Engineer"
          ],
          [
           "BEON.tech",
           "Data Analyst for an Industry-Leading Management Software for Private Practices"
          ],
          [
           "NotCo",
           "Machine Learning Manager"
          ],
          [
           "Believe",
           "Director, Data Analytics and Insights"
          ],
          [
           "Glooko, Inc.",
           "Data Analyst"
          ],
          [
           "NiSUS Technologies",
           "IC19DS1 - Associate Data Scientist - Cleared"
          ],
          [
           "Addepar",
           "Sr. Data Analyst - Product Analytics"
          ],
          [
           "Experian",
           "Data Modeller"
          ],
          [
           "Alarm.com",
           "Senior Linux Software Engineer  Robotics"
          ],
          [
           "TAL",
           "BI Solution Designer"
          ],
          [
           "Unqork",
           "Data Analyst"
          ],
          [
           "Sylvera",
           "Data Analyst - (Ratings Ops)"
          ],
          [
           "BEON.tech",
           "Data Engineer for an Industry-Leading Management Software for Private Practices"
          ],
          [
           "SoundCloud",
           "Senior Data Scientist- Search and Recommendation"
          ],
          [
           "Supernal",
           "Systems Integration Engineer, Aircraft Components"
          ],
          [
           "Publicis Groupe",
           "Big Data Engineer"
          ],
          [
           "Etsy",
           "Engineer I (MLOps)"
          ],
          [
           "The Fork",
           "Senior Data Engineer"
          ],
          [
           "NiSUS Technologies",
           "IC21D3 - Sr Data Scientist - Cleared"
          ],
          [
           "8x8, Inc.",
           "Business Intelligence Developer"
          ],
          [
           "Seamless.AI",
           "Senior Data Engineer - Remote US"
          ],
          [
           "Brainlab",
           "Project Manager - Software Development for Surgical Data Science"
          ],
          [
           "Visa",
           "SW Engineer: Big Data/Risk Systems, Sr. Consultant Level"
          ],
          [
           "Zscaler",
           "Senior Software Engineer - Java, BigData, Distributed, Spark / Kafka, NoSQL"
          ],
          [
           "dentsu international",
           "Data Engineer"
          ],
          [
           "Confused.com",
           "Senior BI Analyst"
          ],
          [
           "Agoda",
           "Senior Data Analyst (Bangkok Based, Relocation Provided)"
          ],
          [
           "Foundry",
           "Lead Research Engineer, Machine Learning"
          ],
          [
           "Tessian",
           "Data Scientist"
          ],
          [
           "Block",
           "Data Scientist, Commerce Platform - Inventory"
          ],
          [
           "Liquid Advertising",
           "Junior Data Analyst"
          ],
          [
           "Motional",
           "Senior Machine Learning Engineer: Radar Camera Fusion"
          ],
          [
           "Palo Alto Networks",
           "Senior Machine Learning Engineer (DLP)"
          ],
          [
           "Verily",
           "Research Engineer, Medical NLP/LLMs"
          ],
          [
           "Riverside Research",
           "Data Scientist (TS/SCI clearance)"
          ],
          [
           "Believe",
           "HR Data Analyst"
          ],
          [
           "TripAdvisor",
           "Senior Marketing Data Analyst"
          ],
          [
           "NiSUS Technologies",
           "IC22DSP - Principal Data Scientist - Cleared"
          ],
          [
           "Block",
           "Staff Data Scientist, CashApp Compliance Engineering & Technology"
          ],
          [
           "Adevinta",
           "Data Analyst Coches.net"
          ],
          [
           "Bosch Group",
           "PhD in Radar Deep Learning Perception"
          ],
          [
           "Experian",
           "Executive Data Manager (Vaga afirmativa para mulheres)"
          ],
          [
           "Flywheel Exchange",
           "Machine Learning Solutions Engineer"
          ],
          [
           "Databricks",
           "Senior or Staff+ Software Engineer - Large Language Models"
          ],
          [
           "Deezer",
           "Data Engineer - Data Platform m/f/d"
          ],
          [
           "Publicis Groupe",
           "Director, Creative Media Operations (Data Engineer)"
          ],
          [
           "ZipRecruiter",
           "Data Science Manager"
          ],
          [
           "Version 1",
           "Head of Data - Digital & Cloud"
          ],
          [
           "AlphaSights",
           "Legal and Compliance Data Analyst"
          ],
          [
           "Airbnb",
           "Senior Staff Data Scientist - Inference, Marketing Technology"
          ],
          [
           "Palo Alto Networks",
           "Senior Engineer Software (ML Applications NLP)"
          ],
          [
           "Riverside Research",
           "Senior Data Scientist (TS/SCI clearance)"
          ],
          [
           "Quizlet",
           "Sr. Machine Learning Engineer, Content Discovery"
          ],
          [
           "Verisk",
           "Data Scientist"
          ],
          [
           "Palo Alto Networks",
           "Attack Surface Data Analyst (Xpanse)"
          ],
          [
           "Visa",
           "Sr. Data Scientist"
          ],
          [
           "Ava Labs",
           "Senior Data Engineer, Finance"
          ],
          [
           "2U",
           "Data Engineer III"
          ],
          [
           "Riverside Research",
           "GEOINT Data Scientist"
          ],
          [
           "Everly Health, Inc.",
           "Data Analytics Lead"
          ],
          [
           "AUTO1 Group",
           "(Junior) Data Analyst (f/m/x)"
          ],
          [
           "Visa",
           "Data Scientist, Sr. Consultant - Cybersecurity AI Research & Products"
          ],
          [
           "BEON.tech",
           "Data Infrastructure Engineer for a Management Software for Private Practices"
          ],
          [
           "Arize AI",
           "Product Manager, AI/ML"
          ],
          [
           "Applied Physics",
           "Machine Learning Specialist"
          ],
          [
           "Palo Alto Networks",
           "Principal Software Engineer  (AI/ML)"
          ],
          [
           "Spree3D",
           "Research Scientist"
          ],
          [
           "Aiimi Ltd",
           "Mid-Level Data Engineer"
          ],
          [
           "TripAdvisor",
           "Machine Learning Engineer II (User Modelling & Targeting)"
          ],
          [
           "NiSUS Technologies",
           "IC20DS2 - Mid Level Data Scientist - Cleared"
          ],
          [
           "Coinbase",
           "Data Analyst"
          ],
          [
           "Tiger Analytics",
           "Master Data Management Analyst"
          ],
          [
           "8x8, Inc.",
           "Business Intelligence Engineer - India"
          ],
          [
           "Locus Robotics",
           "Senior Robotics Software Engineer, Research and Development (Remote in US or Canada)"
          ],
          [
           "Peloton",
           "Senior Data Analyst"
          ],
          [
           "VavaCars",
           "Senior Data Analyst"
          ],
          [
           "Seamless.AI",
           "Lead Data Engineer - Remote US"
          ],
          [
           "Charger Logistics Inc",
           "Transportation Data Analyst (Tableau)"
          ],
          [
           "Peloton",
           "Data Analyst"
          ],
          [
           "TripAdvisor",
           "Director of Data platform, Data engineering"
          ],
          [
           "Integrated Projects",
           "Applied Machine Learning Researcher"
          ],
          [
           "Scale AI",
           "Business Data Analyst"
          ],
          [
           "Together",
           "Financial Amendments Data Analyst"
          ],
          [
           "Wisk Aero",
           "Data Analytics and Reporting Engineer"
          ],
          [
           "Cority",
           "Data Integration Specialist"
          ],
          [
           "Flink",
           "Data Analyst/Manager - Last Mile Planning (m/f/d)"
          ],
          [
           "SpectraMedix",
           "HEDIS Data Analyst"
          ],
          [
           "SIXT",
           "Data Scientist II"
          ],
          [
           "Hadrian",
           "Robotics Engineer"
          ],
          [
           "TripAdvisor",
           "Senior Data Engineer"
          ],
          [
           "Dun & Bradstreet",
           "Bigdata Tester II (R-14443)"
          ],
          [
           "Foundry",
           "Senior Research Engineer, Machine Learning"
          ],
          [
           "Locus Robotics",
           "Staff Engineer, Robotics Controls  (Research & Development, Hybrid-  Nashua, NH)"
          ],
          [
           "Spotify",
           "Analytics Engineer - Ads Business Insights"
          ],
          [
           "ArchiPro",
           "Senior Data Analyst"
          ],
          [
           "6point6",
           "Data Analyst - London"
          ],
          [
           "Wyetech",
           "Data Engineer - 14072"
          ],
          [
           "Nextdoor",
           "Senior/Staff Machine Learning Engineer - Ads"
          ],
          [
           "Jama Software",
           "Analytics Engineer"
          ],
          [
           "Publicis Groupe",
           "Data Product Owner"
          ],
          [
           "EMW, Inc.",
           "C002854 IT Data Analyst - SME/Architect (NS) - FRI 26 May"
          ],
          [
           "Dexterity",
           "Robotics Engineer - Tech Lead"
          ],
          [
           "DeepMind",
           "Research Scientist, Safe, Reliable & Trustworthy AI"
          ],
          [
           "Imagen Technologies",
           "Data Analyst"
          ],
          [
           "Varsity Tutors",
           "Senior Data Analyst - Argentina"
          ],
          [
           "Cover Genius",
           "Data Scientist"
          ],
          [
           "Experian",
           "Junior BI Analyst"
          ],
          [
           "Qcells",
           "Sales Data Analyst"
          ],
          [
           "Mapbox",
           "Senior Data Engineer"
          ],
          [
           "Terrascope",
           "Carbon Data Analyst"
          ],
          [
           "Bosch Group",
           "Senior Cloud DevOps Engineer (Data & AI) bei eBike Systems (w/m/div.)"
          ],
          [
           "Atomwise",
           "Senior Machine Learning Scientist, ML Research"
          ],
          [
           "Verily",
           "Software Engineer, Data Ingestion"
          ],
          [
           "Experian",
           "Assistant Analytics Engineer"
          ],
          [
           "Technicolor Creative Studios",
           "Senior Data Engineer"
          ],
          [
           "Sword",
           "Environmental and Sustainability Data Manager"
          ],
          [
           "Atomwise",
           "Senior Machine Learning Scientist, Cheminformatics"
          ],
          [
           "Shield",
           "Senior Machine Learning Engineer (Risk)"
          ],
          [
           "JDSAT",
           "Data Scientist"
          ],
          [
           "Flagship Pioneering, Inc.",
           "(Sr.) Machine Learning Scientist"
          ],
          [
           "Energy Aspects Ltd",
           "Data Analyst - NGLs"
          ],
          [
           "Trustly",
           "Data Engineer"
          ],
          [
           "Oviva",
           "Senior BI & Data Analyst"
          ],
          [
           "Charger Logistics Inc",
           "Head of Data Analyst Operations"
          ],
          [
           "Simpplr",
           "Data Visualization Engineer"
          ],
          [
           "Agoda",
           "Data Analyst (Bangkok Based, Relocation Provided)"
          ],
          [
           "Bosch Group",
           "Process and Data Analyst"
          ],
          [
           "Databricks",
           "Specialist Solutions Architect - Data Engineering & Azure"
          ],
          [
           "Dun & Bradstreet",
           "Data Scientist, Marketing Analytics"
          ],
          [
           "Whatfix",
           "AI/ML Engineer"
          ],
          [
           "3Cloud",
           "Data Engineer (East Coast US Hours)"
          ],
          [
           "Kaizen Gaming",
           "Senior Big Data Engineer"
          ],
          [
           "SumUp",
           "Senior Machine Learning Engineer"
          ],
          [
           "Quizlet",
           "Sr. Machine Learning Engineer, Study"
          ],
          [
           "Teneo",
           "Manager, Data Analytics"
          ],
          [
           "Ad Hoc",
           "Data Engineer (remote)"
          ],
          [
           "Wolt",
           "Senior Data Scientist"
          ],
          [
           "GWI",
           "Data Analyst"
          ],
          [
           "Version 1",
           "Databricks and Scala Engineer geospatial"
          ],
          [
           "Printify",
           "Machine Learning Ops Engineer (EMEA Time Zone - Remote)"
          ],
          [
           "Abcam Plc",
           "Data Engineer"
          ],
          [
           "Unit8 SA",
           "Data Engineer (Frankfurt, Gemany)"
          ],
          [
           "AppsFlyer",
           "R&D Data Analyst"
          ],
          [
           "Tower Research Capital",
           "Quantitative Research Analyst"
          ],
          [
           "Spendesk",
           "Senior Data Engineer"
          ],
          [
           "Definitive Logic",
           "Senior Artificial Intelligence SME"
          ],
          [
           "Planet Labs Inc.",
           "Senior Engineering Manager, Machine Learning"
          ],
          [
           "Intelerad",
           "Sr Director - Implementation Quality - Medical Imaging/PACS"
          ],
          [
           "Level AI",
           "MLOps Engineer - AI (Remote, India)"
          ],
          [
           "Talan",
           "Consultant DataOps/DevOps"
          ],
          [
           "Sayari",
           "Data Engineer"
          ],
          [
           "ThoughtSpot",
           "Data Engineer"
          ],
          [
           "Global Atlantic Financial Group",
           "Azure Data Developer"
          ],
          [
           "GWI",
           "Data Analytics Engineer"
          ],
          [
           "Amazon.com",
           "Business Intelligence Engineer, Data Center Position Optimization (DCPO)"
          ],
          [
           "Printify",
           "Machine Learning Product Manager (EMEA Time Zone - Remote)"
          ],
          [
           "Riverside Research",
           "Senior Data Architect (TS/SCI clearance)"
          ],
          [
           "Loyal",
           "Manager, Cloud Data Operations"
          ],
          [
           "Ready Player Me",
           "Research Engineer"
          ],
          [
           "Allegro",
           "Senior Big Data Engineer"
          ],
          [
           "CIMMYT",
           "Assistant Research Associate (Data Analyst)"
          ],
          [
           "Foursquare",
           "Data Engineer"
          ],
          [
           "Shape Therapeutics",
           "Machine Learning Scientist, Genomics"
          ],
          [
           "Aetion",
           "Analyst (Data Integration)"
          ],
          [
           "Riverside Research",
           "Data Engineer (TS/SCI clearance)"
          ],
          [
           "capital.com",
           "Principal Data Architect"
          ],
          [
           "Celonis",
           "Staff Product Analytics Engineer - Madrid"
          ],
          [
           "JDSAT",
           "Operations Research Analyst"
          ],
          [
           "Geomagical Labs",
           "3D Data Quality Analyst - Contract"
          ],
          [
           "Riverside Research",
           "Data Analyst (TS/SCI clearance)"
          ],
          [
           "Komodo Health",
           "Staff Data Architect"
          ],
          [
           "NielsenIQ",
           "Senior Big Data Engineer"
          ],
          [
           "Riverside Research",
           "Data Science Consultant (TS/SCI clearance)"
          ],
          [
           "Zscaler",
           "Machine Learning Engineer - Data Pre-processing, Pipeline, Streaming"
          ],
          [
           "CCRi",
           "Data Scientist"
          ],
          [
           "Halvik",
           "Senior Data Architect"
          ],
          [
           "Talan",
           "Consultant Data Visualisation - H/F"
          ],
          [
           "Via",
           "Data Analyst (Citymapper)"
          ],
          [
           "Loyal",
           "Senior Cloud Data Operations Engineer"
          ],
          [
           "Quartet Health, Inc.",
           "Data Scientist"
          ],
          [
           "Riverside Research",
           "Data Architect (TS/SCI clearance)"
          ],
          [
           "Shape Therapeutics",
           "Machine Learning Engineer, Genomics"
          ],
          [
           "Grover",
           "(Senior) People Data Analyst (m/w/x)"
          ],
          [
           "Dandy",
           "Senior Data Analyst - Go To Market Analytics"
          ],
          [
           "Netcentric",
           "Senior Data Analyst"
          ],
          [
           "Publicis Groupe",
           "Analyst, Decision Sciences"
          ],
          [
           "SmartRecruiters Inc",
           "Senior Machine Learning Engineer"
          ],
          [
           "Bosch Group",
           "Data Engineer"
          ],
          [
           "Locus Robotics",
           "Director, Machine Vision & Robotics"
          ],
          [
           "Locus Robotics",
           "Principal Lead, Autonomous Manipulation"
          ],
          [
           "Adevinta",
           "Staff Data Engineer, Data & ML Products"
          ],
          [
           "Together",
           "Data Analyst & Excel Specialist"
          ],
          [
           "Miratech",
           "Business/Data Analyst"
          ],
          [
           "UK Atomic Energy Authority",
           "PDRA in AI for Autonomous Systems"
          ],
          [
           "Standard Bank Group",
           "Data Analyst - Risk Management (CIB)"
          ],
          [
           "Verisk",
           "Lead Data Scientist"
          ],
          [
           "Wolt",
           "Senior Data Scientist, Search"
          ],
          [
           "Netcentric",
           "Data Analyst (Reporting and Insights)"
          ],
          [
           "Publicis Groupe",
           "Senior Data Engineer"
          ],
          [
           "Etsy",
           "Data Analyst, Payments Fraud"
          ],
          [
           "Hitachi Solutions",
           "Data Engineer with Databricks - Empower (remote/Costa Rica-based)"
          ],
          [
           "Block",
           "Senior Data Scientist, Invoices"
          ],
          [
           "Fannie Mae",
           "Data Management - Lead Associate (Hybrid)"
          ],
          [
           "NielsenIQ",
           "Data Scientist"
          ],
          [
           "Verisk",
           "Senior Data Scientist"
          ],
          [
           "Fannie Mae",
           "Finance Data Management Manager (Hybrid)"
          ],
          [
           "NBCUniversal",
           "Sr Data Analyst, Marketing Technology"
          ],
          [
           "Red Gate Group",
           "Cloud Data Engineer (TS/SCI Poly)"
          ],
          [
           "Visa",
           "Director- Data Science Platform"
          ],
          [
           "Block",
           "Senior Machine Learning Engineer, ML Platform"
          ],
          [
           "DataStax",
           "Presales Data Architect - Streaming (Remote US)"
          ],
          [
           "Allegro",
           "Big Data Engineer"
          ],
          [
           "PA Consulting",
           "Full stack Data Scientist"
          ],
          [
           "Hitachi Solutions",
           "Senior Azure Data Architect w/Databricks - D&A (remote, Costa Rica-based)"
          ],
          [
           "Sewan",
           "Product Data Analyst sénior (h/f) en CDI à Paris"
          ],
          [
           "Ample Insight Inc.",
           "Delivery Manager - Data and AI Consulting Services"
          ],
          [
           "Hitachi Solutions",
           "Data Engineer with Databricks - D&A (remote/Costa Rica-based)"
          ],
          [
           "Bosch Group",
           "Sustainability Data Analyst"
          ],
          [
           "Publicis Groupe",
           "Senior Data Analyst"
          ],
          [
           "Experian",
           "GTM Data Analyst"
          ],
          [
           "Verisk",
           "Research Analyst - LNG"
          ],
          [
           "Procore Technologies",
           "Staff Data Engineer"
          ],
          [
           "Metiora",
           "Data Scientist Senior"
          ],
          [
           "Stream Realty",
           "Senior Research Analyst"
          ],
          [
           "Bosch Group",
           "Data Scientist (M/F)"
          ],
          [
           "Syngenta Group",
           "Data Scientist - Agronomie (H/F) - CDI"
          ],
          [
           "Publicis Groupe",
           "Data Analyst"
          ],
          [
           "YouGov",
           "Data Analyst"
          ],
          [
           "Bosch Group",
           "Researcher- Computer Vision"
          ],
          [
           "Motorway",
           "ML Platform Engineer"
          ],
          [
           "Cowbell",
           "Senior Data Engineer"
          ],
          [
           "Braze",
           "Business Intelligence Developer"
          ],
          [
           "ProCogia",
           "Senior Azure Data Engineer"
          ],
          [
           "DeepIntent",
           "Data Analyst"
          ],
          [
           "Datalogue GmbH",
           "Cloud Data Engineer (m/w/d)"
          ],
          [
           "SendBird",
           "Senior Marketing Data Analyst"
          ],
          [
           "Hitachi Solutions",
           "Senior Azure Data Architect w/Databricks (remote, Costa Rica-based)"
          ],
          [
           "Tribal Credit",
           "Analytics Engineer"
          ],
          [
           "Hims & Hers",
           "Senior Data Engineer"
          ],
          [
           "Visium",
           "Machine Learning Engineer"
          ],
          [
           "Altos Labs",
           "Scientist, Computational Biology, Omics Data Analysis"
          ],
          [
           "Visa",
           "Senior Director - Head of Internal Data Science, Visa Europe"
          ],
          [
           "DeepMind",
           "Research Engineer, Safe, Reliable & Trustworthy AI"
          ],
          [
           "Intercom",
           "Senior Machine Learning Scientist"
          ],
          [
           "Syngenta Group",
           "Data Scientist & BI developer"
          ],
          [
           "Ocorian",
           "AML/CFT & Data Analyst"
          ],
          [
           "Bosch Group",
           "Researcher/Senior Researcher  Natural Language Processing and Text Analytics"
          ],
          [
           "Tuune",
           "Biomedical Research/Data Scientist"
          ],
          [
           "Block",
           "Staff Machine Learning Modeler, Financial Crimes"
          ],
          [
           "Tiger Analytics",
           "Data Scientist (DL & AI Modeling, Forecasting) (Canada)"
          ],
          [
           "Wish",
           "Senior Staff Software Engineer, Data Storage"
          ],
          [
           "KMS Technology",
           "Senior Data Engineer, KMS Healthcare"
          ],
          [
           "Sia Partners",
           "Data Science Manager"
          ],
          [
           "CGG",
           "Imaging Geophysicist - CDI permanent contract"
          ],
          [
           "OpenSea",
           "Senior Data Engineer, Infrastructure"
          ],
          [
           "DeepIntent",
           "Senior Data Analyst"
          ],
          [
           "Publicis Groupe",
           "Associate Data Engineer"
          ],
          [
           "Version 1",
           "Data Visualisation Consultant"
          ],
          [
           "SSENSE",
           "Senior Manager Data Science - Performance Marketing (Montreal, QC)"
          ],
          [
           "lastminute.com",
           "Data Specialist (Engineering & Analytics) - FinTech"
          ],
          [
           "Exadel",
           "Senior Data Engineer"
          ],
          [
           "H&M Group",
           "Regional Insight Analyst, CRM & Loyalty"
          ],
          [
           "Bosch Group",
           "Data Engineer (M/F)"
          ],
          [
           "JACOBS DOUWE EGBERTS",
           "R&D Packaging Sustainability Data Specialist"
          ],
          [
           "Amazon.com",
           "Sr. Business Intelligence Engineer, Corp - JP"
          ],
          [
           "SendBird",
           "Senior Software Engineer, Data Platform"
          ],
          [
           "Motional",
           "Engineer, Autonomy Systems & Sensors"
          ],
          [
           "DigitalOnUs",
           "Data Engineer (Senior)"
          ],
          [
           "Bosch Group",
           "IT Development Lead with ABAP (SAP / Master Data Management)"
          ],
          [
           "CleverConnect",
           "Data Engineer - Stage de fin d'études - Paris 2e"
          ],
          [
           "Octopus Energy",
           "Machine Learning Engineer"
          ],
          [
           "Standard Bank Group",
           "Senior Analyst, Data Quality & Analytics"
          ],
          [
           "Xero",
           "Data Analyst"
          ],
          [
           "FREE NOW",
           "Senior Data Scientist Marketplace (m/f/d) - Dublin"
          ],
          [
           "SendBird",
           "Software Engineer, Data Infrastructure"
          ],
          [
           "NorthBay Solutions",
           "Lead Machine Learning Engineer"
          ],
          [
           "Vattenfall",
           "Data Manager Zakelijke Markt"
          ],
          [
           "Arcadia",
           "Senior Data Analyst"
          ],
          [
           "Zoox",
           "Machine Learning Engineer - Motion Planning"
          ],
          [
           "Talan",
           "Consultant(e) Power BI confirmé(e)"
          ],
          [
           "Metyis",
           "Data Science Associate"
          ],
          [
           "Audigent",
           "Mid-Level Software Engineer - Data Team"
          ],
          [
           "Visa",
           "Lead Data Scientist"
          ],
          [
           "Standard Bank Group",
           "Data Engineer"
          ],
          [
           "Thirty Madison",
           "Data Analyst II"
          ],
          [
           "Block",
           "Machine Learning Engineer"
          ],
          [
           "Visa",
           "Sr. Data Engineer - Spark, Python"
          ],
          [
           "Bosch Group",
           "ECQ3 Full Stack Machine Learning Developer"
          ],
          [
           "Publicis Groupe",
           "Vice President, Data Strategy"
          ],
          [
           "K Health",
           "Machine Learning Infrastructure Engineer"
          ],
          [
           "Spotify",
           "Research Scientist, Computational Economics"
          ],
          [
           "Gapstars",
           "Data Engineer"
          ],
          [
           "Talan",
           "Data Engineer (H/F)"
          ],
          [
           "23andMe",
           "Scientist I/II, Computational Biology - Target Biology"
          ],
          [
           "Visa",
           "Manager, Business Insights & Data Analytics"
          ],
          [
           "People Can Fly",
           "Lead AI Programmer - Remote"
          ],
          [
           "Amazon.com",
           "Applied Scientist, Generative AI, Creative X"
          ],
          [
           "WITHIN",
           "Junior Data Scientist"
          ],
          [
           "DrDoctor",
           "Data Product Manager"
          ],
          [
           "Databricks",
           "Staff Data Architect"
          ],
          [
           "Nextdoor",
           "Generative AI Engineer"
          ],
          [
           "Tubi",
           "Senior Software Engineer, Machine Learning Infrastructure"
          ],
          [
           "Dropbox",
           "Data Scientist"
          ],
          [
           "Valerann",
           "Data Scientist in Mobility"
          ],
          [
           "Procore Technologies",
           "Sr. Principal Engineer - Data Architecture"
          ],
          [
           "dentsu international",
           "Modelling / Data Science - Manager- Analytics"
          ],
          [
           "BitGo",
           "Manager - Data Science"
          ],
          [
           "Visa",
           "Staff Data Engineer"
          ],
          [
           "Freenome",
           "Senior Clinical Data Scientist, Real-World Data (Remote)"
          ],
          [
           "Sia Partners",
           "Consultant(e) Senior Data Science - Bureau de Marseille"
          ],
          [
           "Altium",
           "Data Engineer"
          ],
          [
           "Syngenta Group",
           "FAIR Data Lead"
          ],
          [
           "Ocorian",
           "Senior AML/CFT & Data Analyst"
          ],
          [
           "Balsam Brands",
           "Manager, Data Engineering"
          ],
          [
           "SOPHiA GENETICS",
           "Senior Manager, Data Engineering - Radiomics (Senior Manager, Multimodal R&D)"
          ],
          [
           "Sia Partners",
           "Data Engineer - H/F"
          ],
          [
           "Sia Partners",
           "Consultant(e) Data Science - Bureau de Marseille"
          ],
          [
           "Standard Bank Group",
           "80405862 - Data Engineer"
          ],
          [
           "DiDi Labs",
           "Software Engineer - Machine Learning Infrastructure"
          ],
          [
           "Standard Bank Group",
           "Data Science Graduate Programme"
          ],
          [
           "Publicis Groupe",
           "Data Scientist"
          ],
          [
           "Syngenta Group",
           "Agronomy Data Scientist (M/W) - CDI"
          ],
          [
           "Thaloz",
           "Data Engineer"
          ],
          [
           "Standard Bank Group",
           "80389998 - Engineer, Data"
          ],
          [
           "Appnovation Technologies",
           "Senior Data Analytics Engineer"
          ],
          [
           "FREE NOW",
           "Senior Data Scientist Marketplace (m/f/d) - London"
          ],
          [
           "OpenAI",
           "Software Engineer, Model Inference"
          ],
          [
           "Sia Partners",
           "Consultant(e) Senior Data Science"
          ],
          [
           "Precision for Medicine",
           "Data Engineer"
          ],
          [
           "Bosch Group",
           "Regional Business Data Analyst"
          ],
          [
           "Pipedrive",
           "Product Data Analyst"
          ],
          [
           "EquipmentShare",
           "BI Data Analyst"
          ],
          [
           "FREE NOW",
           "Senior Data Scientist Marketplace (m/f/d) - Berlin"
          ],
          [
           "Informa Group Plc.",
           "Data Operations Engineer"
          ],
          [
           "Rackspace",
           "Trainee Data Engineer - R-16792"
          ],
          [
           "Sia Partners",
           "Consultant(e) Senior Data Science - Bureau de Nantes"
          ],
          [
           "Curated",
           "Product Manager - Experts & Artificial Intelligence"
          ],
          [
           "Intercom",
           "Staff Machine Learning Scientist"
          ],
          [
           "Publicis Groupe",
           "Senior Manager of Data Analytics"
          ],
          [
           "Wise",
           "Data Analytics Manager - Compliance, Risk & Internal Audit"
          ],
          [
           "ThousandEyes, Inc.",
           "Senior Software Engineer (Python), Data Engineering (Hybrid)"
          ],
          [
           "Precision Medicine Group",
           "Data Engineer"
          ],
          [
           "NielsenIQ",
           "Senior Insight Analyst"
          ],
          [
           "Sand Cherry Associates",
           "Data Analyst"
          ],
          [
           "Informa Group Plc.",
           "Research and Audience Data Analyst"
          ],
          [
           "iTech Media",
           "Data Analytics Engineer"
          ],
          [
           "MUFG Investor Services",
           "Data Engineer (Contractor)"
          ],
          [
           "Galileo Financial Technologies",
           "Staff ETL Developer"
          ],
          [
           "C3.ai",
           "Lead Data Scientist - Healthcare"
          ],
          [
           "Talan",
           "Talan Consulting  Consultant Senior/Manager  Data Strategy (H/F)"
          ],
          [
           "C3.ai",
           "Data Scientist / Senior Data Scientist (Federal)"
          ],
          [
           "NBCUniversal",
           "Sr. Data Engineer"
          ],
          [
           "TripAdvisor",
           "Senior Data Engineer - Martech (Viator)"
          ],
          [
           "Brightspeed",
           "Senior Data Engineer, Customer Data Platform"
          ],
          [
           "C3.ai",
           "Data Science Instructor"
          ],
          [
           "ServiceNow",
           "Sr Software QA Engineer-Machine Learning QE"
          ],
          [
           "Marley Spoon",
           "People Data Specialist"
          ],
          [
           "TripAdvisor",
           "Senior Machine Learning Engineer (Trip Planning)"
          ],
          [
           "6point6",
           "Data Analyst"
          ],
          [
           "CCRi",
           "Application Integration Engineer, Computer Vision Program"
          ],
          [
           "Publicis Groupe",
           "Associate Director, Data Science"
          ],
          [
           "DoorDash",
           "Senior Software Engineer, Machine Learning - Ads Intelligence"
          ],
          [
           "Western Digital",
           "Data Scientist - New College Graduate"
          ],
          [
           "Experian",
           "Cloud Data Analyst"
          ],
          [
           "Locus Robotics",
           "Robotics Engineer, Sensors"
          ],
          [
           "ATB Financial",
           "Data Scientist"
          ],
          [
           "Shippeo",
           "Senior Data Engineer"
          ]
         ],
         "hovertemplate": "Job Type=Full Time<br>Experience level=%{x}<br>Salary=%{y}<br>Company=%{customdata[0]}<br>Job Title=%{customdata[1]}<extra></extra>",
         "legendgroup": "Full Time",
         "marker": {
          "color": "#636efa",
          "symbol": "circle"
         },
         "mode": "markers",
         "name": "Full Time",
         "showlegend": true,
         "type": "scattergl",
         "x": [
          "Entry-level",
          "Entry-level",
          "Senior-level",
          "Entry-level",
          "Mid-level",
          "Senior-level",
          "Entry-level",
          "Senior-level",
          "Entry-level",
          "Senior-level",
          "Entry-level",
          "Senior-level",
          "Entry-level",
          "Senior-level",
          "Senior-level",
          "Senior-level",
          "Entry-level",
          "Senior-level",
          "Senior-level",
          "Senior-level",
          "Entry-level",
          "Entry-level",
          "Mid-level",
          "Entry-level",
          "Entry-level",
          "Senior-level",
          "Senior-level",
          "Senior-level",
          "Senior-level",
          "Senior-level",
          "Senior-level",
          "Senior-level",
          "Senior-level",
          "Senior-level",
          "Mid-level",
          "Senior-level",
          "Senior-level",
          "Senior-level",
          "Senior-level",
          "Mid-level",
          "Senior-level",
          "Mid-level",
          "Senior-level",
          "Senior-level",
          "Mid-level",
          "Senior-level",
          "Senior-level",
          "Senior-level",
          "Senior-level",
          "Senior-level",
          "Mid-level",
          "Mid-level",
          "Senior-level",
          "Entry-level",
          "Mid-level",
          "Senior-level",
          "Senior-level",
          "Senior-level",
          "Senior-level",
          "Mid-level",
          "Senior-level",
          "Senior-level",
          "Mid-level",
          "Senior-level",
          "Senior-level",
          "Senior-level",
          "Senior-level",
          "Senior-level",
          "Senior-level",
          "Senior-level",
          "Senior-level",
          "Mid-level",
          "Executive-level",
          "Entry-level",
          "Senior-level",
          "Mid-level",
          "Executive-level",
          "Mid-level",
          "Senior-level",
          "Senior-level",
          "Senior-level",
          "Mid-level",
          "Senior-level",
          "Senior-level",
          "Senior-level",
          "Mid-level",
          "Senior-level",
          "Senior-level",
          "Entry-level",
          "Senior-level",
          "Mid-level",
          "Entry-level",
          "Senior-level",
          "Senior-level",
          "Senior-level",
          "Senior-level",
          "Senior-level",
          "Senior-level",
          "Executive-level",
          "Senior-level",
          "Senior-level",
          "Entry-level",
          "Senior-level",
          "Mid-level",
          "Mid-level",
          "Senior-level",
          "Entry-level",
          "Senior-level",
          "Senior-level",
          "Mid-level",
          "Entry-level",
          "Senior-level",
          "Senior-level",
          "Mid-level",
          "Senior-level",
          "Mid-level",
          "Senior-level",
          "Senior-level",
          "Senior-level",
          "Mid-level",
          "Senior-level",
          "Senior-level",
          "Senior-level",
          "Senior-level",
          "Senior-level",
          "Senior-level",
          "Mid-level",
          "Senior-level",
          "Senior-level",
          "Senior-level",
          "Senior-level",
          "Executive-level",
          "Entry-level",
          "Mid-level",
          "Senior-level",
          "Mid-level",
          "Senior-level",
          "Senior-level",
          "Senior-level",
          "Senior-level",
          "Entry-level",
          "Senior-level",
          "Executive-level",
          "Mid-level",
          "Senior-level",
          "Senior-level",
          "Entry-level",
          "Executive-level",
          "Entry-level",
          "Mid-level",
          "Senior-level",
          "Senior-level",
          "Entry-level",
          "Senior-level",
          "Senior-level",
          "Senior-level",
          "Entry-level",
          "Senior-level",
          "Senior-level",
          "Entry-level",
          "Mid-level",
          "Senior-level",
          "Senior-level",
          "Executive-level",
          "Senior-level",
          "Entry-level",
          "Senior-level",
          "Senior-level",
          "Senior-level",
          "Entry-level",
          "Senior-level",
          "Entry-level",
          "Senior-level",
          "Senior-level",
          "Executive-level",
          "Entry-level",
          "Entry-level",
          "Senior-level",
          "Senior-level",
          "Senior-level",
          "Senior-level",
          "Mid-level",
          "Senior-level",
          "Senior-level",
          "Senior-level",
          "Entry-level",
          "Mid-level",
          "Senior-level",
          "Senior-level",
          "Entry-level",
          "Mid-level",
          "Mid-level",
          "Executive-level",
          "Senior-level",
          "Senior-level",
          "Entry-level",
          "Senior-level",
          "Senior-level",
          "Senior-level",
          "Senior-level",
          "Entry-level",
          "Senior-level",
          "Entry-level",
          "Senior-level",
          "Entry-level",
          "Mid-level",
          "Mid-level",
          "Entry-level",
          "Senior-level",
          "Senior-level",
          "Senior-level",
          "Senior-level",
          "Senior-level",
          "Entry-level",
          "Executive-level",
          "Senior-level",
          "Entry-level",
          "Mid-level",
          "Mid-level",
          "Senior-level",
          "Senior-level",
          "Mid-level",
          "Senior-level",
          "Senior-level",
          "Senior-level",
          "Senior-level",
          "Senior-level",
          "Entry-level",
          "Senior-level",
          "Senior-level",
          "Mid-level",
          "Executive-level",
          "Senior-level",
          "Entry-level",
          "Mid-level",
          "Mid-level",
          "Mid-level",
          "Mid-level",
          "Senior-level",
          "Senior-level",
          "Entry-level",
          "Senior-level",
          "Senior-level",
          "Executive-level",
          "Mid-level",
          "Senior-level",
          "Senior-level",
          "Senior-level",
          "Senior-level",
          "Mid-level",
          "Executive-level",
          "Senior-level",
          "Senior-level",
          "Senior-level",
          "Senior-level",
          "Senior-level",
          "Senior-level",
          "Senior-level",
          "Senior-level",
          "Senior-level",
          "Senior-level",
          "Mid-level",
          "Mid-level",
          "Mid-level",
          "Executive-level",
          "Mid-level",
          "Senior-level",
          "Senior-level",
          "Mid-level",
          "Mid-level",
          "Senior-level",
          "Entry-level",
          "Senior-level",
          "Mid-level",
          "Mid-level",
          "Mid-level",
          "Senior-level",
          "Senior-level",
          "Senior-level",
          "Mid-level",
          "Senior-level",
          "Senior-level",
          "Mid-level",
          "Senior-level",
          "Entry-level",
          "Senior-level",
          "Senior-level",
          "Senior-level",
          "Mid-level",
          "Senior-level",
          "Senior-level",
          "Senior-level",
          "Entry-level",
          "Senior-level",
          "Senior-level",
          "Senior-level",
          "Senior-level",
          "Entry-level",
          "Senior-level",
          "Mid-level",
          "Senior-level",
          "Entry-level",
          "Senior-level",
          "Entry-level",
          "Mid-level",
          "Senior-level",
          "Senior-level",
          "Entry-level",
          "Entry-level",
          "Entry-level",
          "Senior-level",
          "Senior-level",
          "Senior-level",
          "Senior-level",
          "Senior-level",
          "Senior-level",
          "Senior-level",
          "Senior-level",
          "Executive-level",
          "Mid-level",
          "Senior-level",
          "Senior-level",
          "Senior-level",
          "Senior-level",
          "Senior-level",
          "Senior-level",
          "Senior-level",
          "Senior-level",
          "Senior-level",
          "Entry-level",
          "Mid-level",
          "Mid-level",
          "Senior-level",
          "Mid-level",
          "Senior-level",
          "Senior-level",
          "Senior-level",
          "Senior-level",
          "Senior-level",
          "Senior-level",
          "Entry-level",
          "Mid-level",
          "Senior-level",
          "Senior-level",
          "Senior-level",
          "Mid-level",
          "Senior-level",
          "Executive-level",
          "Mid-level",
          "Mid-level",
          "Entry-level",
          "Senior-level",
          "Senior-level",
          "Mid-level",
          "Senior-level",
          "Senior-level",
          "Senior-level",
          "Executive-level",
          "Senior-level",
          "Senior-level",
          "Senior-level",
          "Senior-level",
          "Senior-level",
          "Senior-level",
          "Senior-level",
          "Mid-level",
          "Senior-level",
          "Senior-level",
          "Senior-level",
          "Senior-level",
          "Entry-level",
          "Senior-level",
          "Senior-level",
          "Mid-level",
          "Executive-level",
          "Senior-level",
          "Senior-level",
          "Entry-level",
          "Senior-level",
          "Mid-level",
          "Senior-level",
          "Senior-level",
          "Senior-level",
          "Senior-level",
          "Senior-level",
          "Senior-level",
          "Mid-level",
          "Mid-level",
          "Senior-level",
          "Senior-level",
          "Mid-level",
          "Senior-level",
          "Senior-level",
          "Senior-level",
          "Senior-level",
          "Senior-level",
          "Entry-level",
          "Senior-level",
          "Senior-level",
          "Senior-level",
          "Senior-level",
          "Senior-level",
          "Mid-level",
          "Senior-level",
          "Senior-level",
          "Mid-level",
          "Mid-level",
          "Entry-level",
          "Senior-level",
          "Entry-level",
          "Mid-level",
          "Senior-level",
          "Executive-level",
          "Senior-level",
          "Senior-level",
          "Mid-level",
          "Senior-level",
          "Mid-level",
          "Entry-level",
          "Senior-level",
          "Senior-level",
          "Senior-level",
          "Entry-level",
          "Executive-level",
          "Mid-level",
          "Mid-level",
          "Mid-level",
          "Senior-level",
          "Senior-level",
          "Senior-level",
          "Senior-level",
          "Senior-level",
          "Senior-level",
          "Senior-level",
          "Senior-level",
          "Senior-level",
          "Senior-level",
          "Mid-level",
          "Senior-level",
          "Senior-level",
          "Senior-level",
          "Entry-level",
          "Mid-level",
          "Entry-level",
          "Senior-level",
          "Senior-level",
          "Mid-level",
          "Senior-level",
          "Senior-level",
          "Senior-level",
          "Mid-level",
          "Senior-level",
          "Mid-level",
          "Senior-level",
          "Senior-level",
          "Senior-level",
          "Senior-level",
          "Senior-level",
          "Mid-level",
          "Senior-level",
          "Senior-level",
          "Senior-level",
          "Senior-level",
          "Mid-level",
          "Entry-level",
          "Mid-level",
          "Mid-level",
          "Senior-level",
          "Senior-level",
          "Senior-level",
          "Entry-level",
          "Senior-level",
          "Senior-level",
          "Executive-level",
          "Senior-level",
          "Senior-level",
          "Senior-level",
          "Senior-level",
          "Mid-level",
          "Mid-level",
          "Mid-level",
          "Senior-level",
          "Mid-level",
          "Senior-level",
          "Entry-level",
          "Mid-level",
          "Senior-level",
          "Entry-level",
          "Mid-level",
          "Mid-level",
          "Entry-level",
          "Senior-level",
          "Senior-level",
          "Senior-level",
          "Mid-level",
          "Entry-level",
          "Mid-level",
          "Mid-level",
          "Senior-level",
          "Senior-level",
          "Senior-level",
          "Mid-level",
          "Senior-level",
          "Senior-level",
          "Mid-level",
          "Entry-level",
          "Senior-level",
          "Executive-level",
          "Senior-level",
          "Senior-level",
          "Mid-level",
          "Senior-level",
          "Senior-level",
          "Entry-level",
          "Entry-level",
          "Senior-level",
          "Mid-level",
          "Executive-level",
          "Entry-level",
          "Senior-level",
          "Senior-level",
          "Senior-level",
          "Mid-level",
          "Senior-level",
          "Senior-level",
          "Senior-level",
          "Entry-level",
          "Senior-level",
          "Senior-level",
          "Entry-level",
          "Senior-level",
          "Mid-level",
          "Mid-level",
          "Entry-level",
          "Senior-level",
          "Mid-level",
          "Senior-level",
          "Senior-level",
          "Senior-level",
          "Senior-level",
          "Mid-level",
          "Senior-level",
          "Mid-level",
          "Senior-level",
          "Senior-level",
          "Executive-level",
          "Senior-level",
          "Senior-level",
          "Senior-level",
          "Senior-level",
          "Senior-level",
          "Senior-level",
          "Mid-level",
          "Senior-level",
          "Senior-level",
          "Senior-level",
          "Senior-level",
          "Mid-level",
          "Senior-level",
          "Executive-level",
          "Entry-level",
          "Senior-level",
          "Entry-level",
          "Senior-level",
          "Senior-level",
          "Senior-level",
          "Senior-level",
          "Entry-level",
          "Senior-level",
          "Senior-level",
          "Entry-level",
          "Mid-level",
          "Senior-level",
          "Entry-level",
          "Senior-level",
          "Senior-level",
          "Senior-level",
          "Senior-level",
          "Senior-level",
          "Senior-level",
          "Senior-level",
          "Mid-level",
          "Entry-level",
          "Senior-level",
          "Senior-level",
          "Senior-level",
          "Senior-level",
          "Executive-level",
          "Mid-level",
          "Entry-level",
          "Senior-level",
          "Senior-level",
          "Senior-level",
          "Senior-level",
          "Senior-level",
          "Senior-level",
          "Senior-level",
          "Senior-level",
          "Senior-level",
          "Senior-level",
          "Senior-level",
          "Senior-level",
          "Mid-level",
          "Executive-level",
          "Senior-level",
          "Entry-level",
          "Entry-level",
          "Senior-level",
          "Senior-level",
          "Senior-level",
          "Senior-level",
          "Mid-level",
          "Senior-level",
          "Senior-level",
          "Entry-level",
          "Senior-level",
          "Senior-level",
          "Senior-level",
          "Senior-level",
          "Entry-level",
          "Senior-level",
          "Senior-level",
          "Senior-level",
          "Senior-level",
          "Mid-level",
          "Senior-level",
          "Mid-level",
          "Senior-level",
          "Senior-level",
          "Senior-level",
          "Senior-level",
          "Senior-level",
          "Senior-level",
          "Senior-level",
          "Entry-level",
          "Senior-level",
          "Mid-level",
          "Entry-level",
          "Mid-level",
          "Senior-level",
          "Entry-level",
          "Entry-level",
          "Senior-level",
          "Senior-level",
          "Mid-level",
          "Senior-level",
          "Senior-level",
          "Senior-level",
          "Senior-level",
          "Senior-level",
          "Entry-level",
          "Mid-level",
          "Mid-level",
          "Senior-level",
          "Senior-level",
          "Senior-level",
          "Senior-level",
          "Senior-level",
          "Senior-level",
          "Entry-level",
          "Mid-level",
          "Senior-level",
          "Senior-level",
          "Entry-level",
          "Senior-level",
          "Senior-level",
          "Entry-level",
          "Senior-level",
          "Mid-level",
          "Senior-level",
          "Mid-level",
          "Entry-level",
          "Senior-level",
          "Executive-level",
          "Senior-level",
          "Senior-level",
          "Senior-level",
          "Senior-level",
          "Entry-level",
          "Senior-level",
          "Entry-level",
          "Entry-level",
          "Mid-level",
          "Senior-level",
          "Senior-level",
          "Senior-level",
          "Senior-level",
          "Senior-level",
          "Senior-level",
          "Senior-level",
          "Senior-level",
          "Senior-level",
          "Senior-level",
          "Mid-level",
          "Senior-level",
          "Senior-level",
          "Mid-level",
          "Senior-level",
          "Senior-level",
          "Executive-level",
          "Senior-level",
          "Senior-level",
          "Mid-level",
          "Senior-level",
          "Senior-level",
          "Senior-level",
          "Senior-level",
          "Senior-level",
          "Executive-level",
          "Senior-level",
          "Entry-level",
          "Senior-level",
          "Entry-level",
          "Mid-level",
          "Senior-level",
          "Mid-level",
          "Executive-level",
          "Senior-level",
          "Mid-level",
          "Senior-level",
          "Executive-level",
          "Mid-level",
          "Senior-level",
          "Senior-level",
          "Senior-level",
          "Senior-level",
          "Senior-level",
          "Mid-level",
          "Senior-level",
          "Mid-level",
          "Mid-level",
          "Senior-level",
          "Senior-level",
          "Mid-level",
          "Mid-level",
          "Senior-level",
          "Mid-level",
          "Executive-level",
          "Senior-level",
          "Senior-level",
          "Senior-level",
          "Senior-level",
          "Entry-level",
          "Senior-level",
          "Executive-level",
          "Executive-level",
          "Senior-level",
          "Senior-level",
          "Senior-level",
          "Mid-level",
          "Senior-level",
          "Senior-level",
          "Entry-level",
          "Executive-level",
          "Senior-level",
          "Senior-level",
          "Senior-level",
          "Senior-level",
          "Senior-level",
          "Senior-level",
          "Senior-level",
          "Mid-level",
          "Entry-level",
          "Mid-level",
          "Mid-level",
          "Senior-level",
          "Executive-level",
          "Senior-level",
          "Senior-level",
          "Executive-level",
          "Senior-level",
          "Entry-level",
          "Senior-level",
          "Senior-level",
          "Mid-level",
          "Senior-level",
          "Mid-level",
          "Senior-level",
          "Senior-level",
          "Mid-level",
          "Mid-level",
          "Executive-level",
          "Senior-level",
          "Senior-level",
          "Mid-level",
          "Mid-level",
          "Entry-level",
          "Senior-level",
          "Mid-level",
          "Senior-level",
          "Senior-level",
          "Executive-level",
          "Senior-level",
          "Senior-level",
          "Senior-level",
          "Senior-level",
          "Senior-level",
          "Mid-level",
          "Executive-level",
          "Senior-level",
          "Mid-level",
          "Senior-level",
          "Executive-level",
          "Senior-level",
          "Senior-level",
          "Entry-level",
          "Senior-level",
          "Senior-level",
          "Senior-level",
          "Mid-level",
          "Senior-level",
          "Senior-level",
          "Senior-level",
          "Senior-level",
          "Senior-level",
          "Senior-level",
          "Senior-level",
          "Senior-level",
          "Entry-level",
          "Senior-level",
          "Mid-level",
          "Senior-level",
          "Senior-level",
          "Senior-level",
          "Senior-level",
          "Senior-level",
          "Mid-level",
          "Executive-level",
          "Entry-level",
          "Senior-level",
          "Senior-level",
          "Senior-level",
          "Senior-level",
          "Senior-level",
          "Entry-level",
          "Senior-level",
          "Senior-level",
          "Senior-level",
          "Mid-level",
          "Senior-level",
          "Senior-level",
          "Senior-level",
          "Mid-level",
          "Executive-level",
          "Mid-level",
          "Entry-level",
          "Senior-level",
          "Senior-level",
          "Senior-level",
          "Mid-level",
          "Senior-level",
          "Senior-level",
          "Mid-level",
          "Mid-level",
          "Senior-level",
          "Senior-level",
          "Mid-level",
          "Senior-level",
          "Senior-level",
          "Senior-level",
          "Mid-level",
          "Entry-level",
          "Senior-level",
          "Entry-level",
          "Senior-level",
          "Entry-level",
          "Senior-level",
          "Entry-level",
          "Mid-level",
          "Executive-level",
          "Entry-level",
          "Executive-level",
          "Senior-level",
          "Senior-level",
          "Senior-level",
          "Senior-level",
          "Senior-level",
          "Senior-level",
          "Mid-level",
          "Executive-level",
          "Senior-level",
          "Senior-level",
          "Senior-level",
          "Senior-level",
          "Mid-level",
          "Senior-level",
          "Senior-level",
          "Senior-level",
          "Senior-level",
          "Senior-level",
          "Entry-level",
          "Senior-level",
          "Entry-level",
          "Senior-level",
          "Senior-level",
          "Mid-level",
          "Mid-level",
          "Entry-level",
          "Senior-level",
          "Senior-level",
          "Entry-level",
          "Senior-level",
          "Executive-level",
          "Senior-level",
          "Senior-level",
          "Entry-level",
          "Senior-level",
          "Senior-level",
          "Senior-level",
          "Senior-level",
          "Senior-level",
          "Mid-level",
          "Senior-level",
          "Senior-level",
          "Entry-level",
          "Senior-level",
          "Senior-level",
          "Senior-level",
          "Entry-level",
          "Senior-level",
          "Mid-level",
          "Senior-level",
          "Senior-level",
          "Executive-level",
          "Mid-level",
          "Senior-level",
          "Senior-level",
          "Senior-level",
          "Senior-level",
          "Senior-level",
          "Senior-level",
          "Entry-level",
          "Senior-level",
          "Entry-level",
          "Senior-level",
          "Senior-level",
          "Senior-level",
          "Entry-level",
          "Senior-level",
          "Senior-level",
          "Senior-level",
          "Senior-level",
          "Senior-level",
          "Senior-level",
          "Senior-level",
          "Senior-level",
          "Entry-level",
          "Senior-level",
          "Mid-level",
          "Senior-level",
          "Senior-level",
          "Entry-level",
          "Senior-level",
          "Senior-level",
          "Mid-level",
          "Senior-level",
          "Senior-level",
          "Senior-level",
          "Senior-level",
          "Senior-level",
          "Senior-level",
          "Senior-level",
          "Mid-level",
          "Senior-level",
          "Senior-level",
          "Senior-level",
          "Senior-level",
          "Mid-level",
          "Senior-level",
          "Mid-level",
          "Mid-level",
          "Mid-level",
          "Senior-level",
          "Mid-level",
          "Senior-level",
          "Senior-level",
          "Entry-level",
          "Mid-level",
          "Senior-level",
          "Senior-level",
          "Senior-level",
          "Mid-level",
          "Entry-level",
          "Senior-level",
          "Senior-level",
          "Senior-level",
          "Mid-level",
          "Senior-level",
          "Senior-level",
          "Mid-level",
          "Senior-level",
          "Mid-level",
          "Senior-level",
          "Senior-level",
          "Senior-level",
          "Senior-level",
          "Mid-level",
          "Senior-level",
          "Senior-level",
          "Senior-level",
          "Mid-level",
          "Executive-level",
          "Senior-level",
          "Senior-level",
          "Executive-level",
          "Entry-level",
          "Senior-level",
          "Entry-level",
          "Mid-level",
          "Senior-level",
          "Entry-level",
          "Entry-level",
          "Senior-level",
          "Mid-level",
          "Entry-level",
          "Senior-level",
          "Entry-level",
          "Senior-level",
          "Senior-level",
          "Senior-level",
          "Senior-level",
          "Entry-level",
          "Senior-level",
          "Senior-level",
          "Senior-level",
          "Senior-level",
          "Senior-level",
          "Entry-level",
          "Senior-level",
          "Entry-level",
          "Senior-level",
          "Mid-level",
          "Executive-level",
          "Senior-level",
          "Senior-level",
          "Mid-level",
          "Senior-level",
          "Senior-level",
          "Mid-level",
          "Executive-level",
          "Senior-level",
          "Entry-level",
          "Entry-level",
          "Senior-level",
          "Senior-level",
          "Senior-level",
          "Mid-level",
          "Senior-level",
          "Senior-level",
          "Senior-level",
          "Senior-level",
          "Senior-level",
          "Senior-level",
          "Senior-level",
          "Mid-level",
          "Entry-level",
          "Mid-level",
          "Senior-level",
          "Senior-level",
          "Senior-level",
          "Senior-level",
          "Entry-level",
          "Mid-level",
          "Senior-level",
          "Senior-level",
          "Senior-level",
          "Senior-level",
          "Senior-level",
          "Senior-level",
          "Senior-level",
          "Senior-level",
          "Mid-level",
          "Senior-level",
          "Senior-level",
          "Mid-level",
          "Senior-level",
          "Senior-level",
          "Executive-level",
          "Mid-level",
          "Senior-level",
          "Entry-level",
          "Senior-level",
          "Senior-level",
          "Mid-level",
          "Senior-level",
          "Senior-level",
          "Executive-level",
          "Entry-level",
          "Senior-level",
          "Senior-level",
          "Senior-level",
          "Senior-level",
          "Mid-level",
          "Senior-level",
          "Mid-level",
          "Entry-level",
          "Mid-level",
          "Senior-level",
          "Senior-level",
          "Senior-level",
          "Senior-level",
          "Mid-level",
          "Mid-level",
          "Senior-level",
          "Mid-level",
          "Senior-level",
          "Senior-level",
          "Mid-level",
          "Senior-level",
          "Senior-level",
          "Senior-level",
          "Senior-level",
          "Senior-level",
          "Senior-level",
          "Senior-level",
          "Senior-level",
          "Senior-level",
          "Senior-level",
          "Senior-level",
          "Senior-level",
          "Senior-level",
          "Senior-level",
          "Senior-level",
          "Entry-level",
          "Executive-level",
          "Entry-level",
          "Entry-level",
          "Mid-level",
          "Senior-level",
          "Mid-level",
          "Entry-level",
          "Entry-level",
          "Mid-level",
          "Senior-level",
          "Senior-level",
          "Entry-level",
          "Senior-level",
          "Senior-level",
          "Senior-level",
          "Senior-level",
          "Entry-level",
          "Senior-level",
          "Executive-level",
          "Entry-level",
          "Senior-level",
          "Senior-level",
          "Senior-level",
          "Entry-level",
          "Senior-level",
          "Senior-level",
          "Senior-level",
          "Senior-level",
          "Entry-level",
          "Entry-level",
          "Executive-level",
          "Mid-level",
          "Senior-level",
          "Senior-level",
          "Senior-level",
          "Senior-level",
          "Senior-level",
          "Senior-level",
          "Senior-level",
          "Entry-level",
          "Senior-level",
          "Senior-level",
          "Executive-level",
          "Entry-level",
          "Mid-level",
          "Senior-level",
          "Senior-level",
          "Senior-level",
          "Senior-level",
          "Mid-level",
          "Senior-level",
          "Senior-level",
          "Mid-level",
          "Senior-level",
          "Senior-level",
          "Entry-level",
          "Senior-level",
          "Senior-level",
          "Senior-level",
          "Entry-level",
          "Senior-level",
          "Senior-level",
          "Senior-level",
          "Senior-level",
          "Entry-level",
          "Senior-level",
          "Senior-level",
          "Entry-level",
          "Executive-level",
          "Mid-level",
          "Mid-level",
          "Executive-level",
          "Senior-level",
          "Senior-level",
          "Senior-level",
          "Entry-level",
          "Senior-level",
          "Senior-level",
          "Entry-level",
          "Senior-level",
          "Senior-level",
          "Senior-level",
          "Senior-level",
          "Mid-level",
          "Mid-level",
          "Senior-level",
          "Senior-level",
          "Entry-level",
          "Senior-level",
          "Senior-level",
          "Senior-level",
          "Senior-level",
          "Senior-level",
          "Mid-level",
          "Senior-level",
          "Entry-level",
          "Entry-level",
          "Senior-level",
          "Entry-level",
          "Senior-level",
          "Senior-level",
          "Senior-level",
          "Senior-level",
          "Senior-level",
          "Mid-level",
          "Senior-level",
          "Senior-level",
          "Mid-level",
          "Senior-level",
          "Senior-level",
          "Senior-level",
          "Senior-level",
          "Senior-level",
          "Senior-level",
          "Senior-level",
          "Entry-level",
          "Senior-level",
          "Entry-level",
          "Mid-level",
          "Senior-level",
          "Mid-level",
          "Senior-level",
          "Senior-level",
          "Senior-level",
          "Mid-level",
          "Senior-level",
          "Executive-level",
          "Senior-level",
          "Senior-level",
          "Senior-level",
          "Senior-level",
          "Mid-level",
          "Entry-level",
          "Entry-level",
          "Executive-level",
          "Senior-level",
          "Mid-level",
          "Senior-level",
          "Senior-level",
          "Mid-level",
          "Senior-level",
          "Mid-level",
          "Senior-level",
          "Mid-level",
          "Senior-level",
          "Senior-level",
          "Mid-level",
          "Senior-level",
          "Senior-level",
          "Mid-level",
          "Senior-level",
          "Senior-level",
          "Senior-level",
          "Senior-level",
          "Senior-level",
          "Senior-level",
          "Mid-level",
          "Senior-level",
          "Senior-level",
          "Senior-level",
          "Senior-level",
          "Senior-level",
          "Senior-level",
          "Senior-level",
          "Mid-level",
          "Entry-level",
          "Senior-level",
          "Entry-level",
          "Senior-level",
          "Mid-level",
          "Senior-level",
          "Senior-level",
          "Executive-level",
          "Entry-level",
          "Senior-level",
          "Mid-level",
          "Senior-level",
          "Entry-level",
          "Mid-level",
          "Entry-level",
          "Senior-level",
          "Mid-level",
          "Senior-level",
          "Senior-level",
          "Senior-level",
          "Mid-level",
          "Senior-level",
          "Senior-level",
          "Senior-level",
          "Senior-level",
          "Executive-level",
          "Senior-level",
          "Senior-level",
          "Senior-level",
          "Senior-level",
          "Entry-level",
          "Entry-level",
          "Senior-level",
          "Executive-level",
          "Mid-level",
          "Senior-level",
          "Executive-level",
          "Mid-level",
          "Senior-level",
          "Senior-level",
          "Senior-level",
          "Senior-level",
          "Senior-level",
          "Entry-level",
          "Mid-level",
          "Senior-level",
          "Entry-level",
          "Senior-level",
          "Senior-level",
          "Senior-level",
          "Senior-level",
          "Mid-level",
          "Senior-level",
          "Senior-level",
          "Senior-level",
          "Mid-level",
          "Senior-level",
          "Mid-level",
          "Mid-level",
          "Senior-level",
          "Senior-level",
          "Senior-level",
          "Senior-level",
          "Entry-level",
          "Executive-level",
          "Senior-level",
          "Entry-level",
          "Entry-level",
          "Senior-level",
          "Senior-level",
          "Senior-level",
          "Senior-level",
          "Senior-level",
          "Mid-level",
          "Senior-level",
          "Senior-level",
          "Senior-level",
          "Entry-level",
          "Senior-level",
          "Senior-level",
          "Senior-level",
          "Senior-level",
          "Executive-level",
          "Senior-level",
          "Senior-level",
          "Entry-level",
          "Mid-level",
          "Senior-level",
          "Mid-level",
          "Senior-level",
          "Entry-level",
          "Senior-level",
          "Senior-level",
          "Senior-level",
          "Senior-level",
          "Senior-level",
          "Senior-level",
          "Mid-level",
          "Senior-level",
          "Senior-level",
          "Mid-level",
          "Senior-level",
          "Mid-level",
          "Mid-level",
          "Senior-level",
          "Senior-level",
          "Senior-level",
          "Senior-level",
          "Senior-level",
          "Senior-level",
          "Entry-level",
          "Senior-level",
          "Senior-level",
          "Senior-level",
          "Mid-level",
          "Entry-level",
          "Senior-level",
          "Senior-level",
          "Senior-level",
          "Mid-level",
          "Senior-level",
          "Entry-level",
          "Senior-level",
          "Senior-level",
          "Senior-level",
          "Senior-level",
          "Senior-level",
          "Senior-level",
          "Senior-level",
          "Entry-level",
          "Senior-level",
          "Mid-level",
          "Senior-level",
          "Senior-level",
          "Senior-level",
          "Senior-level",
          "Senior-level",
          "Senior-level",
          "Senior-level",
          "Senior-level",
          "Mid-level",
          "Senior-level",
          "Senior-level",
          "Senior-level",
          "Senior-level",
          "Senior-level",
          "Senior-level",
          "Senior-level",
          "Senior-level",
          "Senior-level",
          "Mid-level",
          "Senior-level",
          "Mid-level",
          "Senior-level",
          "Senior-level",
          "Senior-level",
          "Senior-level",
          "Senior-level",
          "Mid-level",
          "Mid-level",
          "Senior-level",
          "Senior-level",
          "Senior-level",
          "Mid-level",
          "Senior-level",
          "Senior-level",
          "Senior-level",
          "Senior-level",
          "Mid-level",
          "Senior-level",
          "Senior-level",
          "Senior-level",
          "Senior-level",
          "Senior-level",
          "Senior-level",
          "Executive-level",
          "Senior-level",
          "Senior-level",
          "Senior-level",
          "Senior-level",
          "Senior-level",
          "Mid-level",
          "Senior-level",
          "Senior-level",
          "Senior-level",
          "Senior-level",
          "Mid-level",
          "Senior-level",
          "Senior-level",
          "Senior-level",
          "Senior-level",
          "Entry-level",
          "Entry-level",
          "Senior-level",
          "Mid-level",
          "Mid-level",
          "Executive-level",
          "Senior-level",
          "Mid-level",
          "Executive-level",
          "Mid-level",
          "Senior-level",
          "Senior-level",
          "Mid-level",
          "Senior-level",
          "Senior-level",
          "Senior-level",
          "Senior-level",
          "Senior-level",
          "Executive-level",
          "Senior-level",
          "Senior-level",
          "Mid-level",
          "Senior-level",
          "Mid-level",
          "Entry-level",
          "Senior-level",
          "Entry-level",
          "Senior-level",
          "Entry-level",
          "Entry-level",
          "Senior-level",
          "Mid-level",
          "Senior-level",
          "Senior-level",
          "Mid-level",
          "Mid-level",
          "Senior-level",
          "Senior-level",
          "Executive-level",
          "Mid-level",
          "Entry-level",
          "Senior-level",
          "Mid-level",
          "Mid-level",
          "Senior-level",
          "Senior-level",
          "Senior-level",
          "Senior-level",
          "Senior-level",
          "Senior-level",
          "Senior-level",
          "Senior-level",
          "Senior-level",
          "Executive-level",
          "Senior-level",
          "Senior-level",
          "Mid-level",
          "Mid-level",
          "Senior-level",
          "Senior-level",
          "Senior-level",
          "Mid-level",
          "Mid-level",
          "Entry-level",
          "Mid-level",
          "Senior-level",
          "Entry-level",
          "Entry-level",
          "Entry-level",
          "Entry-level",
          "Mid-level",
          "Mid-level",
          "Senior-level",
          "Senior-level",
          "Mid-level",
          "Executive-level",
          "Senior-level",
          "Senior-level",
          "Senior-level",
          "Senior-level",
          "Senior-level",
          "Senior-level",
          "Senior-level",
          "Executive-level",
          "Senior-level",
          "Senior-level",
          "Entry-level",
          "Senior-level",
          "Executive-level",
          "Senior-level",
          "Entry-level",
          "Senior-level",
          "Senior-level",
          "Entry-level",
          "Mid-level",
          "Senior-level",
          "Senior-level",
          "Senior-level",
          "Senior-level",
          "Senior-level",
          "Senior-level",
          "Senior-level",
          "Mid-level",
          "Mid-level",
          "Senior-level",
          "Senior-level",
          "Senior-level",
          "Senior-level",
          "Senior-level",
          "Senior-level",
          "Senior-level",
          "Entry-level",
          "Senior-level",
          "Senior-level",
          "Senior-level",
          "Senior-level",
          "Entry-level",
          "Senior-level",
          "Senior-level",
          "Senior-level",
          "Senior-level",
          "Senior-level",
          "Senior-level",
          "Senior-level",
          "Senior-level",
          "Mid-level",
          "Mid-level",
          "Senior-level",
          "Mid-level",
          "Mid-level",
          "Senior-level",
          "Senior-level",
          "Senior-level",
          "Senior-level",
          "Senior-level",
          "Senior-level",
          "Senior-level",
          "Senior-level",
          "Mid-level",
          "Senior-level",
          "Senior-level",
          "Senior-level",
          "Senior-level",
          "Executive-level",
          "Senior-level",
          "Senior-level",
          "Mid-level",
          "Mid-level",
          "Entry-level",
          "Senior-level",
          "Senior-level",
          "Senior-level",
          "Mid-level",
          "Mid-level",
          "Senior-level",
          "Senior-level",
          "Senior-level",
          "Senior-level",
          "Senior-level",
          "Senior-level",
          "Senior-level",
          "Entry-level",
          "Senior-level",
          "Senior-level",
          "Entry-level",
          "Entry-level",
          "Senior-level",
          "Senior-level",
          "Senior-level",
          "Entry-level",
          "Entry-level",
          "Senior-level",
          "Senior-level",
          "Mid-level",
          "Senior-level",
          "Senior-level",
          "Mid-level",
          "Senior-level",
          "Senior-level",
          "Senior-level",
          "Executive-level",
          "Executive-level",
          "Senior-level",
          "Senior-level",
          "Senior-level",
          "Senior-level",
          "Senior-level",
          "Entry-level",
          "Senior-level",
          "Senior-level",
          "Mid-level",
          "Senior-level",
          "Senior-level",
          "Executive-level",
          "Mid-level",
          "Mid-level",
          "Senior-level",
          "Entry-level",
          "Senior-level",
          "Senior-level",
          "Senior-level",
          "Senior-level",
          "Senior-level",
          "Entry-level",
          "Entry-level",
          "Senior-level",
          "Senior-level",
          "Mid-level",
          "Mid-level",
          "Senior-level",
          "Mid-level",
          "Senior-level",
          "Senior-level",
          "Senior-level",
          "Senior-level",
          "Senior-level",
          "Senior-level",
          "Senior-level",
          "Mid-level",
          "Senior-level",
          "Senior-level",
          "Senior-level",
          "Senior-level",
          "Senior-level",
          "Senior-level",
          "Senior-level",
          "Mid-level",
          "Senior-level",
          "Executive-level",
          "Senior-level",
          "Entry-level",
          "Senior-level",
          "Senior-level",
          "Senior-level",
          "Senior-level",
          "Senior-level",
          "Senior-level",
          "Mid-level",
          "Executive-level",
          "Senior-level",
          "Senior-level",
          "Senior-level",
          "Senior-level",
          "Senior-level",
          "Mid-level",
          "Senior-level",
          "Senior-level",
          "Senior-level",
          "Senior-level",
          "Senior-level",
          "Entry-level",
          "Senior-level",
          "Entry-level",
          "Mid-level",
          "Entry-level",
          "Entry-level",
          "Senior-level",
          "Senior-level",
          "Senior-level",
          "Senior-level",
          "Entry-level",
          "Mid-level",
          "Senior-level",
          "Senior-level",
          "Senior-level",
          "Senior-level",
          "Senior-level",
          "Entry-level",
          "Senior-level",
          "Senior-level",
          "Senior-level",
          "Senior-level",
          "Senior-level",
          "Entry-level",
          "Senior-level",
          "Senior-level",
          "Senior-level",
          "Senior-level",
          "Executive-level",
          "Mid-level",
          "Senior-level",
          "Mid-level",
          "Mid-level",
          "Senior-level",
          "Mid-level",
          "Senior-level",
          "Senior-level",
          "Senior-level",
          "Senior-level",
          "Senior-level",
          "Senior-level",
          "Senior-level",
          "Senior-level",
          "Senior-level",
          "Senior-level",
          "Senior-level",
          "Mid-level",
          "Senior-level",
          "Executive-level",
          "Mid-level",
          "Senior-level",
          "Senior-level",
          "Mid-level",
          "Senior-level",
          "Senior-level",
          "Mid-level",
          "Senior-level",
          "Senior-level",
          "Senior-level",
          "Entry-level",
          "Senior-level",
          "Senior-level",
          "Senior-level",
          "Mid-level",
          "Senior-level",
          "Senior-level",
          "Senior-level",
          "Senior-level",
          "Senior-level",
          "Senior-level",
          "Executive-level",
          "Entry-level",
          "Senior-level",
          "Entry-level",
          "Senior-level",
          "Senior-level",
          "Mid-level",
          "Senior-level",
          "Senior-level",
          "Senior-level",
          "Senior-level",
          "Executive-level",
          "Mid-level",
          "Senior-level",
          "Senior-level",
          "Mid-level",
          "Senior-level",
          "Entry-level",
          "Entry-level",
          "Senior-level",
          "Senior-level",
          "Mid-level",
          "Senior-level",
          "Senior-level",
          "Mid-level",
          "Senior-level",
          "Mid-level",
          "Mid-level",
          "Mid-level",
          "Senior-level",
          "Entry-level",
          "Entry-level",
          "Mid-level",
          "Mid-level",
          "Mid-level",
          "Entry-level",
          "Senior-level",
          "Senior-level",
          "Senior-level",
          "Executive-level",
          "Entry-level",
          "Entry-level",
          "Senior-level",
          "Senior-level",
          "Mid-level",
          "Senior-level",
          "Executive-level",
          "Senior-level",
          "Mid-level",
          "Senior-level",
          "Entry-level",
          "Senior-level",
          "Senior-level",
          "Senior-level",
          "Senior-level",
          "Senior-level",
          "Senior-level",
          "Senior-level",
          "Entry-level",
          "Entry-level",
          "Senior-level",
          "Entry-level",
          "Senior-level",
          "Mid-level",
          "Senior-level",
          "Senior-level",
          "Senior-level",
          "Senior-level",
          "Senior-level",
          "Senior-level",
          "Senior-level",
          "Mid-level",
          "Senior-level",
          "Entry-level",
          "Executive-level",
          "Senior-level",
          "Entry-level",
          "Senior-level",
          "Senior-level",
          "Senior-level",
          "Senior-level",
          "Senior-level",
          "Senior-level",
          "Senior-level",
          "Senior-level",
          "Senior-level",
          "Senior-level",
          "Entry-level",
          "Entry-level",
          "Mid-level",
          "Senior-level",
          "Senior-level",
          "Senior-level",
          "Senior-level",
          "Senior-level",
          "Senior-level",
          "Mid-level",
          "Senior-level",
          "Senior-level",
          "Senior-level",
          "Mid-level",
          "Senior-level",
          "Mid-level",
          "Senior-level",
          "Senior-level",
          "Mid-level",
          "Senior-level",
          "Senior-level",
          "Senior-level",
          "Mid-level",
          "Senior-level",
          "Entry-level",
          "Senior-level",
          "Senior-level",
          "Senior-level",
          "Senior-level",
          "Senior-level",
          "Senior-level",
          "Entry-level",
          "Executive-level",
          "Senior-level",
          "Senior-level",
          "Senior-level",
          "Senior-level",
          "Senior-level",
          "Senior-level",
          "Mid-level",
          "Mid-level",
          "Mid-level",
          "Senior-level",
          "Senior-level",
          "Senior-level",
          "Mid-level",
          "Mid-level",
          "Mid-level",
          "Senior-level",
          "Senior-level",
          "Senior-level",
          "Entry-level",
          "Mid-level",
          "Senior-level",
          "Senior-level",
          "Senior-level",
          "Mid-level",
          "Senior-level",
          "Senior-level",
          "Mid-level",
          "Senior-level",
          "Senior-level",
          "Senior-level",
          "Senior-level",
          "Senior-level",
          "Senior-level",
          "Senior-level",
          "Senior-level",
          "Mid-level",
          "Senior-level",
          "Senior-level",
          "Senior-level",
          "Senior-level",
          "Senior-level",
          "Entry-level",
          "Senior-level",
          "Mid-level",
          "Senior-level",
          "Entry-level",
          "Entry-level",
          "Senior-level",
          "Mid-level",
          "Senior-level",
          "Senior-level",
          "Senior-level",
          "Senior-level",
          "Entry-level",
          "Senior-level",
          "Executive-level",
          "Mid-level",
          "Entry-level",
          "Senior-level",
          "Mid-level",
          "Entry-level",
          "Senior-level",
          "Senior-level",
          "Entry-level",
          "Executive-level",
          "Mid-level",
          "Senior-level",
          "Mid-level",
          "Senior-level",
          "Senior-level",
          "Executive-level",
          "Senior-level",
          "Mid-level",
          "Senior-level",
          "Mid-level",
          "Senior-level",
          "Mid-level",
          "Entry-level",
          "Senior-level",
          "Senior-level",
          "Senior-level",
          "Senior-level",
          "Mid-level",
          "Senior-level",
          "Senior-level",
          "Senior-level",
          "Senior-level",
          "Senior-level",
          "Senior-level",
          "Mid-level",
          "Senior-level",
          "Senior-level",
          "Mid-level",
          "Senior-level",
          "Senior-level",
          "Entry-level",
          "Executive-level",
          "Mid-level",
          "Senior-level",
          "Entry-level",
          "Mid-level",
          "Mid-level",
          "Executive-level",
          "Mid-level",
          "Senior-level",
          "Mid-level",
          "Mid-level",
          "Senior-level",
          "Mid-level",
          "Senior-level",
          "Mid-level",
          "Senior-level",
          "Senior-level",
          "Senior-level",
          "Senior-level",
          "Mid-level",
          "Entry-level",
          "Senior-level",
          "Senior-level",
          "Senior-level",
          "Executive-level",
          "Entry-level",
          "Senior-level",
          "Senior-level",
          "Senior-level",
          "Senior-level",
          "Senior-level",
          "Senior-level",
          "Senior-level",
          "Senior-level",
          "Senior-level",
          "Senior-level",
          "Senior-level",
          "Senior-level",
          "Senior-level",
          "Senior-level",
          "Senior-level",
          "Entry-level",
          "Senior-level",
          "Entry-level",
          "Senior-level",
          "Senior-level",
          "Mid-level",
          "Senior-level",
          "Senior-level",
          "Senior-level",
          "Senior-level",
          "Senior-level",
          "Senior-level",
          "Senior-level",
          "Entry-level",
          "Entry-level",
          "Executive-level",
          "Senior-level",
          "Senior-level",
          "Entry-level",
          "Senior-level",
          "Senior-level",
          "Senior-level",
          "Executive-level",
          "Senior-level",
          "Senior-level",
          "Mid-level",
          "Mid-level",
          "Senior-level",
          "Senior-level",
          "Senior-level",
          "Senior-level",
          "Mid-level",
          "Senior-level",
          "Senior-level",
          "Senior-level",
          "Senior-level",
          "Senior-level",
          "Senior-level",
          "Senior-level",
          "Senior-level",
          "Executive-level",
          "Senior-level",
          "Senior-level",
          "Executive-level",
          "Mid-level",
          "Senior-level",
          "Senior-level",
          "Entry-level",
          "Mid-level",
          "Senior-level",
          "Senior-level",
          "Senior-level",
          "Entry-level",
          "Entry-level",
          "Senior-level",
          "Senior-level",
          "Entry-level",
          "Senior-level",
          "Senior-level",
          "Senior-level",
          "Mid-level",
          "Mid-level",
          "Senior-level",
          "Senior-level",
          "Senior-level",
          "Senior-level",
          "Entry-level",
          "Senior-level",
          "Mid-level",
          "Mid-level",
          "Entry-level",
          "Mid-level",
          "Senior-level",
          "Senior-level",
          "Senior-level",
          "Senior-level",
          "Senior-level",
          "Senior-level",
          "Senior-level",
          "Senior-level",
          "Senior-level",
          "Entry-level",
          "Mid-level",
          "Entry-level",
          "Senior-level",
          "Senior-level",
          "Senior-level",
          "Senior-level",
          "Senior-level",
          "Mid-level",
          "Entry-level",
          "Mid-level",
          "Mid-level",
          "Senior-level",
          "Senior-level",
          "Senior-level",
          "Mid-level",
          "Senior-level",
          "Senior-level",
          "Senior-level",
          "Senior-level",
          "Senior-level",
          "Executive-level",
          "Executive-level",
          "Mid-level",
          "Senior-level",
          "Senior-level",
          "Senior-level",
          "Senior-level",
          "Senior-level",
          "Senior-level",
          "Senior-level",
          "Senior-level",
          "Senior-level",
          "Senior-level",
          "Senior-level",
          "Senior-level",
          "Senior-level",
          "Senior-level",
          "Senior-level",
          "Entry-level",
          "Entry-level",
          "Executive-level",
          "Executive-level",
          "Entry-level",
          "Executive-level",
          "Mid-level",
          "Senior-level",
          "Senior-level",
          "Entry-level",
          "Senior-level",
          "Entry-level",
          "Mid-level",
          "Senior-level",
          "Senior-level",
          "Senior-level",
          "Senior-level",
          "Senior-level",
          "Entry-level",
          "Senior-level",
          "Mid-level",
          "Mid-level",
          "Mid-level",
          "Senior-level",
          "Senior-level",
          "Senior-level",
          "Mid-level",
          "Senior-level",
          "Mid-level",
          "Senior-level",
          "Senior-level",
          "Senior-level",
          "Senior-level",
          "Executive-level",
          "Senior-level",
          "Entry-level",
          "Senior-level",
          "Senior-level",
          "Mid-level",
          "Senior-level",
          "Mid-level",
          "Senior-level",
          "Senior-level",
          "Senior-level",
          "Senior-level",
          "Senior-level",
          "Senior-level",
          "Senior-level",
          "Mid-level",
          "Senior-level",
          "Senior-level",
          "Senior-level",
          "Senior-level",
          "Mid-level",
          "Senior-level",
          "Mid-level",
          "Mid-level",
          "Senior-level",
          "Senior-level",
          "Senior-level",
          "Senior-level",
          "Senior-level",
          "Entry-level",
          "Entry-level",
          "Entry-level",
          "Senior-level",
          "Senior-level",
          "Senior-level",
          "Mid-level",
          "Senior-level",
          "Senior-level",
          "Senior-level",
          "Senior-level",
          "Mid-level",
          "Senior-level",
          "Senior-level",
          "Entry-level",
          "Senior-level",
          "Entry-level",
          "Mid-level",
          "Senior-level",
          "Entry-level",
          "Senior-level",
          "Senior-level",
          "Senior-level",
          "Entry-level",
          "Senior-level",
          "Senior-level",
          "Senior-level",
          "Mid-level",
          "Senior-level",
          "Senior-level",
          "Senior-level",
          "Senior-level",
          "Entry-level",
          "Senior-level",
          "Mid-level",
          "Mid-level",
          "Mid-level",
          "Senior-level",
          "Senior-level",
          "Mid-level",
          "Senior-level",
          "Mid-level",
          "Entry-level",
          "Senior-level",
          "Entry-level",
          "Senior-level",
          "Senior-level",
          "Senior-level",
          "Senior-level",
          "Senior-level",
          "Senior-level",
          "Senior-level",
          "Senior-level",
          "Senior-level",
          "Entry-level",
          "Senior-level",
          "Senior-level",
          "Mid-level",
          "Senior-level",
          "Senior-level",
          "Mid-level",
          "Mid-level",
          "Executive-level",
          "Entry-level",
          "Senior-level",
          "Senior-level",
          "Senior-level",
          "Senior-level",
          "Senior-level",
          "Senior-level",
          "Senior-level",
          "Senior-level",
          "Senior-level",
          "Senior-level",
          "Senior-level",
          "Entry-level",
          "Senior-level",
          "Mid-level",
          "Senior-level",
          "Senior-level",
          "Senior-level",
          "Senior-level",
          "Entry-level",
          "Senior-level",
          "Senior-level",
          "Senior-level",
          "Senior-level",
          "Senior-level",
          "Senior-level",
          "Entry-level",
          "Executive-level",
          "Mid-level",
          "Entry-level",
          "Senior-level",
          "Senior-level",
          "Senior-level",
          "Mid-level",
          "Senior-level",
          "Senior-level",
          "Senior-level",
          "Senior-level",
          "Mid-level",
          "Senior-level",
          "Mid-level",
          "Mid-level",
          "Mid-level",
          "Entry-level",
          "Senior-level",
          "Senior-level",
          "Executive-level",
          "Senior-level",
          "Senior-level",
          "Senior-level",
          "Senior-level",
          "Senior-level",
          "Mid-level",
          "Senior-level",
          "Senior-level",
          "Mid-level",
          "Senior-level",
          "Senior-level",
          "Senior-level",
          "Senior-level",
          "Senior-level",
          "Senior-level",
          "Entry-level",
          "Entry-level",
          "Entry-level",
          "Entry-level",
          "Senior-level",
          "Mid-level",
          "Senior-level",
          "Senior-level",
          "Mid-level",
          "Mid-level",
          "Senior-level",
          "Senior-level",
          "Mid-level",
          "Mid-level",
          "Executive-level",
          "Senior-level",
          "Senior-level",
          "Senior-level",
          "Senior-level",
          "Senior-level",
          "Senior-level",
          "Senior-level",
          "Entry-level",
          "Mid-level",
          "Entry-level",
          "Senior-level",
          "Entry-level",
          "Mid-level",
          "Senior-level",
          "Senior-level",
          "Entry-level",
          "Senior-level",
          "Senior-level",
          "Senior-level",
          "Senior-level",
          "Senior-level",
          "Senior-level",
          "Entry-level",
          "Senior-level",
          "Senior-level",
          "Mid-level",
          "Mid-level",
          "Senior-level",
          "Executive-level",
          "Senior-level",
          "Senior-level",
          "Senior-level",
          "Mid-level",
          "Entry-level",
          "Senior-level",
          "Entry-level",
          "Senior-level",
          "Senior-level",
          "Entry-level",
          "Entry-level",
          "Senior-level",
          "Mid-level",
          "Senior-level",
          "Senior-level",
          "Senior-level",
          "Senior-level",
          "Senior-level",
          "Senior-level",
          "Entry-level",
          "Mid-level",
          "Mid-level",
          "Senior-level",
          "Senior-level",
          "Senior-level",
          "Mid-level",
          "Senior-level",
          "Entry-level",
          "Executive-level",
          "Mid-level",
          "Entry-level",
          "Senior-level",
          "Mid-level",
          "Senior-level",
          "Mid-level",
          "Senior-level",
          "Entry-level",
          "Mid-level",
          "Entry-level",
          "Senior-level",
          "Senior-level",
          "Senior-level",
          "Senior-level",
          "Senior-level",
          "Senior-level",
          "Senior-level",
          "Senior-level",
          "Senior-level",
          "Senior-level",
          "Senior-level",
          "Mid-level",
          "Senior-level",
          "Senior-level",
          "Mid-level",
          "Senior-level",
          "Mid-level",
          "Entry-level",
          "Mid-level",
          "Senior-level",
          "Entry-level",
          "Senior-level",
          "Senior-level",
          "Senior-level",
          "Mid-level",
          "Senior-level",
          "Senior-level",
          "Entry-level",
          "Mid-level",
          "Senior-level",
          "Senior-level",
          "Senior-level",
          "Entry-level",
          "Senior-level",
          "Senior-level",
          "Senior-level",
          "Entry-level",
          "Senior-level",
          "Senior-level",
          "Senior-level",
          "Senior-level",
          "Senior-level",
          "Mid-level",
          "Senior-level",
          "Mid-level",
          "Entry-level",
          "Entry-level",
          "Mid-level",
          "Senior-level",
          "Senior-level",
          "Senior-level",
          "Mid-level",
          "Mid-level",
          "Senior-level",
          "Mid-level",
          "Senior-level",
          "Mid-level",
          "Senior-level",
          "Senior-level",
          "Senior-level",
          "Executive-level",
          "Senior-level",
          "Senior-level",
          "Senior-level",
          "Senior-level",
          "Senior-level",
          "Senior-level",
          "Senior-level",
          "Senior-level",
          "Mid-level",
          "Senior-level",
          "Senior-level",
          "Senior-level",
          "Entry-level",
          "Senior-level",
          "Senior-level",
          "Senior-level",
          "Senior-level",
          "Senior-level",
          "Senior-level",
          "Senior-level",
          "Mid-level",
          "Mid-level",
          "Senior-level",
          "Senior-level",
          "Mid-level",
          "Senior-level",
          "Executive-level",
          "Mid-level",
          "Senior-level",
          "Entry-level",
          "Senior-level",
          "Entry-level",
          "Senior-level",
          "Entry-level",
          "Senior-level",
          "Senior-level",
          "Mid-level",
          "Executive-level",
          "Senior-level",
          "Senior-level",
          "Senior-level",
          "Mid-level",
          "Senior-level",
          "Senior-level",
          "Senior-level",
          "Mid-level",
          "Senior-level",
          "Senior-level",
          "Mid-level",
          "Senior-level",
          "Senior-level",
          "Mid-level",
          "Senior-level",
          "Mid-level",
          "Senior-level",
          "Senior-level",
          "Mid-level",
          "Senior-level",
          "Senior-level",
          "Mid-level",
          "Senior-level",
          "Senior-level",
          "Entry-level",
          "Senior-level",
          "Senior-level",
          "Entry-level",
          "Senior-level",
          "Senior-level",
          "Senior-level",
          "Senior-level",
          "Mid-level",
          "Senior-level",
          "Senior-level",
          "Senior-level",
          "Senior-level",
          "Senior-level",
          "Senior-level",
          "Mid-level",
          "Executive-level",
          "Entry-level",
          "Senior-level",
          "Senior-level",
          "Senior-level",
          "Senior-level",
          "Entry-level",
          "Mid-level",
          "Executive-level",
          "Senior-level",
          "Senior-level",
          "Executive-level",
          "Senior-level",
          "Senior-level",
          "Entry-level",
          "Senior-level",
          "Senior-level",
          "Mid-level",
          "Senior-level",
          "Executive-level",
          "Senior-level",
          "Senior-level",
          "Senior-level",
          "Entry-level",
          "Senior-level",
          "Senior-level",
          "Mid-level",
          "Senior-level",
          "Senior-level",
          "Senior-level",
          "Mid-level",
          "Senior-level",
          "Senior-level",
          "Senior-level",
          "Senior-level",
          "Entry-level",
          "Senior-level",
          "Mid-level",
          "Entry-level",
          "Mid-level",
          "Executive-level",
          "Entry-level",
          "Senior-level",
          "Senior-level",
          "Entry-level",
          "Senior-level",
          "Senior-level",
          "Senior-level",
          "Entry-level",
          "Mid-level",
          "Senior-level",
          "Entry-level",
          "Senior-level",
          "Senior-level",
          "Senior-level",
          "Executive-level",
          "Senior-level",
          "Mid-level",
          "Senior-level",
          "Entry-level",
          "Senior-level",
          "Entry-level",
          "Senior-level",
          "Senior-level",
          "Senior-level",
          "Senior-level",
          "Senior-level",
          "Senior-level",
          "Mid-level",
          "Senior-level",
          "Mid-level",
          "Senior-level",
          "Senior-level",
          "Senior-level",
          "Senior-level",
          "Senior-level",
          "Senior-level",
          "Mid-level",
          "Senior-level",
          "Mid-level",
          "Senior-level",
          "Senior-level",
          "Entry-level",
          "Senior-level",
          "Senior-level",
          "Senior-level",
          "Senior-level",
          "Entry-level",
          "Senior-level",
          "Mid-level",
          "Senior-level",
          "Senior-level",
          "Entry-level",
          "Executive-level",
          "Mid-level",
          "Senior-level",
          "Senior-level",
          "Executive-level",
          "Senior-level",
          "Executive-level",
          "Entry-level",
          "Senior-level",
          "Senior-level",
          "Senior-level",
          "Senior-level",
          "Senior-level",
          "Senior-level",
          "Senior-level",
          "Senior-level",
          "Senior-level",
          "Senior-level",
          "Senior-level",
          "Entry-level",
          "Senior-level",
          "Senior-level",
          "Senior-level",
          "Mid-level",
          "Senior-level",
          "Mid-level",
          "Mid-level",
          "Senior-level",
          "Mid-level",
          "Senior-level",
          "Mid-level",
          "Senior-level",
          "Senior-level",
          "Senior-level",
          "Mid-level",
          "Senior-level",
          "Mid-level",
          "Senior-level",
          "Executive-level",
          "Mid-level",
          "Senior-level",
          "Entry-level",
          "Senior-level",
          "Mid-level",
          "Senior-level",
          "Senior-level",
          "Senior-level",
          "Senior-level",
          "Senior-level",
          "Senior-level",
          "Senior-level",
          "Senior-level",
          "Executive-level",
          "Mid-level",
          "Senior-level",
          "Senior-level",
          "Senior-level",
          "Senior-level",
          "Mid-level",
          "Senior-level",
          "Senior-level",
          "Senior-level",
          "Entry-level",
          "Senior-level",
          "Senior-level",
          "Entry-level",
          "Mid-level",
          "Senior-level",
          "Mid-level",
          "Senior-level",
          "Senior-level",
          "Senior-level",
          "Entry-level",
          "Senior-level",
          "Mid-level",
          "Senior-level",
          "Mid-level",
          "Mid-level",
          "Senior-level",
          "Mid-level",
          "Senior-level",
          "Senior-level",
          "Mid-level",
          "Senior-level",
          "Mid-level",
          "Senior-level",
          "Senior-level",
          "Senior-level",
          "Senior-level",
          "Senior-level",
          "Senior-level",
          "Senior-level",
          "Senior-level",
          "Mid-level",
          "Senior-level",
          "Senior-level",
          "Entry-level",
          "Senior-level",
          "Senior-level",
          "Senior-level",
          "Mid-level",
          "Senior-level",
          "Senior-level",
          "Senior-level",
          "Senior-level",
          "Senior-level",
          "Senior-level",
          "Entry-level",
          "Entry-level",
          "Mid-level",
          "Senior-level",
          "Senior-level",
          "Entry-level",
          "Senior-level",
          "Senior-level",
          "Senior-level",
          "Senior-level",
          "Senior-level",
          "Senior-level",
          "Mid-level",
          "Senior-level",
          "Senior-level",
          "Entry-level",
          "Senior-level",
          "Senior-level",
          "Senior-level",
          "Mid-level",
          "Entry-level",
          "Entry-level",
          "Senior-level",
          "Senior-level",
          "Entry-level",
          "Senior-level",
          "Mid-level",
          "Senior-level",
          "Mid-level",
          "Senior-level",
          "Senior-level",
          "Senior-level",
          "Senior-level",
          "Senior-level",
          "Senior-level",
          "Senior-level",
          "Senior-level",
          "Entry-level",
          "Senior-level",
          "Senior-level",
          "Executive-level",
          "Senior-level",
          "Senior-level",
          "Entry-level",
          "Entry-level",
          "Senior-level",
          "Entry-level",
          "Entry-level",
          "Senior-level",
          "Senior-level",
          "Senior-level",
          "Senior-level",
          "Senior-level",
          "Senior-level",
          "Mid-level",
          "Entry-level",
          "Entry-level",
          "Executive-level",
          "Senior-level",
          "Senior-level",
          "Executive-level",
          "Senior-level",
          "Senior-level",
          "Senior-level",
          "Senior-level",
          "Senior-level",
          "Senior-level",
          "Executive-level",
          "Senior-level",
          "Senior-level",
          "Senior-level",
          "Senior-level",
          "Senior-level",
          "Senior-level",
          "Senior-level",
          "Executive-level",
          "Senior-level",
          "Senior-level",
          "Mid-level",
          "Entry-level",
          "Senior-level",
          "Mid-level",
          "Senior-level",
          "Senior-level",
          "Senior-level",
          "Senior-level",
          "Entry-level",
          "Senior-level",
          "Senior-level",
          "Senior-level",
          "Senior-level",
          "Mid-level",
          "Senior-level",
          "Executive-level",
          "Senior-level",
          "Senior-level",
          "Senior-level",
          "Entry-level",
          "Senior-level",
          "Entry-level",
          "Senior-level",
          "Mid-level",
          "Senior-level",
          "Senior-level",
          "Entry-level",
          "Entry-level",
          "Senior-level",
          "Senior-level",
          "Mid-level",
          "Mid-level",
          "Senior-level",
          "Entry-level",
          "Senior-level",
          "Senior-level",
          "Senior-level",
          "Entry-level",
          "Senior-level",
          "Senior-level",
          "Senior-level",
          "Senior-level",
          "Senior-level",
          "Entry-level",
          "Senior-level",
          "Senior-level",
          "Senior-level",
          "Senior-level",
          "Senior-level",
          "Senior-level",
          "Senior-level",
          "Senior-level",
          "Senior-level",
          "Senior-level",
          "Mid-level",
          "Mid-level",
          "Senior-level",
          "Entry-level",
          "Senior-level",
          "Senior-level",
          "Senior-level",
          "Senior-level",
          "Executive-level",
          "Senior-level",
          "Senior-level",
          "Mid-level",
          "Senior-level",
          "Senior-level",
          "Executive-level",
          "Executive-level",
          "Senior-level",
          "Mid-level",
          "Mid-level",
          "Senior-level",
          "Entry-level",
          "Senior-level",
          "Senior-level",
          "Mid-level",
          "Senior-level",
          "Senior-level",
          "Senior-level",
          "Senior-level",
          "Senior-level",
          "Senior-level",
          "Senior-level",
          "Mid-level",
          "Senior-level",
          "Senior-level",
          "Mid-level",
          "Entry-level",
          "Entry-level",
          "Executive-level",
          "Entry-level",
          "Entry-level",
          "Executive-level",
          "Senior-level",
          "Mid-level",
          "Entry-level",
          "Senior-level",
          "Senior-level",
          "Senior-level",
          "Senior-level",
          "Senior-level",
          "Senior-level",
          "Entry-level",
          "Senior-level",
          "Senior-level",
          "Mid-level",
          "Entry-level",
          "Senior-level",
          "Senior-level",
          "Senior-level",
          "Senior-level",
          "Entry-level",
          "Senior-level",
          "Senior-level",
          "Entry-level",
          "Mid-level",
          "Senior-level",
          "Entry-level",
          "Senior-level",
          "Senior-level",
          "Senior-level",
          "Senior-level",
          "Senior-level",
          "Senior-level",
          "Senior-level",
          "Senior-level",
          "Senior-level",
          "Senior-level",
          "Mid-level",
          "Senior-level",
          "Senior-level",
          "Mid-level",
          "Mid-level",
          "Senior-level",
          "Entry-level",
          "Senior-level",
          "Senior-level",
          "Entry-level",
          "Senior-level"
         ],
         "xaxis": "x",
         "y": [
          48000,
          48000,
          90000,
          48000,
          108000,
          184000,
          39000,
          140000,
          40000,
          80000,
          35000,
          62000,
          39000,
          159000,
          97000,
          92000,
          48000,
          129000,
          92000,
          115000,
          39000,
          44000,
          73000,
          40000,
          59000,
          106000,
          129000,
          92000,
          105000,
          55000,
          115000,
          110000,
          140000,
          129000,
          63000,
          49000,
          180000,
          115000,
          62000,
          73000,
          127000,
          60000,
          129000,
          92000,
          45000,
          115000,
          135000,
          69000,
          129000,
          176000,
          65000,
          40000,
          62000,
          48000,
          51000,
          67000,
          104000,
          92000,
          69000,
          73000,
          115000,
          105000,
          51000,
          166000,
          62000,
          80000,
          131000,
          62000,
          115000,
          69000,
          129000,
          40000,
          65000,
          43000,
          92000,
          45000,
          81000,
          35000,
          69000,
          92000,
          62000,
          65000,
          115000,
          69000,
          140000,
          65000,
          69000,
          96000,
          39000,
          69000,
          56000,
          39000,
          131000,
          62000,
          62000,
          115000,
          115000,
          130000,
          73000,
          92000,
          131000,
          44000,
          115000,
          73000,
          50000,
          48000,
          59000,
          100000,
          129000,
          60000,
          52000,
          62000,
          135000,
          76000,
          129000,
          73000,
          92000,
          129000,
          62000,
          50000,
          172000,
          119000,
          125000,
          92000,
          116000,
          77000,
          74000,
          70000,
          120000,
          115000,
          115000,
          65000,
          59000,
          73000,
          92000,
          51000,
          62000,
          115000,
          69000,
          55000,
          48000,
          115000,
          92000,
          50000,
          69000,
          176000,
          40000,
          189000,
          39000,
          149000,
          92000,
          130000,
          48000,
          110000,
          115000,
          131000,
          40000,
          69000,
          62000,
          90000,
          51000,
          110000,
          120000,
          73000,
          115000,
          39000,
          92000,
          131000,
          49000,
          105000,
          115000,
          30000,
          131000,
          115000,
          81000,
          35000,
          167000,
          236000,
          129000,
          115000,
          92000,
          77000,
          62000,
          50000,
          69000,
          40000,
          51000,
          131000,
          62000,
          35000,
          135000,
          65000,
          81000,
          179000,
          100000,
          35000,
          56000,
          92000,
          80000,
          49000,
          167000,
          200000,
          30000,
          30000,
          30000,
          73000,
          73000,
          48000,
          115000,
          62000,
          139000,
          129000,
          113000,
          59000,
          81000,
          150000,
          39000,
          45000,
          158000,
          96000,
          55000,
          40000,
          184000,
          100000,
          129000,
          96000,
          55000,
          40000,
          129000,
          92000,
          51000,
          81000,
          115000,
          48000,
          65000,
          73000,
          50000,
          60000,
          129000,
          55000,
          44000,
          115000,
          133000,
          120000,
          73000,
          129000,
          131000,
          115000,
          55000,
          70000,
          81000,
          129000,
          104000,
          92000,
          62000,
          105000,
          50000,
          55000,
          115000,
          135000,
          69000,
          50000,
          51000,
          51000,
          78000,
          73000,
          80000,
          55000,
          73000,
          77000,
          92000,
          48000,
          62000,
          36000,
          40000,
          56000,
          96000,
          48000,
          129000,
          56000,
          115000,
          105000,
          60000,
          92000,
          48000,
          115000,
          80000,
          96000,
          51000,
          69000,
          115000,
          122000,
          48000,
          62000,
          92000,
          69000,
          131000,
          120000,
          184000,
          81000,
          115000,
          40000,
          115000,
          39000,
          59000,
          55000,
          62000,
          59000,
          81000,
          48000,
          105000,
          115000,
          92000,
          55000,
          62000,
          130000,
          49000,
          55000,
          130000,
          73000,
          62000,
          69000,
          129000,
          190000,
          62000,
          72000,
          129000,
          62000,
          92000,
          59000,
          56000,
          45000,
          92000,
          45000,
          92000,
          136000,
          115000,
          129000,
          131000,
          115000,
          40000,
          73000,
          62000,
          49000,
          69000,
          73000,
          62000,
          102000,
          51000,
          65000,
          31000,
          56000,
          131000,
          65000,
          89000,
          190000,
          92000,
          73000,
          115000,
          115000,
          115000,
          92000,
          69000,
          139000,
          135000,
          45000,
          115000,
          89000,
          156000,
          92000,
          35000,
          62000,
          110000,
          73000,
          80000,
          92000,
          62000,
          39000,
          92000,
          40000,
          70000,
          62000,
          130000,
          62000,
          92000,
          100000,
          50000,
          45000,
          172000,
          77000,
          40000,
          80000,
          92000,
          131000,
          92000,
          80000,
          48000,
          110000,
          107000,
          131000,
          115000,
          115000,
          73000,
          199000,
          62000,
          51000,
          51000,
          59000,
          62000,
          48000,
          73000,
          135000,
          80000,
          120000,
          224000,
          51000,
          115000,
          36000,
          39000,
          55000,
          62000,
          142000,
          35000,
          183000,
          77000,
          56000,
          40000,
          164000,
          130000,
          69000,
          92000,
          62000,
          69000,
          174000,
          92000,
          84000,
          62000,
          56000,
          80000,
          50000,
          62000,
          35000,
          60000,
          48000,
          55000,
          92000,
          60000,
          115000,
          62000,
          100000,
          63000,
          55000,
          45000,
          55000,
          79000,
          92000,
          96000,
          55000,
          65000,
          50000,
          48000,
          133000,
          62000,
          50000,
          35000,
          73000,
          65000,
          48000,
          131000,
          69000,
          39000,
          135000,
          103000,
          81000,
          143000,
          69000,
          69000,
          129000,
          56000,
          73000,
          51000,
          55000,
          65000,
          135000,
          84000,
          73000,
          115000,
          48000,
          51000,
          60000,
          48000,
          55000,
          90000,
          62000,
          73000,
          59000,
          73000,
          73000,
          129000,
          129000,
          62000,
          45000,
          129000,
          62000,
          60000,
          44000,
          55000,
          175000,
          104000,
          62000,
          45000,
          115000,
          200000,
          40000,
          40000,
          170000,
          73000,
          102000,
          30000,
          92000,
          131000,
          62000,
          65000,
          115000,
          129000,
          176000,
          44000,
          129000,
          69000,
          39000,
          129000,
          40000,
          63000,
          52000,
          96000,
          56000,
          62000,
          115000,
          164000,
          77000,
          74000,
          129000,
          60000,
          62000,
          184000,
          141000,
          92000,
          92000,
          62000,
          135000,
          129000,
          62000,
          65000,
          62000,
          92000,
          90000,
          283000,
          56000,
          129000,
          81000,
          48000,
          72000,
          59000,
          200000,
          115000,
          151000,
          62000,
          39000,
          131000,
          90000,
          105000,
          73000,
          151000,
          40000,
          111000,
          92000,
          77000,
          62000,
          115000,
          115000,
          115000,
          51000,
          48000,
          62000,
          150000,
          55000,
          62000,
          92000,
          81000,
          48000,
          129000,
          150000,
          135000,
          92000,
          69000,
          135000,
          92000,
          69000,
          92000,
          69000,
          51000,
          135000,
          50000,
          130000,
          140000,
          39000,
          35000,
          55000,
          62000,
          92000,
          131000,
          73000,
          48000,
          115000,
          44000,
          92000,
          62000,
          49000,
          129000,
          35000,
          96000,
          120000,
          48000,
          148000,
          65000,
          283000,
          56000,
          69000,
          204000,
          115000,
          69000,
          69000,
          62000,
          115000,
          70000,
          77000,
          56000,
          39000,
          106000,
          62000,
          39000,
          59000,
          96000,
          202000,
          51000,
          142000,
          92000,
          295000,
          200000,
          140000,
          59000,
          74000,
          45000,
          184000,
          68000,
          52000,
          92000,
          110000,
          62000,
          48000,
          60000,
          49000,
          30000,
          63000,
          77000,
          184000,
          35000,
          131000,
          65000,
          62000,
          50000,
          39000,
          92000,
          65000,
          142000,
          69000,
          283000,
          195000,
          39000,
          62000,
          39000,
          39000,
          56000,
          170000,
          62000,
          142000,
          145000,
          139000,
          283000,
          50000,
          115000,
          115000,
          267000,
          50000,
          49000,
          110000,
          56000,
          129000,
          125000,
          115000,
          283000,
          115000,
          51000,
          159000,
          55000,
          131000,
          131000,
          80000,
          130000,
          115000,
          48000,
          131000,
          40000,
          74000,
          69000,
          50000,
          73000,
          55000,
          51000,
          55000,
          200000,
          56000,
          89000,
          115000,
          148000,
          115000,
          109000,
          73000,
          56000,
          63000,
          73000,
          69000,
          115000,
          51000,
          60000,
          62000,
          51000,
          73000,
          295000,
          115000,
          136000,
          310000,
          39000,
          115000,
          102000,
          81000,
          89000,
          62000,
          69000,
          73000,
          153000,
          115000,
          39000,
          154000,
          129000,
          115000,
          55000,
          150000,
          115000,
          110000,
          86000,
          51000,
          70000,
          51000,
          51000,
          115000,
          200000,
          110000,
          62000,
          73000,
          135000,
          44000,
          69000,
          110000,
          50000,
          129000,
          65000,
          70000,
          131000,
          56000,
          65000,
          102000,
          62000,
          131000,
          65000,
          63000,
          39000,
          92000,
          207000,
          80000,
          136000,
          85000,
          92000,
          69000,
          115000,
          97000,
          70000,
          73000,
          73000,
          69000,
          65000,
          92000,
          66000,
          92000,
          62000,
          103000,
          79000,
          89000,
          62000,
          150000,
          200000,
          115000,
          315000,
          55000,
          160000,
          129000,
          172000,
          48000,
          48000,
          113000,
          63000,
          55000,
          69000,
          55000,
          78000,
          92000,
          73000,
          66000,
          40000,
          115000,
          129000,
          92000,
          55000,
          115000,
          35000,
          142000,
          50000,
          115000,
          73000,
          55000,
          131000,
          115000,
          100000,
          73000,
          65000,
          30000,
          267000,
          62000,
          92000,
          73000,
          48000,
          55000,
          45000,
          73000,
          49000,
          115000,
          45000,
          151000,
          110000,
          62000,
          63000,
          39000,
          115000,
          40000,
          115000,
          59000,
          92000,
          39000,
          56000,
          73000,
          30000,
          144000,
          131000,
          140000,
          115000,
          245000,
          69000,
          62000,
          175000,
          102000,
          119000,
          115000,
          110000,
          62000,
          65000,
          224000,
          92000,
          160000,
          159000,
          189000,
          39000,
          126000,
          63000,
          92000,
          62000,
          60000,
          65000,
          44000,
          129000,
          92000,
          30000,
          136000,
          65000,
          69000,
          69000,
          35000,
          63000,
          69000,
          62000,
          115000,
          115000,
          135000,
          129000,
          55000,
          48000,
          105000,
          139000,
          62000,
          59000,
          131000,
          73000,
          62000,
          90000,
          200000,
          56000,
          96000,
          92000,
          92000,
          92000,
          129000,
          62000,
          39000,
          182000,
          39000,
          69000,
          131000,
          62000,
          44000,
          150000,
          92000,
          115000,
          159000,
          55000,
          184000,
          70000,
          115000,
          40000,
          69000,
          60000,
          136000,
          157000,
          35000,
          115000,
          156000,
          51000,
          110000,
          172000,
          69000,
          105000,
          214000,
          115000,
          129000,
          56000,
          129000,
          129000,
          167000,
          115000,
          65000,
          62000,
          56000,
          60000,
          65000,
          167000,
          65000,
          115000,
          173000,
          39000,
          73000,
          115000,
          92000,
          92000,
          74000,
          48000,
          184000,
          115000,
          92000,
          51000,
          62000,
          92000,
          73000,
          92000,
          45000,
          96000,
          49000,
          80000,
          92000,
          65000,
          69000,
          110000,
          72000,
          200000,
          73000,
          69000,
          92000,
          102000,
          35000,
          115000,
          30000,
          40000,
          55000,
          48000,
          48000,
          129000,
          65000,
          59000,
          115000,
          39000,
          55000,
          156000,
          62000,
          129000,
          30000,
          173000,
          62000,
          70000,
          106000,
          78000,
          48000,
          167000,
          35000,
          55000,
          56000,
          120000,
          135000,
          110000,
          73000,
          115000,
          36000,
          65000,
          65000,
          62000,
          48000,
          59000,
          115000,
          131000,
          55000,
          56000,
          55000,
          115000,
          167000,
          190000,
          70000,
          92000,
          115000,
          60000,
          59000,
          42000,
          55000,
          131000,
          129000,
          119000,
          105000,
          63000,
          96000,
          96000,
          129000,
          110000,
          129000,
          119000,
          69000,
          150000,
          45000,
          62000,
          97000,
          65000,
          129000,
          115000,
          200000,
          63000,
          69000,
          59000,
          115000,
          136000,
          74000,
          69000,
          148000,
          130000,
          103000,
          129000,
          92000,
          69000,
          110000,
          45000,
          129000,
          73000,
          35000,
          74000,
          69000,
          92000,
          112000,
          131000,
          51000,
          51000,
          130000,
          65000,
          55000,
          115000,
          77000,
          124000,
          69000,
          110000,
          130000,
          140000,
          167000,
          148000,
          69000,
          185000,
          69000,
          69000,
          96000,
          55000,
          129000,
          129000,
          48000,
          81000,
          59000,
          48000,
          52000,
          62000,
          81000,
          52000,
          48000,
          106000,
          147000,
          104000,
          59000,
          115000,
          55000,
          115000,
          129000,
          39000,
          77000,
          81000,
          84000,
          131000,
          135000,
          55000,
          39000,
          92000,
          129000,
          62000,
          167000,
          59000,
          39000,
          92000,
          100000,
          69000,
          129000,
          144000,
          115000,
          122000,
          55000,
          135000,
          48000,
          105000,
          129000,
          130000,
          48000,
          60000,
          92000,
          80000,
          115000,
          139000,
          40000,
          55000,
          69000,
          65000,
          115000,
          55000,
          129000,
          92000,
          70000,
          81000,
          70000,
          131000,
          100000,
          115000,
          115000,
          44000,
          69000,
          92000,
          144000,
          66000,
          73000,
          65000,
          167000,
          70000,
          62000,
          69000,
          39000,
          129000,
          92000,
          48000,
          36000,
          62000,
          69000,
          55000,
          74000,
          73000,
          62000,
          146000,
          48000,
          129000,
          62000,
          92000,
          55000,
          55000,
          74000,
          70000,
          48000,
          48000,
          96000,
          39000,
          131000,
          129000,
          129000,
          77000,
          142000,
          40000,
          131000,
          135000,
          56000,
          144000,
          131000,
          103000,
          165000,
          115000,
          92000,
          115000,
          39000,
          131000,
          48000,
          120000,
          92000,
          60000,
          129000,
          49000,
          204000,
          60000,
          62000,
          130000,
          166000,
          115000,
          55000,
          69000,
          73000,
          59000,
          30000,
          81000,
          90000,
          106000,
          115000,
          110000,
          65000,
          75000,
          56000,
          75000,
          73000,
          115000,
          110000,
          63000,
          62000,
          62000,
          60000,
          163000,
          110000,
          80000,
          69000,
          55000,
          129000,
          73000,
          92000,
          96000,
          69000,
          135000,
          283000,
          295000,
          92000,
          73000,
          44000,
          70000,
          40000,
          92000,
          100000,
          193000,
          129000,
          109000,
          63000,
          131000,
          60000,
          92000,
          44000,
          60000,
          48000,
          218000,
          60000,
          62000,
          55000,
          180000,
          73000,
          267000,
          159000,
          200000,
          115000,
          230000,
          55000,
          55000,
          131000,
          139000,
          40000,
          40000,
          69000,
          102000,
          51000,
          295000,
          130000,
          40000,
          283000,
          115000,
          96000,
          115000,
          135000,
          40000,
          65000,
          310000,
          85000,
          168000,
          134000,
          55000,
          115000,
          60000,
          92000,
          62000,
          115000,
          50000,
          115000,
          56000,
          50000,
          96000,
          50000,
          69000,
          283000,
          48000,
          65000,
          283000,
          48000,
          39000,
          69000,
          69000,
          115000,
          142000,
          62000,
          60000,
          129000,
          135000,
          80000,
          39000,
          145000,
          133000,
          225000,
          69000,
          185000,
          55000,
          129000,
          48000,
          103000,
          60000,
          73000,
          113000,
          50000,
          184000,
          70000,
          147000,
          129000,
          55000,
          193000,
          73000,
          131000,
          104000,
          51000,
          92000,
          51000,
          51000,
          144000,
          253000,
          69000,
          110000,
          115000,
          85000,
          44000,
          115000,
          129000,
          80000,
          45000,
          59000,
          129000,
          115000,
          55000,
          56000,
          62000,
          39000,
          55000,
          96000,
          92000,
          184000,
          129000,
          105000,
          129000,
          44000,
          83000,
          45000,
          235000,
          62000,
          96000,
          75000,
          69000,
          135000,
          55000,
          175000,
          56000,
          55000,
          110000,
          135000,
          69000,
          96000,
          55000,
          55000,
          62000,
          129000,
          103000,
          127000,
          56000,
          136000,
          129000,
          115000,
          55000,
          55000,
          73000,
          56000,
          129000,
          175000,
          55000,
          30000,
          127000,
          142000,
          187000,
          160000,
          74000,
          129000,
          227000,
          92000,
          92000,
          131000,
          62000,
          73000,
          129000,
          103000,
          55000,
          166000,
          92000,
          51000,
          129000,
          131000,
          144000,
          129000,
          65000,
          30000,
          160000,
          131000,
          115000,
          39000,
          48000,
          131000,
          51000,
          56000,
          65000,
          92000,
          56000,
          144000,
          65000,
          62000,
          62000,
          51000,
          80000,
          115000,
          69000,
          129000,
          129000,
          73000,
          115000,
          55000,
          74000,
          129000,
          56000,
          35000,
          129000,
          40000,
          62000,
          70000,
          35000,
          62000,
          63000,
          145000,
          142000,
          56000,
          73000,
          62000,
          92000,
          73000,
          63000,
          48000,
          115000,
          73000,
          73000,
          129000,
          73000,
          92000,
          129000,
          92000,
          126000,
          62000,
          92000,
          110000,
          65000,
          62000,
          62000,
          51000,
          45000,
          129000,
          62000,
          184000,
          45000,
          56000,
          59000,
          74000,
          62000,
          39000,
          48000,
          48000,
          31000,
          74000,
          61000,
          129000,
          69000,
          60000,
          65000,
          55000,
          89000,
          131000,
          92000,
          131000,
          115000,
          115000,
          171000,
          96000,
          62000,
          48000,
          70000,
          80000,
          129000,
          48000,
          92000,
          131000,
          59000,
          51000,
          115000,
          129000,
          234000,
          115000,
          69000,
          55000,
          92000,
          50000,
          63000,
          166000,
          69000,
          69000,
          115000,
          115000,
          163000,
          115000,
          39000,
          115000,
          129000,
          55000,
          135000,
          59000,
          129000,
          166000,
          62000,
          92000,
          55000,
          163000,
          92000,
          69000,
          60000,
          30000,
          115000,
          73000,
          73000,
          193000,
          69000,
          115000,
          245000,
          108000,
          55000,
          151000,
          110000,
          51000,
          92000,
          62000,
          115000,
          56000,
          73000,
          92000,
          55000,
          103000,
          45000,
          35000,
          131000,
          77000,
          69000,
          73000,
          65000,
          69000,
          105000,
          164000,
          129000,
          55000,
          55000,
          92000,
          59000,
          115000,
          70000,
          59000,
          40000,
          129000,
          96000,
          62000,
          77000,
          105000,
          62000,
          89000,
          50000,
          77000,
          76000,
          135000,
          69000,
          115000,
          129000,
          141000,
          102000,
          63000,
          155000,
          92000,
          62000,
          55000,
          48000,
          115000,
          131000,
          73000,
          131000,
          200000,
          183000,
          56000,
          60000,
          115000,
          52000,
          92000,
          115000,
          92000,
          62000,
          56000,
          48000,
          135000,
          55000,
          55000,
          81000,
          63000,
          135000,
          50000,
          129000,
          245000,
          129000,
          189000,
          55000,
          62000,
          131000,
          56000,
          135000,
          115000,
          147000,
          62000,
          55000,
          62000,
          170000,
          56000,
          92000,
          144000,
          49000,
          59000,
          49000,
          130000,
          115000,
          110000,
          62000,
          131000,
          52000,
          159000,
          115000,
          92000,
          62000,
          142000,
          129000,
          73000,
          131000,
          81000,
          79000,
          55000,
          151000,
          39000,
          115000,
          48000,
          45000,
          48000,
          48000,
          119000,
          69000,
          129000,
          49000,
          35000,
          65000,
          92000,
          142000,
          49000,
          140000,
          115000,
          35000,
          62000,
          80000,
          70000,
          119000,
          129000,
          48000,
          62000,
          147000,
          160000,
          115000,
          130000,
          56000,
          135000,
          65000,
          65000,
          70000,
          65000,
          55000,
          92000,
          147000,
          115000,
          140000,
          115000,
          115000,
          105000,
          62000,
          84000,
          55000,
          40000,
          125000,
          130000,
          40000,
          175000,
          135000,
          74000,
          129000,
          115000,
          60000,
          55000,
          56000,
          62000,
          39000,
          129000,
          92000,
          62000,
          73000,
          49000,
          77000,
          55000,
          129000,
          131000,
          56000,
          81000,
          39000,
          144000,
          39000,
          129000,
          115000,
          50000,
          115000,
          110000,
          103000,
          69000,
          200000,
          45000,
          110000,
          55000,
          73000,
          92000,
          48000,
          59000,
          77000,
          90000,
          56000,
          129000,
          104000,
          106000,
          115000,
          56000,
          56000,
          60000,
          163000,
          59000,
          71000,
          73000,
          65000,
          50000,
          35000,
          115000,
          129000,
          62000,
          125000,
          59000,
          48000,
          129000,
          129000,
          73000,
          62000,
          73000,
          92000,
          90000,
          94000,
          135000,
          55000,
          92000,
          55000,
          175000,
          159000,
          115000,
          131000,
          44000,
          40000,
          62000,
          59000,
          92000,
          30000,
          129000,
          81000,
          62000,
          129000,
          140000,
          62000,
          31000,
          60000,
          69000,
          103000,
          57000,
          131000,
          39000,
          62000,
          129000,
          55000,
          129000,
          69000,
          187000,
          50000,
          115000,
          62000,
          136000,
          59000,
          48000,
          65000,
          69000,
          113000,
          110000,
          92000,
          80000,
          197000,
          102000,
          80000,
          115000,
          159000,
          140000,
          55000,
          45000,
          92000,
          105000,
          51000,
          129000,
          78000,
          82000,
          77000,
          62000,
          30000,
          160000,
          131000,
          105000,
          129000,
          55000,
          62000,
          70000,
          81000,
          105000,
          92000,
          160000,
          62000,
          135000,
          69000,
          50000,
          73000,
          65000,
          77000,
          131000,
          129000,
          56000,
          65000,
          60000,
          110000,
          62000,
          55000,
          48000,
          51000,
          115000,
          92000,
          170000,
          56000,
          96000,
          92000,
          60000,
          115000,
          62000,
          175000,
          115000,
          129000,
          55000,
          55000,
          62000,
          73000,
          110000,
          62000,
          55000,
          129000,
          55000,
          70000,
          135000,
          40000,
          69000,
          48000,
          39000,
          129000,
          73000,
          92000,
          135000,
          69000,
          92000,
          30000,
          115000,
          73000,
          73000,
          39000,
          62000,
          56000,
          40000,
          49000,
          115000,
          48000,
          81000,
          60000,
          80000,
          73000,
          50000,
          55000,
          80000,
          77000,
          73000,
          136000,
          73000,
          92000,
          73000,
          48000,
          69000,
          70000,
          129000,
          115000,
          60000,
          129000,
          110000,
          172000,
          115000,
          185000,
          92000,
          65000,
          92000,
          92000,
          51000,
          55000,
          62000,
          48000,
          81000,
          60000,
          177000,
          31000,
          65000,
          56000,
          65000,
          73000,
          129000,
          40000,
          65000,
          62000,
          74000,
          129000,
          56000,
          115000,
          62000,
          62000,
          104000,
          50000,
          48000,
          80000,
          156000,
          129000,
          102000,
          30000,
          79000,
          70000,
          69000,
          160000,
          184000,
          62000,
          164000,
          92000,
          119000,
          69000,
          131000,
          115000,
          235000,
          49000,
          55000,
          48000,
          129000,
          59000,
          62000,
          55000,
          56000,
          70000,
          30000,
          115000,
          70000,
          92000,
          131000,
          108000,
          39000,
          48000,
          130000,
          103000,
          92000,
          30000,
          62000,
          93000,
          115000,
          73000,
          115000,
          62000,
          135000,
          130000,
          100000,
          80000,
          75000,
          69000,
          65000,
          92000,
          115000,
          69000,
          129000,
          79000,
          131000,
          92000,
          135000,
          81000,
          156000,
          96000,
          81000,
          73000,
          92000,
          69000,
          48000,
          65000,
          131000,
          115000,
          170000,
          35000,
          48000,
          92000,
          92000,
          35000,
          104000,
          135000,
          62000,
          45000,
          51000,
          135000,
          69000,
          170000,
          55000,
          44000,
          115000,
          60000,
          73000,
          48000,
          74000,
          105000,
          49000,
          92000,
          62000,
          115000,
          115000,
          202000,
          89000,
          190000,
          44000,
          55000,
          30000,
          189000,
          92000,
          30000,
          73000,
          175000,
          60000,
          39000,
          115000,
          39000,
          140000,
          135000,
          92000,
          65000,
          129000,
          153000,
          62000,
          104000,
          121000,
          81000,
          200000,
          56000,
          69000,
          115000,
          115000,
          200000,
          62000,
          115000,
          129000,
          92000,
          92000,
          90000,
          69000,
          90000,
          164000,
          156000,
          62000,
          59000,
          42000,
          70000,
          90000,
          45000,
          90000,
          56000,
          142000,
          69000,
          59000,
          115000,
          42000,
          62000,
          75000,
          85000,
          69000,
          62000,
          115000,
          42000,
          184000,
          56000,
          62000,
          73000,
          69000,
          69000,
          92000,
          144000,
          62000,
          56000,
          115000,
          126000,
          115000,
          62000,
          90000,
          69000,
          35000,
          92000,
          129000,
          56000,
          115000,
          45000,
          110000,
          70000,
          152000,
          75000,
          142000,
          172000,
          135000,
          62000,
          115000,
          115000,
          115000,
          62000,
          63000,
          92000,
          161000,
          56000,
          115000,
          131000,
          68000,
          48000,
          92000,
          30000,
          59000,
          39000,
          55000,
          92000,
          90000,
          103000,
          129000,
          129000,
          115000,
          142000,
          56000,
          115000,
          30000,
          30000,
          155000,
          42000,
          142000,
          62000,
          59000,
          115000,
          62000,
          150000,
          77000,
          103000,
          152000,
          55000,
          56000,
          92000,
          115000,
          131000,
          92000,
          39000,
          129000,
          55000,
          56000,
          56000,
          92000,
          75000,
          140000,
          55000,
          73000,
          59000,
          129000,
          42000,
          182000,
          69000,
          55000,
          92000,
          62000,
          92000,
          92000,
          90000,
          92000,
          42000,
          129000,
          132000,
          62000,
          115000,
          79000,
          74000,
          50000,
          125000,
          42000,
          92000,
          103000,
          115000,
          165000,
          115000,
          129000,
          115000,
          129000,
          129000,
          115000,
          134000,
          59000,
          131000,
          51000,
          92000,
          92000,
          115000,
          126000,
          35000,
          183000,
          115000,
          129000,
          69000,
          115000,
          77000,
          35000,
          65000,
          55000,
          39000,
          55000,
          110000,
          55000,
          74000,
          129000,
          115000,
          69000,
          138000,
          74000,
          115000,
          79000,
          77000,
          51000,
          44000,
          196000,
          131000,
          102000,
          115000,
          115000,
          55000,
          131000,
          62000,
          56000,
          205000,
          90000,
          56000,
          56000,
          110000,
          62000,
          267000,
          62000,
          131000,
          39000,
          39000,
          35000,
          59000,
          55000,
          62000,
          115000,
          153000,
          73000,
          65000,
          115000,
          140000,
          70000,
          112000,
          150000,
          115000,
          178000,
          115000,
          92000,
          115000,
          92000,
          131000,
          39000,
          56000,
          125000,
          185000,
          42000,
          73000,
          129000,
          30000,
          59000,
          55000,
          115000,
          69000,
          131000,
          129000,
          62000,
          35000,
          140000,
          115000,
          55000,
          77000,
          197000,
          102000,
          55000,
          92000,
          135000,
          55000,
          42000,
          92000,
          42000,
          115000,
          55000,
          39000,
          42000,
          69000,
          56000,
          148000,
          55000,
          95000,
          110000,
          168000,
          115000,
          42000,
          56000,
          50000,
          140000,
          148000,
          70000,
          73000,
          115000,
          59000,
          81000,
          50000,
          59000,
          92000,
          73000,
          142000,
          45000,
          92000,
          39000,
          51000,
          42000,
          115000,
          92000,
          135000,
          69000,
          92000,
          92000,
          129000,
          144000,
          129000,
          131000,
          136000,
          33000,
          115000,
          55000,
          100000,
          135000,
          54000,
          44000,
          55000,
          129000,
          39000,
          115000,
          55000,
          115000,
          45000,
          92000,
          98000,
          39000,
          56000,
          55000,
          69000,
          131000,
          42000,
          115000,
          56000,
          89000,
          35000,
          92000,
          115000,
          131000,
          110000,
          30000,
          55000,
          55000,
          51000,
          42000,
          39000,
          55000,
          141000,
          62000,
          55000,
          73000,
          51000,
          131000,
          51000,
          55000,
          73000,
          97000,
          103000,
          131000,
          73000,
          92000,
          62000,
          62000,
          115000,
          110000,
          135000,
          55000,
          110000,
          55000,
          129000,
          92000,
          55000,
          42000,
          129000,
          62000,
          95000,
          129000,
          92000,
          55000,
          129000,
          62000,
          65000,
          75000,
          95000,
          56000,
          122000,
          73000,
          45000,
          69000,
          44000,
          131000,
          39000,
          62000,
          39000,
          62000,
          62000,
          55000,
          75000,
          79000,
          115000,
          55000,
          56000,
          50000,
          129000,
          55000,
          48000,
          30000,
          55000,
          56000,
          110000,
          72000,
          51000,
          90000,
          56000,
          92000,
          205000,
          55000,
          113000,
          55000,
          50000,
          127000,
          159000,
          59000,
          92000,
          62000,
          125000,
          115000,
          131000,
          69000,
          92000,
          56000,
          115000,
          55000,
          92000,
          136000,
          129000,
          55000,
          74000,
          180000,
          48000,
          92000,
          62000,
          62000,
          69000,
          30000,
          85000,
          73000,
          141000,
          92000,
          73000,
          55000,
          115000,
          44000,
          164000,
          156000,
          62000,
          103000,
          73000,
          90000,
          95000,
          131000,
          39000,
          55000,
          115000,
          73000,
          95000,
          160000,
          115000,
          56000,
          115000,
          62000,
          69000,
          110000,
          44000,
          62000,
          73000,
          42000,
          74000,
          158000,
          30000,
          129000,
          62000,
          42000,
          90000,
          131000,
          156000,
          59000,
          45000,
          129000,
          44000,
          140000,
          92000,
          69000,
          180000,
          92000,
          55000,
          92000,
          39000,
          62000,
          35000,
          95000,
          92000,
          115000,
          129000,
          99000,
          30000,
          56000,
          115000,
          55000,
          49000,
          115000,
          62000,
          69000,
          49000,
          94000,
          48000,
          92000,
          105000,
          129000,
          129000,
          40000,
          199000,
          119000,
          105000,
          90000,
          39000,
          100000,
          55000,
          156000,
          92000,
          39000,
          77000,
          56000,
          69000,
          115000,
          115000,
          144000,
          102000,
          39000,
          220000,
          119000,
          129000,
          180000,
          129000,
          74000,
          129000,
          151000,
          115000,
          129000,
          69000,
          42000,
          129000,
          62000,
          100000,
          56000,
          69000,
          63000,
          73000,
          131000,
          55000,
          93000,
          56000,
          49000,
          62000,
          103000,
          62000,
          115000,
          62000,
          81000,
          200000,
          100000,
          132000,
          42000,
          62000,
          56000,
          92000,
          92000,
          129000,
          69000,
          115000,
          55000,
          105000,
          69000,
          115000,
          62000,
          75000,
          95000,
          180000,
          110000,
          51000,
          92000,
          103000,
          89000,
          60000,
          92000,
          90000,
          48000,
          56000,
          115000,
          62000,
          62000,
          145000,
          69000,
          103000,
          115000,
          77000,
          145000,
          74000,
          55000,
          129000,
          62000,
          95000,
          92000,
          62000,
          55000,
          62000,
          92000,
          115000,
          129000,
          131000,
          115000,
          30000,
          131000,
          180000,
          56000,
          113000,
          129000,
          42000,
          62000,
          56000,
          115000,
          73000,
          92000,
          62000,
          115000,
          69000,
          124000,
          62000,
          45000,
          39000,
          73000,
          115000,
          84000,
          30000,
          79000,
          56000,
          135000,
          62000,
          105000,
          30000,
          62000,
          115000,
          120000,
          65000,
          95000,
          62000,
          110000,
          56000,
          39000,
          42000,
          168000,
          30000,
          30000,
          131000,
          55000,
          135000,
          56000,
          65000,
          60000,
          129000,
          135000,
          100000,
          92000,
          92000,
          92000,
          52000,
          131000,
          115000,
          81000,
          69000,
          115000,
          42000,
          42000,
          62000,
          42000,
          40000,
          129000,
          92000,
          81000,
          104000,
          115000,
          129000,
          56000,
          39000,
          39000,
          81000,
          92000,
          69000,
          81000,
          142000,
          204000,
          30000,
          90000,
          62000,
          92000,
          81000,
          115000,
          75000,
          92000,
          92000,
          62000,
          69000,
          36000,
          81000,
          129000,
          129000,
          62000,
          42000,
          55000,
          51000,
          115000,
          76000,
          56000,
          80000,
          39000,
          120000,
          62000,
          110000,
          125000,
          74000,
          51000,
          73000,
          105000,
          129000,
          62000,
          42000,
          55000,
          39000,
          69000,
          55000,
          163000,
          115000,
          144000,
          39000,
          160000,
          95000,
          52000,
          56000,
          69000,
          70000,
          115000,
          62000,
          115000,
          70000,
          55000,
          55000,
          69000,
          115000,
          62000,
          59000,
          131000,
          48000,
          75000,
          129000,
          49000,
          55000,
          77000,
          92000,
          173000,
          62000,
          51000,
          45000,
          40000,
          59000,
          109000,
          142000,
          115000,
          33000,
          159000,
          55000,
          89000,
          73000,
          115000,
          128000,
          81000,
          66000,
          136000,
          55000,
          54000,
          135000,
          153000,
          170000,
          129000,
          55000,
          199000,
          55000,
          55000,
          55000,
          157000,
          62000,
          115000,
          56000,
          92000,
          115000,
          73000,
          59000,
          39000,
          200000,
          160000,
          30000,
          90000,
          90000,
          73000,
          30000,
          110000,
          129000,
          200000,
          62000,
          70000,
          30000,
          39000,
          36000,
          129000,
          60000,
          59000,
          62000,
          69000,
          129000,
          62000,
          120000,
          115000,
          70000,
          39000,
          65000,
          92000,
          30000,
          95000,
          63000,
          129000,
          62000,
          123000,
          115000,
          115000,
          115000,
          109000,
          117000,
          70000,
          170000,
          75000,
          113000,
          106000,
          176000,
          39000,
          92000,
          62000,
          39000,
          115000
         ],
         "yaxis": "y"
        },
        {
         "customdata": [
          [
           "Fullstack Academy",
           "Instructor, AI/Machine Learning (Part-time)"
          ],
          [
           "TIKTAL",
           "ChatGPT & AI Consultant (Part Time)"
          ],
          [
           "TIKTAL",
           "ChatGPT / AI Consultant (Part Time)"
          ],
          [
           "Sonovate",
           "Lead Data Engineer (Part time)"
          ]
         ],
         "hovertemplate": "Job Type=Part Time<br>Experience level=%{x}<br>Salary=%{y}<br>Company=%{customdata[0]}<br>Job Title=%{customdata[1]}<extra></extra>",
         "legendgroup": "Part Time",
         "marker": {
          "color": "#EF553B",
          "symbol": "circle"
         },
         "mode": "markers",
         "name": "Part Time",
         "showlegend": true,
         "type": "scattergl",
         "x": [
          "Mid-level",
          "Mid-level",
          "Mid-level",
          "Mid-level"
         ],
         "xaxis": "x",
         "y": [
          51000,
          40000,
          45000,
          73000
         ],
         "yaxis": "y"
        }
       ],
       "layout": {
        "legend": {
         "title": {
          "text": "Job Type"
         },
         "tracegroupgap": 0
        },
        "margin": {
         "t": 60
        },
        "template": {
         "data": {
          "bar": [
           {
            "error_x": {
             "color": "#2a3f5f"
            },
            "error_y": {
             "color": "#2a3f5f"
            },
            "marker": {
             "line": {
              "color": "#E5ECF6",
              "width": 0.5
             },
             "pattern": {
              "fillmode": "overlay",
              "size": 10,
              "solidity": 0.2
             }
            },
            "type": "bar"
           }
          ],
          "barpolar": [
           {
            "marker": {
             "line": {
              "color": "#E5ECF6",
              "width": 0.5
             },
             "pattern": {
              "fillmode": "overlay",
              "size": 10,
              "solidity": 0.2
             }
            },
            "type": "barpolar"
           }
          ],
          "carpet": [
           {
            "aaxis": {
             "endlinecolor": "#2a3f5f",
             "gridcolor": "white",
             "linecolor": "white",
             "minorgridcolor": "white",
             "startlinecolor": "#2a3f5f"
            },
            "baxis": {
             "endlinecolor": "#2a3f5f",
             "gridcolor": "white",
             "linecolor": "white",
             "minorgridcolor": "white",
             "startlinecolor": "#2a3f5f"
            },
            "type": "carpet"
           }
          ],
          "choropleth": [
           {
            "colorbar": {
             "outlinewidth": 0,
             "ticks": ""
            },
            "type": "choropleth"
           }
          ],
          "contour": [
           {
            "colorbar": {
             "outlinewidth": 0,
             "ticks": ""
            },
            "colorscale": [
             [
              0,
              "#0d0887"
             ],
             [
              0.1111111111111111,
              "#46039f"
             ],
             [
              0.2222222222222222,
              "#7201a8"
             ],
             [
              0.3333333333333333,
              "#9c179e"
             ],
             [
              0.4444444444444444,
              "#bd3786"
             ],
             [
              0.5555555555555556,
              "#d8576b"
             ],
             [
              0.6666666666666666,
              "#ed7953"
             ],
             [
              0.7777777777777778,
              "#fb9f3a"
             ],
             [
              0.8888888888888888,
              "#fdca26"
             ],
             [
              1,
              "#f0f921"
             ]
            ],
            "type": "contour"
           }
          ],
          "contourcarpet": [
           {
            "colorbar": {
             "outlinewidth": 0,
             "ticks": ""
            },
            "type": "contourcarpet"
           }
          ],
          "heatmap": [
           {
            "colorbar": {
             "outlinewidth": 0,
             "ticks": ""
            },
            "colorscale": [
             [
              0,
              "#0d0887"
             ],
             [
              0.1111111111111111,
              "#46039f"
             ],
             [
              0.2222222222222222,
              "#7201a8"
             ],
             [
              0.3333333333333333,
              "#9c179e"
             ],
             [
              0.4444444444444444,
              "#bd3786"
             ],
             [
              0.5555555555555556,
              "#d8576b"
             ],
             [
              0.6666666666666666,
              "#ed7953"
             ],
             [
              0.7777777777777778,
              "#fb9f3a"
             ],
             [
              0.8888888888888888,
              "#fdca26"
             ],
             [
              1,
              "#f0f921"
             ]
            ],
            "type": "heatmap"
           }
          ],
          "heatmapgl": [
           {
            "colorbar": {
             "outlinewidth": 0,
             "ticks": ""
            },
            "colorscale": [
             [
              0,
              "#0d0887"
             ],
             [
              0.1111111111111111,
              "#46039f"
             ],
             [
              0.2222222222222222,
              "#7201a8"
             ],
             [
              0.3333333333333333,
              "#9c179e"
             ],
             [
              0.4444444444444444,
              "#bd3786"
             ],
             [
              0.5555555555555556,
              "#d8576b"
             ],
             [
              0.6666666666666666,
              "#ed7953"
             ],
             [
              0.7777777777777778,
              "#fb9f3a"
             ],
             [
              0.8888888888888888,
              "#fdca26"
             ],
             [
              1,
              "#f0f921"
             ]
            ],
            "type": "heatmapgl"
           }
          ],
          "histogram": [
           {
            "marker": {
             "pattern": {
              "fillmode": "overlay",
              "size": 10,
              "solidity": 0.2
             }
            },
            "type": "histogram"
           }
          ],
          "histogram2d": [
           {
            "colorbar": {
             "outlinewidth": 0,
             "ticks": ""
            },
            "colorscale": [
             [
              0,
              "#0d0887"
             ],
             [
              0.1111111111111111,
              "#46039f"
             ],
             [
              0.2222222222222222,
              "#7201a8"
             ],
             [
              0.3333333333333333,
              "#9c179e"
             ],
             [
              0.4444444444444444,
              "#bd3786"
             ],
             [
              0.5555555555555556,
              "#d8576b"
             ],
             [
              0.6666666666666666,
              "#ed7953"
             ],
             [
              0.7777777777777778,
              "#fb9f3a"
             ],
             [
              0.8888888888888888,
              "#fdca26"
             ],
             [
              1,
              "#f0f921"
             ]
            ],
            "type": "histogram2d"
           }
          ],
          "histogram2dcontour": [
           {
            "colorbar": {
             "outlinewidth": 0,
             "ticks": ""
            },
            "colorscale": [
             [
              0,
              "#0d0887"
             ],
             [
              0.1111111111111111,
              "#46039f"
             ],
             [
              0.2222222222222222,
              "#7201a8"
             ],
             [
              0.3333333333333333,
              "#9c179e"
             ],
             [
              0.4444444444444444,
              "#bd3786"
             ],
             [
              0.5555555555555556,
              "#d8576b"
             ],
             [
              0.6666666666666666,
              "#ed7953"
             ],
             [
              0.7777777777777778,
              "#fb9f3a"
             ],
             [
              0.8888888888888888,
              "#fdca26"
             ],
             [
              1,
              "#f0f921"
             ]
            ],
            "type": "histogram2dcontour"
           }
          ],
          "mesh3d": [
           {
            "colorbar": {
             "outlinewidth": 0,
             "ticks": ""
            },
            "type": "mesh3d"
           }
          ],
          "parcoords": [
           {
            "line": {
             "colorbar": {
              "outlinewidth": 0,
              "ticks": ""
             }
            },
            "type": "parcoords"
           }
          ],
          "pie": [
           {
            "automargin": true,
            "type": "pie"
           }
          ],
          "scatter": [
           {
            "fillpattern": {
             "fillmode": "overlay",
             "size": 10,
             "solidity": 0.2
            },
            "type": "scatter"
           }
          ],
          "scatter3d": [
           {
            "line": {
             "colorbar": {
              "outlinewidth": 0,
              "ticks": ""
             }
            },
            "marker": {
             "colorbar": {
              "outlinewidth": 0,
              "ticks": ""
             }
            },
            "type": "scatter3d"
           }
          ],
          "scattercarpet": [
           {
            "marker": {
             "colorbar": {
              "outlinewidth": 0,
              "ticks": ""
             }
            },
            "type": "scattercarpet"
           }
          ],
          "scattergeo": [
           {
            "marker": {
             "colorbar": {
              "outlinewidth": 0,
              "ticks": ""
             }
            },
            "type": "scattergeo"
           }
          ],
          "scattergl": [
           {
            "marker": {
             "colorbar": {
              "outlinewidth": 0,
              "ticks": ""
             }
            },
            "type": "scattergl"
           }
          ],
          "scattermapbox": [
           {
            "marker": {
             "colorbar": {
              "outlinewidth": 0,
              "ticks": ""
             }
            },
            "type": "scattermapbox"
           }
          ],
          "scatterpolar": [
           {
            "marker": {
             "colorbar": {
              "outlinewidth": 0,
              "ticks": ""
             }
            },
            "type": "scatterpolar"
           }
          ],
          "scatterpolargl": [
           {
            "marker": {
             "colorbar": {
              "outlinewidth": 0,
              "ticks": ""
             }
            },
            "type": "scatterpolargl"
           }
          ],
          "scatterternary": [
           {
            "marker": {
             "colorbar": {
              "outlinewidth": 0,
              "ticks": ""
             }
            },
            "type": "scatterternary"
           }
          ],
          "surface": [
           {
            "colorbar": {
             "outlinewidth": 0,
             "ticks": ""
            },
            "colorscale": [
             [
              0,
              "#0d0887"
             ],
             [
              0.1111111111111111,
              "#46039f"
             ],
             [
              0.2222222222222222,
              "#7201a8"
             ],
             [
              0.3333333333333333,
              "#9c179e"
             ],
             [
              0.4444444444444444,
              "#bd3786"
             ],
             [
              0.5555555555555556,
              "#d8576b"
             ],
             [
              0.6666666666666666,
              "#ed7953"
             ],
             [
              0.7777777777777778,
              "#fb9f3a"
             ],
             [
              0.8888888888888888,
              "#fdca26"
             ],
             [
              1,
              "#f0f921"
             ]
            ],
            "type": "surface"
           }
          ],
          "table": [
           {
            "cells": {
             "fill": {
              "color": "#EBF0F8"
             },
             "line": {
              "color": "white"
             }
            },
            "header": {
             "fill": {
              "color": "#C8D4E3"
             },
             "line": {
              "color": "white"
             }
            },
            "type": "table"
           }
          ]
         },
         "layout": {
          "annotationdefaults": {
           "arrowcolor": "#2a3f5f",
           "arrowhead": 0,
           "arrowwidth": 1
          },
          "autotypenumbers": "strict",
          "coloraxis": {
           "colorbar": {
            "outlinewidth": 0,
            "ticks": ""
           }
          },
          "colorscale": {
           "diverging": [
            [
             0,
             "#8e0152"
            ],
            [
             0.1,
             "#c51b7d"
            ],
            [
             0.2,
             "#de77ae"
            ],
            [
             0.3,
             "#f1b6da"
            ],
            [
             0.4,
             "#fde0ef"
            ],
            [
             0.5,
             "#f7f7f7"
            ],
            [
             0.6,
             "#e6f5d0"
            ],
            [
             0.7,
             "#b8e186"
            ],
            [
             0.8,
             "#7fbc41"
            ],
            [
             0.9,
             "#4d9221"
            ],
            [
             1,
             "#276419"
            ]
           ],
           "sequential": [
            [
             0,
             "#0d0887"
            ],
            [
             0.1111111111111111,
             "#46039f"
            ],
            [
             0.2222222222222222,
             "#7201a8"
            ],
            [
             0.3333333333333333,
             "#9c179e"
            ],
            [
             0.4444444444444444,
             "#bd3786"
            ],
            [
             0.5555555555555556,
             "#d8576b"
            ],
            [
             0.6666666666666666,
             "#ed7953"
            ],
            [
             0.7777777777777778,
             "#fb9f3a"
            ],
            [
             0.8888888888888888,
             "#fdca26"
            ],
            [
             1,
             "#f0f921"
            ]
           ],
           "sequentialminus": [
            [
             0,
             "#0d0887"
            ],
            [
             0.1111111111111111,
             "#46039f"
            ],
            [
             0.2222222222222222,
             "#7201a8"
            ],
            [
             0.3333333333333333,
             "#9c179e"
            ],
            [
             0.4444444444444444,
             "#bd3786"
            ],
            [
             0.5555555555555556,
             "#d8576b"
            ],
            [
             0.6666666666666666,
             "#ed7953"
            ],
            [
             0.7777777777777778,
             "#fb9f3a"
            ],
            [
             0.8888888888888888,
             "#fdca26"
            ],
            [
             1,
             "#f0f921"
            ]
           ]
          },
          "colorway": [
           "#636efa",
           "#EF553B",
           "#00cc96",
           "#ab63fa",
           "#FFA15A",
           "#19d3f3",
           "#FF6692",
           "#B6E880",
           "#FF97FF",
           "#FECB52"
          ],
          "font": {
           "color": "#2a3f5f"
          },
          "geo": {
           "bgcolor": "white",
           "lakecolor": "white",
           "landcolor": "#E5ECF6",
           "showlakes": true,
           "showland": true,
           "subunitcolor": "white"
          },
          "hoverlabel": {
           "align": "left"
          },
          "hovermode": "closest",
          "mapbox": {
           "style": "light"
          },
          "paper_bgcolor": "white",
          "plot_bgcolor": "#E5ECF6",
          "polar": {
           "angularaxis": {
            "gridcolor": "white",
            "linecolor": "white",
            "ticks": ""
           },
           "bgcolor": "#E5ECF6",
           "radialaxis": {
            "gridcolor": "white",
            "linecolor": "white",
            "ticks": ""
           }
          },
          "scene": {
           "xaxis": {
            "backgroundcolor": "#E5ECF6",
            "gridcolor": "white",
            "gridwidth": 2,
            "linecolor": "white",
            "showbackground": true,
            "ticks": "",
            "zerolinecolor": "white"
           },
           "yaxis": {
            "backgroundcolor": "#E5ECF6",
            "gridcolor": "white",
            "gridwidth": 2,
            "linecolor": "white",
            "showbackground": true,
            "ticks": "",
            "zerolinecolor": "white"
           },
           "zaxis": {
            "backgroundcolor": "#E5ECF6",
            "gridcolor": "white",
            "gridwidth": 2,
            "linecolor": "white",
            "showbackground": true,
            "ticks": "",
            "zerolinecolor": "white"
           }
          },
          "shapedefaults": {
           "line": {
            "color": "#2a3f5f"
           }
          },
          "ternary": {
           "aaxis": {
            "gridcolor": "white",
            "linecolor": "white",
            "ticks": ""
           },
           "baxis": {
            "gridcolor": "white",
            "linecolor": "white",
            "ticks": ""
           },
           "bgcolor": "#E5ECF6",
           "caxis": {
            "gridcolor": "white",
            "linecolor": "white",
            "ticks": ""
           }
          },
          "title": {
           "x": 0.05
          },
          "xaxis": {
           "automargin": true,
           "gridcolor": "white",
           "linecolor": "white",
           "ticks": "",
           "title": {
            "standoff": 15
           },
           "zerolinecolor": "white",
           "zerolinewidth": 2
          },
          "yaxis": {
           "automargin": true,
           "gridcolor": "white",
           "linecolor": "white",
           "ticks": "",
           "title": {
            "standoff": 15
           },
           "zerolinecolor": "white",
           "zerolinewidth": 2
          }
         }
        },
        "xaxis": {
         "anchor": "y",
         "domain": [
          0,
          1
         ],
         "title": {
          "text": "Experience level"
         }
        },
        "yaxis": {
         "anchor": "x",
         "domain": [
          0,
          1
         ],
         "title": {
          "text": "Salary"
         }
        }
       }
      }
     },
     "metadata": {},
     "output_type": "display_data"
    }
   ],
   "source": [
    "import plotly.express as px\n",
    "\n",
    "fig = px.scatter(df, x='Experience level', y='Salary', color='Job Type', hover_data=['Company', 'Job Title'])\n",
    "fig.show()"
   ]
  },
  {
   "cell_type": "code",
   "execution_count": 29,
   "metadata": {},
   "outputs": [
    {
     "data": {
      "application/vnd.plotly.v1+json": {
       "config": {
        "plotlyServerURL": "https://plot.ly"
       },
       "data": [
        {
         "type": "bar",
         "x": [
          "Entry-level",
          "Executive-level",
          "Mid-level",
          "Senior-level"
         ],
         "y": [
          49627.24935732648,
          104798.56115107914,
          64383.61266294227,
          104470.16460905349
         ]
        }
       ],
       "layout": {
        "template": {
         "data": {
          "bar": [
           {
            "error_x": {
             "color": "#2a3f5f"
            },
            "error_y": {
             "color": "#2a3f5f"
            },
            "marker": {
             "line": {
              "color": "#E5ECF6",
              "width": 0.5
             },
             "pattern": {
              "fillmode": "overlay",
              "size": 10,
              "solidity": 0.2
             }
            },
            "type": "bar"
           }
          ],
          "barpolar": [
           {
            "marker": {
             "line": {
              "color": "#E5ECF6",
              "width": 0.5
             },
             "pattern": {
              "fillmode": "overlay",
              "size": 10,
              "solidity": 0.2
             }
            },
            "type": "barpolar"
           }
          ],
          "carpet": [
           {
            "aaxis": {
             "endlinecolor": "#2a3f5f",
             "gridcolor": "white",
             "linecolor": "white",
             "minorgridcolor": "white",
             "startlinecolor": "#2a3f5f"
            },
            "baxis": {
             "endlinecolor": "#2a3f5f",
             "gridcolor": "white",
             "linecolor": "white",
             "minorgridcolor": "white",
             "startlinecolor": "#2a3f5f"
            },
            "type": "carpet"
           }
          ],
          "choropleth": [
           {
            "colorbar": {
             "outlinewidth": 0,
             "ticks": ""
            },
            "type": "choropleth"
           }
          ],
          "contour": [
           {
            "colorbar": {
             "outlinewidth": 0,
             "ticks": ""
            },
            "colorscale": [
             [
              0,
              "#0d0887"
             ],
             [
              0.1111111111111111,
              "#46039f"
             ],
             [
              0.2222222222222222,
              "#7201a8"
             ],
             [
              0.3333333333333333,
              "#9c179e"
             ],
             [
              0.4444444444444444,
              "#bd3786"
             ],
             [
              0.5555555555555556,
              "#d8576b"
             ],
             [
              0.6666666666666666,
              "#ed7953"
             ],
             [
              0.7777777777777778,
              "#fb9f3a"
             ],
             [
              0.8888888888888888,
              "#fdca26"
             ],
             [
              1,
              "#f0f921"
             ]
            ],
            "type": "contour"
           }
          ],
          "contourcarpet": [
           {
            "colorbar": {
             "outlinewidth": 0,
             "ticks": ""
            },
            "type": "contourcarpet"
           }
          ],
          "heatmap": [
           {
            "colorbar": {
             "outlinewidth": 0,
             "ticks": ""
            },
            "colorscale": [
             [
              0,
              "#0d0887"
             ],
             [
              0.1111111111111111,
              "#46039f"
             ],
             [
              0.2222222222222222,
              "#7201a8"
             ],
             [
              0.3333333333333333,
              "#9c179e"
             ],
             [
              0.4444444444444444,
              "#bd3786"
             ],
             [
              0.5555555555555556,
              "#d8576b"
             ],
             [
              0.6666666666666666,
              "#ed7953"
             ],
             [
              0.7777777777777778,
              "#fb9f3a"
             ],
             [
              0.8888888888888888,
              "#fdca26"
             ],
             [
              1,
              "#f0f921"
             ]
            ],
            "type": "heatmap"
           }
          ],
          "heatmapgl": [
           {
            "colorbar": {
             "outlinewidth": 0,
             "ticks": ""
            },
            "colorscale": [
             [
              0,
              "#0d0887"
             ],
             [
              0.1111111111111111,
              "#46039f"
             ],
             [
              0.2222222222222222,
              "#7201a8"
             ],
             [
              0.3333333333333333,
              "#9c179e"
             ],
             [
              0.4444444444444444,
              "#bd3786"
             ],
             [
              0.5555555555555556,
              "#d8576b"
             ],
             [
              0.6666666666666666,
              "#ed7953"
             ],
             [
              0.7777777777777778,
              "#fb9f3a"
             ],
             [
              0.8888888888888888,
              "#fdca26"
             ],
             [
              1,
              "#f0f921"
             ]
            ],
            "type": "heatmapgl"
           }
          ],
          "histogram": [
           {
            "marker": {
             "pattern": {
              "fillmode": "overlay",
              "size": 10,
              "solidity": 0.2
             }
            },
            "type": "histogram"
           }
          ],
          "histogram2d": [
           {
            "colorbar": {
             "outlinewidth": 0,
             "ticks": ""
            },
            "colorscale": [
             [
              0,
              "#0d0887"
             ],
             [
              0.1111111111111111,
              "#46039f"
             ],
             [
              0.2222222222222222,
              "#7201a8"
             ],
             [
              0.3333333333333333,
              "#9c179e"
             ],
             [
              0.4444444444444444,
              "#bd3786"
             ],
             [
              0.5555555555555556,
              "#d8576b"
             ],
             [
              0.6666666666666666,
              "#ed7953"
             ],
             [
              0.7777777777777778,
              "#fb9f3a"
             ],
             [
              0.8888888888888888,
              "#fdca26"
             ],
             [
              1,
              "#f0f921"
             ]
            ],
            "type": "histogram2d"
           }
          ],
          "histogram2dcontour": [
           {
            "colorbar": {
             "outlinewidth": 0,
             "ticks": ""
            },
            "colorscale": [
             [
              0,
              "#0d0887"
             ],
             [
              0.1111111111111111,
              "#46039f"
             ],
             [
              0.2222222222222222,
              "#7201a8"
             ],
             [
              0.3333333333333333,
              "#9c179e"
             ],
             [
              0.4444444444444444,
              "#bd3786"
             ],
             [
              0.5555555555555556,
              "#d8576b"
             ],
             [
              0.6666666666666666,
              "#ed7953"
             ],
             [
              0.7777777777777778,
              "#fb9f3a"
             ],
             [
              0.8888888888888888,
              "#fdca26"
             ],
             [
              1,
              "#f0f921"
             ]
            ],
            "type": "histogram2dcontour"
           }
          ],
          "mesh3d": [
           {
            "colorbar": {
             "outlinewidth": 0,
             "ticks": ""
            },
            "type": "mesh3d"
           }
          ],
          "parcoords": [
           {
            "line": {
             "colorbar": {
              "outlinewidth": 0,
              "ticks": ""
             }
            },
            "type": "parcoords"
           }
          ],
          "pie": [
           {
            "automargin": true,
            "type": "pie"
           }
          ],
          "scatter": [
           {
            "fillpattern": {
             "fillmode": "overlay",
             "size": 10,
             "solidity": 0.2
            },
            "type": "scatter"
           }
          ],
          "scatter3d": [
           {
            "line": {
             "colorbar": {
              "outlinewidth": 0,
              "ticks": ""
             }
            },
            "marker": {
             "colorbar": {
              "outlinewidth": 0,
              "ticks": ""
             }
            },
            "type": "scatter3d"
           }
          ],
          "scattercarpet": [
           {
            "marker": {
             "colorbar": {
              "outlinewidth": 0,
              "ticks": ""
             }
            },
            "type": "scattercarpet"
           }
          ],
          "scattergeo": [
           {
            "marker": {
             "colorbar": {
              "outlinewidth": 0,
              "ticks": ""
             }
            },
            "type": "scattergeo"
           }
          ],
          "scattergl": [
           {
            "marker": {
             "colorbar": {
              "outlinewidth": 0,
              "ticks": ""
             }
            },
            "type": "scattergl"
           }
          ],
          "scattermapbox": [
           {
            "marker": {
             "colorbar": {
              "outlinewidth": 0,
              "ticks": ""
             }
            },
            "type": "scattermapbox"
           }
          ],
          "scatterpolar": [
           {
            "marker": {
             "colorbar": {
              "outlinewidth": 0,
              "ticks": ""
             }
            },
            "type": "scatterpolar"
           }
          ],
          "scatterpolargl": [
           {
            "marker": {
             "colorbar": {
              "outlinewidth": 0,
              "ticks": ""
             }
            },
            "type": "scatterpolargl"
           }
          ],
          "scatterternary": [
           {
            "marker": {
             "colorbar": {
              "outlinewidth": 0,
              "ticks": ""
             }
            },
            "type": "scatterternary"
           }
          ],
          "surface": [
           {
            "colorbar": {
             "outlinewidth": 0,
             "ticks": ""
            },
            "colorscale": [
             [
              0,
              "#0d0887"
             ],
             [
              0.1111111111111111,
              "#46039f"
             ],
             [
              0.2222222222222222,
              "#7201a8"
             ],
             [
              0.3333333333333333,
              "#9c179e"
             ],
             [
              0.4444444444444444,
              "#bd3786"
             ],
             [
              0.5555555555555556,
              "#d8576b"
             ],
             [
              0.6666666666666666,
              "#ed7953"
             ],
             [
              0.7777777777777778,
              "#fb9f3a"
             ],
             [
              0.8888888888888888,
              "#fdca26"
             ],
             [
              1,
              "#f0f921"
             ]
            ],
            "type": "surface"
           }
          ],
          "table": [
           {
            "cells": {
             "fill": {
              "color": "#EBF0F8"
             },
             "line": {
              "color": "white"
             }
            },
            "header": {
             "fill": {
              "color": "#C8D4E3"
             },
             "line": {
              "color": "white"
             }
            },
            "type": "table"
           }
          ]
         },
         "layout": {
          "annotationdefaults": {
           "arrowcolor": "#2a3f5f",
           "arrowhead": 0,
           "arrowwidth": 1
          },
          "autotypenumbers": "strict",
          "coloraxis": {
           "colorbar": {
            "outlinewidth": 0,
            "ticks": ""
           }
          },
          "colorscale": {
           "diverging": [
            [
             0,
             "#8e0152"
            ],
            [
             0.1,
             "#c51b7d"
            ],
            [
             0.2,
             "#de77ae"
            ],
            [
             0.3,
             "#f1b6da"
            ],
            [
             0.4,
             "#fde0ef"
            ],
            [
             0.5,
             "#f7f7f7"
            ],
            [
             0.6,
             "#e6f5d0"
            ],
            [
             0.7,
             "#b8e186"
            ],
            [
             0.8,
             "#7fbc41"
            ],
            [
             0.9,
             "#4d9221"
            ],
            [
             1,
             "#276419"
            ]
           ],
           "sequential": [
            [
             0,
             "#0d0887"
            ],
            [
             0.1111111111111111,
             "#46039f"
            ],
            [
             0.2222222222222222,
             "#7201a8"
            ],
            [
             0.3333333333333333,
             "#9c179e"
            ],
            [
             0.4444444444444444,
             "#bd3786"
            ],
            [
             0.5555555555555556,
             "#d8576b"
            ],
            [
             0.6666666666666666,
             "#ed7953"
            ],
            [
             0.7777777777777778,
             "#fb9f3a"
            ],
            [
             0.8888888888888888,
             "#fdca26"
            ],
            [
             1,
             "#f0f921"
            ]
           ],
           "sequentialminus": [
            [
             0,
             "#0d0887"
            ],
            [
             0.1111111111111111,
             "#46039f"
            ],
            [
             0.2222222222222222,
             "#7201a8"
            ],
            [
             0.3333333333333333,
             "#9c179e"
            ],
            [
             0.4444444444444444,
             "#bd3786"
            ],
            [
             0.5555555555555556,
             "#d8576b"
            ],
            [
             0.6666666666666666,
             "#ed7953"
            ],
            [
             0.7777777777777778,
             "#fb9f3a"
            ],
            [
             0.8888888888888888,
             "#fdca26"
            ],
            [
             1,
             "#f0f921"
            ]
           ]
          },
          "colorway": [
           "#636efa",
           "#EF553B",
           "#00cc96",
           "#ab63fa",
           "#FFA15A",
           "#19d3f3",
           "#FF6692",
           "#B6E880",
           "#FF97FF",
           "#FECB52"
          ],
          "font": {
           "color": "#2a3f5f"
          },
          "geo": {
           "bgcolor": "white",
           "lakecolor": "white",
           "landcolor": "#E5ECF6",
           "showlakes": true,
           "showland": true,
           "subunitcolor": "white"
          },
          "hoverlabel": {
           "align": "left"
          },
          "hovermode": "closest",
          "mapbox": {
           "style": "light"
          },
          "paper_bgcolor": "white",
          "plot_bgcolor": "#E5ECF6",
          "polar": {
           "angularaxis": {
            "gridcolor": "white",
            "linecolor": "white",
            "ticks": ""
           },
           "bgcolor": "#E5ECF6",
           "radialaxis": {
            "gridcolor": "white",
            "linecolor": "white",
            "ticks": ""
           }
          },
          "scene": {
           "xaxis": {
            "backgroundcolor": "#E5ECF6",
            "gridcolor": "white",
            "gridwidth": 2,
            "linecolor": "white",
            "showbackground": true,
            "ticks": "",
            "zerolinecolor": "white"
           },
           "yaxis": {
            "backgroundcolor": "#E5ECF6",
            "gridcolor": "white",
            "gridwidth": 2,
            "linecolor": "white",
            "showbackground": true,
            "ticks": "",
            "zerolinecolor": "white"
           },
           "zaxis": {
            "backgroundcolor": "#E5ECF6",
            "gridcolor": "white",
            "gridwidth": 2,
            "linecolor": "white",
            "showbackground": true,
            "ticks": "",
            "zerolinecolor": "white"
           }
          },
          "shapedefaults": {
           "line": {
            "color": "#2a3f5f"
           }
          },
          "ternary": {
           "aaxis": {
            "gridcolor": "white",
            "linecolor": "white",
            "ticks": ""
           },
           "baxis": {
            "gridcolor": "white",
            "linecolor": "white",
            "ticks": ""
           },
           "bgcolor": "#E5ECF6",
           "caxis": {
            "gridcolor": "white",
            "linecolor": "white",
            "ticks": ""
           }
          },
          "title": {
           "x": 0.05
          },
          "xaxis": {
           "automargin": true,
           "gridcolor": "white",
           "linecolor": "white",
           "ticks": "",
           "title": {
            "standoff": 15
           },
           "zerolinecolor": "white",
           "zerolinewidth": 2
          },
          "yaxis": {
           "automargin": true,
           "gridcolor": "white",
           "linecolor": "white",
           "ticks": "",
           "title": {
            "standoff": 15
           },
           "zerolinecolor": "white",
           "zerolinewidth": 2
          }
         }
        },
        "xaxis": {
         "title": {
          "text": "Experience Level"
         }
        },
        "yaxis": {
         "title": {
          "text": "Average Salary"
         }
        }
       }
      }
     },
     "metadata": {},
     "output_type": "display_data"
    }
   ],
   "source": [
    "import plotly.graph_objects as go\n",
    "\n",
    "avg_salary_by_experience = df.groupby('Experience level')['Salary'].mean()\n",
    "\n",
    "fig = go.Figure(data=go.Bar(x=avg_salary_by_experience.index, y=avg_salary_by_experience))\n",
    "fig.update_layout(xaxis_title='Experience Level', yaxis_title='Average Salary')\n",
    "fig.show()"
   ]
  },
  {
   "cell_type": "code",
   "execution_count": null,
   "metadata": {},
   "outputs": [],
   "source": []
  }
 ],
 "metadata": {
  "kernelspec": {
   "display_name": "data_viz",
   "language": "python",
   "name": "python3"
  },
  "language_info": {
   "codemirror_mode": {
    "name": "ipython",
    "version": 3
   },
   "file_extension": ".py",
   "mimetype": "text/x-python",
   "name": "python",
   "nbconvert_exporter": "python",
   "pygments_lexer": "ipython3",
   "version": "3.10.6"
  },
  "orig_nbformat": 4
 },
 "nbformat": 4,
 "nbformat_minor": 2
}
